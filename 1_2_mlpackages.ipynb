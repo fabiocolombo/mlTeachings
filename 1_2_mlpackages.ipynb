{
 "cells": [
  {
   "cell_type": "code",
   "execution_count": 1,
   "metadata": {},
   "outputs": [],
   "source": [
    "source(\"src/lib.R\")"
   ]
  },
  {
   "cell_type": "markdown",
   "metadata": {},
   "source": [
    "## CARET\n",
    "\n",
    "![gather](fig/caret.jpg \"title-1\")\n",
    "\n",
    "**CARET** is a package that we are going to use extensively in the next lessons. It provides a unified framework to build predictive models leveraging on the large list of packages belonging to the **R** ecosystem. \n",
    "\n",
    "Each one of these packages has its particular interface and to use it you have to adapt your code to this interface.  \n",
    "\n",
    "**CARET** provides a standard interface with these packages: if you are using **CARET** and you decide to change the statistical methods / implementation in your code, you will simply need to change a few parameters and your code will work seamlessy.\n",
    "\n",
    "To use this package you have to simply load the package:"
   ]
  },
  {
   "cell_type": "code",
   "execution_count": 6,
   "metadata": {},
   "outputs": [],
   "source": [
    "library(caret)"
   ]
  },
  {
   "cell_type": "markdown",
   "metadata": {},
   "source": [
    "You can then retrieve all the models supported by **CARET** using the $\\texttt{getModelInfo}()$ function, "
   ]
  },
  {
   "cell_type": "code",
   "execution_count": 7,
   "metadata": {},
   "outputs": [
    {
     "data": {
      "text/html": [
       "'Number of models: 237'"
      ],
      "text/latex": [
       "'Number of models: 237'"
      ],
      "text/markdown": [
       "'Number of models: 237'"
      ],
      "text/plain": [
       "[1] \"Number of models: 237\""
      ]
     },
     "metadata": {},
     "output_type": "display_data"
    },
    {
     "data": {
      "text/html": [
       "'Supported Models: ada, AdaBag, AdaBoost.M1, adaboost, amdai, ANFIS, avNNet, awnb, awtan, bag, bagEarth, bagEarthGCV, bagFDA, bagFDAGCV, bam, bartMachine, bayesglm, binda, blackboost, blasso, blassoAveraged, bridge, brnn, BstLm, bstSm, bstTree, C5.0, C5.0Cost, C5.0Rules, C5.0Tree, cforest, chaid, CSimca, ctree, ctree2, cubist, dda, deepboost, DENFIS, dnn, dwdLinear, dwdPoly, dwdRadial, earth, elm, enet, evtree, extraTrees, fda, FH.GBML, FIR.DM, foba, FRBCS.CHI, FRBCS.W, FS.HGD, gam, gamboost, gamLoess, gamSpline, gaussprLinear, gaussprPoly, gaussprRadial, gbm_h2o, gbm, gcvEarth, GFS.FR.MOGUL, GFS.LT.RS, GFS.THRIFT, glm.nb, glm, glmboost, glmnet_h2o, glmnet, glmStepAIC, gpls, hda, hdda, hdrda, HYFIS, icr, J48, JRip, kernelpls, kknn, knn, krlsPoly, krlsRadial, lars, lars2, lasso, lda, lda2, leapBackward, leapForward, leapSeq, Linda, lm, lmStepAIC, LMT, loclda, logicBag, LogitBoost, logreg, lssvmLinear, lssvmPoly, lssvmRadial, lvq, M5, M5Rules, manb, mda, Mlda, mlp, mlpKerasDecay, mlpKerasDecayCost, mlpKerasDropout, mlpKerasDropoutCost, mlpML, mlpSGD, mlpWeightDecay, mlpWeightDecayML, monmlp, msaenet, multinom, mxnet, mxnetAdam, naive_bayes, nb, nbDiscrete, nbSearch, neuralnet, nnet, nnls, nodeHarvest, null, OneR, ordinalNet, ORFlog, ORFpls, ORFridge, ORFsvm, ownn, pam, parRF, PART, partDSA, pcaNNet, pcr, pda, pda2, penalized, PenalizedLDA, plr, pls, plsRglm, polr, ppr, PRIM, protoclass, qda, QdaCov, qrf, qrnn, randomGLM, ranger, rbf, rbfDDA, Rborist, rda, regLogistic, relaxo, rf, rFerns, RFlda, rfRules, ridge, rlda, rlm, rmda, rocc, rotationForest, rotationForestCp, rpart, rpart1SE, rpart2, rpartCost, rpartScore, rqlasso, rqnc, RRF, RRFglobal, rrlda, RSimca, rvmLinear, rvmPoly, rvmRadial, SBC, sda, sdwd, simpls, SLAVE, slda, smda, snn, sparseLDA, spikeslab, spls, stepLDA, stepQDA, superpc, svmBoundrangeString, svmExpoString, svmLinear, svmLinear2, svmLinear3, svmLinearWeights, svmLinearWeights2, svmPoly, svmRadial, svmRadialCost, svmRadialSigma, svmRadialWeights, svmSpectrumString, tan, tanSearch, treebag, vbmpRadial, vglmAdjCat, vglmContRatio, vglmCumulative, widekernelpls, WM, wsrf, xgbDART, xgbLinear, xgbTree, xyf'"
      ],
      "text/latex": [
       "'Supported Models: ada, AdaBag, AdaBoost.M1, adaboost, amdai, ANFIS, avNNet, awnb, awtan, bag, bagEarth, bagEarthGCV, bagFDA, bagFDAGCV, bam, bartMachine, bayesglm, binda, blackboost, blasso, blassoAveraged, bridge, brnn, BstLm, bstSm, bstTree, C5.0, C5.0Cost, C5.0Rules, C5.0Tree, cforest, chaid, CSimca, ctree, ctree2, cubist, dda, deepboost, DENFIS, dnn, dwdLinear, dwdPoly, dwdRadial, earth, elm, enet, evtree, extraTrees, fda, FH.GBML, FIR.DM, foba, FRBCS.CHI, FRBCS.W, FS.HGD, gam, gamboost, gamLoess, gamSpline, gaussprLinear, gaussprPoly, gaussprRadial, gbm\\_h2o, gbm, gcvEarth, GFS.FR.MOGUL, GFS.LT.RS, GFS.THRIFT, glm.nb, glm, glmboost, glmnet\\_h2o, glmnet, glmStepAIC, gpls, hda, hdda, hdrda, HYFIS, icr, J48, JRip, kernelpls, kknn, knn, krlsPoly, krlsRadial, lars, lars2, lasso, lda, lda2, leapBackward, leapForward, leapSeq, Linda, lm, lmStepAIC, LMT, loclda, logicBag, LogitBoost, logreg, lssvmLinear, lssvmPoly, lssvmRadial, lvq, M5, M5Rules, manb, mda, Mlda, mlp, mlpKerasDecay, mlpKerasDecayCost, mlpKerasDropout, mlpKerasDropoutCost, mlpML, mlpSGD, mlpWeightDecay, mlpWeightDecayML, monmlp, msaenet, multinom, mxnet, mxnetAdam, naive\\_bayes, nb, nbDiscrete, nbSearch, neuralnet, nnet, nnls, nodeHarvest, null, OneR, ordinalNet, ORFlog, ORFpls, ORFridge, ORFsvm, ownn, pam, parRF, PART, partDSA, pcaNNet, pcr, pda, pda2, penalized, PenalizedLDA, plr, pls, plsRglm, polr, ppr, PRIM, protoclass, qda, QdaCov, qrf, qrnn, randomGLM, ranger, rbf, rbfDDA, Rborist, rda, regLogistic, relaxo, rf, rFerns, RFlda, rfRules, ridge, rlda, rlm, rmda, rocc, rotationForest, rotationForestCp, rpart, rpart1SE, rpart2, rpartCost, rpartScore, rqlasso, rqnc, RRF, RRFglobal, rrlda, RSimca, rvmLinear, rvmPoly, rvmRadial, SBC, sda, sdwd, simpls, SLAVE, slda, smda, snn, sparseLDA, spikeslab, spls, stepLDA, stepQDA, superpc, svmBoundrangeString, svmExpoString, svmLinear, svmLinear2, svmLinear3, svmLinearWeights, svmLinearWeights2, svmPoly, svmRadial, svmRadialCost, svmRadialSigma, svmRadialWeights, svmSpectrumString, tan, tanSearch, treebag, vbmpRadial, vglmAdjCat, vglmContRatio, vglmCumulative, widekernelpls, WM, wsrf, xgbDART, xgbLinear, xgbTree, xyf'"
      ],
      "text/markdown": [
       "'Supported Models: ada, AdaBag, AdaBoost.M1, adaboost, amdai, ANFIS, avNNet, awnb, awtan, bag, bagEarth, bagEarthGCV, bagFDA, bagFDAGCV, bam, bartMachine, bayesglm, binda, blackboost, blasso, blassoAveraged, bridge, brnn, BstLm, bstSm, bstTree, C5.0, C5.0Cost, C5.0Rules, C5.0Tree, cforest, chaid, CSimca, ctree, ctree2, cubist, dda, deepboost, DENFIS, dnn, dwdLinear, dwdPoly, dwdRadial, earth, elm, enet, evtree, extraTrees, fda, FH.GBML, FIR.DM, foba, FRBCS.CHI, FRBCS.W, FS.HGD, gam, gamboost, gamLoess, gamSpline, gaussprLinear, gaussprPoly, gaussprRadial, gbm_h2o, gbm, gcvEarth, GFS.FR.MOGUL, GFS.LT.RS, GFS.THRIFT, glm.nb, glm, glmboost, glmnet_h2o, glmnet, glmStepAIC, gpls, hda, hdda, hdrda, HYFIS, icr, J48, JRip, kernelpls, kknn, knn, krlsPoly, krlsRadial, lars, lars2, lasso, lda, lda2, leapBackward, leapForward, leapSeq, Linda, lm, lmStepAIC, LMT, loclda, logicBag, LogitBoost, logreg, lssvmLinear, lssvmPoly, lssvmRadial, lvq, M5, M5Rules, manb, mda, Mlda, mlp, mlpKerasDecay, mlpKerasDecayCost, mlpKerasDropout, mlpKerasDropoutCost, mlpML, mlpSGD, mlpWeightDecay, mlpWeightDecayML, monmlp, msaenet, multinom, mxnet, mxnetAdam, naive_bayes, nb, nbDiscrete, nbSearch, neuralnet, nnet, nnls, nodeHarvest, null, OneR, ordinalNet, ORFlog, ORFpls, ORFridge, ORFsvm, ownn, pam, parRF, PART, partDSA, pcaNNet, pcr, pda, pda2, penalized, PenalizedLDA, plr, pls, plsRglm, polr, ppr, PRIM, protoclass, qda, QdaCov, qrf, qrnn, randomGLM, ranger, rbf, rbfDDA, Rborist, rda, regLogistic, relaxo, rf, rFerns, RFlda, rfRules, ridge, rlda, rlm, rmda, rocc, rotationForest, rotationForestCp, rpart, rpart1SE, rpart2, rpartCost, rpartScore, rqlasso, rqnc, RRF, RRFglobal, rrlda, RSimca, rvmLinear, rvmPoly, rvmRadial, SBC, sda, sdwd, simpls, SLAVE, slda, smda, snn, sparseLDA, spikeslab, spls, stepLDA, stepQDA, superpc, svmBoundrangeString, svmExpoString, svmLinear, svmLinear2, svmLinear3, svmLinearWeights, svmLinearWeights2, svmPoly, svmRadial, svmRadialCost, svmRadialSigma, svmRadialWeights, svmSpectrumString, tan, tanSearch, treebag, vbmpRadial, vglmAdjCat, vglmContRatio, vglmCumulative, widekernelpls, WM, wsrf, xgbDART, xgbLinear, xgbTree, xyf'"
      ],
      "text/plain": [
       "[1] \"Supported Models: ada, AdaBag, AdaBoost.M1, adaboost, amdai, ANFIS, avNNet, awnb, awtan, bag, bagEarth, bagEarthGCV, bagFDA, bagFDAGCV, bam, bartMachine, bayesglm, binda, blackboost, blasso, blassoAveraged, bridge, brnn, BstLm, bstSm, bstTree, C5.0, C5.0Cost, C5.0Rules, C5.0Tree, cforest, chaid, CSimca, ctree, ctree2, cubist, dda, deepboost, DENFIS, dnn, dwdLinear, dwdPoly, dwdRadial, earth, elm, enet, evtree, extraTrees, fda, FH.GBML, FIR.DM, foba, FRBCS.CHI, FRBCS.W, FS.HGD, gam, gamboost, gamLoess, gamSpline, gaussprLinear, gaussprPoly, gaussprRadial, gbm_h2o, gbm, gcvEarth, GFS.FR.MOGUL, GFS.LT.RS, GFS.THRIFT, glm.nb, glm, glmboost, glmnet_h2o, glmnet, glmStepAIC, gpls, hda, hdda, hdrda, HYFIS, icr, J48, JRip, kernelpls, kknn, knn, krlsPoly, krlsRadial, lars, lars2, lasso, lda, lda2, leapBackward, leapForward, leapSeq, Linda, lm, lmStepAIC, LMT, loclda, logicBag, LogitBoost, logreg, lssvmLinear, lssvmPoly, lssvmRadial, lvq, M5, M5Rules, manb, mda, Mlda, mlp, mlpKerasDecay, mlpKerasDecayCost, mlpKerasDropout, mlpKerasDropoutCost, mlpML, mlpSGD, mlpWeightDecay, mlpWeightDecayML, monmlp, msaenet, multinom, mxnet, mxnetAdam, naive_bayes, nb, nbDiscrete, nbSearch, neuralnet, nnet, nnls, nodeHarvest, null, OneR, ordinalNet, ORFlog, ORFpls, ORFridge, ORFsvm, ownn, pam, parRF, PART, partDSA, pcaNNet, pcr, pda, pda2, penalized, PenalizedLDA, plr, pls, plsRglm, polr, ppr, PRIM, protoclass, qda, QdaCov, qrf, qrnn, randomGLM, ranger, rbf, rbfDDA, Rborist, rda, regLogistic, relaxo, rf, rFerns, RFlda, rfRules, ridge, rlda, rlm, rmda, rocc, rotationForest, rotationForestCp, rpart, rpart1SE, rpart2, rpartCost, rpartScore, rqlasso, rqnc, RRF, RRFglobal, rrlda, RSimca, rvmLinear, rvmPoly, rvmRadial, SBC, sda, sdwd, simpls, SLAVE, slda, smda, snn, sparseLDA, spikeslab, spls, stepLDA, stepQDA, superpc, svmBoundrangeString, svmExpoString, svmLinear, svmLinear2, svmLinear3, svmLinearWeights, svmLinearWeights2, svmPoly, svmRadial, svmRadialCost, svmRadialSigma, svmRadialWeights, svmSpectrumString, tan, tanSearch, treebag, vbmpRadial, vglmAdjCat, vglmContRatio, vglmCumulative, widekernelpls, WM, wsrf, xgbDART, xgbLinear, xgbTree, xyf\""
      ]
     },
     "metadata": {},
     "output_type": "display_data"
    }
   ],
   "source": [
    "models <- getModelInfo()\n",
    "sprintf(\"Number of models: %d\", names(models) %>% length)\n",
    "sprintf(\"Supported Models: %s\", names(models) %>% paste(collapse = \", \"))"
   ]
  },
  {
   "cell_type": "markdown",
   "metadata": {},
   "source": [
    "**WOW** 237 models! Note that *not all these models* are natively implemented in **CARET**. Indeed, the majority of them is developed in third-party **R** packages which you must install before using the corresponding models. The result of $\\texttt{getModelInfo}()$ can be used to find which package you have to install to use a particular method:"
   ]
  },
  {
   "cell_type": "code",
   "execution_count": 8,
   "metadata": {},
   "outputs": [
    {
     "data": {
      "text/html": [
       "'Linear Regression'"
      ],
      "text/latex": [
       "'Linear Regression'"
      ],
      "text/markdown": [
       "'Linear Regression'"
      ],
      "text/plain": [
       "[1] \"Linear Regression\""
      ]
     },
     "metadata": {},
     "output_type": "display_data"
    },
    {
     "data": {
      "text/plain": [
       "NULL"
      ]
     },
     "metadata": {},
     "output_type": "display_data"
    }
   ],
   "source": [
    "models$lm$label\n",
    "models$lm$library"
   ]
  },
  {
   "cell_type": "code",
   "execution_count": 9,
   "metadata": {},
   "outputs": [
    {
     "data": {
      "text/html": [
       "'k-Nearest Neighbors'"
      ],
      "text/latex": [
       "'k-Nearest Neighbors'"
      ],
      "text/markdown": [
       "'k-Nearest Neighbors'"
      ],
      "text/plain": [
       "[1] \"k-Nearest Neighbors\""
      ]
     },
     "metadata": {},
     "output_type": "display_data"
    },
    {
     "data": {
      "text/html": [
       "'kknn'"
      ],
      "text/latex": [
       "'kknn'"
      ],
      "text/markdown": [
       "'kknn'"
      ],
      "text/plain": [
       "[1] \"kknn\""
      ]
     },
     "metadata": {},
     "output_type": "display_data"
    }
   ],
   "source": [
    "models$kknn$label\n",
    "models$kknn$library"
   ]
  },
  {
   "cell_type": "markdown",
   "metadata": {},
   "source": [
    "So, if we want to use *k-Nearest Neighbors* model we have to first install the **kknn** package (in the binder image we've already installed it!). On the contrary, if we want to use *Linear Regression* we don't have to install anything (**CARET** uses the standard R function **lm**)\n",
    "\n",
    "___\n",
    "\n",
    "#### Ok nice\n",
    "but how can I fit a model with **CARET**?\n",
    "\n",
    "Easy. There are just **three** fundamental parameters:\n",
    "> - $\\texttt{x}$: observations\n",
    "- $\\texttt{y}$: labels\n",
    "- $\\texttt{method}$: which model you want to use"
   ]
  },
  {
   "cell_type": "code",
   "execution_count": 10,
   "metadata": {},
   "outputs": [
    {
     "data": {
      "text/plain": [
       "Linear Regression \n",
       "\n",
       "32 samples\n",
       "10 predictors\n",
       "\n",
       "No pre-processing\n",
       "Resampling: Bootstrapped (25 reps) \n",
       "Summary of sample sizes: 32, 32, 32, 32, 32, 32, ... \n",
       "Resampling results:\n",
       "\n",
       "  RMSE      Rsquared   MAE      \n",
       "  1.024538  0.7631957  0.7657235\n",
       "\n",
       "Tuning parameter 'intercept' was held constant at a value of TRUE"
      ]
     },
     "metadata": {},
     "output_type": "display_data"
    }
   ],
   "source": [
    "train(x = mtcars %>% select(-cyl), \n",
    "      y = mtcars$cyl, \n",
    "      method = \"lm\")"
   ]
  },
  {
   "cell_type": "markdown",
   "metadata": {},
   "source": [
    "The model output is quite verbose, here we'll focus only on the *last line*...what is a **tuning parameter**? In a nutshell, it's a parameter on which **CARET** will try to optimize the fitted model (we'll see more on this topic in the second lesson)."
   ]
  },
  {
   "cell_type": "markdown",
   "metadata": {},
   "source": [
    "Each model supported by **CARET** has its **tuning parameters**. To see which parameters a given model supports, you can explore the output of $\\texttt{getModelInfo}()$. Here you have the **tuning parameters** of the *Linear Regression*"
   ]
  },
  {
   "cell_type": "code",
   "execution_count": 11,
   "metadata": {},
   "outputs": [
    {
     "data": {
      "text/html": [
       "<table>\n",
       "<thead><tr><th scope=col>parameter</th><th scope=col>class</th><th scope=col>label</th></tr></thead>\n",
       "<tbody>\n",
       "\t<tr><td>intercept</td><td>logical  </td><td>intercept</td></tr>\n",
       "</tbody>\n",
       "</table>\n"
      ],
      "text/latex": [
       "\\begin{tabular}{r|lll}\n",
       " parameter & class & label\\\\\n",
       "\\hline\n",
       "\t intercept & logical   & intercept\\\\\n",
       "\\end{tabular}\n"
      ],
      "text/markdown": [
       "\n",
       "parameter | class | label | \n",
       "|---|\n",
       "| intercept | logical   | intercept | \n",
       "\n",
       "\n"
      ],
      "text/plain": [
       "  parameter class   label    \n",
       "1 intercept logical intercept"
      ]
     },
     "metadata": {},
     "output_type": "display_data"
    }
   ],
   "source": [
    "models$lm$parameters"
   ]
  },
  {
   "cell_type": "markdown",
   "metadata": {},
   "source": [
    "Only one parameter ($\\texttt{intercept}$), with a logical (*True* or *False*) class that controls (as the name suggests) the value of the intercept in the fitted model. To set the value of a **tuning parameter** you can use the $\\texttt{tuneGrid}$ parameter as follows:"
   ]
  },
  {
   "cell_type": "code",
   "execution_count": 12,
   "metadata": {},
   "outputs": [
    {
     "data": {
      "text/plain": [
       "\n",
       "Call:\n",
       "lm(formula = .outcome ~ ., data = dat)\n",
       "\n",
       "Coefficients:\n",
       "(Intercept)          mpg         disp           hp         drat           wt  \n",
       "  12.107199    -0.004857     0.004610     0.003723    -0.427435    -0.222489  \n",
       "       qsec           vs           am         gear         carb  \n",
       "  -0.187945    -0.644076    -0.500770    -0.500323     0.179872  \n"
      ]
     },
     "metadata": {},
     "output_type": "display_data"
    }
   ],
   "source": [
    "train(x = mtcars %>% select(-cyl), \n",
    "      y= mtcars$cyl, \n",
    "      method = \"lm\", \n",
    "      tuneGrid = data.frame(intercept = T))$finalModel"
   ]
  },
  {
   "cell_type": "code",
   "execution_count": 13,
   "metadata": {},
   "outputs": [
    {
     "data": {
      "text/plain": [
       "\n",
       "Call:\n",
       "lm(formula = .outcome ~ 0 + ., data = dat)\n",
       "\n",
       "Coefficients:\n",
       "      mpg       disp         hp       drat         wt       qsec         vs  \n",
       " 0.027136   0.008235   0.009147  -0.008767  -0.463077   0.276909  -1.401723  \n",
       "       am       gear       carb  \n",
       "-0.452727  -0.233211   0.221562  \n"
      ]
     },
     "metadata": {},
     "output_type": "display_data"
    }
   ],
   "source": [
    "train(x = mtcars %>% select(-cyl), \n",
    "      y= mtcars$cyl, \n",
    "      method = \"lm\", \n",
    "      tuneGrid = data.frame(intercept = F)\n",
    "     )$finalModel"
   ]
  },
  {
   "cell_type": "markdown",
   "metadata": {},
   "source": [
    "Note that selecting the $\\texttt{finalModel}$ element of the $\\texttt{train}$ function result you can obtain the fitted model description.\n",
    "\n",
    "Quite often, the **tuning parameters** supported by **CARET** are not all the possible parameters of the underlying fitting procedure. If you want to use a parameter not covered by **CARET** you can *pass it* directly in the $\\texttt{train}$ function. As example consider the $\\texttt{subset}$ parameter in the $\\texttt{lm}$ function, you can provide it to **CARET** as follows:"
   ]
  },
  {
   "cell_type": "code",
   "execution_count": 14,
   "metadata": {},
   "outputs": [
    {
     "data": {
      "text/plain": [
       "\n",
       "Call:\n",
       "lm(formula = .outcome ~ ., data = dat)\n",
       "\n",
       "Coefficients:\n",
       "(Intercept)          mpg         disp           hp         drat           wt  \n",
       "  12.107199    -0.004857     0.004610     0.003723    -0.427435    -0.222489  \n",
       "       qsec           vs           am         gear         carb  \n",
       "  -0.187945    -0.644076    -0.500770    -0.500323     0.179872  \n"
      ]
     },
     "metadata": {},
     "output_type": "display_data"
    }
   ],
   "source": [
    "train(x = mtcars %>% select(-cyl),\n",
    "      y= mtcars$cyl,\n",
    "      method = \"lm\"\n",
    "     )$finalModel"
   ]
  },
  {
   "cell_type": "code",
   "execution_count": 15,
   "metadata": {},
   "outputs": [
    {
     "data": {
      "text/plain": [
       "\n",
       "Call:\n",
       "lm(formula = .outcome ~ ., data = dat, subset = ..1)\n",
       "\n",
       "Coefficients:\n",
       "(Intercept)          mpg         disp           hp         drat           wt  \n",
       "    9.63646     -0.54925      0.02618     -0.03921      3.51626      0.17568  \n",
       "       qsec           vs           am         gear         carb  \n",
       "   -0.08000      0.08408      0.82914     -1.41601           NA  \n"
      ]
     },
     "metadata": {},
     "output_type": "display_data"
    }
   ],
   "source": [
    "train(x = mtcars %>% select(-cyl),\n",
    "      y= mtcars$cyl,\n",
    "      method = \"lm\",\n",
    "      subset = 1:10 # here you pass the additional tuning parameter!\n",
    "     )$finalModel"
   ]
  },
  {
   "cell_type": "markdown",
   "metadata": {},
   "source": [
    "___\n",
    "\n",
    "## TOY Datasets\n",
    "\n",
    "In the following lessons we are going to use some simple datasets, that have been developed to challenge the simplest classification models.\n",
    "\n",
    "These datasets will be generated leveraging some of the functions provided by the **R** package [**mlbench**](https://cran.r-project.org/web/packages/mlbench/index.html).\n",
    "\n",
    "The full code to generate these datasets is contained the *.R* source file *src/lib.R*. Note that to correctly source this file you should set correctly the working folder:"
   ]
  },
  {
   "cell_type": "markdown",
   "metadata": {},
   "source": [
    "We can load all the datasets using the $\\texttt{get}$*_*$\\texttt{full}$*_*$\\texttt{dataset}()$ function:"
   ]
  },
  {
   "cell_type": "code",
   "execution_count": 16,
   "metadata": {},
   "outputs": [
    {
     "data": {
      "text/html": [
       "<table>\n",
       "<thead><tr><th scope=col>x</th><th scope=col>y</th><th scope=col>class</th><th scope=col>type</th></tr></thead>\n",
       "<tbody>\n",
       "\t<tr><td>0.89968149</td><td>0.83567570</td><td>class_1   </td><td>normal    </td></tr>\n",
       "\t<tr><td>0.83061160</td><td>0.69235862</td><td>class_1   </td><td>normal    </td></tr>\n",
       "\t<tr><td>0.09275748</td><td>0.03199883</td><td>class_2   </td><td>normal    </td></tr>\n",
       "\t<tr><td>0.02770336</td><td>0.23281842</td><td>class_2   </td><td>normal    </td></tr>\n",
       "\t<tr><td>0.76698485</td><td>0.76803599</td><td>class_1   </td><td>normal    </td></tr>\n",
       "\t<tr><td>0.90857712</td><td>0.77285603</td><td>class_1   </td><td>normal    </td></tr>\n",
       "</tbody>\n",
       "</table>\n"
      ],
      "text/latex": [
       "\\begin{tabular}{r|llll}\n",
       " x & y & class & type\\\\\n",
       "\\hline\n",
       "\t 0.89968149 & 0.83567570 & class\\_1  & normal    \\\\\n",
       "\t 0.83061160 & 0.69235862 & class\\_1  & normal    \\\\\n",
       "\t 0.09275748 & 0.03199883 & class\\_2  & normal    \\\\\n",
       "\t 0.02770336 & 0.23281842 & class\\_2  & normal    \\\\\n",
       "\t 0.76698485 & 0.76803599 & class\\_1  & normal    \\\\\n",
       "\t 0.90857712 & 0.77285603 & class\\_1  & normal    \\\\\n",
       "\\end{tabular}\n"
      ],
      "text/markdown": [
       "\n",
       "x | y | class | type | \n",
       "|---|---|---|---|---|---|\n",
       "| 0.89968149 | 0.83567570 | class_1    | normal     | \n",
       "| 0.83061160 | 0.69235862 | class_1    | normal     | \n",
       "| 0.09275748 | 0.03199883 | class_2    | normal     | \n",
       "| 0.02770336 | 0.23281842 | class_2    | normal     | \n",
       "| 0.76698485 | 0.76803599 | class_1    | normal     | \n",
       "| 0.90857712 | 0.77285603 | class_1    | normal     | \n",
       "\n",
       "\n"
      ],
      "text/plain": [
       "  x          y          class   type  \n",
       "1 0.89968149 0.83567570 class_1 normal\n",
       "2 0.83061160 0.69235862 class_1 normal\n",
       "3 0.09275748 0.03199883 class_2 normal\n",
       "4 0.02770336 0.23281842 class_2 normal\n",
       "5 0.76698485 0.76803599 class_1 normal\n",
       "6 0.90857712 0.77285603 class_1 normal"
      ]
     },
     "metadata": {},
     "output_type": "display_data"
    }
   ],
   "source": [
    "full_df <- get_full_dataset()\n",
    "full_df %>% head"
   ]
  },
  {
   "cell_type": "markdown",
   "metadata": {},
   "source": [
    "And we can plot its content using **ggplot**"
   ]
  },
  {
   "cell_type": "code",
   "execution_count": 17,
   "metadata": {},
   "outputs": [
    {
     "data": {},
     "metadata": {},
     "output_type": "display_data"
    },
    {
     "data": {
      "image/png": "[encoded data removed]",
      "text/plain": [
       "plot without title"
      ]
     },
     "metadata": {},
     "output_type": "display_data"
    }
   ],
   "source": [
    "full_df %>% ggplot() + \n",
    "    geom_point(aes(x = x, y = y, fill = class), shape = 21) + \n",
    "    facet_wrap(~ type) + \n",
    "    theme_void() +\n",
    "    labs(x = \"\", y = \"\") +\n",
    "    scale_fill_manual(values = c(\"red\", \"blue\")) + \n",
    "    guides(fill = F)"
   ]
  },
  {
   "cell_type": "markdown",
   "metadata": {},
   "source": [
    "In order to better adapt the *toy datasets* to the input/output format required by **CARET** we have prepared an alternative function to obtain these datasets, $\\texttt{get}$*_*$\\texttt{partitioned}$*_*$\\texttt{df}()$:"
   ]
  },
  {
   "cell_type": "code",
   "execution_count": 18,
   "metadata": {},
   "outputs": [
    {
     "data": {
      "text/html": [
       "'list'"
      ],
      "text/latex": [
       "'list'"
      ],
      "text/markdown": [
       "'list'"
      ],
      "text/plain": [
       "[1] \"list\""
      ]
     },
     "metadata": {},
     "output_type": "display_data"
    },
    {
     "data": {
      "text/html": [
       "<ol class=list-inline>\n",
       "\t<li>'normal'</li>\n",
       "\t<li>'circles'</li>\n",
       "\t<li>'spirals'</li>\n",
       "\t<li>'linear'</li>\n",
       "</ol>\n"
      ],
      "text/latex": [
       "\\begin{enumerate*}\n",
       "\\item 'normal'\n",
       "\\item 'circles'\n",
       "\\item 'spirals'\n",
       "\\item 'linear'\n",
       "\\end{enumerate*}\n"
      ],
      "text/markdown": [
       "1. 'normal'\n",
       "2. 'circles'\n",
       "3. 'spirals'\n",
       "4. 'linear'\n",
       "\n",
       "\n"
      ],
      "text/plain": [
       "[1] \"normal\"  \"circles\" \"spirals\" \"linear\" "
      ]
     },
     "metadata": {},
     "output_type": "display_data"
    },
    {
     "data": {
      "text/html": [
       "'list'"
      ],
      "text/latex": [
       "'list'"
      ],
      "text/markdown": [
       "'list'"
      ],
      "text/plain": [
       "[1] \"list\""
      ]
     },
     "metadata": {},
     "output_type": "display_data"
    },
    {
     "data": {
      "text/html": [
       "<ol class=list-inline>\n",
       "\t<li>'full'</li>\n",
       "\t<li>'full_train'</li>\n",
       "\t<li>'x_train'</li>\n",
       "\t<li>'y_train'</li>\n",
       "\t<li>'full_val'</li>\n",
       "\t<li>'x_val'</li>\n",
       "\t<li>'y_val'</li>\n",
       "</ol>\n"
      ],
      "text/latex": [
       "\\begin{enumerate*}\n",
       "\\item 'full'\n",
       "\\item 'full\\_train'\n",
       "\\item 'x\\_train'\n",
       "\\item 'y\\_train'\n",
       "\\item 'full\\_val'\n",
       "\\item 'x\\_val'\n",
       "\\item 'y\\_val'\n",
       "\\end{enumerate*}\n"
      ],
      "text/markdown": [
       "1. 'full'\n",
       "2. 'full_train'\n",
       "3. 'x_train'\n",
       "4. 'y_train'\n",
       "5. 'full_val'\n",
       "6. 'x_val'\n",
       "7. 'y_val'\n",
       "\n",
       "\n"
      ],
      "text/plain": [
       "[1] \"full\"       \"full_train\" \"x_train\"    \"y_train\"    \"full_val\"  \n",
       "[6] \"x_val\"      \"y_val\"     "
      ]
     },
     "metadata": {},
     "output_type": "display_data"
    }
   ],
   "source": [
    "partitioned_df <- get_partitioned_df()\n",
    "class(partitioned_df)\n",
    "names(partitioned_df)\n",
    "class(partitioned_df$normal)\n",
    "partitioned_df$normal %>% names"
   ]
  },
  {
   "cell_type": "markdown",
   "metadata": {},
   "source": [
    "The output of this function is a **list** with an item for each toy dataset. Each item contains, in turn, both the *full*  dataset and a partition of it in two subsets: the *training* one (*_train*) and the *validation* one (*_val*). We'll see in the next lessons why we need to split a dataset in two partitions. \n",
    "\n",
    "For now, note that the $\\texttt{get}$*_*$\\texttt{partitioned}$*_*$\\texttt{df}()$: provides, for both partitions, the input dataframe (*x_*) and the output dataframe (*y_*). These dataframes can be directly used with **CARET** training function as follows:"
   ]
  },
  {
   "cell_type": "code",
   "execution_count": 19,
   "metadata": {},
   "outputs": [
    {
     "data": {
      "text/plain": [
       "Generalized Linear Model \n",
       "\n",
       "80 samples\n",
       " 2 predictor\n",
       " 2 classes: 'class_1', 'class_2' \n",
       "\n",
       "No pre-processing\n",
       "Resampling: Bootstrapped (25 reps) \n",
       "Summary of sample sizes: 80, 80, 80, 80, 80, 80, ... \n",
       "Resampling results:\n",
       "\n",
       "  Accuracy  Kappa\n",
       "  1         1    \n"
      ]
     },
     "metadata": {},
     "output_type": "display_data"
    }
   ],
   "source": [
    "train(x = partitioned_df$normal$x_train,\n",
    "      y = partitioned_df$normal$y_train$class, \n",
    "      method = \"glm\")"
   ]
  },
  {
   "cell_type": "markdown",
   "metadata": {},
   "source": [
    "Note that here we used method **glm** (*Generalized Linear Model*) since we are trying to fit a classification problem while the *simpler* **lm** method only works with regression problems (try to replace **glm** with **lm** in the cell above...)"
   ]
  }
 ],
 "metadata": {
  "kernelspec": {
   "display_name": "R",
   "language": "R",
   "name": "ir"
  },
  "language_info": {
   "codemirror_mode": "r",
   "file_extension": ".r",
   "mimetype": "text/x-r-source",
   "name": "R",
   "pygments_lexer": "r",
   "version": "3.4.1"
  }
 },
 "nbformat": 4,
 "nbformat_minor": 2
}
