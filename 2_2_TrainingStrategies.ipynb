{
 "cells": [
  {
   "cell_type": "code",
   "execution_count": 2,
   "metadata": {},
   "outputs": [],
   "source": [
    "source('src/lib.r')"
   ]
  },
  {
   "cell_type": "markdown",
   "metadata": {},
   "source": [
    "### The Bias - Variance Trade Off"
   ]
  },
  {
   "cell_type": "markdown",
   "metadata": {},
   "source": [
    "Previously, we have seen different ways to measure the performance of a ML model. However what is the **final aim** of a machine learning model? If you recall from the presentation, it's **the prediction on new data**, not the performance on the current one.\n",
    "\n",
    "To put this point in a formal framework let's say we have trained our model $f: X \\rightarrow Y$ on the so-called training observations:\n",
    "\n",
    "$$\\textrm{training set:} \\left\\{ (x_1,y_1), (x_2,y_2), \\dots, (x_n,y_n) \\right\\}$$\n",
    "\n",
    "We're no really interested int the *training set* accuracy (or any other measure previously shown):\n",
    "\n",
    "$$\\textrm{training accuracy:} \\frac{1}{n} \\sum_{i = 1}^n \\mathbb{I}(f(x_i) = y_i)$$\n",
    "\n",
    "But given a set of new observations, **not used to train the model**:\n",
    "\n",
    "$$\\textrm{testing set:} \\left\\{ (\\tilde{x}_1,\\tilde{y}_1), (\\tilde{x}_2,\\tilde{y}_2), \\dots, (\\tilde{x}_k,\\tilde{y}_k) \\right\\}$$\n",
    "\n",
    "We are interest in the *testing set* accuracy:\n",
    "\n",
    "$$\\textrm{test accuracy:} \\frac{1}{n} \\sum_{i = 1}^k \\mathbb{I}(f(\\tilde{x}_i) = \\tilde{y}_i)$$\n",
    "\n",
    "To better explain these concepts, the toy datasets have been already partitioned in *training* and *test* set (this last set is identified by the *_val* suffix as for *validation*):"
   ]
  },
  {
   "cell_type": "code",
   "execution_count": 11,
   "metadata": {},
   "outputs": [
    {
     "data": {
      "text/html": [
       "<table>\n",
       "<thead><tr><th scope=col>x</th><th scope=col>y</th></tr></thead>\n",
       "<tbody>\n",
       "\t<tr><td>0.6252236</td><td>0.5290558</td></tr>\n",
       "\t<tr><td>0.5075064</td><td>0.2557003</td></tr>\n",
       "\t<tr><td>0.2902924</td><td>0.2449520</td></tr>\n",
       "\t<tr><td>0.7239316</td><td>0.5497440</td></tr>\n",
       "\t<tr><td>0.3686198</td><td>0.4139273</td></tr>\n",
       "\t<tr><td>0.3617640</td><td>0.3420039</td></tr>\n",
       "</tbody>\n",
       "</table>\n"
      ],
      "text/latex": [
       "\\begin{tabular}{r|ll}\n",
       " x & y\\\\\n",
       "\\hline\n",
       "\t 0.6252236 & 0.5290558\\\\\n",
       "\t 0.5075064 & 0.2557003\\\\\n",
       "\t 0.2902924 & 0.2449520\\\\\n",
       "\t 0.7239316 & 0.5497440\\\\\n",
       "\t 0.3686198 & 0.4139273\\\\\n",
       "\t 0.3617640 & 0.3420039\\\\\n",
       "\\end{tabular}\n"
      ],
      "text/markdown": [
       "\n",
       "x | y | \n",
       "|---|---|---|---|---|---|\n",
       "| 0.6252236 | 0.5290558 | \n",
       "| 0.5075064 | 0.2557003 | \n",
       "| 0.2902924 | 0.2449520 | \n",
       "| 0.7239316 | 0.5497440 | \n",
       "| 0.3686198 | 0.4139273 | \n",
       "| 0.3617640 | 0.3420039 | \n",
       "\n",
       "\n"
      ],
      "text/plain": [
       "  x         y        \n",
       "1 0.6252236 0.5290558\n",
       "2 0.5075064 0.2557003\n",
       "3 0.2902924 0.2449520\n",
       "4 0.7239316 0.5497440\n",
       "5 0.3686198 0.4139273\n",
       "6 0.3617640 0.3420039"
      ]
     },
     "metadata": {},
     "output_type": "display_data"
    },
    {
     "data": {
      "text/html": [
       "<table>\n",
       "<thead><tr><th scope=col>class</th></tr></thead>\n",
       "<tbody>\n",
       "\t<tr><td>class_1</td></tr>\n",
       "\t<tr><td>class_2</td></tr>\n",
       "\t<tr><td>class_2</td></tr>\n",
       "\t<tr><td>class_1</td></tr>\n",
       "\t<tr><td>class_2</td></tr>\n",
       "\t<tr><td>class_2</td></tr>\n",
       "</tbody>\n",
       "</table>\n"
      ],
      "text/latex": [
       "\\begin{tabular}{r|l}\n",
       " class\\\\\n",
       "\\hline\n",
       "\t class\\_1\\\\\n",
       "\t class\\_2\\\\\n",
       "\t class\\_2\\\\\n",
       "\t class\\_1\\\\\n",
       "\t class\\_2\\\\\n",
       "\t class\\_2\\\\\n",
       "\\end{tabular}\n"
      ],
      "text/markdown": [
       "\n",
       "class | \n",
       "|---|---|---|---|---|---|\n",
       "| class_1 | \n",
       "| class_2 | \n",
       "| class_2 | \n",
       "| class_1 | \n",
       "| class_2 | \n",
       "| class_2 | \n",
       "\n",
       "\n"
      ],
      "text/plain": [
       "  class  \n",
       "1 class_1\n",
       "2 class_2\n",
       "3 class_2\n",
       "4 class_1\n",
       "5 class_2\n",
       "6 class_2"
      ]
     },
     "metadata": {},
     "output_type": "display_data"
    },
    {
     "data": {
      "text/html": [
       "<table>\n",
       "<thead><tr><th scope=col>x</th><th scope=col>y</th></tr></thead>\n",
       "<tbody>\n",
       "\t<tr><td>0.7283947</td><td>0.5249248</td></tr>\n",
       "\t<tr><td>0.6271864</td><td>0.6185736</td></tr>\n",
       "\t<tr><td>0.3193688</td><td>0.3466850</td></tr>\n",
       "\t<tr><td>0.6427129</td><td>0.6762807</td></tr>\n",
       "\t<tr><td>0.5347290</td><td>0.7064484</td></tr>\n",
       "\t<tr><td>0.8796171</td><td>0.5194445</td></tr>\n",
       "</tbody>\n",
       "</table>\n"
      ],
      "text/latex": [
       "\\begin{tabular}{r|ll}\n",
       " x & y\\\\\n",
       "\\hline\n",
       "\t 0.7283947 & 0.5249248\\\\\n",
       "\t 0.6271864 & 0.6185736\\\\\n",
       "\t 0.3193688 & 0.3466850\\\\\n",
       "\t 0.6427129 & 0.6762807\\\\\n",
       "\t 0.5347290 & 0.7064484\\\\\n",
       "\t 0.8796171 & 0.5194445\\\\\n",
       "\\end{tabular}\n"
      ],
      "text/markdown": [
       "\n",
       "x | y | \n",
       "|---|---|---|---|---|---|\n",
       "| 0.7283947 | 0.5249248 | \n",
       "| 0.6271864 | 0.6185736 | \n",
       "| 0.3193688 | 0.3466850 | \n",
       "| 0.6427129 | 0.6762807 | \n",
       "| 0.5347290 | 0.7064484 | \n",
       "| 0.8796171 | 0.5194445 | \n",
       "\n",
       "\n"
      ],
      "text/plain": [
       "  x         y        \n",
       "1 0.7283947 0.5249248\n",
       "2 0.6271864 0.6185736\n",
       "3 0.3193688 0.3466850\n",
       "4 0.6427129 0.6762807\n",
       "5 0.5347290 0.7064484\n",
       "6 0.8796171 0.5194445"
      ]
     },
     "metadata": {},
     "output_type": "display_data"
    },
    {
     "data": {
      "text/html": [
       "<table>\n",
       "<thead><tr><th scope=col>class</th></tr></thead>\n",
       "<tbody>\n",
       "\t<tr><td>class_1</td></tr>\n",
       "\t<tr><td>class_1</td></tr>\n",
       "\t<tr><td>class_2</td></tr>\n",
       "\t<tr><td>class_1</td></tr>\n",
       "\t<tr><td>class_1</td></tr>\n",
       "\t<tr><td>class_2</td></tr>\n",
       "</tbody>\n",
       "</table>\n"
      ],
      "text/latex": [
       "\\begin{tabular}{r|l}\n",
       " class\\\\\n",
       "\\hline\n",
       "\t class\\_1\\\\\n",
       "\t class\\_1\\\\\n",
       "\t class\\_2\\\\\n",
       "\t class\\_1\\\\\n",
       "\t class\\_1\\\\\n",
       "\t class\\_2\\\\\n",
       "\\end{tabular}\n"
      ],
      "text/markdown": [
       "\n",
       "class | \n",
       "|---|---|---|---|---|---|\n",
       "| class_1 | \n",
       "| class_1 | \n",
       "| class_2 | \n",
       "| class_1 | \n",
       "| class_1 | \n",
       "| class_2 | \n",
       "\n",
       "\n"
      ],
      "text/plain": [
       "  class  \n",
       "1 class_1\n",
       "2 class_1\n",
       "3 class_2\n",
       "4 class_1\n",
       "5 class_1\n",
       "6 class_2"
      ]
     },
     "metadata": {},
     "output_type": "display_data"
    },
    {
     "data": {
      "text/html": [
       "80"
      ],
      "text/latex": [
       "80"
      ],
      "text/markdown": [
       "80"
      ],
      "text/plain": [
       "[1] 80"
      ]
     },
     "metadata": {},
     "output_type": "display_data"
    },
    {
     "data": {
      "text/html": [
       "20"
      ],
      "text/latex": [
       "20"
      ],
      "text/markdown": [
       "20"
      ],
      "text/plain": [
       "[1] 20"
      ]
     },
     "metadata": {},
     "output_type": "display_data"
    }
   ],
   "source": [
    "df <- get_partitioned_df()\n",
    "df$spirals$x_train %>% head\n",
    "df$spirals$y_train %>% head\n",
    "df$spirals$x_val %>% head\n",
    "df$spirals$y_val %>% head\n",
    "df$spirals$x_train %>% nrow\n",
    "df$spirals$x_val %>% nrow"
   ]
  },
  {
   "cell_type": "markdown",
   "metadata": {},
   "source": [
    "Let's train a simple *KNN* model on the train dataset (3 neighbors, rectangular kernel and euclidean distance):"
   ]
  },
  {
   "cell_type": "code",
   "execution_count": 62,
   "metadata": {},
   "outputs": [],
   "source": [
    "model <-  train(\n",
    "    y = df$spirals$y_train$class,\n",
    "    x = df$spirals$x_train,\n",
    "    method = \"kknn\",\n",
    "    ks = 1,\n",
    "    trControl = trainControl(classProbs =  TRUE, method = \"none\"),\n",
    "    tuneGrid = data.frame(\n",
    "          kmax = 1,\n",
    "          distance = 2,\n",
    "          kernel = 'rectangular'\n",
    "      )\n",
    ")"
   ]
  },
  {
   "cell_type": "markdown",
   "metadata": {},
   "source": [
    "Let's compute the *training set* accuracy"
   ]
  },
  {
   "cell_type": "code",
   "execution_count": 63,
   "metadata": {},
   "outputs": [
    {
     "data": {
      "text/html": [
       "<strong>Accuracy:</strong> 1"
      ],
      "text/latex": [
       "\\textbf{Accuracy:} 1"
      ],
      "text/markdown": [
       "**Accuracy:** 1"
      ],
      "text/plain": [
       "Accuracy \n",
       "       1 "
      ]
     },
     "metadata": {},
     "output_type": "display_data"
    }
   ],
   "source": [
    "predictions <- predict(model, df$spirals$x_train)\n",
    "confusionMatrix(predictions, df$spirals$y_train$class)$overall[\"Accuracy\"]"
   ]
  },
  {
   "cell_type": "markdown",
   "metadata": {},
   "source": [
    "And what about the *testing set* accuracy?"
   ]
  },
  {
   "cell_type": "code",
   "execution_count": 64,
   "metadata": {},
   "outputs": [
    {
     "data": {
      "text/html": [
       "<strong>Accuracy:</strong> 0.9"
      ],
      "text/latex": [
       "\\textbf{Accuracy:} 0.9"
      ],
      "text/markdown": [
       "**Accuracy:** 0.9"
      ],
      "text/plain": [
       "Accuracy \n",
       "     0.9 "
      ]
     },
     "metadata": {},
     "output_type": "display_data"
    }
   ],
   "source": [
    "predictions <- predict(model, df$spirals$x_val)\n",
    "confusionMatrix(predictions, df$spirals$y_val$class)$overall[\"Accuracy\"]"
   ]
  },
  {
   "cell_type": "markdown",
   "metadata": {},
   "source": [
    "#### Cross Validation\n",
    "##### Validation Set Approach\n",
    "##### K Fold Validation\n",
    "##### Leave one out Cross Validation"
   ]
  },
  {
   "cell_type": "markdown",
   "metadata": {},
   "source": [
    "#### Ensembling"
   ]
  }
 ],
 "metadata": {
  "kernelspec": {
   "display_name": "R",
   "language": "R",
   "name": "ir"
  },
  "language_info": {
   "codemirror_mode": "r",
   "file_extension": ".r",
   "mimetype": "text/x-r-source",
   "name": "R",
   "pygments_lexer": "r",
   "version": "3.4.3"
  }
 },
 "nbformat": 4,
 "nbformat_minor": 2
}
