{
 "cells": [
  {
   "cell_type": "markdown",
   "metadata": {},
   "source": [
    "# Hyperparameter Optimization"
   ]
  },
  {
   "cell_type": "markdown",
   "metadata": {},
   "source": [
    "i.e. how to improve our model through **changing how our model is built**.\n",
    "\n",
    "<img src=\"fig/frankestein.jpg\" width=\"150\"> <img src=\"fig/terminator.jpg\" width=\"150\"> <img src=\"fig/wolverine.png\" width=\"150\">\n",
    "\n",
    " **Hello There!**         "
   ]
  },
  {
   "cell_type": "markdown",
   "metadata": {},
   "source": [
    "There are four fairly common strategies to optimize one model's hyperparameters.\n",
    "\n",
    "<img src=\"fig/hyperparameter_meme_2.jpg\" width=\"400\">\n",
    "\n",
    "*List in descending order of coolness*"
   ]
  },
  {
   "cell_type": "markdown",
   "metadata": {},
   "source": [
    "Let's try applying some of these techniques to our titanic dataset"
   ]
  },
  {
   "cell_type": "code",
   "execution_count": 9,
   "metadata": {},
   "outputs": [],
   "source": [
    "source('src/lib.R')"
   ]
  },
  {
   "cell_type": "code",
   "execution_count": 10,
   "metadata": {},
   "outputs": [],
   "source": [
    "# import training and testing dataset\n",
    "\n",
    "train = read_csv('data/titanic_train.csv', col_types = cols())\n",
    "test = read_csv('data/titanic_test.csv', col_types = cols())"
   ]
  },
  {
   "cell_type": "markdown",
   "metadata": {},
   "source": [
    "## Grid Search\n",
    "\n",
    "This is the stupidest conveivable method.\n",
    "1. Try a lot of combination\n",
    "2. Select the best one\n",
    "\n",
    "It is also the simplest to implement and it is not a coincidence that it is natively built in *Caret*. \n",
    "\n",
    "The only thing you should do is to declare the parameter $\\texttt{tuneGrid}$ when invoking *Caret*'s $\\texttt{train}$ function.\n",
    "\n",
    "Note that:\n",
    "- $\\texttt{tuneGrid}$ is initialized as NULL\n",
    "- $\\texttt{tuneGrid}$ must be passed a named $\\texttt{data.frame}$\n",
    "\n",
    "Finding which hyperparameters can be passed to our train function is farily easy:"
   ]
  },
  {
   "cell_type": "code",
   "execution_count": 11,
   "metadata": {},
   "outputs": [
    {
     "data": {
      "text/html": [
       "<table>\n",
       "<thead><tr><th scope=col>parameter</th><th scope=col>class</th><th scope=col>label</th></tr></thead>\n",
       "<tbody>\n",
       "\t<tr><td>kmax           </td><td>numeric        </td><td>Max. #Neighbors</td></tr>\n",
       "\t<tr><td>distance       </td><td>numeric        </td><td>Distance       </td></tr>\n",
       "\t<tr><td>kernel         </td><td>character      </td><td>Kernel         </td></tr>\n",
       "</tbody>\n",
       "</table>\n"
      ],
      "text/latex": [
       "\\begin{tabular}{r|lll}\n",
       " parameter & class & label\\\\\n",
       "\\hline\n",
       "\t kmax              & numeric           & Max. \\#Neighbors\\\\\n",
       "\t distance        & numeric         & Distance       \\\\\n",
       "\t kernel          & character       & Kernel         \\\\\n",
       "\\end{tabular}\n"
      ],
      "text/markdown": [
       "\n",
       "parameter | class | label | \n",
       "|---|---|---|\n",
       "| kmax            | numeric         | Max. #Neighbors | \n",
       "| distance        | numeric         | Distance        | \n",
       "| kernel          | character       | Kernel          | \n",
       "\n",
       "\n"
      ],
      "text/plain": [
       "  parameter class     label          \n",
       "1 kmax      numeric   Max. #Neighbors\n",
       "2 distance  numeric   Distance       \n",
       "3 kernel    character Kernel         "
      ]
     },
     "metadata": {},
     "output_type": "display_data"
    }
   ],
   "source": [
    "info = getModelInfo()\n",
    "info$kknn$parameters"
   ]
  },
  {
   "cell_type": "markdown",
   "metadata": {},
   "source": [
    "As you see, *kknn* can be passed three parameters, two of which are of *numeric* type while the latter should be a *string*\n",
    "\n",
    "> if you decide to pass a tuning grid, you **must** declare a data.frame with all the parameters available. In our case, a data.frame with three columns (and, ofc, at least one row)\n",
    "\n",
    "While the concept of *kmax* argument may be of easy understanding, the same cannot be said of *distance* and *kernel*. To know more of model-specific hyperparameters, you can refer to the reference manual of the given package, from which the model you are about to train comes from. "
   ]
  },
  {
   "cell_type": "code",
   "execution_count": 12,
   "metadata": {},
   "outputs": [
    {
     "data": {
      "text/html": [
       "'kknn'"
      ],
      "text/latex": [
       "'kknn'"
      ],
      "text/markdown": [
       "'kknn'"
      ],
      "text/plain": [
       "[1] \"kknn\""
      ]
     },
     "metadata": {},
     "output_type": "display_data"
    }
   ],
   "source": [
    "info$kknn$library ## as easy as that"
   ]
  },
  {
   "cell_type": "markdown",
   "metadata": {},
   "source": [
    "And [here](https://cran.r-project.org/web/packages/kknn/kknn.pdf) you have it. It turns out that\n",
    "- $\\texttt{kmax}$ number of k neighbours. (why it is calles $\\texttt{kmax}$ instead of simply $\\texttt{k}$ who knows)\n",
    "- $\\texttt{distance}$ is the parameter of the [Minkowski distance](https://en.wikipedia.org/wiki/Minkowski_distance) which, as **everybody** knows, takes value in $(0;+\\infty)$\n",
    "- $\\texttt{kernel}$ is Kernel function to use. Possible choices are \"rectangular\" (which is standard unweighted knn), \"triangular\", \"epanechnikov\" (or beta(2,2)), \"biweight\" (or beta(3,3)), \"triweight\"\n",
    "(or beta(4,4)), \"cos\", \"inv\", \"gaussian\", \"rank\" and \"optimal\".\n",
    "\n",
    "Also, if you used the $\\texttt{kknn}$ function from the *kknn* package, you would have been able to specify many more hyperparameters."
   ]
  },
  {
   "cell_type": "code",
   "execution_count": 13,
   "metadata": {},
   "outputs": [
    {
     "data": {
      "text/html": [
       "<table>\n",
       "<thead><tr><th scope=col>kmax</th><th scope=col>kernel</th><th scope=col>distance</th></tr></thead>\n",
       "<tbody>\n",
       "\t<tr><td>5           </td><td>rectangular </td><td> 0.1        </td></tr>\n",
       "\t<tr><td>5           </td><td>rectangular </td><td> 0.5        </td></tr>\n",
       "\t<tr><td>5           </td><td>rectangular </td><td> 1.0        </td></tr>\n",
       "\t<tr><td>5           </td><td>rectangular </td><td> 2.0        </td></tr>\n",
       "\t<tr><td>5           </td><td>rectangular </td><td>10.0        </td></tr>\n",
       "\t<tr><td>5           </td><td>triangular  </td><td> 0.1        </td></tr>\n",
       "\t<tr><td>5           </td><td>triangular  </td><td> 0.5        </td></tr>\n",
       "\t<tr><td>5           </td><td>triangular  </td><td> 1.0        </td></tr>\n",
       "\t<tr><td>5           </td><td>triangular  </td><td> 2.0        </td></tr>\n",
       "\t<tr><td>5           </td><td>triangular  </td><td>10.0        </td></tr>\n",
       "\t<tr><td>5           </td><td>epanechnikov</td><td> 0.1        </td></tr>\n",
       "\t<tr><td>5           </td><td>epanechnikov</td><td> 0.5        </td></tr>\n",
       "\t<tr><td>5           </td><td>epanechnikov</td><td> 1.0        </td></tr>\n",
       "\t<tr><td>5           </td><td>epanechnikov</td><td> 2.0        </td></tr>\n",
       "\t<tr><td>5           </td><td>epanechnikov</td><td>10.0        </td></tr>\n",
       "\t<tr><td>5           </td><td>biweight    </td><td> 0.1        </td></tr>\n",
       "\t<tr><td>5           </td><td>biweight    </td><td> 0.5        </td></tr>\n",
       "\t<tr><td>5           </td><td>biweight    </td><td> 1.0        </td></tr>\n",
       "\t<tr><td>5           </td><td>biweight    </td><td> 2.0        </td></tr>\n",
       "\t<tr><td>5           </td><td>biweight    </td><td>10.0        </td></tr>\n",
       "\t<tr><td>5           </td><td>triweight   </td><td> 0.1        </td></tr>\n",
       "\t<tr><td>5           </td><td>triweight   </td><td> 0.5        </td></tr>\n",
       "\t<tr><td>5           </td><td>triweight   </td><td> 1.0        </td></tr>\n",
       "\t<tr><td>5           </td><td>triweight   </td><td> 2.0        </td></tr>\n",
       "\t<tr><td>5           </td><td>triweight   </td><td>10.0        </td></tr>\n",
       "\t<tr><td>5           </td><td>cos         </td><td> 0.1        </td></tr>\n",
       "\t<tr><td>5           </td><td>cos         </td><td> 0.5        </td></tr>\n",
       "\t<tr><td>5           </td><td>cos         </td><td> 1.0        </td></tr>\n",
       "\t<tr><td>5           </td><td>cos         </td><td> 2.0        </td></tr>\n",
       "\t<tr><td>5           </td><td>cos         </td><td>10.0        </td></tr>\n",
       "\t<tr><td>5           </td><td>inv         </td><td> 0.1        </td></tr>\n",
       "\t<tr><td>5           </td><td>inv         </td><td> 0.5        </td></tr>\n",
       "\t<tr><td>5           </td><td>inv         </td><td> 1.0        </td></tr>\n",
       "\t<tr><td>5           </td><td>inv         </td><td> 2.0        </td></tr>\n",
       "\t<tr><td>5           </td><td>inv         </td><td>10.0        </td></tr>\n",
       "\t<tr><td>5           </td><td>gaussian    </td><td> 0.1        </td></tr>\n",
       "\t<tr><td>5           </td><td>gaussian    </td><td> 0.5        </td></tr>\n",
       "\t<tr><td>5           </td><td>gaussian    </td><td> 1.0        </td></tr>\n",
       "\t<tr><td>5           </td><td>gaussian    </td><td> 2.0        </td></tr>\n",
       "\t<tr><td>5           </td><td>gaussian    </td><td>10.0        </td></tr>\n",
       "\t<tr><td>5           </td><td>rank        </td><td> 0.1        </td></tr>\n",
       "\t<tr><td>5           </td><td>rank        </td><td> 0.5        </td></tr>\n",
       "\t<tr><td>5           </td><td>rank        </td><td> 1.0        </td></tr>\n",
       "\t<tr><td>5           </td><td>rank        </td><td> 2.0        </td></tr>\n",
       "\t<tr><td>5           </td><td>rank        </td><td>10.0        </td></tr>\n",
       "\t<tr><td>5           </td><td>optimal     </td><td> 0.1        </td></tr>\n",
       "\t<tr><td>5           </td><td>optimal     </td><td> 0.5        </td></tr>\n",
       "\t<tr><td>5           </td><td>optimal     </td><td> 1.0        </td></tr>\n",
       "\t<tr><td>5           </td><td>optimal     </td><td> 2.0        </td></tr>\n",
       "\t<tr><td>5           </td><td>optimal     </td><td>10.0        </td></tr>\n",
       "</tbody>\n",
       "</table>\n"
      ],
      "text/latex": [
       "\\begin{tabular}{r|lll}\n",
       " kmax & kernel & distance\\\\\n",
       "\\hline\n",
       "\t 5            & rectangular  &  0.1        \\\\\n",
       "\t 5            & rectangular  &  0.5        \\\\\n",
       "\t 5            & rectangular  &  1.0        \\\\\n",
       "\t 5            & rectangular  &  2.0        \\\\\n",
       "\t 5            & rectangular  & 10.0        \\\\\n",
       "\t 5            & triangular   &  0.1        \\\\\n",
       "\t 5            & triangular   &  0.5        \\\\\n",
       "\t 5            & triangular   &  1.0        \\\\\n",
       "\t 5            & triangular   &  2.0        \\\\\n",
       "\t 5            & triangular   & 10.0        \\\\\n",
       "\t 5            & epanechnikov &  0.1        \\\\\n",
       "\t 5            & epanechnikov &  0.5        \\\\\n",
       "\t 5            & epanechnikov &  1.0        \\\\\n",
       "\t 5            & epanechnikov &  2.0        \\\\\n",
       "\t 5            & epanechnikov & 10.0        \\\\\n",
       "\t 5            & biweight     &  0.1        \\\\\n",
       "\t 5            & biweight     &  0.5        \\\\\n",
       "\t 5            & biweight     &  1.0        \\\\\n",
       "\t 5            & biweight     &  2.0        \\\\\n",
       "\t 5            & biweight     & 10.0        \\\\\n",
       "\t 5            & triweight    &  0.1        \\\\\n",
       "\t 5            & triweight    &  0.5        \\\\\n",
       "\t 5            & triweight    &  1.0        \\\\\n",
       "\t 5            & triweight    &  2.0        \\\\\n",
       "\t 5            & triweight    & 10.0        \\\\\n",
       "\t 5            & cos          &  0.1        \\\\\n",
       "\t 5            & cos          &  0.5        \\\\\n",
       "\t 5            & cos          &  1.0        \\\\\n",
       "\t 5            & cos          &  2.0        \\\\\n",
       "\t 5            & cos          & 10.0        \\\\\n",
       "\t 5            & inv          &  0.1        \\\\\n",
       "\t 5            & inv          &  0.5        \\\\\n",
       "\t 5            & inv          &  1.0        \\\\\n",
       "\t 5            & inv          &  2.0        \\\\\n",
       "\t 5            & inv          & 10.0        \\\\\n",
       "\t 5            & gaussian     &  0.1        \\\\\n",
       "\t 5            & gaussian     &  0.5        \\\\\n",
       "\t 5            & gaussian     &  1.0        \\\\\n",
       "\t 5            & gaussian     &  2.0        \\\\\n",
       "\t 5            & gaussian     & 10.0        \\\\\n",
       "\t 5            & rank         &  0.1        \\\\\n",
       "\t 5            & rank         &  0.5        \\\\\n",
       "\t 5            & rank         &  1.0        \\\\\n",
       "\t 5            & rank         &  2.0        \\\\\n",
       "\t 5            & rank         & 10.0        \\\\\n",
       "\t 5            & optimal      &  0.1        \\\\\n",
       "\t 5            & optimal      &  0.5        \\\\\n",
       "\t 5            & optimal      &  1.0        \\\\\n",
       "\t 5            & optimal      &  2.0        \\\\\n",
       "\t 5            & optimal      & 10.0        \\\\\n",
       "\\end{tabular}\n"
      ],
      "text/markdown": [
       "\n",
       "kmax | kernel | distance | \n",
       "|---|---|---|---|---|---|---|---|---|---|---|---|---|---|---|---|---|---|---|---|---|---|---|---|---|---|---|---|---|---|---|---|---|---|---|---|---|---|---|---|---|---|---|---|---|---|---|---|---|---|\n",
       "| 5            | rectangular  |  0.1         | \n",
       "| 5            | rectangular  |  0.5         | \n",
       "| 5            | rectangular  |  1.0         | \n",
       "| 5            | rectangular  |  2.0         | \n",
       "| 5            | rectangular  | 10.0         | \n",
       "| 5            | triangular   |  0.1         | \n",
       "| 5            | triangular   |  0.5         | \n",
       "| 5            | triangular   |  1.0         | \n",
       "| 5            | triangular   |  2.0         | \n",
       "| 5            | triangular   | 10.0         | \n",
       "| 5            | epanechnikov |  0.1         | \n",
       "| 5            | epanechnikov |  0.5         | \n",
       "| 5            | epanechnikov |  1.0         | \n",
       "| 5            | epanechnikov |  2.0         | \n",
       "| 5            | epanechnikov | 10.0         | \n",
       "| 5            | biweight     |  0.1         | \n",
       "| 5            | biweight     |  0.5         | \n",
       "| 5            | biweight     |  1.0         | \n",
       "| 5            | biweight     |  2.0         | \n",
       "| 5            | biweight     | 10.0         | \n",
       "| 5            | triweight    |  0.1         | \n",
       "| 5            | triweight    |  0.5         | \n",
       "| 5            | triweight    |  1.0         | \n",
       "| 5            | triweight    |  2.0         | \n",
       "| 5            | triweight    | 10.0         | \n",
       "| 5            | cos          |  0.1         | \n",
       "| 5            | cos          |  0.5         | \n",
       "| 5            | cos          |  1.0         | \n",
       "| 5            | cos          |  2.0         | \n",
       "| 5            | cos          | 10.0         | \n",
       "| 5            | inv          |  0.1         | \n",
       "| 5            | inv          |  0.5         | \n",
       "| 5            | inv          |  1.0         | \n",
       "| 5            | inv          |  2.0         | \n",
       "| 5            | inv          | 10.0         | \n",
       "| 5            | gaussian     |  0.1         | \n",
       "| 5            | gaussian     |  0.5         | \n",
       "| 5            | gaussian     |  1.0         | \n",
       "| 5            | gaussian     |  2.0         | \n",
       "| 5            | gaussian     | 10.0         | \n",
       "| 5            | rank         |  0.1         | \n",
       "| 5            | rank         |  0.5         | \n",
       "| 5            | rank         |  1.0         | \n",
       "| 5            | rank         |  2.0         | \n",
       "| 5            | rank         | 10.0         | \n",
       "| 5            | optimal      |  0.1         | \n",
       "| 5            | optimal      |  0.5         | \n",
       "| 5            | optimal      |  1.0         | \n",
       "| 5            | optimal      |  2.0         | \n",
       "| 5            | optimal      | 10.0         | \n",
       "\n",
       "\n"
      ],
      "text/plain": [
       "   kmax kernel       distance\n",
       "1  5    rectangular   0.1    \n",
       "2  5    rectangular   0.5    \n",
       "3  5    rectangular   1.0    \n",
       "4  5    rectangular   2.0    \n",
       "5  5    rectangular  10.0    \n",
       "6  5    triangular    0.1    \n",
       "7  5    triangular    0.5    \n",
       "8  5    triangular    1.0    \n",
       "9  5    triangular    2.0    \n",
       "10 5    triangular   10.0    \n",
       "11 5    epanechnikov  0.1    \n",
       "12 5    epanechnikov  0.5    \n",
       "13 5    epanechnikov  1.0    \n",
       "14 5    epanechnikov  2.0    \n",
       "15 5    epanechnikov 10.0    \n",
       "16 5    biweight      0.1    \n",
       "17 5    biweight      0.5    \n",
       "18 5    biweight      1.0    \n",
       "19 5    biweight      2.0    \n",
       "20 5    biweight     10.0    \n",
       "21 5    triweight     0.1    \n",
       "22 5    triweight     0.5    \n",
       "23 5    triweight     1.0    \n",
       "24 5    triweight     2.0    \n",
       "25 5    triweight    10.0    \n",
       "26 5    cos           0.1    \n",
       "27 5    cos           0.5    \n",
       "28 5    cos           1.0    \n",
       "29 5    cos           2.0    \n",
       "30 5    cos          10.0    \n",
       "31 5    inv           0.1    \n",
       "32 5    inv           0.5    \n",
       "33 5    inv           1.0    \n",
       "34 5    inv           2.0    \n",
       "35 5    inv          10.0    \n",
       "36 5    gaussian      0.1    \n",
       "37 5    gaussian      0.5    \n",
       "38 5    gaussian      1.0    \n",
       "39 5    gaussian      2.0    \n",
       "40 5    gaussian     10.0    \n",
       "41 5    rank          0.1    \n",
       "42 5    rank          0.5    \n",
       "43 5    rank          1.0    \n",
       "44 5    rank          2.0    \n",
       "45 5    rank         10.0    \n",
       "46 5    optimal       0.1    \n",
       "47 5    optimal       0.5    \n",
       "48 5    optimal       1.0    \n",
       "49 5    optimal       2.0    \n",
       "50 5    optimal      10.0    "
      ]
     },
     "metadata": {},
     "output_type": "display_data"
    }
   ],
   "source": [
    "## istantiate the tuning grid\n",
    "\n",
    "(tune_grid = data.frame(kmax = 5,\n",
    "                       kernel = c('rectangular' %>% rep(5),\n",
    "                                  'triangular' %>% rep(5),\n",
    "                                  'epanechnikov' %>% rep(5),\n",
    "                                  'biweight' %>% rep(5),\n",
    "                                  'triweight' %>% rep(5),\n",
    "                                  'cos' %>% rep(5),\n",
    "                                  'inv' %>% rep(5),\n",
    "                                  'gaussian' %>% rep(5),\n",
    "                                  'rank' %>% rep(5),\n",
    "                                  'optimal' %>% rep(5)                                  \n",
    "                       ),\n",
    "                       distance = c(0.1,\n",
    "                                    0.5,\n",
    "                                    1,\n",
    "                                    2,\n",
    "                                    10\n",
    "                       )\n",
    "))"
   ]
  },
  {
   "cell_type": "markdown",
   "metadata": {},
   "source": [
    "this is quite extensive!"
   ]
  },
  {
   "cell_type": "code",
   "execution_count": 19,
   "metadata": {},
   "outputs": [
    {
     "data": {
      "text/plain": [
       "k-Nearest Neighbors \n",
       "\n",
       "918 samples\n",
       "  8 predictor\n",
       "  2 classes: '0', '1' \n",
       "\n",
       "No pre-processing\n",
       "Resampling: Bootstrapped (25 reps) \n",
       "Summary of sample sizes: 918, 918, 918, 918, 918, 918, ... \n",
       "Resampling results across tuning parameters:\n",
       "\n",
       "  kernel        distance  Accuracy   Kappa    \n",
       "  biweight       0.1      0.7324888  0.4301941\n",
       "  biweight       0.5      0.7241830  0.4093192\n",
       "  biweight       1.0      0.7231508  0.4076306\n",
       "  biweight       2.0      0.7297438  0.4233612\n",
       "  biweight      10.0      0.7282822  0.4204633\n",
       "  cos            0.1      0.7324888  0.4301941\n",
       "  cos            0.5      0.7238115  0.4086367\n",
       "  cos            1.0      0.7237624  0.4086836\n",
       "  cos            2.0      0.7290787  0.4214489\n",
       "  cos           10.0      0.7295015  0.4229585\n",
       "  epanechnikov   0.1      0.7324888  0.4301941\n",
       "  epanechnikov   0.5      0.7238115  0.4086367\n",
       "  epanechnikov   1.0      0.7237624  0.4086836\n",
       "  epanechnikov   2.0      0.7285997  0.4204951\n",
       "  epanechnikov  10.0      0.7284556  0.4206383\n",
       "  gaussian       0.1      0.7324888  0.4301941\n",
       "  gaussian       0.5      0.7238115  0.4086367\n",
       "  gaussian       1.0      0.7237624  0.4086836\n",
       "  gaussian       2.0      0.7285997  0.4204951\n",
       "  gaussian      10.0      0.7284556  0.4206383\n",
       "  inv            0.1      0.7360945  0.4375877\n",
       "  inv            0.5      0.7290757  0.4206782\n",
       "  inv            1.0      0.7299668  0.4205244\n",
       "  inv            2.0      0.7367768  0.4367227\n",
       "  inv           10.0      0.7330311  0.4309708\n",
       "  optimal        0.1      0.7317563  0.4299278\n",
       "  optimal        0.5      0.7240605  0.4104282\n",
       "  optimal        1.0      0.7245118  0.4116578\n",
       "  optimal        2.0      0.7277588  0.4197198\n",
       "  optimal       10.0      0.7265723  0.4184691\n",
       "  rank           0.1      0.7324884  0.4302605\n",
       "  rank           0.5      0.7239309  0.4089318\n",
       "  rank           1.0      0.7238818  0.4089754\n",
       "  rank           2.0      0.7284799  0.4202778\n",
       "  rank          10.0      0.7283353  0.4205809\n",
       "  rectangular    0.1      0.7317563  0.4299278\n",
       "  rectangular    0.5      0.7240605  0.4104282\n",
       "  rectangular    1.0      0.7245118  0.4116578\n",
       "  rectangular    2.0      0.7277588  0.4197198\n",
       "  rectangular   10.0      0.7265723  0.4184691\n",
       "  triangular     0.1      0.7324888  0.4301941\n",
       "  triangular     0.5      0.7251411  0.4113393\n",
       "  triangular     1.0      0.7237700  0.4087834\n",
       "  triangular     2.0      0.7298636  0.4236375\n",
       "  triangular    10.0      0.7282782  0.4205363\n",
       "  triweight      0.1      0.7324888  0.4301941\n",
       "  triweight      0.5      0.7250214  0.4110603\n",
       "  triweight      1.0      0.7238908  0.4090738\n",
       "  triweight      2.0      0.7298859  0.4229493\n",
       "  triweight     10.0      0.7286492  0.4211560\n",
       "\n",
       "Tuning parameter 'kmax' was held constant at a value of 5\n",
       "Accuracy was used to select the optimal model using the largest value.\n",
       "The final values used for the model were kmax = 5, distance = 2 and kernel\n",
       " = inv."
      ]
     },
     "metadata": {},
     "output_type": "display_data"
    }
   ],
   "source": [
    "## train the model (you really don't want to run this)\n",
    "\n",
    "# model_grid_search = train(x = train %>% select(-one_of('survived')),\n",
    "#                          y = train %>% select(one_of('survived')) %>% pull %>% factor,\n",
    "#                          method = 'kknn',\n",
    "#                          tuneGrid = tune_grid\n",
    "#                    )\n",
    "\n",
    "# saveRDS(model_grid_search, 'data/model_grid_search.R'\n",
    "\n",
    "\n",
    "# rather, we trained the model for you, how nice are we?!?\n",
    "\n",
    "(model_grid_search = readRDS('data/model_grid_search.R'))"
   ]
  },
  {
   "cell_type": "code",
   "execution_count": 20,
   "metadata": {},
   "outputs": [
    {
     "data": {},
     "metadata": {},
     "output_type": "display_data"
    },
    {
     "data": {},
     "metadata": {},
     "output_type": "display_data"
    },
    {
     "data": {
      "image/png": "[encoded data removed]",
      "text/plain": [
       "plot without title"
      ]
     },
     "metadata": {},
     "output_type": "display_data"
    },
    {
     "data": {
      "image/png": "[encoded data removed]",
      "text/plain": [
       "plot without title"
      ]
     },
     "metadata": {},
     "output_type": "display_data"
    }
   ],
   "source": [
    "options(repr.plot.width=3, repr.plot.height=3)\n",
    "\n",
    "model_grid_search$results %>%\n",
    "  as_data_frame %>%\n",
    "  rownames_to_column(var = 'id') %>% mutate(id = as.numeric(id)) %>% \n",
    "  ggplot() + geom_line(aes(x = id, y = Accuracy)) + ggtitle('Training Accuracy')\n",
    "\n",
    "model_grid_search$results %>%\n",
    "  as_data_frame %>%\n",
    "  rownames_to_column(var = 'id') %>% mutate(id = as.numeric(id)) %>% \n",
    "  ggplot() + geom_line(aes(x = id, y = Kappa)) + ggtitle('Training Kohen\\'s K')"
   ]
  },
  {
   "cell_type": "markdown",
   "metadata": {},
   "source": [
    "Looks like there are two winners here!"
   ]
  },
  {
   "cell_type": "code",
   "execution_count": 21,
   "metadata": {},
   "outputs": [
    {
     "data": {
      "text/html": [
       "<table>\n",
       "<thead><tr><th scope=col>kmax</th><th scope=col>kernel</th><th scope=col>distance</th><th scope=col>Accuracy</th><th scope=col>Kappa</th><th scope=col>AccuracySD</th><th scope=col>KappaSD</th></tr></thead>\n",
       "<tbody>\n",
       "\t<tr><td>5         </td><td>inv       </td><td>2         </td><td>0.7367768 </td><td>0.4367227 </td><td>0.02803057</td><td>0.06264025</td></tr>\n",
       "</tbody>\n",
       "</table>\n"
      ],
      "text/latex": [
       "\\begin{tabular}{r|lllllll}\n",
       " kmax & kernel & distance & Accuracy & Kappa & AccuracySD & KappaSD\\\\\n",
       "\\hline\n",
       "\t 5          & inv        & 2          & 0.7367768  & 0.4367227  & 0.02803057 & 0.06264025\\\\\n",
       "\\end{tabular}\n"
      ],
      "text/markdown": [
       "\n",
       "kmax | kernel | distance | Accuracy | Kappa | AccuracySD | KappaSD | \n",
       "|---|\n",
       "| 5          | inv        | 2          | 0.7367768  | 0.4367227  | 0.02803057 | 0.06264025 | \n",
       "\n",
       "\n"
      ],
      "text/plain": [
       "  kmax kernel distance Accuracy  Kappa     AccuracySD KappaSD   \n",
       "1 5    inv    2        0.7367768 0.4367227 0.02803057 0.06264025"
      ]
     },
     "metadata": {},
     "output_type": "display_data"
    },
    {
     "data": {
      "text/html": [
       "<table>\n",
       "<thead><tr><th scope=col>kmax</th><th scope=col>kernel</th><th scope=col>distance</th><th scope=col>Accuracy</th><th scope=col>Kappa</th><th scope=col>AccuracySD</th><th scope=col>KappaSD</th></tr></thead>\n",
       "<tbody>\n",
       "\t<tr><td>5         </td><td>inv       </td><td>0.1       </td><td>0.7360945 </td><td>0.4375877 </td><td>0.02489221</td><td>0.05580807</td></tr>\n",
       "</tbody>\n",
       "</table>\n"
      ],
      "text/latex": [
       "\\begin{tabular}{r|lllllll}\n",
       " kmax & kernel & distance & Accuracy & Kappa & AccuracySD & KappaSD\\\\\n",
       "\\hline\n",
       "\t 5          & inv        & 0.1        & 0.7360945  & 0.4375877  & 0.02489221 & 0.05580807\\\\\n",
       "\\end{tabular}\n"
      ],
      "text/markdown": [
       "\n",
       "kmax | kernel | distance | Accuracy | Kappa | AccuracySD | KappaSD | \n",
       "|---|\n",
       "| 5          | inv        | 0.1        | 0.7360945  | 0.4375877  | 0.02489221 | 0.05580807 | \n",
       "\n",
       "\n"
      ],
      "text/plain": [
       "  kmax kernel distance Accuracy  Kappa     AccuracySD KappaSD   \n",
       "1 5    inv    0.1      0.7360945 0.4375877 0.02489221 0.05580807"
      ]
     },
     "metadata": {},
     "output_type": "display_data"
    }
   ],
   "source": [
    "model_grid_search$results %>% as_data_frame %>% top_n(1, Accuracy)\n",
    "model_grid_search$results %>% as_data_frame %>% top_n(1, Kappa)"
   ]
  },
  {
   "cell_type": "code",
   "execution_count": 22,
   "metadata": {},
   "outputs": [
    {
     "data": {
      "text/html": [
       "<table>\n",
       "<thead><tr><th></th><th scope=col>kmax</th><th scope=col>distance</th><th scope=col>kernel</th></tr></thead>\n",
       "<tbody>\n",
       "\t<tr><th scope=row>24</th><td>5  </td><td>2  </td><td>inv</td></tr>\n",
       "</tbody>\n",
       "</table>\n"
      ],
      "text/latex": [
       "\\begin{tabular}{r|lll}\n",
       "  & kmax & distance & kernel\\\\\n",
       "\\hline\n",
       "\t24 & 5   & 2   & inv\\\\\n",
       "\\end{tabular}\n"
      ],
      "text/markdown": [
       "\n",
       "| <!--/--> | kmax | distance | kernel | \n",
       "|---|\n",
       "| 24 | 5   | 2   | inv | \n",
       "\n",
       "\n"
      ],
      "text/plain": [
       "   kmax distance kernel\n",
       "24 5    2        inv   "
      ]
     },
     "metadata": {},
     "output_type": "display_data"
    }
   ],
   "source": [
    "model_grid_search$bestTune # indeed"
   ]
  },
  {
   "cell_type": "markdown",
   "metadata": {},
   "source": [
    "### Computational Issues\n",
    "\n",
    "As you see, (if you tried training the model yourself) the model takes a **looong** time to train\n",
    "\n",
    "Indeed, grid search is often not viable when the hyperparameter space gets lerger, indeed, it gets exponentially complex."
   ]
  },
  {
   "cell_type": "markdown",
   "metadata": {},
   "source": [
    "## Manual Search\n",
    "\n",
    "This may seem trivial, but it actually requires a good undertstanding of the underlying problem + it can help in reducing the space of grid search."
   ]
  },
  {
   "cell_type": "markdown",
   "metadata": {},
   "source": [
    "## Random Search\n",
    "\n",
    "grid search looked promising but is there a better way to do it?\n",
    "\n",
    "Randomly sampling in the hyperparameter space may yield good recults with less computing time. Also, it allows us to explore even larger hyperparameter space!"
   ]
  },
  {
   "cell_type": "code",
   "execution_count": 32,
   "metadata": {},
   "outputs": [
    {
     "data": {
      "text/html": [
       "<span style=white-space:pre-wrap>'This tune grid has  1000  rows!'</span>"
      ],
      "text/latex": [
       "'This tune grid has  1000  rows!'"
      ],
      "text/markdown": [
       "<span style=white-space:pre-wrap>'This tune grid has  1000  rows!'</span>"
      ],
      "text/plain": [
       "[1] \"This tune grid has  1000  rows!\""
      ]
     },
     "metadata": {},
     "output_type": "display_data"
    }
   ],
   "source": [
    "## this is a very large tune grid. The previous had 50 rows, this one has 1000!\n",
    "\n",
    "(tune_grid_large = data.frame(kmax = seq_len(20) %>% rep(each = 50),\n",
    "                        kernel = c('rectangular' %>% rep(5),\n",
    "                                   'triangular' %>% rep(5),\n",
    "                                   'epanechnikov' %>% rep(5),\n",
    "                                   'biweight' %>% rep(5),\n",
    "                                   'triweight' %>% rep(5),\n",
    "                                   'cos' %>% rep(5),\n",
    "                                   'inv' %>% rep(5),\n",
    "                                   'gaussian' %>% rep(5),\n",
    "                                   'rank' %>% rep(5),\n",
    "                                   'optimal' %>% rep(5)                                  \n",
    "                        ),\n",
    "                        distance = c(0.1,\n",
    "                                     0.5,\n",
    "                                     1,\n",
    "                                     2,\n",
    "                                     10\n",
    "                        )\n",
    ")) %>% nrow %>% paste('This tune grid has ', ., ' rows!')"
   ]
  },
  {
   "cell_type": "code",
   "execution_count": 34,
   "metadata": {},
   "outputs": [
    {
     "data": {
      "text/html": [
       "<span style=white-space:pre-wrap>'The sampled tune grid, indeed, has only  2  rows!'</span>"
      ],
      "text/latex": [
       "'The sampled tune grid, indeed, has only  2  rows!'"
      ],
      "text/markdown": [
       "<span style=white-space:pre-wrap>'The sampled tune grid, indeed, has only  2  rows!'</span>"
      ],
      "text/plain": [
       "[1] \"The sampled tune grid, indeed, has only  2  rows!\""
      ]
     },
     "metadata": {},
     "output_type": "display_data"
    }
   ],
   "source": [
    "(random_tune_grid = tune_grid_large %>% sample_frac(size = 0.05)) %>%\n",
    "    nrow %>%\n",
    "    paste('The sampled tune grid, indeed, has only ', ., ' rows!')"
   ]
  },
  {
   "cell_type": "markdown",
   "metadata": {},
   "source": [
    "Let's tune!"
   ]
  },
  {
   "cell_type": "code",
   "execution_count": 35,
   "metadata": {},
   "outputs": [
    {
     "data": {
      "text/plain": [
       "k-Nearest Neighbors \n",
       "\n",
       "918 samples\n",
       "  8 predictor\n",
       "  2 classes: '0', '1' \n",
       "\n",
       "No pre-processing\n",
       "Resampling: Bootstrapped (25 reps) \n",
       "Summary of sample sizes: 918, 918, 918, 918, 918, 918, ... \n",
       "Resampling results across tuning parameters:\n",
       "\n",
       "  kmax  kernel        distance  Accuracy   Kappa    \n",
       "   1    cos            0.1      0.7389471  0.4449897\n",
       "   1    cos           10.0      0.7375979  0.4411473\n",
       "   1    rectangular    0.5      0.7343742  0.4329676\n",
       "   3    biweight       0.1      0.7404807  0.4464893\n",
       "   3    biweight       0.5      0.7347589  0.4325007\n",
       "   3    gaussian      10.0      0.7403184  0.4453317\n",
       "   3    triangular     0.1      0.7403627  0.4462740\n",
       "   3    triweight      1.0      0.7411680  0.4469675\n",
       "   3    triweight     10.0      0.7400034  0.4447876\n",
       "   4    biweight      10.0      0.7397189  0.4442843\n",
       "   4    gaussian       0.1      0.7396888  0.4447130\n",
       "   4    rank           0.1      0.7394478  0.4442630\n",
       "   4    rank           1.0      0.7414030  0.4476530\n",
       "   5    cos            1.0      0.7411396  0.4473664\n",
       "   5    gaussian      10.0      0.7414009  0.4471494\n",
       "   5    rectangular    0.1      0.7389471  0.4449897\n",
       "   5    triangular     0.1      0.7396495  0.4449696\n",
       "   8    triweight      0.5      0.7344275  0.4316895\n",
       "   9    rectangular    2.0      0.7403063  0.4463707\n",
       "  10    gaussian       0.1      0.7389404  0.4431973\n",
       "  10    inv           10.0      0.7530325  0.4707292\n",
       "  11    biweight       0.5      0.7346447  0.4320779\n",
       "  11    biweight       1.0      0.7407966  0.4464123\n",
       "  11    epanechnikov   0.1      0.7401369  0.4453524\n",
       "  12    triangular     2.0      0.7416120  0.4480764\n",
       "  13    triangular     1.0      0.7411506  0.4467659\n",
       "  14    biweight       2.0      0.7414765  0.4477569\n",
       "  14    biweight      10.0      0.7401073  0.4449468\n",
       "  14    epanechnikov   1.0      0.7415221  0.4478537\n",
       "  14    triweight      2.0      0.7413619  0.4475524\n",
       "  16    biweight      10.0      0.7395976  0.4441307\n",
       "  16    epanechnikov   2.0      0.7415941  0.4475709\n",
       "  16    epanechnikov  10.0      0.7392362  0.4435000\n",
       "  16    gaussian       2.0      0.7415941  0.4475709\n",
       "  17    optimal        0.5      0.7343742  0.4329676\n",
       "  17    triweight      0.5      0.7341821  0.4316111\n",
       "  18    epanechnikov   2.0      0.7416169  0.4475604\n",
       "  18    epanechnikov  10.0      0.7404552  0.4458105\n",
       "  18    inv            0.5      0.7676365  0.5002822\n",
       "  18    inv            1.0      0.7683301  0.5017835\n",
       "  18    rank           1.0      0.7411419  0.4470873\n",
       "  18    rectangular    1.0      0.7403021  0.4463719\n",
       "  18    triangular     2.0      0.7413877  0.4470893\n",
       "  19    cos            0.1      0.7406074  0.4465964\n",
       "  19    inv           10.0      0.7627800  0.4902948\n",
       "  19    rank           0.5      0.7351311  0.4334117\n",
       "  20    biweight       1.0      0.7417723  0.4479490\n",
       "  20    triangular     2.0      0.7418380  0.4477994\n",
       "  20    triweight      0.1      0.7401235  0.4455048\n",
       "  20    triweight      1.0      0.7415431  0.4475480\n",
       "\n",
       "Accuracy was used to select the optimal model using the largest value.\n",
       "The final values used for the model were kmax = 18, distance = 1 and kernel\n",
       " = inv."
      ]
     },
     "metadata": {},
     "output_type": "display_data"
    }
   ],
   "source": [
    "## train the model (you really don't want to run this)\n",
    "\n",
    "# model_grid_search = train(x = train %>% select(-one_of('survived')),\n",
    "#                          y = train %>% select(one_of('survived')) %>% pull %>% factor,\n",
    "#                          method = 'kknn',\n",
    "#                          tuneGrid = random_tune_grid\n",
    "#                    )\n",
    "\n",
    "# saveRDS('data/model_grid_search.R')\n",
    "\n",
    "\n",
    "# rather we trained the model for you, how nice are we?!?\n",
    "\n",
    "(model_random_search = readRDS('data/model_random_search.R'))"
   ]
  },
  {
   "cell_type": "code",
   "execution_count": 37,
   "metadata": {},
   "outputs": [
    {
     "data": {},
     "metadata": {},
     "output_type": "display_data"
    },
    {
     "data": {},
     "metadata": {},
     "output_type": "display_data"
    },
    {
     "data": {
      "image/png": "[encoded data removed]",
      "text/plain": [
       "plot without title"
      ]
     },
     "metadata": {},
     "output_type": "display_data"
    },
    {
     "data": {
      "image/png": "[encoded data removed]",
      "text/plain": [
       "plot without title"
      ]
     },
     "metadata": {},
     "output_type": "display_data"
    }
   ],
   "source": [
    "options(repr.plot.width=3, repr.plot.height=3)\n",
    "\n",
    "model_random_search$results %>%\n",
    "  as_data_frame %>%\n",
    "  rownames_to_column(var = 'id') %>% mutate(id = as.numeric(id)) %>% \n",
    "  ggplot() + geom_line(aes(x = id, y = Accuracy)) + ggtitle('Training Accuracy')\n",
    "\n",
    "model_random_search$results %>%\n",
    "  as_data_frame %>%\n",
    "  rownames_to_column(var = 'id') %>% mutate(id = as.numeric(id)) %>% \n",
    "  ggplot() + geom_line(aes(x = id, y = Kappa)) + ggtitle('Training Kohen\\'s K')"
   ]
  },
  {
   "cell_type": "code",
   "execution_count": 46,
   "metadata": {},
   "outputs": [
    {
     "data": {
      "text/html": [
       "<table>\n",
       "<thead><tr><th scope=col>kmax</th><th scope=col>kernel</th><th scope=col>distance</th><th scope=col>Accuracy</th><th scope=col>Kappa</th><th scope=col>AccuracySD</th><th scope=col>KappaSD</th></tr></thead>\n",
       "<tbody>\n",
       "\t<tr><td>18        </td><td>inv       </td><td> 1.0      </td><td>0.7683301 </td><td>0.5017835 </td><td>0.01995212</td><td>0.04314774</td></tr>\n",
       "\t<tr><td>18        </td><td>inv       </td><td> 0.5      </td><td>0.7676365 </td><td>0.5002822 </td><td>0.02050050</td><td>0.04604183</td></tr>\n",
       "\t<tr><td>19        </td><td>inv       </td><td>10.0      </td><td>0.7627800 </td><td>0.4902948 </td><td>0.01821173</td><td>0.03794882</td></tr>\n",
       "\t<tr><td>10        </td><td>inv       </td><td>10.0      </td><td>0.7530325 </td><td>0.4707292 </td><td>0.02456427</td><td>0.05157329</td></tr>\n",
       "</tbody>\n",
       "</table>\n"
      ],
      "text/latex": [
       "\\begin{tabular}{r|lllllll}\n",
       " kmax & kernel & distance & Accuracy & Kappa & AccuracySD & KappaSD\\\\\n",
       "\\hline\n",
       "\t 18         & inv        &  1.0       & 0.7683301  & 0.5017835  & 0.01995212 & 0.04314774\\\\\n",
       "\t 18         & inv        &  0.5       & 0.7676365  & 0.5002822  & 0.02050050 & 0.04604183\\\\\n",
       "\t 19         & inv        & 10.0       & 0.7627800  & 0.4902948  & 0.01821173 & 0.03794882\\\\\n",
       "\t 10         & inv        & 10.0       & 0.7530325  & 0.4707292  & 0.02456427 & 0.05157329\\\\\n",
       "\\end{tabular}\n"
      ],
      "text/markdown": [
       "\n",
       "kmax | kernel | distance | Accuracy | Kappa | AccuracySD | KappaSD | \n",
       "|---|---|---|---|\n",
       "| 18         | inv        |  1.0       | 0.7683301  | 0.5017835  | 0.01995212 | 0.04314774 | \n",
       "| 18         | inv        |  0.5       | 0.7676365  | 0.5002822  | 0.02050050 | 0.04604183 | \n",
       "| 19         | inv        | 10.0       | 0.7627800  | 0.4902948  | 0.01821173 | 0.03794882 | \n",
       "| 10         | inv        | 10.0       | 0.7530325  | 0.4707292  | 0.02456427 | 0.05157329 | \n",
       "\n",
       "\n"
      ],
      "text/plain": [
       "  kmax kernel distance Accuracy  Kappa     AccuracySD KappaSD   \n",
       "1 18   inv     1.0     0.7683301 0.5017835 0.01995212 0.04314774\n",
       "2 18   inv     0.5     0.7676365 0.5002822 0.02050050 0.04604183\n",
       "3 19   inv    10.0     0.7627800 0.4902948 0.01821173 0.03794882\n",
       "4 10   inv    10.0     0.7530325 0.4707292 0.02456427 0.05157329"
      ]
     },
     "metadata": {},
     "output_type": "display_data"
    }
   ],
   "source": [
    "model_random_search$results %>%\n",
    "    filter(Accuracy > 0.7505602) %>%\n",
    "    arrange(Accuracy %>% desc())"
   ]
  },
  {
   "cell_type": "markdown",
   "metadata": {},
   "source": [
    "Wow! with the same training time we found four solution better than with grid search!\n",
    "- 1.6% accuracy improvement\n",
    "- this would have taken 20 times the time, if done with random search\n",
    "- also note that these may not be the *best* values, but they do they job fairly good, don't you think?"
   ]
  },
  {
   "cell_type": "markdown",
   "metadata": {},
   "source": [
    "## Bayesian Optimization\n",
    "\n",
    "[Google says](https://cloud.google.com/blog/big-data/2017/08/hyperparameter-tuning-in-cloud-machine-learning-engine-using-bayesian-optimization) it works the best.\n",
    "\n",
    "This is a greedy approach (not a grid approach ;) ) in the sense that it is aimed at quickly maximize potentially locally optimal solution. But fast! \n",
    "> if you think about it, finding the optimal solution would certainly mean overfitting!\n",
    "\n",
    "### Gaussian Processes\n",
    "\n",
    "<img src=\"fig/escher.jpg\" width=\"400\">\n",
    "\n",
    "*Graphical representation of how to use a machine learning model to improve another machine learning model.*\n",
    "\n",
    "\n",
    "Interestingly enough, Bayesian Hypermarameter Optimization relies on another machine learning algowitm (Gaussian Process) to **infer the latent accuracy (or loss)** distibution in the hyperparameters space, thus allowinn a  more efficient search of hyperparameters which are looked after in the most **promising** regions. "
   ]
  },
  {
   "cell_type": "code",
   "execution_count": null,
   "metadata": {},
   "outputs": [],
   "source": [
    "### include example with rBayesianOptimization\n",
    "\n",
    "library(rBayesianOptimization)\n",
    "\n",
    "rBayesianOptimization::BayesianOptimization()\n",
    "\n",
    "willBeOptimized = function(KMAX, KERNEL, DIST){\n",
    "  \n",
    "  partition = train %>% nrow %>% seq_len %>% createDataPartition(p = 0.5, list= FALSE)\n",
    "  \n",
    "  train_train = train %>% slice(partition)\n",
    "  \n",
    "  val = train %>% slice(-partition)\n",
    "  \n",
    "  kernel = c('rectangular',\n",
    "             'triangular',\n",
    "             'epanechnikov',\n",
    "             'biweight',\n",
    "             'triweight',\n",
    "             'cos',\n",
    "             'inv',\n",
    "             'gaussian',\n",
    "             'rank',\n",
    "             'optimal'                                  \n",
    "  )\n",
    "  \n",
    "  kernel = kernel[KERNEL]\n",
    "  \n",
    "  model = train(x = train_train %>% select(-one_of('survived')),\n",
    "                y = train_train %>% select(one_of('survived')) %>% pull %>% factor,\n",
    "                method = 'kknn',\n",
    "                trControl = trainControl(search = 'grid', method = 'none'),\n",
    "                tuneGrid = data.frame(kmax = KMAX,\n",
    "                                      kernel = kernel,\n",
    "                                      distance = DIST)\n",
    "  )\n",
    "  \n",
    "  \n",
    "  test_response = model %>%\n",
    "    predict(newdata = val %>% select(-one_of('survived'))) %>% factor\n",
    "  \n",
    "  acc = confusionMatrix(val %>% select(one_of('survived')) %>% pull %>% factor,\n",
    "                        test_response)\n",
    "\n",
    "  test_response_probabilities = model %>%\n",
    "    predict(newdata = val %>% select(-one_of('survived')),  type = 'prob') %>% pull('1')\n",
    "  \n",
    "  roc = roc(test_response_probabilities, val$survived %>% factor) %>% auc\n",
    "  \n",
    "  return(list('Score' = roc,#acc$overall[1],\n",
    "              'Pred' = test_response))  \n",
    "}"
   ]
  },
  {
   "cell_type": "code",
   "execution_count": null,
   "metadata": {},
   "outputs": [],
   "source": [
    "xx = BayesianOptimization(willBeOptimized,\n",
    "                          bounds = list(KMAX = c(1L, 20L),\n",
    "                                        KERNEL = c(1L, 10L),\n",
    "                                        DIST = c(0.1, 10)),\n",
    "                          init_points = 20,\n",
    "                          n_iter = 40,\n",
    "                          acq = 'ei')"
   ]
  },
  {
   "cell_type": "code",
   "execution_count": null,
   "metadata": {},
   "outputs": [],
   "source": [
    "xx$History %>% as_data_frame %>% ggplot(aes(x = KMAX, y = DIST)) +\n",
    "  stat_density_2d() + geom_point(aes(size = Round, colour = -Value)) #+\n",
    "  geom_path(aes(colour = as.numeric(-Round)))\n",
    "# this plot could be made interactive by showing how the bayesian optimization explore the feature space!!!"
   ]
  },
  {
   "cell_type": "markdown",
   "metadata": {},
   "source": [
    "\n",
    "### Known issues o rBayesianOptimization\n",
    "\n",
    "While this is not a limitation of Bayesian Search in general, the R package rBayesianOptimization cannot yet handle qualitative hyperparameter (i guess so!!!)"
   ]
  },
  {
   "cell_type": "markdown",
   "metadata": {},
   "source": [
    "## Honest Toughts / Takeouts\n",
    "\n",
    "- A better understanding of the problem and of the relationship and a good definition of the model/models to start with does the best of the work\n",
    "    \n",
    "- The larger the problem, the more incentive you have in going towards \"smart\" approaches, cf. Random Search and Bayesian Optimization. It is unlikely you will ever face a problem of a truly large size.\n",
    "\n",
    "> The two above are especially true for complex problem, where the deadly combination of hyperparameter space size and training time leads to the **curse of dimensionality**\n",
    "\n",
    "\n",
    "- If the problem is simple and/or well known, you'd be better off with a quick and dirty manual search.\n",
    "\n",
    "- There is a lot of emphasis on gaining that little extra bit of performance (Kaggle competitions...), while a real-world task is pretty much aimed at finding a non useless solution. Basis-point improvement of AR are effectively worth nuts. "
   ]
  }
 ],
 "metadata": {
  "kernelspec": {
   "display_name": "R",
   "language": "R",
   "name": "ir"
  },
  "language_info": {
   "codemirror_mode": "r",
   "file_extension": ".r",
   "mimetype": "text/x-r-source",
   "name": "R",
   "pygments_lexer": "r",
   "version": "3.4.4"
  }
 },
 "nbformat": 4,
 "nbformat_minor": 2
}
