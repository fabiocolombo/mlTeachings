{
 "cells": [
  {
   "cell_type": "markdown",
   "metadata": {},
   "source": [
    "# Hyperparameter Optimization"
   ]
  },
  {
   "cell_type": "markdown",
   "metadata": {},
   "source": [
    "i.e. how to improve our model through **changing how our model is built**.\n",
    "\n",
    "<img src=\"fig/frankestein.jpg\" width=\"150\"> <img src=\"fig/terminator.jpg\" width=\"150\"> <img src=\"fig/wolverine.png\" width=\"150\">\n",
    "\n",
    " **Hello There!**         "
   ]
  },
  {
   "cell_type": "markdown",
   "metadata": {},
   "source": [
    "There are four fairly common strategies to optimize one model's hyperparameters.\n",
    "\n",
    "<img src=\"fig/hyperparameter_meme_2.jpg\" width=\"400\">\n",
    "\n",
    "*List in descending order of coolness*"
   ]
  },
  {
   "cell_type": "markdown",
   "metadata": {},
   "source": [
    "Let's try applying some of these techniques to our titanic dataset"
   ]
  },
  {
   "cell_type": "code",
   "execution_count": 1,
   "metadata": {},
   "outputs": [],
   "source": [
    "source('src/lib.R')"
   ]
  },
  {
   "cell_type": "code",
   "execution_count": 2,
   "metadata": {},
   "outputs": [],
   "source": [
    "# import training and testing dataset\n",
    "\n",
    "train = read_csv('data/titanic_train.csv', col_types = cols())\n",
    "test = read_csv('data/titanic_test.csv', col_types = cols())"
   ]
  },
  {
   "cell_type": "markdown",
   "metadata": {},
   "source": [
    "## Grid Search\n",
    "\n",
    "This is the stupidest plossibly conveivable method.\n",
    "1. Try lots of combinations\n",
    "2. Select the best one\n",
    "\n",
    "It is also the simplest to implement and it is not a coincidence that it is natively built in *Caret*. \n",
    "\n",
    "The only thing you should do is to declare the parameter $\\texttt{tuneGrid}$ when invoking *Caret*'s $\\texttt{train}$ function.\n",
    "\n",
    "Note that:\n",
    "- $\\texttt{tuneGrid}$ is initialized as NULL\n",
    "- $\\texttt{tuneGrid}$ must be passed a named $\\texttt{data.frame}$ (plz read: \"a table with column names :)\")\n",
    "\n",
    "Finding which hyperparameters can be passed to our train function is farily easy:"
   ]
  },
  {
   "cell_type": "code",
   "execution_count": 3,
   "metadata": {},
   "outputs": [
    {
     "data": {
      "text/html": [
       "<table>\n",
       "<thead><tr><th scope=col>parameter</th><th scope=col>class</th><th scope=col>label</th></tr></thead>\n",
       "<tbody>\n",
       "\t<tr><td>kmax           </td><td>numeric        </td><td>Max. #Neighbors</td></tr>\n",
       "\t<tr><td>distance       </td><td>numeric        </td><td>Distance       </td></tr>\n",
       "\t<tr><td>kernel         </td><td>character      </td><td>Kernel         </td></tr>\n",
       "</tbody>\n",
       "</table>\n"
      ],
      "text/latex": [
       "\\begin{tabular}{r|lll}\n",
       " parameter & class & label\\\\\n",
       "\\hline\n",
       "\t kmax              & numeric           & Max. \\#Neighbors\\\\\n",
       "\t distance        & numeric         & Distance       \\\\\n",
       "\t kernel          & character       & Kernel         \\\\\n",
       "\\end{tabular}\n"
      ],
      "text/markdown": [
       "\n",
       "parameter | class | label | \n",
       "|---|---|---|\n",
       "| kmax            | numeric         | Max. #Neighbors | \n",
       "| distance        | numeric         | Distance        | \n",
       "| kernel          | character       | Kernel          | \n",
       "\n",
       "\n"
      ],
      "text/plain": [
       "  parameter class     label          \n",
       "1 kmax      numeric   Max. #Neighbors\n",
       "2 distance  numeric   Distance       \n",
       "3 kernel    character Kernel         "
      ]
     },
     "metadata": {},
     "output_type": "display_data"
    }
   ],
   "source": [
    "info = getModelInfo()\n",
    "info$kknn$parameters"
   ]
  },
  {
   "cell_type": "markdown",
   "metadata": {},
   "source": [
    "As you see, *kknn* can be passed three parameters, two of which are of *numeric* type while the latter should be a *string*\n",
    "\n",
    "> if you decide to pass a tuning grid, you **must** declare a data.frame which would include **all** the parameters available. In our case, a data.frame with three columns (and, ofc, at least one row)\n",
    "\n",
    "While the concept of *kmax* argument may be of easy understanding, the same cannot be said of *distance* and *kernel*. As we saw in a previous lesson, to know more model-specific hyperparameters, you can refer to the reference manual of the given package, from which the model you are about to train is taken. "
   ]
  },
  {
   "cell_type": "code",
   "execution_count": 4,
   "metadata": {},
   "outputs": [
    {
     "data": {
      "text/html": [
       "'kknn'"
      ],
      "text/latex": [
       "'kknn'"
      ],
      "text/markdown": [
       "'kknn'"
      ],
      "text/plain": [
       "[1] \"kknn\""
      ]
     },
     "metadata": {},
     "output_type": "display_data"
    }
   ],
   "source": [
    "info$kknn$library ## as easy as that"
   ]
  },
  {
   "cell_type": "markdown",
   "metadata": {},
   "source": [
    "And [here](https://cran.r-project.org/web/packages/kknn/kknn.pdf) you have it. It turns out that\n",
    "- $\\texttt{kmax}$ best number of k neighbours less or equal to k.\n",
    "- $\\texttt{distance}$ is the parameter of the [Minkowski distance](https://en.wikipedia.org/wiki/Minkowski_distance) which, as **everybody** knows, takes value in $(0;+\\infty)$\n",
    "- $\\texttt{kernel}$ is Kernel function to use. Possible choices are \"rectangular\" (which is standard unweighted knn), \"triangular\", \"epanechnikov\" (or beta(2,2)), \"biweight\" (or beta(3,3)), \"triweight\"\n",
    "(or beta(4,4)), \"cos\", \"inv\", \"gaussian\", \"rank\" and \"optimal\"."
   ]
  },
  {
   "cell_type": "code",
   "execution_count": 19,
   "metadata": {},
   "outputs": [
    {
     "data": {
      "text/html": [
       "<table>\n",
       "<thead><tr><th scope=col>kmax</th><th scope=col>kernel</th><th scope=col>distance</th></tr></thead>\n",
       "<tbody>\n",
       "\t<tr><td>5           </td><td>rectangular </td><td> 0.1        </td></tr>\n",
       "\t<tr><td>5           </td><td>epanechnikov</td><td> 0.1        </td></tr>\n",
       "\t<tr><td>5           </td><td>gaussian    </td><td> 0.1        </td></tr>\n",
       "\t<tr><td>5           </td><td>rectangular </td><td> 1.0        </td></tr>\n",
       "\t<tr><td>5           </td><td>epanechnikov</td><td> 1.0        </td></tr>\n",
       "\t<tr><td>5           </td><td>gaussian    </td><td> 1.0        </td></tr>\n",
       "\t<tr><td>5           </td><td>rectangular </td><td> 2.0        </td></tr>\n",
       "\t<tr><td>5           </td><td>epanechnikov</td><td> 2.0        </td></tr>\n",
       "\t<tr><td>5           </td><td>gaussian    </td><td> 2.0        </td></tr>\n",
       "\t<tr><td>5           </td><td>rectangular </td><td>10.0        </td></tr>\n",
       "\t<tr><td>5           </td><td>epanechnikov</td><td>10.0        </td></tr>\n",
       "\t<tr><td>5           </td><td>gaussian    </td><td>10.0        </td></tr>\n",
       "</tbody>\n",
       "</table>\n"
      ],
      "text/latex": [
       "\\begin{tabular}{r|lll}\n",
       " kmax & kernel & distance\\\\\n",
       "\\hline\n",
       "\t 5            & rectangular  &  0.1        \\\\\n",
       "\t 5            & epanechnikov &  0.1        \\\\\n",
       "\t 5            & gaussian     &  0.1        \\\\\n",
       "\t 5            & rectangular  &  1.0        \\\\\n",
       "\t 5            & epanechnikov &  1.0        \\\\\n",
       "\t 5            & gaussian     &  1.0        \\\\\n",
       "\t 5            & rectangular  &  2.0        \\\\\n",
       "\t 5            & epanechnikov &  2.0        \\\\\n",
       "\t 5            & gaussian     &  2.0        \\\\\n",
       "\t 5            & rectangular  & 10.0        \\\\\n",
       "\t 5            & epanechnikov & 10.0        \\\\\n",
       "\t 5            & gaussian     & 10.0        \\\\\n",
       "\\end{tabular}\n"
      ],
      "text/markdown": [
       "\n",
       "kmax | kernel | distance | \n",
       "|---|---|---|---|---|---|---|---|---|---|---|---|\n",
       "| 5            | rectangular  |  0.1         | \n",
       "| 5            | epanechnikov |  0.1         | \n",
       "| 5            | gaussian     |  0.1         | \n",
       "| 5            | rectangular  |  1.0         | \n",
       "| 5            | epanechnikov |  1.0         | \n",
       "| 5            | gaussian     |  1.0         | \n",
       "| 5            | rectangular  |  2.0         | \n",
       "| 5            | epanechnikov |  2.0         | \n",
       "| 5            | gaussian     |  2.0         | \n",
       "| 5            | rectangular  | 10.0         | \n",
       "| 5            | epanechnikov | 10.0         | \n",
       "| 5            | gaussian     | 10.0         | \n",
       "\n",
       "\n"
      ],
      "text/plain": [
       "   kmax kernel       distance\n",
       "1  5    rectangular   0.1    \n",
       "2  5    epanechnikov  0.1    \n",
       "3  5    gaussian      0.1    \n",
       "4  5    rectangular   1.0    \n",
       "5  5    epanechnikov  1.0    \n",
       "6  5    gaussian      1.0    \n",
       "7  5    rectangular   2.0    \n",
       "8  5    epanechnikov  2.0    \n",
       "9  5    gaussian      2.0    \n",
       "10 5    rectangular  10.0    \n",
       "11 5    epanechnikov 10.0    \n",
       "12 5    gaussian     10.0    "
      ]
     },
     "metadata": {},
     "output_type": "display_data"
    }
   ],
   "source": [
    "## istantiate the tuning grid\n",
    "\n",
    "(tune_grid = expand.grid(kmax = 5, \n",
    "                        kernel = c('rectangular',\n",
    "                                   'epanechnikov',\n",
    "                                   'gaussian'),\n",
    "                        distance = c(0.1, 1, 2, 10)\n",
    "                        )\n",
    ")"
   ]
  },
  {
   "cell_type": "code",
   "execution_count": 31,
   "metadata": {},
   "outputs": [
    {
     "data": {
      "text/plain": [
       "k-Nearest Neighbors \n",
       "\n",
       "918 samples\n",
       "  8 predictor\n",
       "  2 classes: '0', '1' \n",
       "\n",
       "No pre-processing\n",
       "Resampling: Cross-Validated (10 fold) \n",
       "Summary of sample sizes: 826, 826, 827, 826, 826, 826, ... \n",
       "Resampling results across tuning parameters:\n",
       "\n",
       "  kernel        distance  Accuracy   Kappa    \n",
       "  rectangular    0.1      0.7647277  0.5050678\n",
       "  rectangular    1.0      0.7756808  0.5276294\n",
       "  rectangular    2.0      0.7822384  0.5409750\n",
       "  rectangular   10.0      0.7669255  0.5090487\n",
       "  epanechnikov   0.1      0.7690874  0.5151978\n",
       "  epanechnikov   1.0      0.7746058  0.5270524\n",
       "  epanechnikov   2.0      0.7593526  0.4937877\n",
       "  epanechnikov  10.0      0.7516842  0.4792981\n",
       "  gaussian       0.1      0.7658027  0.5063947\n",
       "  gaussian       1.0      0.7690874  0.5122864\n",
       "  gaussian       2.0      0.7854873  0.5493309\n",
       "  gaussian      10.0      0.7724319  0.5197580\n",
       "\n",
       "Tuning parameter 'kmax' was held constant at a value of 5\n",
       "Accuracy was used to select the optimal model using the largest value.\n",
       "The final values used for the model were kmax = 5, distance = 2 and kernel\n",
       " = gaussian."
      ]
     },
     "metadata": {},
     "output_type": "display_data"
    }
   ],
   "source": [
    "## train the model (you really don't want to run this)\n",
    "\n",
    "set.seed(123) # to allow reproducibility of cross validation split\n",
    "\n",
    "model_grid_search = train(x = train %>% select(-one_of('survived')),\n",
    "                          y = train %>% select(one_of('survived')) %>% pull %>% factor,\n",
    "                          method = 'kknn',\n",
    "                          tuneGrid = tune_grid,\n",
    "                          trControl = trainControl(search = \"grid\",\n",
    "                                                   method = 'cv',\n",
    "                                                   p = 0.9,\n",
    "                                                   number = 10)\n",
    "                    )\n",
    "\n",
    "saveRDS(model_grid_search, 'data/model_grid_search.R')\n",
    "\n",
    "\n",
    "# rather, we trained the model for you, how nice are we?!?\n",
    "\n",
    "(model_grid_search = readRDS('data/model_grid_search.R'))"
   ]
  },
  {
   "cell_type": "code",
   "execution_count": 33,
   "metadata": {},
   "outputs": [
    {
     "data": {},
     "metadata": {},
     "output_type": "display_data"
    },
    {
     "data": {},
     "metadata": {},
     "output_type": "display_data"
    },
    {
     "data": {
      "image/png": "[encoded data removed]",
      "text/plain": [
       "plot without title"
      ]
     },
     "metadata": {},
     "output_type": "display_data"
    },
    {
     "data": {
      "image/png": "[encoded data removed]",
      "text/plain": [
       "plot without title"
      ]
     },
     "metadata": {},
     "output_type": "display_data"
    }
   ],
   "source": [
    "options(repr.plot.width=3, repr.plot.height=3)\n",
    "\n",
    "model_grid_search$results %>%\n",
    "  as_data_frame %>%\n",
    "  rownames_to_column(var = 'id') %>% mutate(id = as.numeric(id)) %>% \n",
    "  ggplot() + geom_line(aes(x = id, y = Accuracy)) + ggtitle('Training Accuracy')\n",
    "\n",
    "model_grid_search$results %>%\n",
    "  as_data_frame %>%\n",
    "  rownames_to_column(var = 'id') %>% mutate(id = as.numeric(id)) %>% \n",
    "  ggplot() + geom_line(aes(x = id, y = Kappa)) + ggtitle('Training Kohen\\'s K')"
   ]
  },
  {
   "cell_type": "markdown",
   "metadata": {},
   "source": [
    "Looks like there is a clear winner here!"
   ]
  },
  {
   "cell_type": "code",
   "execution_count": 14,
   "metadata": {},
   "outputs": [
    {
     "data": {
      "text/html": [
       "<table>\n",
       "<thead><tr><th scope=col>kmax</th><th scope=col>kernel</th><th scope=col>distance</th><th scope=col>Accuracy</th><th scope=col>Kappa</th><th scope=col>AccuracySD</th><th scope=col>KappaSD</th></tr></thead>\n",
       "<tbody>\n",
       "\t<tr><td>5         </td><td>gaussian  </td><td>2         </td><td>0.7854873 </td><td>0.5493309 </td><td>0.04690475</td><td>0.09699774</td></tr>\n",
       "</tbody>\n",
       "</table>\n"
      ],
      "text/latex": [
       "\\begin{tabular}{r|lllllll}\n",
       " kmax & kernel & distance & Accuracy & Kappa & AccuracySD & KappaSD\\\\\n",
       "\\hline\n",
       "\t 5          & gaussian   & 2          & 0.7854873  & 0.5493309  & 0.04690475 & 0.09699774\\\\\n",
       "\\end{tabular}\n"
      ],
      "text/markdown": [
       "\n",
       "kmax | kernel | distance | Accuracy | Kappa | AccuracySD | KappaSD | \n",
       "|---|\n",
       "| 5          | gaussian   | 2          | 0.7854873  | 0.5493309  | 0.04690475 | 0.09699774 | \n",
       "\n",
       "\n"
      ],
      "text/plain": [
       "  kmax kernel   distance Accuracy  Kappa     AccuracySD KappaSD   \n",
       "1 5    gaussian 2        0.7854873 0.5493309 0.04690475 0.09699774"
      ]
     },
     "metadata": {},
     "output_type": "display_data"
    },
    {
     "data": {
      "text/html": [
       "<table>\n",
       "<thead><tr><th scope=col>kmax</th><th scope=col>kernel</th><th scope=col>distance</th><th scope=col>Accuracy</th><th scope=col>Kappa</th><th scope=col>AccuracySD</th><th scope=col>KappaSD</th></tr></thead>\n",
       "<tbody>\n",
       "\t<tr><td>5         </td><td>gaussian  </td><td>2         </td><td>0.7854873 </td><td>0.5493309 </td><td>0.04690475</td><td>0.09699774</td></tr>\n",
       "</tbody>\n",
       "</table>\n"
      ],
      "text/latex": [
       "\\begin{tabular}{r|lllllll}\n",
       " kmax & kernel & distance & Accuracy & Kappa & AccuracySD & KappaSD\\\\\n",
       "\\hline\n",
       "\t 5          & gaussian   & 2          & 0.7854873  & 0.5493309  & 0.04690475 & 0.09699774\\\\\n",
       "\\end{tabular}\n"
      ],
      "text/markdown": [
       "\n",
       "kmax | kernel | distance | Accuracy | Kappa | AccuracySD | KappaSD | \n",
       "|---|\n",
       "| 5          | gaussian   | 2          | 0.7854873  | 0.5493309  | 0.04690475 | 0.09699774 | \n",
       "\n",
       "\n"
      ],
      "text/plain": [
       "  kmax kernel   distance Accuracy  Kappa     AccuracySD KappaSD   \n",
       "1 5    gaussian 2        0.7854873 0.5493309 0.04690475 0.09699774"
      ]
     },
     "metadata": {},
     "output_type": "display_data"
    }
   ],
   "source": [
    "model_grid_search$results %>% as_data_frame %>% top_n(1, Accuracy)\n",
    "model_grid_search$results %>% as_data_frame %>% top_n(1, Kappa)"
   ]
  },
  {
   "cell_type": "code",
   "execution_count": 15,
   "metadata": {},
   "outputs": [
    {
     "data": {
      "text/html": [
       "<table>\n",
       "<thead><tr><th></th><th scope=col>kmax</th><th scope=col>distance</th><th scope=col>kernel</th></tr></thead>\n",
       "<tbody>\n",
       "\t<tr><th scope=row>9</th><td>5       </td><td>2       </td><td>gaussian</td></tr>\n",
       "</tbody>\n",
       "</table>\n"
      ],
      "text/latex": [
       "\\begin{tabular}{r|lll}\n",
       "  & kmax & distance & kernel\\\\\n",
       "\\hline\n",
       "\t9 & 5        & 2        & gaussian\\\\\n",
       "\\end{tabular}\n"
      ],
      "text/markdown": [
       "\n",
       "| <!--/--> | kmax | distance | kernel | \n",
       "|---|\n",
       "| 9 | 5        | 2        | gaussian | \n",
       "\n",
       "\n"
      ],
      "text/plain": [
       "  kmax distance kernel  \n",
       "9 5    2        gaussian"
      ]
     },
     "metadata": {},
     "output_type": "display_data"
    }
   ],
   "source": [
    "model_grid_search$bestTune # indeed"
   ]
  },
  {
   "cell_type": "markdown",
   "metadata": {},
   "source": [
    "### Computational Issues\n",
    "\n",
    "As you see, (if you tried training the model yourself) the model takes a **looong** time to train\n",
    "\n",
    "Indeed, grid search is often not viable when the hyperparameter space gets lerger, indeed, it gets exponentially complex."
   ]
  },
  {
   "cell_type": "markdown",
   "metadata": {},
   "source": [
    "## Manual Search\n",
    "\n",
    "This may seem trivial, but it actually requires a good undertstanding of the underlying problem + it can help in reducing the space of grid search."
   ]
  },
  {
   "cell_type": "markdown",
   "metadata": {},
   "source": [
    "## Random Search\n",
    "\n",
    "grid search looked promising but is there a better way to do it?\n",
    "\n",
    "Randomly sampling in the hyperparameter space may yield good results with less computing time. Also, it allows us to explore even larger hyperparameter space!"
   ]
  },
  {
   "cell_type": "code",
   "execution_count": 30,
   "metadata": {},
   "outputs": [
    {
     "data": {
      "text/html": [
       "<span style=white-space:pre-wrap>'This tune grid has  50  rows!'</span>"
      ],
      "text/latex": [
       "'This tune grid has  50  rows!'"
      ],
      "text/markdown": [
       "<span style=white-space:pre-wrap>'This tune grid has  50  rows!'</span>"
      ],
      "text/plain": [
       "[1] \"This tune grid has  50  rows!\""
      ]
     },
     "metadata": {},
     "output_type": "display_data"
    },
    {
     "data": {
      "text/html": [
       "<table>\n",
       "<thead><tr><th scope=col>kmax</th><th scope=col>kernel</th><th scope=col>distance</th></tr></thead>\n",
       "<tbody>\n",
       "\t<tr><td>5           </td><td>rectangular </td><td> 0.1        </td></tr>\n",
       "\t<tr><td>5           </td><td>triangular  </td><td> 0.1        </td></tr>\n",
       "\t<tr><td>5           </td><td>epanechnikov</td><td> 0.1        </td></tr>\n",
       "\t<tr><td>5           </td><td>biweight    </td><td> 0.1        </td></tr>\n",
       "\t<tr><td>5           </td><td>triweight   </td><td> 0.1        </td></tr>\n",
       "\t<tr><td>5           </td><td>cos         </td><td> 0.1        </td></tr>\n",
       "\t<tr><td>5           </td><td>inv         </td><td> 0.1        </td></tr>\n",
       "\t<tr><td>5           </td><td>gaussian    </td><td> 0.1        </td></tr>\n",
       "\t<tr><td>5           </td><td>rank        </td><td> 0.1        </td></tr>\n",
       "\t<tr><td>5           </td><td>optimal     </td><td> 0.1        </td></tr>\n",
       "\t<tr><td>5           </td><td>rectangular </td><td> 0.5        </td></tr>\n",
       "\t<tr><td>5           </td><td>triangular  </td><td> 0.5        </td></tr>\n",
       "\t<tr><td>5           </td><td>epanechnikov</td><td> 0.5        </td></tr>\n",
       "\t<tr><td>5           </td><td>biweight    </td><td> 0.5        </td></tr>\n",
       "\t<tr><td>5           </td><td>triweight   </td><td> 0.5        </td></tr>\n",
       "\t<tr><td>5           </td><td>cos         </td><td> 0.5        </td></tr>\n",
       "\t<tr><td>5           </td><td>inv         </td><td> 0.5        </td></tr>\n",
       "\t<tr><td>5           </td><td>gaussian    </td><td> 0.5        </td></tr>\n",
       "\t<tr><td>5           </td><td>rank        </td><td> 0.5        </td></tr>\n",
       "\t<tr><td>5           </td><td>optimal     </td><td> 0.5        </td></tr>\n",
       "\t<tr><td>5           </td><td>rectangular </td><td> 1.0        </td></tr>\n",
       "\t<tr><td>5           </td><td>triangular  </td><td> 1.0        </td></tr>\n",
       "\t<tr><td>5           </td><td>epanechnikov</td><td> 1.0        </td></tr>\n",
       "\t<tr><td>5           </td><td>biweight    </td><td> 1.0        </td></tr>\n",
       "\t<tr><td>5           </td><td>triweight   </td><td> 1.0        </td></tr>\n",
       "\t<tr><td>5           </td><td>cos         </td><td> 1.0        </td></tr>\n",
       "\t<tr><td>5           </td><td>inv         </td><td> 1.0        </td></tr>\n",
       "\t<tr><td>5           </td><td>gaussian    </td><td> 1.0        </td></tr>\n",
       "\t<tr><td>5           </td><td>rank        </td><td> 1.0        </td></tr>\n",
       "\t<tr><td>5           </td><td>optimal     </td><td> 1.0        </td></tr>\n",
       "\t<tr><td>5           </td><td>rectangular </td><td> 2.0        </td></tr>\n",
       "\t<tr><td>5           </td><td>triangular  </td><td> 2.0        </td></tr>\n",
       "\t<tr><td>5           </td><td>epanechnikov</td><td> 2.0        </td></tr>\n",
       "\t<tr><td>5           </td><td>biweight    </td><td> 2.0        </td></tr>\n",
       "\t<tr><td>5           </td><td>triweight   </td><td> 2.0        </td></tr>\n",
       "\t<tr><td>5           </td><td>cos         </td><td> 2.0        </td></tr>\n",
       "\t<tr><td>5           </td><td>inv         </td><td> 2.0        </td></tr>\n",
       "\t<tr><td>5           </td><td>gaussian    </td><td> 2.0        </td></tr>\n",
       "\t<tr><td>5           </td><td>rank        </td><td> 2.0        </td></tr>\n",
       "\t<tr><td>5           </td><td>optimal     </td><td> 2.0        </td></tr>\n",
       "\t<tr><td>5           </td><td>rectangular </td><td>10.0        </td></tr>\n",
       "\t<tr><td>5           </td><td>triangular  </td><td>10.0        </td></tr>\n",
       "\t<tr><td>5           </td><td>epanechnikov</td><td>10.0        </td></tr>\n",
       "\t<tr><td>5           </td><td>biweight    </td><td>10.0        </td></tr>\n",
       "\t<tr><td>5           </td><td>triweight   </td><td>10.0        </td></tr>\n",
       "\t<tr><td>5           </td><td>cos         </td><td>10.0        </td></tr>\n",
       "\t<tr><td>5           </td><td>inv         </td><td>10.0        </td></tr>\n",
       "\t<tr><td>5           </td><td>gaussian    </td><td>10.0        </td></tr>\n",
       "\t<tr><td>5           </td><td>rank        </td><td>10.0        </td></tr>\n",
       "\t<tr><td>5           </td><td>optimal     </td><td>10.0        </td></tr>\n",
       "</tbody>\n",
       "</table>\n"
      ],
      "text/latex": [
       "\\begin{tabular}{r|lll}\n",
       " kmax & kernel & distance\\\\\n",
       "\\hline\n",
       "\t 5            & rectangular  &  0.1        \\\\\n",
       "\t 5            & triangular   &  0.1        \\\\\n",
       "\t 5            & epanechnikov &  0.1        \\\\\n",
       "\t 5            & biweight     &  0.1        \\\\\n",
       "\t 5            & triweight    &  0.1        \\\\\n",
       "\t 5            & cos          &  0.1        \\\\\n",
       "\t 5            & inv          &  0.1        \\\\\n",
       "\t 5            & gaussian     &  0.1        \\\\\n",
       "\t 5            & rank         &  0.1        \\\\\n",
       "\t 5            & optimal      &  0.1        \\\\\n",
       "\t 5            & rectangular  &  0.5        \\\\\n",
       "\t 5            & triangular   &  0.5        \\\\\n",
       "\t 5            & epanechnikov &  0.5        \\\\\n",
       "\t 5            & biweight     &  0.5        \\\\\n",
       "\t 5            & triweight    &  0.5        \\\\\n",
       "\t 5            & cos          &  0.5        \\\\\n",
       "\t 5            & inv          &  0.5        \\\\\n",
       "\t 5            & gaussian     &  0.5        \\\\\n",
       "\t 5            & rank         &  0.5        \\\\\n",
       "\t 5            & optimal      &  0.5        \\\\\n",
       "\t 5            & rectangular  &  1.0        \\\\\n",
       "\t 5            & triangular   &  1.0        \\\\\n",
       "\t 5            & epanechnikov &  1.0        \\\\\n",
       "\t 5            & biweight     &  1.0        \\\\\n",
       "\t 5            & triweight    &  1.0        \\\\\n",
       "\t 5            & cos          &  1.0        \\\\\n",
       "\t 5            & inv          &  1.0        \\\\\n",
       "\t 5            & gaussian     &  1.0        \\\\\n",
       "\t 5            & rank         &  1.0        \\\\\n",
       "\t 5            & optimal      &  1.0        \\\\\n",
       "\t 5            & rectangular  &  2.0        \\\\\n",
       "\t 5            & triangular   &  2.0        \\\\\n",
       "\t 5            & epanechnikov &  2.0        \\\\\n",
       "\t 5            & biweight     &  2.0        \\\\\n",
       "\t 5            & triweight    &  2.0        \\\\\n",
       "\t 5            & cos          &  2.0        \\\\\n",
       "\t 5            & inv          &  2.0        \\\\\n",
       "\t 5            & gaussian     &  2.0        \\\\\n",
       "\t 5            & rank         &  2.0        \\\\\n",
       "\t 5            & optimal      &  2.0        \\\\\n",
       "\t 5            & rectangular  & 10.0        \\\\\n",
       "\t 5            & triangular   & 10.0        \\\\\n",
       "\t 5            & epanechnikov & 10.0        \\\\\n",
       "\t 5            & biweight     & 10.0        \\\\\n",
       "\t 5            & triweight    & 10.0        \\\\\n",
       "\t 5            & cos          & 10.0        \\\\\n",
       "\t 5            & inv          & 10.0        \\\\\n",
       "\t 5            & gaussian     & 10.0        \\\\\n",
       "\t 5            & rank         & 10.0        \\\\\n",
       "\t 5            & optimal      & 10.0        \\\\\n",
       "\\end{tabular}\n"
      ],
      "text/markdown": [
       "\n",
       "kmax | kernel | distance | \n",
       "|---|---|---|---|---|---|---|---|---|---|---|---|---|---|---|---|---|---|---|---|---|---|---|---|---|---|---|---|---|---|---|---|---|---|---|---|---|---|---|---|---|---|---|---|---|---|---|---|---|---|\n",
       "| 5            | rectangular  |  0.1         | \n",
       "| 5            | triangular   |  0.1         | \n",
       "| 5            | epanechnikov |  0.1         | \n",
       "| 5            | biweight     |  0.1         | \n",
       "| 5            | triweight    |  0.1         | \n",
       "| 5            | cos          |  0.1         | \n",
       "| 5            | inv          |  0.1         | \n",
       "| 5            | gaussian     |  0.1         | \n",
       "| 5            | rank         |  0.1         | \n",
       "| 5            | optimal      |  0.1         | \n",
       "| 5            | rectangular  |  0.5         | \n",
       "| 5            | triangular   |  0.5         | \n",
       "| 5            | epanechnikov |  0.5         | \n",
       "| 5            | biweight     |  0.5         | \n",
       "| 5            | triweight    |  0.5         | \n",
       "| 5            | cos          |  0.5         | \n",
       "| 5            | inv          |  0.5         | \n",
       "| 5            | gaussian     |  0.5         | \n",
       "| 5            | rank         |  0.5         | \n",
       "| 5            | optimal      |  0.5         | \n",
       "| 5            | rectangular  |  1.0         | \n",
       "| 5            | triangular   |  1.0         | \n",
       "| 5            | epanechnikov |  1.0         | \n",
       "| 5            | biweight     |  1.0         | \n",
       "| 5            | triweight    |  1.0         | \n",
       "| 5            | cos          |  1.0         | \n",
       "| 5            | inv          |  1.0         | \n",
       "| 5            | gaussian     |  1.0         | \n",
       "| 5            | rank         |  1.0         | \n",
       "| 5            | optimal      |  1.0         | \n",
       "| 5            | rectangular  |  2.0         | \n",
       "| 5            | triangular   |  2.0         | \n",
       "| 5            | epanechnikov |  2.0         | \n",
       "| 5            | biweight     |  2.0         | \n",
       "| 5            | triweight    |  2.0         | \n",
       "| 5            | cos          |  2.0         | \n",
       "| 5            | inv          |  2.0         | \n",
       "| 5            | gaussian     |  2.0         | \n",
       "| 5            | rank         |  2.0         | \n",
       "| 5            | optimal      |  2.0         | \n",
       "| 5            | rectangular  | 10.0         | \n",
       "| 5            | triangular   | 10.0         | \n",
       "| 5            | epanechnikov | 10.0         | \n",
       "| 5            | biweight     | 10.0         | \n",
       "| 5            | triweight    | 10.0         | \n",
       "| 5            | cos          | 10.0         | \n",
       "| 5            | inv          | 10.0         | \n",
       "| 5            | gaussian     | 10.0         | \n",
       "| 5            | rank         | 10.0         | \n",
       "| 5            | optimal      | 10.0         | \n",
       "\n",
       "\n"
      ],
      "text/plain": [
       "   kmax kernel       distance\n",
       "1  5    rectangular   0.1    \n",
       "2  5    triangular    0.1    \n",
       "3  5    epanechnikov  0.1    \n",
       "4  5    biweight      0.1    \n",
       "5  5    triweight     0.1    \n",
       "6  5    cos           0.1    \n",
       "7  5    inv           0.1    \n",
       "8  5    gaussian      0.1    \n",
       "9  5    rank          0.1    \n",
       "10 5    optimal       0.1    \n",
       "11 5    rectangular   0.5    \n",
       "12 5    triangular    0.5    \n",
       "13 5    epanechnikov  0.5    \n",
       "14 5    biweight      0.5    \n",
       "15 5    triweight     0.5    \n",
       "16 5    cos           0.5    \n",
       "17 5    inv           0.5    \n",
       "18 5    gaussian      0.5    \n",
       "19 5    rank          0.5    \n",
       "20 5    optimal       0.5    \n",
       "21 5    rectangular   1.0    \n",
       "22 5    triangular    1.0    \n",
       "23 5    epanechnikov  1.0    \n",
       "24 5    biweight      1.0    \n",
       "25 5    triweight     1.0    \n",
       "26 5    cos           1.0    \n",
       "27 5    inv           1.0    \n",
       "28 5    gaussian      1.0    \n",
       "29 5    rank          1.0    \n",
       "30 5    optimal       1.0    \n",
       "31 5    rectangular   2.0    \n",
       "32 5    triangular    2.0    \n",
       "33 5    epanechnikov  2.0    \n",
       "34 5    biweight      2.0    \n",
       "35 5    triweight     2.0    \n",
       "36 5    cos           2.0    \n",
       "37 5    inv           2.0    \n",
       "38 5    gaussian      2.0    \n",
       "39 5    rank          2.0    \n",
       "40 5    optimal       2.0    \n",
       "41 5    rectangular  10.0    \n",
       "42 5    triangular   10.0    \n",
       "43 5    epanechnikov 10.0    \n",
       "44 5    biweight     10.0    \n",
       "45 5    triweight    10.0    \n",
       "46 5    cos          10.0    \n",
       "47 5    inv          10.0    \n",
       "48 5    gaussian     10.0    \n",
       "49 5    rank         10.0    \n",
       "50 5    optimal      10.0    "
      ]
     },
     "metadata": {},
     "output_type": "display_data"
    }
   ],
   "source": [
    "## this is a very large tune grid. The previous had 50 rows, this one has 1000!\n",
    "\n",
    "\n",
    "((tune_grid_large = expand.grid(kmax = 5, \n",
    "                        kernel = c('rectangular',\n",
    "                                   'triangular',\n",
    "                                   'epanechnikov',\n",
    "                                   'biweight',\n",
    "                                   'triweight',\n",
    "                                   'cos',\n",
    "                                   'inv',\n",
    "                                   'gaussian',\n",
    "                                   'rank',\n",
    "                                   'optimal'),\n",
    "                        distance = c(0.1, 0.5, 1, 2, 10)\n",
    "                        )\n",
    ")\n",
    ") %>% nrow %>% paste('This tune grid has ', ., ' rows!')"
   ]
  },
  {
   "cell_type": "markdown",
   "metadata": {},
   "source": [
    "Let's tune!"
   ]
  },
  {
   "cell_type": "code",
   "execution_count": 35,
   "metadata": {},
   "outputs": [
    {
     "data": {
      "text/plain": [
       "k-Nearest Neighbors \n",
       "\n",
       "918 samples\n",
       "  8 predictor\n",
       "  2 classes: '0', '1' \n",
       "\n",
       "No pre-processing\n",
       "Resampling: Cross-Validated (10 fold) \n",
       "Summary of sample sizes: 826, 826, 827, 826, 826, 826, ... \n",
       "Resampling results across tuning parameters:\n",
       "\n",
       "  kernel        distance  Accuracy   Kappa    \n",
       "  rectangular    0.1      0.7647277  0.5050678\n",
       "  rectangular    0.5      0.7582656  0.4940242\n",
       "  rectangular    1.0      0.7756808  0.5276294\n",
       "  rectangular    2.0      0.7822384  0.5409750\n",
       "  rectangular   10.0      0.7669255  0.5090487\n",
       "  triangular     0.1      0.7549092  0.4866654\n",
       "  triangular     0.5      0.7669613  0.5118017\n",
       "  triangular     1.0      0.7702341  0.5179775\n",
       "  triangular     2.0      0.7626254  0.5028035\n",
       "  triangular    10.0      0.7473364  0.4721920\n",
       "  epanechnikov   0.1      0.7690874  0.5151978\n",
       "  epanechnikov   0.5      0.7734950  0.5253527\n",
       "  epanechnikov   1.0      0.7746058  0.5270524\n",
       "  epanechnikov   2.0      0.7593526  0.4937877\n",
       "  epanechnikov  10.0      0.7516842  0.4792981\n",
       "  biweight       0.1      0.7505495  0.4789147\n",
       "  biweight       0.5      0.7560559  0.4894561\n",
       "  biweight       1.0      0.7561276  0.4913415\n",
       "  biweight       2.0      0.7604634  0.4988017\n",
       "  biweight      10.0      0.7451624  0.4668626\n",
       "  triweight      0.1      0.7527353  0.4824569\n",
       "  triweight      0.5      0.7484353  0.4733731\n",
       "  triweight      1.0      0.7550167  0.4877080\n",
       "  triweight      2.0      0.7517559  0.4815711\n",
       "  triweight     10.0      0.7353321  0.4473329\n",
       "  cos            0.1      0.7636168  0.5040429\n",
       "  cos            0.5      0.7723961  0.5227729\n",
       "  cos            1.0      0.7713330  0.5204328\n",
       "  cos            2.0      0.7582776  0.4920859\n",
       "  cos           10.0      0.7549570  0.4862858\n",
       "  inv            0.1      0.7440755  0.4680110\n",
       "  inv            0.5      0.7658863  0.5114562\n",
       "  inv            1.0      0.7615265  0.5021928\n",
       "  inv            2.0      0.7713330  0.5235137\n",
       "  inv           10.0      0.7615146  0.5023302\n",
       "  gaussian       0.1      0.7658027  0.5063947\n",
       "  gaussian       0.5      0.7745819  0.5256227\n",
       "  gaussian       1.0      0.7690874  0.5122864\n",
       "  gaussian       2.0      0.7854873  0.5493309\n",
       "  gaussian      10.0      0.7724319  0.5197580\n",
       "  rank           0.1      0.7690994  0.5121356\n",
       "  rank           0.5      0.7745939  0.5251786\n",
       "  rank           1.0      0.7789656  0.5309249\n",
       "  rank           2.0      0.7767797  0.5275297\n",
       "  rank          10.0      0.7647516  0.5028440\n",
       "  optimal        0.1      0.7723961  0.5224157\n",
       "  optimal        0.5      0.7713569  0.5207697\n",
       "  optimal        1.0      0.7822265  0.5412242\n",
       "  optimal        2.0      0.7778786  0.5320017\n",
       "  optimal       10.0      0.7723364  0.5211288\n",
       "\n",
       "Tuning parameter 'kmax' was held constant at a value of 5\n",
       "Accuracy was used to select the optimal model using the largest value.\n",
       "The final values used for the model were kmax = 5, distance = 2 and kernel\n",
       " = gaussian."
      ]
     },
     "metadata": {},
     "output_type": "display_data"
    }
   ],
   "source": [
    "## train the model (you really don't want to run this)\n",
    "\n",
    "set.seed(123) # to allow reproducibility of cross validation split\n",
    "\n",
    "model_random_search = train(x = train %>% select(-one_of('survived')),\n",
    "                          y = train %>% select(one_of('survived')) %>% pull %>% factor,\n",
    "                          method = 'kknn',\n",
    "                          tuneGrid = tune_grid_large,\n",
    "                          tuneLength = 12,\n",
    "                          trControl = trainControl(search = 'random',\n",
    "                                                   method = 'cv',\n",
    "                                                    p = 0.9,\n",
    "                                                    number = 10)\n",
    "                    )\n",
    "\n",
    "saveRDS(model_random_search, 'data/model_random_search.R')\n",
    "\n",
    "\n",
    "# rather we trained the model for you, how nice are we?!?\n",
    "\n",
    "(model_random_search = readRDS('data/model_random_search.R'))"
   ]
  },
  {
   "cell_type": "code",
   "execution_count": 36,
   "metadata": {},
   "outputs": [
    {
     "data": {},
     "metadata": {},
     "output_type": "display_data"
    },
    {
     "data": {},
     "metadata": {},
     "output_type": "display_data"
    },
    {
     "data": {
      "image/png": "[encoded data removed]",
      "text/plain": [
       "plot without title"
      ]
     },
     "metadata": {},
     "output_type": "display_data"
    },
    {
     "data": {
      "image/png": "[encoded data removed]",
      "text/plain": [
       "plot without title"
      ]
     },
     "metadata": {},
     "output_type": "display_data"
    }
   ],
   "source": [
    "options(repr.plot.width=3, repr.plot.height=3)\n",
    "\n",
    "model_random_search$results %>%\n",
    "  as_data_frame %>%\n",
    "  rownames_to_column(var = 'id') %>% mutate(id = as.numeric(id)) %>% \n",
    "  ggplot() + geom_line(aes(x = id, y = Accuracy)) + ggtitle('Training Accuracy')\n",
    "\n",
    "model_random_search$results %>%\n",
    "  as_data_frame %>%\n",
    "  rownames_to_column(var = 'id') %>% mutate(id = as.numeric(id)) %>% \n",
    "  ggplot() + geom_line(aes(x = id, y = Kappa)) + ggtitle('Training Kohen\\'s K')"
   ]
  },
  {
   "cell_type": "code",
   "execution_count": 46,
   "metadata": {},
   "outputs": [
    {
     "data": {
      "text/html": [
       "<table>\n",
       "<thead><tr><th scope=col>kmax</th><th scope=col>kernel</th><th scope=col>distance</th><th scope=col>Accuracy</th><th scope=col>Kappa</th><th scope=col>AccuracySD</th><th scope=col>KappaSD</th></tr></thead>\n",
       "<tbody>\n",
       "\t<tr><td>18        </td><td>inv       </td><td> 1.0      </td><td>0.7683301 </td><td>0.5017835 </td><td>0.01995212</td><td>0.04314774</td></tr>\n",
       "\t<tr><td>18        </td><td>inv       </td><td> 0.5      </td><td>0.7676365 </td><td>0.5002822 </td><td>0.02050050</td><td>0.04604183</td></tr>\n",
       "\t<tr><td>19        </td><td>inv       </td><td>10.0      </td><td>0.7627800 </td><td>0.4902948 </td><td>0.01821173</td><td>0.03794882</td></tr>\n",
       "\t<tr><td>10        </td><td>inv       </td><td>10.0      </td><td>0.7530325 </td><td>0.4707292 </td><td>0.02456427</td><td>0.05157329</td></tr>\n",
       "</tbody>\n",
       "</table>\n"
      ],
      "text/latex": [
       "\\begin{tabular}{r|lllllll}\n",
       " kmax & kernel & distance & Accuracy & Kappa & AccuracySD & KappaSD\\\\\n",
       "\\hline\n",
       "\t 18         & inv        &  1.0       & 0.7683301  & 0.5017835  & 0.01995212 & 0.04314774\\\\\n",
       "\t 18         & inv        &  0.5       & 0.7676365  & 0.5002822  & 0.02050050 & 0.04604183\\\\\n",
       "\t 19         & inv        & 10.0       & 0.7627800  & 0.4902948  & 0.01821173 & 0.03794882\\\\\n",
       "\t 10         & inv        & 10.0       & 0.7530325  & 0.4707292  & 0.02456427 & 0.05157329\\\\\n",
       "\\end{tabular}\n"
      ],
      "text/markdown": [
       "\n",
       "kmax | kernel | distance | Accuracy | Kappa | AccuracySD | KappaSD | \n",
       "|---|---|---|---|\n",
       "| 18         | inv        |  1.0       | 0.7683301  | 0.5017835  | 0.01995212 | 0.04314774 | \n",
       "| 18         | inv        |  0.5       | 0.7676365  | 0.5002822  | 0.02050050 | 0.04604183 | \n",
       "| 19         | inv        | 10.0       | 0.7627800  | 0.4902948  | 0.01821173 | 0.03794882 | \n",
       "| 10         | inv        | 10.0       | 0.7530325  | 0.4707292  | 0.02456427 | 0.05157329 | \n",
       "\n",
       "\n"
      ],
      "text/plain": [
       "  kmax kernel distance Accuracy  Kappa     AccuracySD KappaSD   \n",
       "1 18   inv     1.0     0.7683301 0.5017835 0.01995212 0.04314774\n",
       "2 18   inv     0.5     0.7676365 0.5002822 0.02050050 0.04604183\n",
       "3 19   inv    10.0     0.7627800 0.4902948 0.01821173 0.03794882\n",
       "4 10   inv    10.0     0.7530325 0.4707292 0.02456427 0.05157329"
      ]
     },
     "metadata": {},
     "output_type": "display_data"
    }
   ],
   "source": [
    "model_random_search$results %>%\n",
    "    filter(Accuracy > 0.7505602) %>%\n",
    "    arrange(Accuracy %>% desc())"
   ]
  },
  {
   "cell_type": "markdown",
   "metadata": {},
   "source": [
    "Wow! with the same training time we found four solution better than with grid search!\n",
    "- 1.6% accuracy improvement\n",
    "- this would have taken 20 times the time, if done with random search\n",
    "- also note that these may not be the *best* values, but they do they job fairly good, don't you think?"
   ]
  },
  {
   "cell_type": "markdown",
   "metadata": {},
   "source": [
    "## Bayesian Optimization\n",
    "\n",
    "[Google says](https://cloud.google.com/blog/big-data/2017/08/hyperparameter-tuning-in-cloud-machine-learning-engine-using-bayesian-optimization) it works the best.\n",
    "\n",
    "This is a greedy approach (not a grid approach ;) ) in the sense that it is aimed at quickly maximize potentially locally optimal solution. But fast! \n",
    "> if you think about it, finding the optimal solution would certainly mean overfitting!\n",
    "\n",
    "### Gaussian Processes\n",
    "\n",
    "<img src=\"fig/escher.jpg\" width=\"400\">\n",
    "\n",
    "*Graphical representation of how to use a machine learning model to improve another machine learning model.*\n",
    "\n",
    "\n",
    "Interestingly enough, Bayesian Hypermarameter Optimization relies on another machine learning algowitm (Gaussian Process) to **infer the latent accuracy (or loss)** distibution in the hyperparameters space, thus allowinn a  more efficient search of hyperparameters which are looked after in the most **promising** regions. "
   ]
  },
  {
   "cell_type": "code",
   "execution_count": null,
   "metadata": {},
   "outputs": [],
   "source": [
    "### include example with rBayesianOptimization\n",
    "\n",
    "library(rBayesianOptimization)\n",
    "\n",
    "rBayesianOptimization::BayesianOptimization()\n",
    "\n",
    "willBeOptimized = function(KMAX, KERNEL, DIST){\n",
    "  \n",
    "  partition = train %>% nrow %>% seq_len %>% createDataPartition(p = 0.5, list= FALSE)\n",
    "  \n",
    "  train_train = train %>% slice(partition)\n",
    "  \n",
    "  val = train %>% slice(-partition)\n",
    "  \n",
    "  kernel = c('rectangular',\n",
    "             'triangular',\n",
    "             'epanechnikov',\n",
    "             'biweight',\n",
    "             'triweight',\n",
    "             'cos',\n",
    "             'inv',\n",
    "             'gaussian',\n",
    "             'rank',\n",
    "             'optimal'                                  \n",
    "  )\n",
    "  \n",
    "  kernel = kernel[KERNEL]\n",
    "  \n",
    "  model = train(x = train_train %>% select(-one_of('survived')),\n",
    "                y = train_train %>% select(one_of('survived')) %>% pull %>% factor,\n",
    "                method = 'kknn',\n",
    "                trControl = trainControl(search = 'grid', method = 'none'),\n",
    "                tuneGrid = data.frame(kmax = KMAX,\n",
    "                                      kernel = kernel,\n",
    "                                      distance = DIST)\n",
    "  )\n",
    "  \n",
    "  \n",
    "  test_response = model %>%\n",
    "    predict(newdata = val %>% select(-one_of('survived'))) %>% factor\n",
    "  \n",
    "  acc = confusionMatrix(val %>% select(one_of('survived')) %>% pull %>% factor,\n",
    "                        test_response)\n",
    "\n",
    "  test_response_probabilities = model %>%\n",
    "    predict(newdata = val %>% select(-one_of('survived')),  type = 'prob') %>% pull('1')\n",
    "  \n",
    "  roc = roc(test_response_probabilities, val$survived %>% factor) %>% auc\n",
    "  \n",
    "  return(list('Score' = roc,#acc$overall[1],\n",
    "              'Pred' = test_response))  \n",
    "}"
   ]
  },
  {
   "cell_type": "code",
   "execution_count": null,
   "metadata": {},
   "outputs": [],
   "source": [
    "xx = BayesianOptimization(willBeOptimized,\n",
    "                          bounds = list(KMAX = c(1L, 20L),\n",
    "                                        KERNEL = c(1L, 10L),\n",
    "                                        DIST = c(0.1, 10)),\n",
    "                          init_points = 20,\n",
    "                          n_iter = 40,\n",
    "                          acq = 'ei')"
   ]
  },
  {
   "cell_type": "code",
   "execution_count": null,
   "metadata": {},
   "outputs": [],
   "source": [
    "xx$History %>% as_data_frame %>% ggplot(aes(x = KMAX, y = DIST)) +\n",
    "  stat_density_2d() + geom_point(aes(size = Round, colour = -Value)) #+\n",
    "  geom_path(aes(colour = as.numeric(-Round)))\n",
    "# this plot could be made interactive by showing how the bayesian optimization explore the feature space!!!"
   ]
  },
  {
   "cell_type": "markdown",
   "metadata": {},
   "source": [
    "\n",
    "### Known issues o rBayesianOptimization\n",
    "\n",
    "While this is not a limitation of Bayesian Search in general, the R package rBayesianOptimization cannot yet handle qualitative hyperparameter (i guess so!!!)"
   ]
  },
  {
   "cell_type": "markdown",
   "metadata": {},
   "source": [
    "## Honest Toughts / Takeouts\n",
    "\n",
    "- A better understanding of the problem and of the relationship and a good definition of the model/models to start with does the best of the work\n",
    "    \n",
    "- The larger the problem, the more incentive you have in going towards \"smart\" approaches, cf. Random Search and Bayesian Optimization. It is unlikely you will ever face a problem of a truly large size.\n",
    "\n",
    "> The two above are especially true for complex problem, where the deadly combination of hyperparameter space size and training time leads to the **curse of dimensionality**\n",
    "\n",
    "\n",
    "- If the problem is simple and/or well known, you'd be better off with a quick and dirty manual search.\n",
    "\n",
    "- There is a lot of emphasis on gaining that little extra bit of performance (Kaggle competitions...), while a real-world task is pretty much aimed at finding a non useless solution. Basis-point improvement of AR are effectively worth nuts. "
   ]
  }
 ],
 "metadata": {
  "kernelspec": {
   "display_name": "R",
   "language": "R",
   "name": "ir"
  },
  "language_info": {
   "codemirror_mode": "r",
   "file_extension": ".r",
   "mimetype": "text/x-r-source",
   "name": "R",
   "pygments_lexer": "r",
   "version": "3.4.4"
  }
 },
 "nbformat": 4,
 "nbformat_minor": 2
}
