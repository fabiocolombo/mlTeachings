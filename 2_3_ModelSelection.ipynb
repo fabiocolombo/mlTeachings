{
 "cells": [
  {
   "cell_type": "markdown",
   "metadata": {},
   "source": [
    "## Model Selection\n",
    "Now, we have a zoo of performance measures, we have discussed that we should avoid to optimize our models and its hyperparameters only on a subset of observations (i.e. the *training set*), but we should use the *testing set* only to asses the final performance of the *model*.\n",
    "\n",
    "In this notebook we'll see how to estimate the *test accuracy* (or any other model performance measure) leveraging only on the *training set* and, as a consequence, how to find a right **bias - variance tradeoff** while searching the right model and the right *hyper parameters*.\n",
    "\n",
    "### Validation Set Approach\n",
    "The first simple way to estimate the *test error* from the *training set* is to split it in two subsets:\n",
    "* The **real** *training set* on which the model is fitted.\n",
    "* A *validation set* used to estimate the *test error*\n",
    "\n",
    "Let's try this simple strategy on the titanic dataset, but first let's fit this dataset using **KKNN** with $k = 5$ on the whole *training set* and compute the *training error* and the *test error*"
   ]
  },
  {
   "cell_type": "code",
   "execution_count": 11,
   "metadata": {},
   "outputs": [
    {
     "data": {
      "text/html": [
       "<strong>Accuracy:</strong> 0.840958605664488"
      ],
      "text/latex": [
       "\\textbf{Accuracy:} 0.840958605664488"
      ],
      "text/markdown": [
       "**Accuracy:** 0.840958605664488"
      ],
      "text/plain": [
       " Accuracy \n",
       "0.8409586 "
      ]
     },
     "metadata": {},
     "output_type": "display_data"
    },
    {
     "data": {
      "text/html": [
       "<strong>Accuracy:</strong> 0.770408163265306"
      ],
      "text/latex": [
       "\\textbf{Accuracy:} 0.770408163265306"
      ],
      "text/markdown": [
       "**Accuracy:** 0.770408163265306"
      ],
      "text/plain": [
       " Accuracy \n",
       "0.7704082 "
      ]
     },
     "metadata": {},
     "output_type": "display_data"
    }
   ],
   "source": [
    "source(\"src/lib.R\")\n",
    "source(\"src/titanic/titanic_dataset.R\")\n",
    "\n",
    "titanic_df <- get_titanic_df()\n",
    "\n",
    "model <-  train(\n",
    "    y = titanic_df$y_train$class,\n",
    "    x = titanic_df$x_train,\n",
    "    method = \"kknn\",\n",
    "    ks = 5,\n",
    "    trControl = trainControl(classProbs =  TRUE, method = \"none\"),\n",
    "    tuneGrid = data.frame(\n",
    "          kmax = 1,\n",
    "          distance = 2,\n",
    "          kernel = 'rectangular'\n",
    "      )\n",
    ")\n",
    "\n",
    "(full_train_error <- confusionMatrix(predict(model, titanic_df$x_train), titanic_df$y_train$class)$overall[\"Accuracy\"])\n",
    "(full_test_error <- confusionMatrix(predict(model, titanic_df$x_test), titanic_df$y_test$class)$overall[\"Accuracy\"])"
   ]
  },
  {
   "cell_type": "markdown",
   "metadata": {},
   "source": [
    "Now let's use **CARET** to directly estimate the *test error* using the *validation set* approach:"
   ]
  },
  {
   "cell_type": "code",
   "execution_count": 12,
   "metadata": {},
   "outputs": [
    {
     "data": {
      "text/html": [
       "<strong>Accuracy:</strong> 0.847494553376906"
      ],
      "text/latex": [
       "\\textbf{Accuracy:} 0.847494553376906"
      ],
      "text/markdown": [
       "**Accuracy:** 0.847494553376906"
      ],
      "text/plain": [
       " Accuracy \n",
       "0.8474946 "
      ]
     },
     "metadata": {},
     "output_type": "display_data"
    },
    {
     "data": {
      "text/html": [
       "<strong>Accuracy:</strong> 0.793028322440087"
      ],
      "text/latex": [
       "\\textbf{Accuracy:} 0.793028322440087"
      ],
      "text/markdown": [
       "**Accuracy:** 0.793028322440087"
      ],
      "text/plain": [
       " Accuracy \n",
       "0.7930283 "
      ]
     },
     "metadata": {},
     "output_type": "display_data"
    }
   ],
   "source": [
    "## Let's split the training set in two partitions of equal size\n",
    "set.seed(21)\n",
    "full_indices <- 1:nrow(titanic_df$x_train)\n",
    "validation_set <- sample(full_indices, length(full_indices) / 2)\n",
    "small_train_set <- full_indices[!(full_indices %in% validation_set)]\n",
    "\n",
    "## Let's instruct CARET to use the small_train_set to estimate the accuracy and the validation_set to train it\n",
    "model <-  train(\n",
    "  y = titanic_df$y_train$class,\n",
    "  x = titanic_df$x_train,\n",
    "  method = \"kknn\",\n",
    "  ks = 5,\n",
    "  trControl = trainControl(\n",
    "    classProbs =  TRUE, \n",
    "    method = \"cv\",\n",
    "    index = list(sample = small_train_set),\n",
    "    indexOut = list(sample = validation_set),\n",
    "    indexFinal = small_train_set\n",
    "  ),\n",
    "  tuneGrid = data.frame(\n",
    "    kmax = 1,\n",
    "    distance = 2,\n",
    "    kernel = 'rectangular'\n",
    "  )\n",
    ")\n",
    "\n",
    "## Compute the accuracy on the small train set and on validation\n",
    "confusionMatrix(predict(model, titanic_df$x_train[small_train_set,]), titanic_df$y_train[small_train_set,]$class)$overall[\"Accuracy\"]\n",
    "confusionMatrix(predict(model, titanic_df$x_train[validation_set,]), titanic_df$y_train[validation_set,]$class)$overall[\"Accuracy\"]"
   ]
  },
  {
   "cell_type": "markdown",
   "metadata": {},
   "source": [
    "It worked! The estimation of our *testing error* is 0.79 nearer to the real value of 0.77 than 0.84. Note that this same measure can be directly extracted from the *train* function output:"
   ]
  },
  {
   "cell_type": "code",
   "execution_count": 13,
   "metadata": {},
   "outputs": [
    {
     "data": {
      "text/html": [
       "0.793028322440087"
      ],
      "text/latex": [
       "0.793028322440087"
      ],
      "text/markdown": [
       "0.793028322440087"
      ],
      "text/plain": [
       "[1] 0.7930283"
      ]
     },
     "metadata": {},
     "output_type": "display_data"
    }
   ],
   "source": [
    "model$results$Accuracy"
   ]
  },
  {
   "cell_type": "markdown",
   "metadata": {},
   "source": [
    "Ok...we have found a way to estimate the *testing error*...how good is this estimation varying $K$?"
   ]
  },
  {
   "cell_type": "code",
   "execution_count": 22,
   "metadata": {},
   "outputs": [],
   "source": [
    "res_df <- data_frame()\n",
    "for(k in seq(1,25)) {\n",
    "  model <-  train(\n",
    "    y = titanic_df$y_train$class,\n",
    "    x = titanic_df$x_train,\n",
    "    method = \"kknn\",\n",
    "    ks = k,\n",
    "    trControl = trainControl(\n",
    "      classProbs =  TRUE, \n",
    "      method = \"cv\",\n",
    "      index = list(sample = small_train_set),\n",
    "      indexOut = list(sample = validation_set)\n",
    "    ),\n",
    "    tuneGrid = data.frame(\n",
    "      kmax = 1,\n",
    "      distance = 2,\n",
    "      kernel = 'rectangular'\n",
    "    )\n",
    "  )\n",
    "  res_df <- rbind(\n",
    "    res_df,\n",
    "    data_frame(\n",
    "      k = k, \n",
    "      validation_error = model$results$Accuracy, \n",
    "      test_error = confusionMatrix(predict(model, titanic_df$x_test), titanic_df$y_test$class)$overall[\"Accuracy\"],\n",
    "      train_error = confusionMatrix(predict(model, titanic_df$x_train), titanic_df$y_train$class)$overall[\"Accuracy\"],\n",
    "    )\n",
    "  )\n",
    "}"
   ]
  },
  {
   "cell_type": "code",
   "execution_count": 23,
   "metadata": {},
   "outputs": [
    {
     "data": {},
     "metadata": {},
     "output_type": "display_data"
    },
    {
     "data": {
      "image/png": "[encoded data removed]",
      "text/plain": [
       "plot without title"
      ]
     },
     "metadata": {},
     "output_type": "display_data"
    }
   ],
   "source": [
    "options(repr.plot.width=6, repr.plot.height=3) ### set a small plot size\n",
    "\n",
    "res_df %>% gather(type, accuracy, -k) %>%\n",
    "  ggplot(aes(x = k, y = accuracy, color = type)) +\n",
    "  geom_line() + theme_few()"
   ]
  },
  {
   "cell_type": "code",
   "execution_count": 24,
   "metadata": {},
   "outputs": [
    {
     "name": "stdout",
     "output_type": "stream",
     "text": [
      "[1] 1\n",
      "[1] 2\n",
      "[1] 3\n",
      "[1] 4\n",
      "[1] 5\n"
     ]
    },
    {
     "data": {},
     "metadata": {},
     "output_type": "display_data"
    },
    {
     "data": {
      "image/png": "[encoded data removed]",
      "text/plain": [
       "plot without title"
      ]
     },
     "metadata": {},
     "output_type": "display_data"
    }
   ],
   "source": [
    "multi_res_df <- data_frame()\n",
    "for(attempt in 1:5) {\n",
    "  print(attempt)\n",
    "  validation_set <- sample(full_indices, length(full_indices) / 2)\n",
    "  small_train_set <- full_indices[!(full_indices %in% validation_set)]\n",
    "  for(k in seq(1,25,2)) {\n",
    "    model <-  train(\n",
    "      y = titanic_df$y_train$class,\n",
    "      x = titanic_df$x_train,\n",
    "      method = \"kknn\",\n",
    "      ks = k,\n",
    "      trControl = trainControl(\n",
    "        classProbs =  TRUE, \n",
    "        method = \"cv\",\n",
    "        index = list(sample = small_train_set),\n",
    "        indexOut = list(sample = validation_set)\n",
    "      ),\n",
    "      tuneGrid = data.frame(\n",
    "        kmax = 1,\n",
    "        distance = 2,\n",
    "        kernel = 'rectangular'\n",
    "      )\n",
    "    )\n",
    "    multi_res_df <- rbind(\n",
    "      multi_res_df,\n",
    "      data_frame(\n",
    "        k = k,\n",
    "        attempt = attempt,\n",
    "        accuracy = model$results$Accuracy, \n",
    "      )\n",
    "    )\n",
    "  }\n",
    "}\n",
    "\n",
    "multi_res_df %>% mutate(attempt = str_c(\"attempt_\", attempt)) %>%\n",
    "  rbind(res_df %>% select(k,accuracy = test_error) %>% mutate(attempt = \"test\")) %>%\n",
    "  ggplot(aes(x = k, y = accuracy, color = attempt)) +\n",
    "  geom_line() + theme_few()\n"
   ]
  },
  {
   "cell_type": "markdown",
   "metadata": {},
   "source": [
    "##### K Fold Validation\n",
    "##### Leave one out Cross Validation"
   ]
  },
  {
   "cell_type": "markdown",
   "metadata": {},
   "source": [
    "#### Ensembling"
   ]
  },
  {
   "cell_type": "code",
   "execution_count": null,
   "metadata": {},
   "outputs": [],
   "source": [
    ")"
   ]
  }
 ],
 "metadata": {
  "kernelspec": {
   "display_name": "R",
   "language": "R",
   "name": "ir"
  },
  "language_info": {
   "codemirror_mode": "r",
   "file_extension": ".r",
   "mimetype": "text/x-r-source",
   "name": "R",
   "pygments_lexer": "r",
   "version": "3.4.1"
  }
 },
 "nbformat": 4,
 "nbformat_minor": 2
}
