{
 "cells": [
  {
   "cell_type": "markdown",
   "metadata": {},
   "source": [
    "## Model Selection\n",
    "\n",
    "___\n",
    "\n",
    "*Source: [James et al., An Introduction to Statistical Learning](http://www-bcf.usc.edu/~gareth/ISL/ISLR%20Seventh%20Printing.pdf) *\n",
    "\n",
    "___\n",
    "\n",
    "\n",
    "Now, we have a zoo of performance measures, we have discussed that we should avoid to optimize our models and its hyperparameters only on a subset of observations (i.e. the *training set*), but we should use the *testing set* only to asses the final performance of the *model*.\n",
    "\n",
    "In this notebook we'll see how to estimate the *test accuracy* (or any other model performance measure) leveraging only on the *training set* and, as a consequence, how to find a right **bias - variance tradeoff** while searching the right model and the right *hyper parameters*.\n",
    "\n",
    "### Validation Set Approach\n",
    "The first simple way to estimate the *test error* from the *training set* is to split it in two subsets:\n",
    "* The **real** *training set* on which the model is fitted.\n",
    "* A *validation set* used to estimate the *test error*\n",
    "\n",
    "Let's try this simple strategy on the titanic dataset, but first let's fit this dataset using **KKNN** with $k = 5$ on the whole *training set* and compute the *training error* and the *test error*"
   ]
  },
  {
   "cell_type": "code",
   "execution_count": 1,
   "metadata": {},
   "outputs": [
    {
     "data": {
      "text/html": [
       "<strong>Accuracy:</strong> 0.840958605664488"
      ],
      "text/latex": [
       "\\textbf{Accuracy:} 0.840958605664488"
      ],
      "text/markdown": [
       "**Accuracy:** 0.840958605664488"
      ],
      "text/plain": [
       " Accuracy \n",
       "0.8409586 "
      ]
     },
     "metadata": {},
     "output_type": "display_data"
    },
    {
     "data": {
      "text/html": [
       "<strong>Accuracy:</strong> 0.770408163265306"
      ],
      "text/latex": [
       "\\textbf{Accuracy:} 0.770408163265306"
      ],
      "text/markdown": [
       "**Accuracy:** 0.770408163265306"
      ],
      "text/plain": [
       " Accuracy \n",
       "0.7704082 "
      ]
     },
     "metadata": {},
     "output_type": "display_data"
    }
   ],
   "source": [
    "source(\"src/lib.R\")\n",
    "source(\"src/titanic/titanic_dataset.R\")\n",
    "\n",
    "titanic_df <- get_titanic_df()\n",
    "\n",
    "model <-  train(\n",
    "    y = titanic_df$y_train$class,\n",
    "    x = titanic_df$x_train,\n",
    "    method = \"kknn\",\n",
    "    ks = 5,\n",
    "    trControl = trainControl(classProbs =  TRUE, method = \"none\"),\n",
    "    tuneGrid = data.frame(\n",
    "          kmax = 1,\n",
    "          distance = 2,\n",
    "          kernel = 'rectangular'\n",
    "      )\n",
    ")\n",
    "\n",
    "(full_train_error <- confusionMatrix(predict(model, titanic_df$x_train), titanic_df$y_train$class)$overall[\"Accuracy\"])\n",
    "(full_test_error <- confusionMatrix(predict(model, titanic_df$x_test), titanic_df$y_test$class)$overall[\"Accuracy\"])"
   ]
  },
  {
   "cell_type": "markdown",
   "metadata": {},
   "source": [
    "Now let's use **CARET** to directly estimate the *test error* using the *validation set* approach:"
   ]
  },
  {
   "cell_type": "code",
   "execution_count": 2,
   "metadata": {},
   "outputs": [
    {
     "data": {
      "text/html": [
       "<strong>Accuracy:</strong> 0.856209150326797"
      ],
      "text/latex": [
       "\\textbf{Accuracy:} 0.856209150326797"
      ],
      "text/markdown": [
       "**Accuracy:** 0.856209150326797"
      ],
      "text/plain": [
       " Accuracy \n",
       "0.8562092 "
      ]
     },
     "metadata": {},
     "output_type": "display_data"
    },
    {
     "data": {
      "text/html": [
       "<strong>Accuracy:</strong> 0.782135076252723"
      ],
      "text/latex": [
       "\\textbf{Accuracy:} 0.782135076252723"
      ],
      "text/markdown": [
       "**Accuracy:** 0.782135076252723"
      ],
      "text/plain": [
       " Accuracy \n",
       "0.7821351 "
      ]
     },
     "metadata": {},
     "output_type": "display_data"
    }
   ],
   "source": [
    "## Let's split the training set in two partitions of equal size\n",
    "set.seed(29)\n",
    "full_indices <- 1:nrow(titanic_df$x_train)\n",
    "validation_set <- sample(full_indices, length(full_indices) / 2)\n",
    "small_train_set <- full_indices[!(full_indices %in% validation_set)]\n",
    "\n",
    "## Let's instruct CARET to use the small_train_set to estimate the accuracy and the validation_set to train it\n",
    "model <-  train(\n",
    "  y = titanic_df$y_train$class,\n",
    "  x = titanic_df$x_train,\n",
    "  method = \"kknn\",\n",
    "  ks = 5,\n",
    "  trControl = trainControl(\n",
    "    classProbs =  TRUE, \n",
    "    method = \"cv\",\n",
    "    index = list(sample = small_train_set),\n",
    "    indexOut = list(sample = validation_set),\n",
    "    indexFinal = small_train_set\n",
    "  ),\n",
    "  tuneGrid = data.frame(\n",
    "    kmax = 1,\n",
    "    distance = 2,\n",
    "    kernel = 'rectangular'\n",
    "  )\n",
    ")\n",
    "\n",
    "## Compute the accuracy on the small train set and on validation\n",
    "confusionMatrix(predict(model, titanic_df$x_train[small_train_set,]), titanic_df$y_train[small_train_set,]$class)$overall[\"Accuracy\"]\n",
    "confusionMatrix(predict(model, titanic_df$x_train[validation_set,]), titanic_df$y_train[validation_set,]$class)$overall[\"Accuracy\"]"
   ]
  },
  {
   "cell_type": "markdown",
   "metadata": {},
   "source": [
    "It worked! The estimation of our *testing error* is 0.79 nearer to the real value of 0.77 than 0.84. Note that this same measure can be directly extracted from the *train* function output:"
   ]
  },
  {
   "cell_type": "code",
   "execution_count": 3,
   "metadata": {},
   "outputs": [
    {
     "data": {
      "text/html": [
       "0.782135076252723"
      ],
      "text/latex": [
       "0.782135076252723"
      ],
      "text/markdown": [
       "0.782135076252723"
      ],
      "text/plain": [
       "[1] 0.7821351"
      ]
     },
     "metadata": {},
     "output_type": "display_data"
    }
   ],
   "source": [
    "model$results$Accuracy"
   ]
  },
  {
   "cell_type": "markdown",
   "metadata": {},
   "source": [
    "Ok...we have found a way to estimate the *testing error*...how good is this estimation varying $K$?"
   ]
  },
  {
   "cell_type": "code",
   "execution_count": 4,
   "metadata": {},
   "outputs": [],
   "source": [
    "res_df <- data_frame()\n",
    "for(k in seq(1,25)) {\n",
    "  model <-  train(\n",
    "    y = titanic_df$y_train$class,\n",
    "    x = titanic_df$x_train,\n",
    "    method = \"kknn\",\n",
    "    ks = k,\n",
    "    trControl = trainControl(\n",
    "      classProbs =  TRUE, \n",
    "      method = \"cv\",\n",
    "      index = list(sample = small_train_set),\n",
    "      indexOut = list(sample = validation_set)\n",
    "    ),\n",
    "    tuneGrid = data.frame(\n",
    "      kmax = 1,\n",
    "      distance = 2,\n",
    "      kernel = 'rectangular'\n",
    "    )\n",
    "  )\n",
    "  res_df <- rbind(\n",
    "    res_df,\n",
    "    data_frame(\n",
    "      k = k, \n",
    "      validation_error = model$results$Accuracy, \n",
    "      test_error = confusionMatrix(predict(model, titanic_df$x_test), titanic_df$y_test$class)$overall[\"Accuracy\"],\n",
    "      train_error = confusionMatrix(predict(model, titanic_df$x_train), titanic_df$y_train$class)$overall[\"Accuracy\"],\n",
    "    )\n",
    "  )\n",
    "}"
   ]
  },
  {
   "cell_type": "code",
   "execution_count": 5,
   "metadata": {},
   "outputs": [
    {
     "data": {},
     "metadata": {},
     "output_type": "display_data"
    },
    {
     "data": {
      "image/png": "[encoded data removed]",
      "text/plain": [
       "plot without title"
      ]
     },
     "metadata": {},
     "output_type": "display_data"
    }
   ],
   "source": [
    "options(repr.plot.width=6, repr.plot.height=3) ### set a small plot size\n",
    "\n",
    "res_df %>% gather(type, accuracy, -k) %>%\n",
    "  ggplot(aes(x = k, y = accuracy, color = type)) +\n",
    "  geom_line() + geom_point() + theme_few()"
   ]
  },
  {
   "cell_type": "markdown",
   "metadata": {},
   "source": [
    "It really depends on the $k$ but the *validation set* error sometimes overstimates the *testing error* (or understimate the accuracy).\n",
    "\n",
    "So...end of the story? Can we do any better?\n",
    "\n",
    "The *validation test* approach in *test error* estimation has two main drawbacks.\n",
    "\n",
    "* The *validation set error* is computed on a model fitted only on a part of the *training set* and, since a model fitted on more data should have lower *test error*, the *validation set error* may **overestimate** the *test error*\n",
    "* The *validation set error* strongly depends on the way in which the *validation set* is selected.\n",
    "\n",
    "On the second point, let's see what happens when we change the *validation set*:"
   ]
  },
  {
   "cell_type": "code",
   "execution_count": 6,
   "metadata": {},
   "outputs": [],
   "source": [
    "multi_res_df <- data_frame()\n",
    "for(attempt in 1:10) {  \n",
    "  validation_set <- sample(full_indices, length(full_indices) / 2)\n",
    "  small_train_set <- full_indices[!(full_indices %in% validation_set)]\n",
    "  for(k in seq(1,25,2)) {\n",
    "    model <-  train(\n",
    "      y = titanic_df$y_train$class,\n",
    "      x = titanic_df$x_train,\n",
    "      method = \"kknn\",\n",
    "      ks = k,\n",
    "      trControl = trainControl(\n",
    "        classProbs =  TRUE, \n",
    "        method = \"cv\",\n",
    "        index = list(sample = small_train_set),\n",
    "        indexOut = list(sample = validation_set)\n",
    "      ),\n",
    "      tuneGrid = data.frame(\n",
    "        kmax = 1,\n",
    "        distance = 2,\n",
    "        kernel = 'rectangular'\n",
    "      )\n",
    "    )\n",
    "    multi_res_df <- rbind(\n",
    "      multi_res_df,\n",
    "      data_frame(\n",
    "        k = k,\n",
    "        attempt = attempt,\n",
    "        accuracy = model$results$Accuracy, \n",
    "      )\n",
    "    )\n",
    "  }\n",
    "}\n"
   ]
  },
  {
   "cell_type": "code",
   "execution_count": 7,
   "metadata": {},
   "outputs": [
    {
     "data": {},
     "metadata": {},
     "output_type": "display_data"
    },
    {
     "data": {
      "image/png": "[encoded data removed]",
      "text/plain": [
       "plot without title"
      ]
     },
     "metadata": {},
     "output_type": "display_data"
    }
   ],
   "source": [
    "multi_res_df %>% mutate(attempt = str_c(\"attempt_\", attempt)) %>%\n",
    "  rbind(res_df %>% select(k,accuracy = test_error) %>% mutate(attempt = \"test\")) %>%\n",
    "  mutate(type = ifelse(attempt == \"test\", \"test\", \"attempt\")) %>%\n",
    "  ggplot(aes(x = k, y = accuracy, color = type, group = attempt)) +\n",
    "  geom_line(size = 0.8) + theme_few()"
   ]
  },
  {
   "cell_type": "markdown",
   "metadata": {},
   "source": [
    "### Cross Validation"
   ]
  },
  {
   "cell_type": "markdown",
   "metadata": {},
   "source": [
    "Cross Validation (aka CV) is a set of computing intensive techniques that allow to estimate the *test error* in more robust way w.r.t. the *validation set* approach."
   ]
  },
  {
   "cell_type": "markdown",
   "metadata": {},
   "source": [
    "#### Leave one out Cross Validation"
   ]
  },
  {
   "cell_type": "markdown",
   "metadata": {},
   "source": [
    "The *Leave One Out Cross Validation* (aka LOOCV) estimation process is an iterative extension of the *validation set approach*:\n",
    "\n",
    "* From the training set $\\left\\{ (x_1,y_1), (x_2,y_2), \\dots, (x_n,y_n) \\right\\}$ set aside one single observation $(x_i,y_i)$.\n",
    "* Asses the performance of the model (with, as example, accuracy) using the left out observation $(x_i,y_i)$, and call this measure $A_i$\n",
    "* Iterate the process on all the *training set* observations, obtaining the set of performance measures $\\left\\{ A_1, A_2, \\dots, A_n \\right\\}$\n",
    "* Estimate the *test error* as:\n",
    "$$\\frac{1}{n} \\sum_{i = 1}^n A_i$$\n",
    "\n",
    "\n"
   ]
  },
  {
   "cell_type": "markdown",
   "metadata": {},
   "source": [
    "This method solves the two main drawbacks of the *validation set* approach:\n",
    "\n",
    "* Each $A_i$ is compute on model fitted on almost all the *training set* observations.\n",
    "* There is no arbitrarity or randomness in the process\n",
    "\n",
    "Morever LOOCV is a built-in validation strategy in **CARET**:"
   ]
  },
  {
   "cell_type": "code",
   "execution_count": 8,
   "metadata": {},
   "outputs": [
    {
     "data": {
      "text/plain": [
       "   user  system elapsed \n",
       "  57.00    0.00   57.02 "
      ]
     },
     "metadata": {},
     "output_type": "display_data"
    }
   ],
   "source": [
    "system.time(\n",
    "model <-  train(\n",
    "  y = titanic_df$y_train$class,\n",
    "  x = titanic_df$x_train,\n",
    "  method = \"kknn\",\n",
    "  ks = 5,\n",
    "  trControl = trainControl(\n",
    "    classProbs =  TRUE, \n",
    "    method = \"LOOCV\"\n",
    "    #,verboseIter = T\n",
    "  ),\n",
    "  tuneGrid = data.frame(\n",
    "    kmax = 1,\n",
    "    distance = 2,\n",
    "    kernel = 'rectangular'\n",
    "  )\n",
    ")\n",
    ")"
   ]
  },
  {
   "cell_type": "code",
   "execution_count": 9,
   "metadata": {},
   "outputs": [
    {
     "data": {
      "text/html": [
       "0.785403050108932"
      ],
      "text/latex": [
       "0.785403050108932"
      ],
      "text/markdown": [
       "0.785403050108932"
      ],
      "text/plain": [
       "[1] 0.7854031"
      ]
     },
     "metadata": {},
     "output_type": "display_data"
    },
    {
     "data": {
      "text/html": [
       "<strong>Accuracy:</strong> 0.770408163265306"
      ],
      "text/latex": [
       "\\textbf{Accuracy:} 0.770408163265306"
      ],
      "text/markdown": [
       "**Accuracy:** 0.770408163265306"
      ],
      "text/plain": [
       " Accuracy \n",
       "0.7704082 "
      ]
     },
     "metadata": {},
     "output_type": "display_data"
    }
   ],
   "source": [
    "model$results$Accuracy\n",
    "(full_test_error <- confusionMatrix(predict(model, titanic_df$x_test), titanic_df$y_test$class)$overall[\"Accuracy\"])"
   ]
  },
  {
   "cell_type": "markdown",
   "metadata": {},
   "source": [
    "Any drawback? \n",
    "\n",
    "The **computational requirements**: we need to fit $n$ models where $n$ is the set of observations in the *training set*!\n",
    "\n",
    "On small datasets this is not a problem....but we want to work with **BIG DATA!**\n",
    "\n",
    "P.S. there are some models in which the *LOOCV test error estimation* can be efficiently computed (i.e. *Linear Regression*)"
   ]
  },
  {
   "cell_type": "markdown",
   "metadata": {},
   "source": [
    "#### K-Fold validation"
   ]
  },
  {
   "cell_type": "markdown",
   "metadata": {},
   "source": [
    "In order to maintain the benefits of *LOOCV* but with less computational burden we can use the *K-Fold validation* approach:\n",
    "* **Randomly** split the *training set* in $k$ equal (or almost equal) parts.\n",
    "  $$\\left\\{ F_1,\\dots,F_k \\right\\}$$\n",
    "* For each fold $F_i$, fit the model on all the points in the *training set* with the exception of the points in $F_i$ and Compute the *accuracy* of the fitted model on $F_i$ and call it $A_i.\n",
    "* Estimate the *testing error* as:\n",
    "    $$\\frac{1}{k} \\sum_{i=1}^k A_i$$\n",
    "\n",
    "Here we are reintroducing the *randomness* in the process but averaging *k* attempts we will significatly reduce the variability in the estimation process. Note that when $k=n$ we go back to the *LOOCV*.\n",
    "\n",
    "Let's this in practice with **CARET** (here a way to do a *10-fold* cross validation):"
   ]
  },
  {
   "cell_type": "code",
   "execution_count": 10,
   "metadata": {},
   "outputs": [
    {
     "data": {
      "text/plain": [
       "   user  system elapsed \n",
       "   1.23    0.00    1.24 "
      ]
     },
     "metadata": {},
     "output_type": "display_data"
    },
    {
     "data": {
      "text/html": [
       "0.782166746297181"
      ],
      "text/latex": [
       "0.782166746297181"
      ],
      "text/markdown": [
       "0.782166746297181"
      ],
      "text/plain": [
       "[1] 0.7821667"
      ]
     },
     "metadata": {},
     "output_type": "display_data"
    }
   ],
   "source": [
    "system.time(\n",
    "model <-  train(\n",
    "  y = titanic_df$y_train$class,\n",
    "  x = titanic_df$x_train,\n",
    "  method = \"kknn\",\n",
    "  ks = 5,\n",
    "  trControl = trainControl(\n",
    "    classProbs =  TRUE, \n",
    "    method = \"cv\",\n",
    "    number = 10\n",
    "    #,verboseIter = T\n",
    "  ),\n",
    "  tuneGrid = data.frame(\n",
    "    kmax = 1,\n",
    "    distance = 2,\n",
    "    kernel = 'rectangular'\n",
    "  )\n",
    ")\n",
    ")\n",
    "\n",
    "model$results$Accuracy"
   ]
  },
  {
   "cell_type": "markdown",
   "metadata": {},
   "source": [
    "So...a similar accuracy estimation but a fraction (1s vs. 60s on my machin) of the computational effort. Let's what happens we a repeated estimation procedure:"
   ]
  },
  {
   "cell_type": "code",
   "execution_count": 11,
   "metadata": {},
   "outputs": [],
   "source": [
    "k_fold_res_df <- data_frame()\n",
    "for(attempt in 1:10) {  \n",
    "  validation_set <- sample(full_indices, length(full_indices) / 2)\n",
    "  small_train_set <- full_indices[!(full_indices %in% validation_set)]\n",
    "  for(k in seq(1,25,2)) {\n",
    "    model <-  train(\n",
    "      y = titanic_df$y_train$class,\n",
    "      x = titanic_df$x_train,\n",
    "      method = \"kknn\",\n",
    "      ks = k,\n",
    "      trControl = trainControl(\n",
    "        classProbs =  TRUE, \n",
    "        method = \"cv\",\n",
    "        number = 10\n",
    "      ),\n",
    "      tuneGrid = data.frame(\n",
    "        kmax = 1,\n",
    "        distance = 2,\n",
    "        kernel = 'rectangular'\n",
    "      )\n",
    "    )\n",
    "    k_fold_res_df <- rbind(\n",
    "      k_fold_res_df,\n",
    "      data_frame(\n",
    "        k = k,\n",
    "        attempt = attempt,\n",
    "        accuracy = model$results$Accuracy, \n",
    "      )\n",
    "    )\n",
    "  }\n",
    "}"
   ]
  },
  {
   "cell_type": "code",
   "execution_count": 12,
   "metadata": {},
   "outputs": [
    {
     "data": {},
     "metadata": {},
     "output_type": "display_data"
    },
    {
     "data": {
      "image/png": "[encoded data removed]",
      "text/plain": [
       "plot without title"
      ]
     },
     "metadata": {},
     "output_type": "display_data"
    }
   ],
   "source": [
    "multi_res_df %>% mutate(attempt = str_c(\"VS \", attempt)) %>%\n",
    "  rbind(res_df %>% select(k,accuracy = test_error) %>% mutate(attempt = \"test\")) %>%\n",
    "  mutate(type = ifelse(attempt == \"test\", \"test\", \"validation set approach\")) %>%\n",
    "  rbind(k_fold_res_df %>% mutate(type = \"10-Fold\") %>% mutate(attempt = str_c(\"KF \", attempt))) %>%\n",
    "  ggplot(aes(x = k, y = accuracy, color = type, group = attempt)) +\n",
    "  geom_line(size = 0.8) + theme_few()"
   ]
  },
  {
   "cell_type": "markdown",
   "metadata": {},
   "source": [
    "Another advantage of the *K-Fold validation* w.r.t. to the *LOOCV* is linked with the *Bias-Variance tradeoff*, using the *LOOCV* we fit *n* models on almost identical dataset and as a consequence the fitted models are highly positive correlated. As a consequence the *test error* estimation derived from *LOOCV* has a high *variance* w.r.t. the one derived from the *K-Fold validation* when K is small enough."
   ]
  },
  {
   "cell_type": "markdown",
   "metadata": {},
   "source": [
    "#### Ensembling"
   ]
  },
  {
   "cell_type": "code",
   "execution_count": 21,
   "metadata": {},
   "outputs": [
    {
     "data": {
      "text/html": [
       "<table>\n",
       "<thead><tr><th scope=col>kmax</th><th scope=col>distance</th><th scope=col>kernel</th><th scope=col>Accuracy</th><th scope=col>Kappa</th><th scope=col>AccuracySD</th><th scope=col>KappaSD</th></tr></thead>\n",
       "<tbody>\n",
       "\t<tr><td>1          </td><td>2          </td><td>rectangular</td><td>0.792893   </td><td>0.5626414  </td><td>0.05663257 </td><td>0.1112675  </td></tr>\n",
       "</tbody>\n",
       "</table>\n"
      ],
      "text/latex": [
       "\\begin{tabular}{r|lllllll}\n",
       " kmax & distance & kernel & Accuracy & Kappa & AccuracySD & KappaSD\\\\\n",
       "\\hline\n",
       "\t 1           & 2           & rectangular & 0.792893    & 0.5626414   & 0.05663257  & 0.1112675  \\\\\n",
       "\\end{tabular}\n"
      ],
      "text/markdown": [
       "\n",
       "kmax | distance | kernel | Accuracy | Kappa | AccuracySD | KappaSD | \n",
       "|---|\n",
       "| 1           | 2           | rectangular | 0.792893    | 0.5626414   | 0.05663257  | 0.1112675   | \n",
       "\n",
       "\n"
      ],
      "text/plain": [
       "  kmax distance kernel      Accuracy Kappa     AccuracySD KappaSD  \n",
       "1 1    2        rectangular 0.792893 0.5626414 0.05663257 0.1112675"
      ]
     },
     "metadata": {},
     "output_type": "display_data"
    }
   ],
   "source": [
    "model$results"
   ]
  }
 ],
 "metadata": {
  "kernelspec": {
   "display_name": "R",
   "language": "R",
   "name": "ir"
  },
  "language_info": {
   "codemirror_mode": "r",
   "file_extension": ".r",
   "mimetype": "text/x-r-source",
   "name": "R",
   "pygments_lexer": "r",
   "version": "3.4.1"
  }
 },
 "nbformat": 4,
 "nbformat_minor": 2
}
