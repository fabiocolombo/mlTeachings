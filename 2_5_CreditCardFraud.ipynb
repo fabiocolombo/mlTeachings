{
 "cells": [
  {
   "cell_type": "markdown",
   "metadata": {},
   "source": [
    "# Credit Card Fraud Detection\n",
    "\n",
    "Let's try and detect credit card frauds!\n",
    "\n",
    "<img src=\"fig/credit_card_fraud.jpg\">\n",
    "\n",
    "This example is built starting from a dataset from the kaggle platform, you can find the original dataset [here](https://www.kaggle.com/mlg-ulb/creditcardfraud).\n",
    "\n",
    "The datasets contains transactions made by credit cards in September 2013 by european cardholders in two days.\n",
    "\n",
    "Given the size of the dataset (284,807 transactions), and since there since it is very unbalanced (\"only\" 492 frauds in two days), we selected a random sample of the normal transactions that we can easily work with. (You can find the code we used [here](src/creditcard/creditcard_subsamples.R))\n",
    "\n",
    "Let's import the csv file and take a look!"
   ]
  },
  {
   "cell_type": "code",
   "execution_count": 1,
   "metadata": {},
   "outputs": [],
   "source": [
    "source('src/lib.R')"
   ]
  },
  {
   "cell_type": "code",
   "execution_count": 2,
   "metadata": {},
   "outputs": [],
   "source": [
    "# import the data\n",
    "creditcard = read_csv('data/creditcard_15k.csv', col_types = cols())"
   ]
  },
  {
   "cell_type": "markdown",
   "metadata": {},
   "source": [
    "## Let's have a look at the data\n",
    "\n",
    "The data is composed of only numerical input variables (V1, V2, ... V28 are the result of a PCA transformation). Unfortunately, due to confidentiality issues, we do not have the original features and more background information about the data. The only original features are 'Time' and 'Amount'. Feature 'Time' contains the seconds elapsed between each transaction and the first transaction in the dataset. The feature 'Amount' is the transaction Amount."
   ]
  },
  {
   "cell_type": "code",
   "execution_count": 3,
   "metadata": {},
   "outputs": [
    {
     "data": {
      "text/html": [
       "<table>\n",
       "<thead><tr><th scope=col>Time</th><th scope=col>V1</th><th scope=col>V2</th><th scope=col>V3</th><th scope=col>V4</th><th scope=col>V5</th><th scope=col>V6</th><th scope=col>V7</th><th scope=col>V8</th><th scope=col>V9</th><th scope=col>...</th><th scope=col>V21</th><th scope=col>V22</th><th scope=col>V23</th><th scope=col>V24</th><th scope=col>V25</th><th scope=col>V26</th><th scope=col>V27</th><th scope=col>V28</th><th scope=col>Amount</th><th scope=col>Class</th></tr></thead>\n",
       "<tbody>\n",
       "\t<tr><td> 26         </td><td>-0.5299123  </td><td> 0.87389158 </td><td>1.34724733  </td><td> 0.1454567  </td><td> 0.41420886 </td><td> 0.10022309 </td><td> 0.71120608 </td><td> 0.176065957</td><td>-0.28671694 </td><td>...         </td><td> 0.046949067</td><td> 0.2081049  </td><td>-0.18554835 </td><td> 0.00103066 </td><td> 0.0988157  </td><td>-0.55290360 </td><td>-0.073288084</td><td> 0.02330704 </td><td>  6.14      </td><td>0           </td></tr>\n",
       "\t<tr><td> 34         </td><td>-0.7622557  </td><td> 0.12776775 </td><td>2.65005639  </td><td>-1.8756628  </td><td>-0.89335640 </td><td>-0.26871489 </td><td>-0.41986360 </td><td> 0.146233407</td><td>-0.86963529 </td><td>...         </td><td> 0.433349642</td><td> 1.2604027  </td><td>-0.40470004 </td><td> 0.09494552 </td><td> 0.4809760  </td><td>-0.09068468 </td><td> 0.319222973</td><td> 0.13559993 </td><td> 15.99      </td><td>0           </td></tr>\n",
       "\t<tr><td> 49         </td><td> 0.9215437  </td><td>-0.06708375 </td><td>0.07746103  </td><td> 0.9536382  </td><td> 0.06741246 </td><td> 0.01615247 </td><td> 0.32045156 </td><td> 0.038534028</td><td>-0.39151266 </td><td>...         </td><td>-0.333929581</td><td>-1.2999196  </td><td> 0.08431099 </td><td>-0.37039787 </td><td> 0.1551016  </td><td>-0.83449036 </td><td> 0.000909065</td><td> 0.03554688 </td><td>135.51      </td><td>0           </td></tr>\n",
       "\t<tr><td> 51         </td><td> 1.2598731  </td><td> 0.25423958 </td><td>0.51478863  </td><td> 0.6209243  </td><td>-0.47593010 </td><td>-0.99228584 </td><td> 0.06641651 </td><td>-0.209275058</td><td> 0.03557156 </td><td>...         </td><td>-0.256530536</td><td>-0.7392117  </td><td> 0.13573238 </td><td> 0.38198987 </td><td> 0.2193019  </td><td> 0.09429069 </td><td>-0.028686668</td><td> 0.01919759 </td><td>  1.98      </td><td>0           </td></tr>\n",
       "\t<tr><td> 53         </td><td>-1.1989677  </td><td>-1.47410047 </td><td>1.84032599  </td><td>-4.5158244  </td><td> 0.32756743 </td><td>-0.17446928 </td><td> 0.95972570 </td><td>-1.026456228</td><td> 1.70043458 </td><td>...         </td><td>-0.453169417</td><td> 0.3346140  </td><td>-0.36454141 </td><td>-0.31018578 </td><td>-0.3025995  </td><td>-1.24392415 </td><td>-1.123456545</td><td>-0.73435109 </td><td> 89.17      </td><td>0           </td></tr>\n",
       "\t<tr><td>111         </td><td>-0.8208602  </td><td> 1.02256699 </td><td>1.99656036  </td><td> 1.1801408  </td><td> 0.23246391 </td><td>-0.12395255 </td><td> 0.68437085 </td><td>-0.008256437</td><td>-0.57241030 </td><td>...         </td><td> 0.000169258</td><td> 0.1833824  </td><td>-0.29991512 </td><td> 0.43180637 </td><td> 0.4567055  </td><td>-0.21329820 </td><td>-0.033160782</td><td> 0.08837199 </td><td>  9.99      </td><td>0           </td></tr>\n",
       "</tbody>\n",
       "</table>\n"
      ],
      "text/latex": [
       "\\begin{tabular}{r|lllllllllllllllllllllllllllllll}\n",
       " Time & V1 & V2 & V3 & V4 & V5 & V6 & V7 & V8 & V9 & ... & V21 & V22 & V23 & V24 & V25 & V26 & V27 & V28 & Amount & Class\\\\\n",
       "\\hline\n",
       "\t  26          & -0.5299123   &  0.87389158  & 1.34724733   &  0.1454567   &  0.41420886  &  0.10022309  &  0.71120608  &  0.176065957 & -0.28671694  & ...          &  0.046949067 &  0.2081049   & -0.18554835  &  0.00103066  &  0.0988157   & -0.55290360  & -0.073288084 &  0.02330704  &   6.14       & 0           \\\\\n",
       "\t  34          & -0.7622557   &  0.12776775  & 2.65005639   & -1.8756628   & -0.89335640  & -0.26871489  & -0.41986360  &  0.146233407 & -0.86963529  & ...          &  0.433349642 &  1.2604027   & -0.40470004  &  0.09494552  &  0.4809760   & -0.09068468  &  0.319222973 &  0.13559993  &  15.99       & 0           \\\\\n",
       "\t  49          &  0.9215437   & -0.06708375  & 0.07746103   &  0.9536382   &  0.06741246  &  0.01615247  &  0.32045156  &  0.038534028 & -0.39151266  & ...          & -0.333929581 & -1.2999196   &  0.08431099  & -0.37039787  &  0.1551016   & -0.83449036  &  0.000909065 &  0.03554688  & 135.51       & 0           \\\\\n",
       "\t  51          &  1.2598731   &  0.25423958  & 0.51478863   &  0.6209243   & -0.47593010  & -0.99228584  &  0.06641651  & -0.209275058 &  0.03557156  & ...          & -0.256530536 & -0.7392117   &  0.13573238  &  0.38198987  &  0.2193019   &  0.09429069  & -0.028686668 &  0.01919759  &   1.98       & 0           \\\\\n",
       "\t  53          & -1.1989677   & -1.47410047  & 1.84032599   & -4.5158244   &  0.32756743  & -0.17446928  &  0.95972570  & -1.026456228 &  1.70043458  & ...          & -0.453169417 &  0.3346140   & -0.36454141  & -0.31018578  & -0.3025995   & -1.24392415  & -1.123456545 & -0.73435109  &  89.17       & 0           \\\\\n",
       "\t 111          & -0.8208602   &  1.02256699  & 1.99656036   &  1.1801408   &  0.23246391  & -0.12395255  &  0.68437085  & -0.008256437 & -0.57241030  & ...          &  0.000169258 &  0.1833824   & -0.29991512  &  0.43180637  &  0.4567055   & -0.21329820  & -0.033160782 &  0.08837199  &   9.99       & 0           \\\\\n",
       "\\end{tabular}\n"
      ],
      "text/markdown": [
       "\n",
       "Time | V1 | V2 | V3 | V4 | V5 | V6 | V7 | V8 | V9 | ... | V21 | V22 | V23 | V24 | V25 | V26 | V27 | V28 | Amount | Class | \n",
       "|---|---|---|---|---|---|\n",
       "|  26          | -0.5299123   |  0.87389158  | 1.34724733   |  0.1454567   |  0.41420886  |  0.10022309  |  0.71120608  |  0.176065957 | -0.28671694  | ...          |  0.046949067 |  0.2081049   | -0.18554835  |  0.00103066  |  0.0988157   | -0.55290360  | -0.073288084 |  0.02330704  |   6.14       | 0            | \n",
       "|  34          | -0.7622557   |  0.12776775  | 2.65005639   | -1.8756628   | -0.89335640  | -0.26871489  | -0.41986360  |  0.146233407 | -0.86963529  | ...          |  0.433349642 |  1.2604027   | -0.40470004  |  0.09494552  |  0.4809760   | -0.09068468  |  0.319222973 |  0.13559993  |  15.99       | 0            | \n",
       "|  49          |  0.9215437   | -0.06708375  | 0.07746103   |  0.9536382   |  0.06741246  |  0.01615247  |  0.32045156  |  0.038534028 | -0.39151266  | ...          | -0.333929581 | -1.2999196   |  0.08431099  | -0.37039787  |  0.1551016   | -0.83449036  |  0.000909065 |  0.03554688  | 135.51       | 0            | \n",
       "|  51          |  1.2598731   |  0.25423958  | 0.51478863   |  0.6209243   | -0.47593010  | -0.99228584  |  0.06641651  | -0.209275058 |  0.03557156  | ...          | -0.256530536 | -0.7392117   |  0.13573238  |  0.38198987  |  0.2193019   |  0.09429069  | -0.028686668 |  0.01919759  |   1.98       | 0            | \n",
       "|  53          | -1.1989677   | -1.47410047  | 1.84032599   | -4.5158244   |  0.32756743  | -0.17446928  |  0.95972570  | -1.026456228 |  1.70043458  | ...          | -0.453169417 |  0.3346140   | -0.36454141  | -0.31018578  | -0.3025995   | -1.24392415  | -1.123456545 | -0.73435109  |  89.17       | 0            | \n",
       "| 111          | -0.8208602   |  1.02256699  | 1.99656036   |  1.1801408   |  0.23246391  | -0.12395255  |  0.68437085  | -0.008256437 | -0.57241030  | ...          |  0.000169258 |  0.1833824   | -0.29991512  |  0.43180637  |  0.4567055   | -0.21329820  | -0.033160782 |  0.08837199  |   9.99       | 0            | \n",
       "\n",
       "\n"
      ],
      "text/plain": [
       "  Time V1         V2          V3         V4         V5          V6         \n",
       "1  26  -0.5299123  0.87389158 1.34724733  0.1454567  0.41420886  0.10022309\n",
       "2  34  -0.7622557  0.12776775 2.65005639 -1.8756628 -0.89335640 -0.26871489\n",
       "3  49   0.9215437 -0.06708375 0.07746103  0.9536382  0.06741246  0.01615247\n",
       "4  51   1.2598731  0.25423958 0.51478863  0.6209243 -0.47593010 -0.99228584\n",
       "5  53  -1.1989677 -1.47410047 1.84032599 -4.5158244  0.32756743 -0.17446928\n",
       "6 111  -0.8208602  1.02256699 1.99656036  1.1801408  0.23246391 -0.12395255\n",
       "  V7          V8           V9          ... V21          V22        V23        \n",
       "1  0.71120608  0.176065957 -0.28671694 ...  0.046949067  0.2081049 -0.18554835\n",
       "2 -0.41986360  0.146233407 -0.86963529 ...  0.433349642  1.2604027 -0.40470004\n",
       "3  0.32045156  0.038534028 -0.39151266 ... -0.333929581 -1.2999196  0.08431099\n",
       "4  0.06641651 -0.209275058  0.03557156 ... -0.256530536 -0.7392117  0.13573238\n",
       "5  0.95972570 -1.026456228  1.70043458 ... -0.453169417  0.3346140 -0.36454141\n",
       "6  0.68437085 -0.008256437 -0.57241030 ...  0.000169258  0.1833824 -0.29991512\n",
       "  V24         V25        V26         V27          V28         Amount Class\n",
       "1  0.00103066  0.0988157 -0.55290360 -0.073288084  0.02330704   6.14 0    \n",
       "2  0.09494552  0.4809760 -0.09068468  0.319222973  0.13559993  15.99 0    \n",
       "3 -0.37039787  0.1551016 -0.83449036  0.000909065  0.03554688 135.51 0    \n",
       "4  0.38198987  0.2193019  0.09429069 -0.028686668  0.01919759   1.98 0    \n",
       "5 -0.31018578 -0.3025995 -1.24392415 -1.123456545 -0.73435109  89.17 0    \n",
       "6  0.43180637  0.4567055 -0.21329820 -0.033160782  0.08837199   9.99 0    "
      ]
     },
     "metadata": {},
     "output_type": "display_data"
    }
   ],
   "source": [
    "creditcard %>% head()"
   ]
  },
  {
   "cell_type": "markdown",
   "metadata": {},
   "source": [
    "The column 'Class' is our label, it equals 1 in case of fraud and 0 otherwise:"
   ]
  },
  {
   "cell_type": "code",
   "execution_count": 4,
   "metadata": {},
   "outputs": [
    {
     "data": {
      "text/html": [
       "<table>\n",
       "<thead><tr><th scope=col>Class</th><th scope=col>Transactions</th><th scope=col>Average_Amount</th></tr></thead>\n",
       "<tbody>\n",
       "\t<tr><td>0        </td><td>14508    </td><td> 89.88984</td></tr>\n",
       "\t<tr><td>1        </td><td>  492    </td><td>122.21132</td></tr>\n",
       "</tbody>\n",
       "</table>\n"
      ],
      "text/latex": [
       "\\begin{tabular}{r|lll}\n",
       " Class & Transactions & Average\\_Amount\\\\\n",
       "\\hline\n",
       "\t 0         & 14508     &  89.88984\\\\\n",
       "\t 1         &   492     & 122.21132\\\\\n",
       "\\end{tabular}\n"
      ],
      "text/markdown": [
       "\n",
       "Class | Transactions | Average_Amount | \n",
       "|---|---|\n",
       "| 0         | 14508     |  89.88984 | \n",
       "| 1         |   492     | 122.21132 | \n",
       "\n",
       "\n"
      ],
      "text/plain": [
       "  Class Transactions Average_Amount\n",
       "1 0     14508         89.88984     \n",
       "2 1       492        122.21132     "
      ]
     },
     "metadata": {},
     "output_type": "display_data"
    }
   ],
   "source": [
    "creditcard %>% group_by(Class) %>%\n",
    "  summarise(Transactions = n(), Average_Amount = mean(Amount))"
   ]
  },
  {
   "cell_type": "markdown",
   "metadata": {},
   "source": [
    "We can take a look at the amounts:"
   ]
  },
  {
   "cell_type": "code",
   "execution_count": 5,
   "metadata": {},
   "outputs": [
    {
     "data": {
      "text/html": [
       "<table>\n",
       "<thead><tr><th scope=col>Transactions</th><th scope=col>Average_Amount</th><th scope=col>Minimum_Amount</th><th scope=col>Maximum_Amount</th></tr></thead>\n",
       "<tbody>\n",
       "\t<tr><td>15000   </td><td>90.94998</td><td>0       </td><td>10199.44</td></tr>\n",
       "</tbody>\n",
       "</table>\n"
      ],
      "text/latex": [
       "\\begin{tabular}{r|llll}\n",
       " Transactions & Average\\_Amount & Minimum\\_Amount & Maximum\\_Amount\\\\\n",
       "\\hline\n",
       "\t 15000    & 90.94998 & 0        & 10199.44\\\\\n",
       "\\end{tabular}\n"
      ],
      "text/markdown": [
       "\n",
       "Transactions | Average_Amount | Minimum_Amount | Maximum_Amount | \n",
       "|---|\n",
       "| 15000    | 90.94998 | 0        | 10199.44 | \n",
       "\n",
       "\n"
      ],
      "text/plain": [
       "  Transactions Average_Amount Minimum_Amount Maximum_Amount\n",
       "1 15000        90.94998       0              10199.44      "
      ]
     },
     "metadata": {},
     "output_type": "display_data"
    },
    {
     "data": {},
     "metadata": {},
     "output_type": "display_data"
    },
    {
     "data": {
      "image/png": "[encoded data removed]",
      "text/plain": [
       "plot without title"
      ]
     },
     "metadata": {},
     "output_type": "display_data"
    }
   ],
   "source": [
    "creditcard %>%\n",
    "  summarise(Transactions = n(),\n",
    "            Average_Amount = mean(Amount),\n",
    "            Minimum_Amount = min(Amount),\n",
    "            Maximum_Amount = max(Amount))\n",
    "\n",
    "options(repr.plot.width=7, repr.plot.height=3)\n",
    "creditcard %>%\n",
    "  ggplot(aes(x = Amount)) + geom_histogram(binwidth = 100) + \n",
    "  labs(title='Transaction Amounts', y='Logarithm of frequency') +\n",
    "  scale_y_log10() + xlim(c(0,10000)) #+ theme(legend.position = \"none\")"
   ]
  },
  {
   "cell_type": "markdown",
   "metadata": {},
   "source": [
    "## Correlations\n",
    "\n",
    "Let's calculate the Pearson correlation for the data."
   ]
  },
  {
   "cell_type": "code",
   "execution_count": 6,
   "metadata": {},
   "outputs": [
    {
     "data": {},
     "metadata": {},
     "output_type": "display_data"
    },
    {
     "data": {
      "image/png": "[encoded data removed]",
      "text/plain": [
       "plot without title"
      ]
     },
     "metadata": {},
     "output_type": "display_data"
    }
   ],
   "source": [
    "correlations = creditcard  %>% cor(use = \"complete.obs\", method = \"pearson\")\n",
    "\n",
    "correlations[upper.tri(correlations)] = 0\n",
    "\n",
    "correlations_gathered = as.data.frame(correlations) %>% \n",
    "  mutate(Var1 = factor(row.names(.), levels=row.names(.))) %>% \n",
    "  gather(key = Var2, value = value, -Var1, na.rm = TRUE, factor_key = TRUE) \n",
    "\n",
    "options(repr.plot.width=6, repr.plot.height=6)\n",
    "ggplot(data = correlations_gathered, aes(Var2, Var1, fill = value)) + \n",
    "  geom_tile(color = \"white\")+\n",
    "  scale_fill_gradient2(low = \"blue\", high = \"red\", mid = \"white\",\n",
    "                       midpoint = 0, limit = c(-1,1), space = \"Lab\",\n",
    "                       name=\"Pearson\\nCorrelation\") +\n",
    "  theme_minimal() +\n",
    "  theme(axis.text.y = element_text(angle = 0, vjust = 1,\n",
    "                                   size = 8, hjust = 1),\n",
    "        axis.text.x = element_blank()) + xlab(\"\") + ylab('Variables') +\n",
    " ggtitle('Correlation Heatmap') +\n",
    " coord_fixed()"
   ]
  },
  {
   "cell_type": "markdown",
   "metadata": {},
   "source": [
    "The features are mostly not correlated (because of the PCA algorithm)."
   ]
  },
  {
   "cell_type": "markdown",
   "metadata": {},
   "source": [
    "## Pre-processing the data"
   ]
  },
  {
   "cell_type": "code",
   "execution_count": 7,
   "metadata": {},
   "outputs": [],
   "source": [
    "## let's set up the features...\n",
    "features =\n",
    "    creditcard %>%\n",
    "    select(Time, # select features\n",
    "           V1:V28,\n",
    "           Amount) %>% \n",
    "    mutate_if(is.character, fct_explicit_na) %>% # assign levels to missing obs\n",
    "    mutate_all(as.numeric) %>% mutate_all(funs(replace(., is.na(.), 0))) %>% # set missing obs to 0\n",
    "    mutate_all(scale) # normalize data\n",
    "\n",
    "data = features\n",
    "\n",
    "## and the labels\n",
    "data$Class = creditcard$Class %>% recode('1' = 'Fraud', '0' = 'Normal') %>% factor"
   ]
  },
  {
   "cell_type": "markdown",
   "metadata": {},
   "source": [
    "## Partitioning the data\n",
    "\n",
    "Let's partition the dataset into training and testing subsamples."
   ]
  },
  {
   "cell_type": "code",
   "execution_count": 8,
   "metadata": {},
   "outputs": [
    {
     "name": "stdout",
     "output_type": "stream",
     "text": [
      "train data size\n"
     ]
    },
    {
     "data": {
      "text/html": [
       "<ol class=list-inline>\n",
       "\t<li>10500</li>\n",
       "\t<li>31</li>\n",
       "</ol>\n"
      ],
      "text/latex": [
       "\\begin{enumerate*}\n",
       "\\item 10500\n",
       "\\item 31\n",
       "\\end{enumerate*}\n"
      ],
      "text/markdown": [
       "1. 10500\n",
       "2. 31\n",
       "\n",
       "\n"
      ],
      "text/plain": [
       "[1] 10500    31"
      ]
     },
     "metadata": {},
     "output_type": "display_data"
    },
    {
     "name": "stdout",
     "output_type": "stream",
     "text": [
      "test data size\n"
     ]
    },
    {
     "data": {
      "text/html": [
       "<ol class=list-inline>\n",
       "\t<li>4500</li>\n",
       "\t<li>31</li>\n",
       "</ol>\n"
      ],
      "text/latex": [
       "\\begin{enumerate*}\n",
       "\\item 4500\n",
       "\\item 31\n",
       "\\end{enumerate*}\n"
      ],
      "text/markdown": [
       "1. 4500\n",
       "2. 31\n",
       "\n",
       "\n"
      ],
      "text/plain": [
       "[1] 4500   31"
      ]
     },
     "metadata": {},
     "output_type": "display_data"
    }
   ],
   "source": [
    "set.seed(123)\n",
    "\n",
    "partition = data %>% nrow %>% seq_len %>% createDataPartition(times = 1, p = 0.7, list = F)\n",
    "\n",
    "train = data %>% slice(partition)\n",
    "test = data %>% slice(-partition)\n",
    "\n",
    "cat('train data size\\n')\n",
    "train %>% dim\n",
    "\n",
    "cat('test data size\\n')\n",
    "test %>% dim"
   ]
  },
  {
   "cell_type": "markdown",
   "metadata": {},
   "source": [
    "## Fitting a model\n",
    "\n",
    "Let's try and fit a model!"
   ]
  },
  {
   "cell_type": "code",
   "execution_count": 9,
   "metadata": {},
   "outputs": [
    {
     "name": "stdout",
     "output_type": "stream",
     "text": [
      "training started at"
     ]
    },
    {
     "data": {
      "text/plain": [
       "[1] \"2018-06-05 10:26:10 CEST\""
      ]
     },
     "metadata": {},
     "output_type": "display_data"
    },
    {
     "name": "stdout",
     "output_type": "stream",
     "text": [
      "Fitting kmax = 5, distance = 2, kernel = optimal on full training set\n",
      "training finished at"
     ]
    },
    {
     "data": {
      "text/plain": [
       "[1] \"2018-06-05 10:26:17 CEST\""
      ]
     },
     "metadata": {},
     "output_type": "display_data"
    },
    {
     "name": "stdout",
     "output_type": "stream",
     "text": [
      "\n",
      "This is the resulting model:\n"
     ]
    },
    {
     "data": {
      "text/plain": [
       "k-Nearest Neighbors \n",
       "\n",
       "10500 samples\n",
       "   30 predictor\n",
       "    2 classes: 'Fraud', 'Normal' \n",
       "\n",
       "No pre-processing\n",
       "Resampling: None "
      ]
     },
     "metadata": {},
     "output_type": "display_data"
    }
   ],
   "source": [
    "cat('training started at')\n",
    "Sys.time()\n",
    "\n",
    "#####################\n",
    "# Modify this part! #\n",
    "#####################\n",
    "model = train(x = train %>% select(-Class),\n",
    "              y = train %>% pull(Class),\n",
    "              method = 'kknn', ## how about a different model?\n",
    "              ks = 5,  ## or different hyperparameters?\n",
    "              trControl = trainControl(method = 'none', verboseIter = T)\n",
    ")\n",
    "#####################\n",
    "\n",
    "cat('training finished at')\n",
    "Sys.time()\n",
    "\n",
    "cat('\\nThis is the resulting model:\\n')\n",
    "\n",
    "model"
   ]
  },
  {
   "cell_type": "markdown",
   "metadata": {},
   "source": [
    "## How did we do?"
   ]
  },
  {
   "cell_type": "code",
   "execution_count": 10,
   "metadata": {},
   "outputs": [
    {
     "data": {
      "text/plain": [
       "Confusion Matrix and Statistics\n",
       "\n",
       "          Reference\n",
       "Prediction Fraud Normal\n",
       "    Fraud    139     16\n",
       "    Normal    19   4326\n",
       "                                          \n",
       "               Accuracy : 0.9922          \n",
       "                 95% CI : (0.9892, 0.9946)\n",
       "    No Information Rate : 0.9649          \n",
       "    P-Value [Acc > NIR] : <2e-16          \n",
       "                                          \n",
       "                  Kappa : 0.8842          \n",
       " Mcnemar's Test P-Value : 0.7353          \n",
       "                                          \n",
       "            Sensitivity : 0.87975         \n",
       "            Specificity : 0.99632         \n",
       "         Pos Pred Value : 0.89677         \n",
       "         Neg Pred Value : 0.99563         \n",
       "             Prevalence : 0.03511         \n",
       "         Detection Rate : 0.03089         \n",
       "   Detection Prevalence : 0.03444         \n",
       "      Balanced Accuracy : 0.93803         \n",
       "                                          \n",
       "       'Positive' Class : Fraud           \n",
       "                                          "
      ]
     },
     "metadata": {},
     "output_type": "display_data"
    }
   ],
   "source": [
    "test_response = model %>%\n",
    "  predict(newdata = test %>% select(-Class))\n",
    "\n",
    "confusionMatrix(test_response,\n",
    "                test %>% pull(Class),\n",
    "                positive = 'Fraud')"
   ]
  },
  {
   "cell_type": "markdown",
   "metadata": {},
   "source": [
    "## How did we really do?\n",
    "\n",
    "Since fraud detection is so unbalanced toward normal transactions, we should use the AUROC as a measure of performance:"
   ]
  },
  {
   "cell_type": "code",
   "execution_count": 11,
   "metadata": {},
   "outputs": [
    {
     "data": {
      "text/html": [
       "<strong>AR:</strong> 0.88"
      ],
      "text/latex": [
       "\\textbf{AR:} 0.88"
      ],
      "text/markdown": [
       "**AR:** 0.88"
      ],
      "text/plain": [
       "  AR \n",
       "0.88 "
      ]
     },
     "metadata": {},
     "output_type": "display_data"
    }
   ],
   "source": [
    "roc(test_response,\n",
    "    test$Class) %>% \n",
    "    auc(.) %>% round(2)*2-1 %>% list('AR' = .) %>% unlist"
   ]
  },
  {
   "cell_type": "markdown",
   "metadata": {},
   "source": [
    "## Now...\n",
    "\n",
    "...go back and modify the code!\n",
    "\n",
    "* How about different models/hyperparameters?\n",
    "* Given a model, can you tune its hyperparameters?\n",
    "* What about mixing two or three models with an ensamble?\n",
    "* What is the highest AUROC you can get?"
   ]
  }
 ],
 "metadata": {
  "kernelspec": {
   "display_name": "R",
   "language": "R",
   "name": "ir"
  },
  "language_info": {
   "codemirror_mode": "r",
   "file_extension": ".r",
   "mimetype": "text/x-r-source",
   "name": "R",
   "pygments_lexer": "r",
   "version": "3.4.1"
  }
 },
 "nbformat": 4,
 "nbformat_minor": 2
}
