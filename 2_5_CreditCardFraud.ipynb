{
 "cells": [
  {
   "cell_type": "markdown",
   "metadata": {},
   "source": [
    "# Credit Card Fraud Detection\n",
    "\n",
    "Let's try and detect credit card frauds!\n",
    "\n",
    "<img src=\"fig/credit_card_fraud.jpg\">\n",
    "\n",
    "This example uses a dataset from the kaggle platform, you can find it [here](https://www.kaggle.com/mlg-ulb/creditcardfraud).\n",
    "\n",
    "The datasets contains transactions made by credit cards in September 2013 by european cardholders. This dataset presents transactions that occurred in **two days**.\n",
    "\n",
    "We have downloaded the csv file for you, let's take a look!"
   ]
  },
  {
   "cell_type": "code",
   "execution_count": 1,
   "metadata": {},
   "outputs": [],
   "source": [
    "source('src/lib.R')"
   ]
  },
  {
   "cell_type": "code",
   "execution_count": 2,
   "metadata": {},
   "outputs": [],
   "source": [
    "# import the data\n",
    "creditcard = read_csv('data/creditcard.csv', col_types = cols())"
   ]
  },
  {
   "cell_type": "markdown",
   "metadata": {},
   "source": [
    "## Let's have a look at the data\n",
    "\n",
    "The data is composed of only numerical input variables (V1, V2, ... V28 are the result of a PCA transformation). Unfortunately, due to confidentiality issues, we do not have the original features and more background information about the data. The only original features are 'Time' and 'Amount'. Feature 'Time' contains the seconds elapsed between each transaction and the first transaction in the dataset. The feature 'Amount' is the transaction Amount."
   ]
  },
  {
   "cell_type": "code",
   "execution_count": 3,
   "metadata": {},
   "outputs": [
    {
     "data": {
      "text/html": [
       "<table>\n",
       "<thead><tr><th scope=col>Time</th><th scope=col>V1</th><th scope=col>V2</th><th scope=col>V3</th><th scope=col>V4</th><th scope=col>V5</th><th scope=col>V6</th><th scope=col>V7</th><th scope=col>V8</th><th scope=col>V9</th><th scope=col>...</th><th scope=col>V21</th><th scope=col>V22</th><th scope=col>V23</th><th scope=col>V24</th><th scope=col>V25</th><th scope=col>V26</th><th scope=col>V27</th><th scope=col>V28</th><th scope=col>Amount</th><th scope=col>Class</th></tr></thead>\n",
       "<tbody>\n",
       "\t<tr><td>0           </td><td>-1.3598071  </td><td>-0.07278117 </td><td>2.5363467   </td><td> 1.3781552  </td><td>-0.33832077 </td><td> 0.46238778 </td><td> 0.23959855 </td><td> 0.09869790 </td><td> 0.3637870  </td><td>...         </td><td>-0.018306778</td><td> 0.277837576</td><td>-0.11047391 </td><td> 0.06692808 </td><td> 0.1285394  </td><td>-0.1891148  </td><td> 0.133558377</td><td>-0.02105305 </td><td>149.62      </td><td>0           </td></tr>\n",
       "\t<tr><td>0           </td><td> 1.1918571  </td><td> 0.26615071 </td><td>0.1664801   </td><td> 0.4481541  </td><td> 0.06001765 </td><td>-0.08236081 </td><td>-0.07880298 </td><td> 0.08510165 </td><td>-0.2554251  </td><td>...         </td><td>-0.225775248</td><td>-0.638671953</td><td> 0.10128802 </td><td>-0.33984648 </td><td> 0.1671704  </td><td> 0.1258945  </td><td>-0.008983099</td><td> 0.01472417 </td><td>  2.69      </td><td>0           </td></tr>\n",
       "\t<tr><td>1           </td><td>-1.3583541  </td><td>-1.34016307 </td><td>1.7732093   </td><td> 0.3797796  </td><td>-0.50319813 </td><td> 1.80049938 </td><td> 0.79146096 </td><td> 0.24767579 </td><td>-1.5146543  </td><td>...         </td><td> 0.247998153</td><td> 0.771679402</td><td> 0.90941226 </td><td>-0.68928096 </td><td>-0.3276418  </td><td>-0.1390966  </td><td>-0.055352794</td><td>-0.05975184 </td><td>378.66      </td><td>0           </td></tr>\n",
       "\t<tr><td>1           </td><td>-0.9662717  </td><td>-0.18522601 </td><td>1.7929933   </td><td>-0.8632913  </td><td>-0.01030888 </td><td> 1.24720317 </td><td> 0.23760894 </td><td> 0.37743587 </td><td>-1.3870241  </td><td>...         </td><td>-0.108300452</td><td> 0.005273597</td><td>-0.19032052 </td><td>-1.17557533 </td><td> 0.6473760  </td><td>-0.2219288  </td><td> 0.062722849</td><td> 0.06145763 </td><td>123.50      </td><td>0           </td></tr>\n",
       "\t<tr><td>2           </td><td>-1.1582331  </td><td> 0.87773676 </td><td>1.5487178   </td><td> 0.4030339  </td><td>-0.40719338 </td><td> 0.09592146 </td><td> 0.59294075 </td><td>-0.27053268 </td><td> 0.8177393  </td><td>...         </td><td>-0.009430697</td><td> 0.798278495</td><td>-0.13745808 </td><td> 0.14126698 </td><td>-0.2060096  </td><td> 0.5022922  </td><td> 0.219422230</td><td> 0.21515315 </td><td> 69.99      </td><td>0           </td></tr>\n",
       "\t<tr><td>2           </td><td>-0.4259659  </td><td> 0.96052304 </td><td>1.1411093   </td><td>-0.1682521  </td><td> 0.42098688 </td><td>-0.02972755 </td><td> 0.47620095 </td><td> 0.26031433 </td><td>-0.5686714  </td><td>...         </td><td>-0.208253515</td><td>-0.559824796</td><td>-0.02639767 </td><td>-0.37142658 </td><td>-0.2327938  </td><td> 0.1059148  </td><td> 0.253844225</td><td> 0.08108026 </td><td>  3.67      </td><td>0           </td></tr>\n",
       "</tbody>\n",
       "</table>\n"
      ],
      "text/latex": [
       "\\begin{tabular}{r|lllllllllllllllllllllllllllllll}\n",
       " Time & V1 & V2 & V3 & V4 & V5 & V6 & V7 & V8 & V9 & ... & V21 & V22 & V23 & V24 & V25 & V26 & V27 & V28 & Amount & Class\\\\\n",
       "\\hline\n",
       "\t 0            & -1.3598071   & -0.07278117  & 2.5363467    &  1.3781552   & -0.33832077  &  0.46238778  &  0.23959855  &  0.09869790  &  0.3637870   & ...          & -0.018306778 &  0.277837576 & -0.11047391  &  0.06692808  &  0.1285394   & -0.1891148   &  0.133558377 & -0.02105305  & 149.62       & 0           \\\\\n",
       "\t 0            &  1.1918571   &  0.26615071  & 0.1664801    &  0.4481541   &  0.06001765  & -0.08236081  & -0.07880298  &  0.08510165  & -0.2554251   & ...          & -0.225775248 & -0.638671953 &  0.10128802  & -0.33984648  &  0.1671704   &  0.1258945   & -0.008983099 &  0.01472417  &   2.69       & 0           \\\\\n",
       "\t 1            & -1.3583541   & -1.34016307  & 1.7732093    &  0.3797796   & -0.50319813  &  1.80049938  &  0.79146096  &  0.24767579  & -1.5146543   & ...          &  0.247998153 &  0.771679402 &  0.90941226  & -0.68928096  & -0.3276418   & -0.1390966   & -0.055352794 & -0.05975184  & 378.66       & 0           \\\\\n",
       "\t 1            & -0.9662717   & -0.18522601  & 1.7929933    & -0.8632913   & -0.01030888  &  1.24720317  &  0.23760894  &  0.37743587  & -1.3870241   & ...          & -0.108300452 &  0.005273597 & -0.19032052  & -1.17557533  &  0.6473760   & -0.2219288   &  0.062722849 &  0.06145763  & 123.50       & 0           \\\\\n",
       "\t 2            & -1.1582331   &  0.87773676  & 1.5487178    &  0.4030339   & -0.40719338  &  0.09592146  &  0.59294075  & -0.27053268  &  0.8177393   & ...          & -0.009430697 &  0.798278495 & -0.13745808  &  0.14126698  & -0.2060096   &  0.5022922   &  0.219422230 &  0.21515315  &  69.99       & 0           \\\\\n",
       "\t 2            & -0.4259659   &  0.96052304  & 1.1411093    & -0.1682521   &  0.42098688  & -0.02972755  &  0.47620095  &  0.26031433  & -0.5686714   & ...          & -0.208253515 & -0.559824796 & -0.02639767  & -0.37142658  & -0.2327938   &  0.1059148   &  0.253844225 &  0.08108026  &   3.67       & 0           \\\\\n",
       "\\end{tabular}\n"
      ],
      "text/markdown": [
       "\n",
       "Time | V1 | V2 | V3 | V4 | V5 | V6 | V7 | V8 | V9 | ... | V21 | V22 | V23 | V24 | V25 | V26 | V27 | V28 | Amount | Class | \n",
       "|---|---|---|---|---|---|\n",
       "| 0            | -1.3598071   | -0.07278117  | 2.5363467    |  1.3781552   | -0.33832077  |  0.46238778  |  0.23959855  |  0.09869790  |  0.3637870   | ...          | -0.018306778 |  0.277837576 | -0.11047391  |  0.06692808  |  0.1285394   | -0.1891148   |  0.133558377 | -0.02105305  | 149.62       | 0            | \n",
       "| 0            |  1.1918571   |  0.26615071  | 0.1664801    |  0.4481541   |  0.06001765  | -0.08236081  | -0.07880298  |  0.08510165  | -0.2554251   | ...          | -0.225775248 | -0.638671953 |  0.10128802  | -0.33984648  |  0.1671704   |  0.1258945   | -0.008983099 |  0.01472417  |   2.69       | 0            | \n",
       "| 1            | -1.3583541   | -1.34016307  | 1.7732093    |  0.3797796   | -0.50319813  |  1.80049938  |  0.79146096  |  0.24767579  | -1.5146543   | ...          |  0.247998153 |  0.771679402 |  0.90941226  | -0.68928096  | -0.3276418   | -0.1390966   | -0.055352794 | -0.05975184  | 378.66       | 0            | \n",
       "| 1            | -0.9662717   | -0.18522601  | 1.7929933    | -0.8632913   | -0.01030888  |  1.24720317  |  0.23760894  |  0.37743587  | -1.3870241   | ...          | -0.108300452 |  0.005273597 | -0.19032052  | -1.17557533  |  0.6473760   | -0.2219288   |  0.062722849 |  0.06145763  | 123.50       | 0            | \n",
       "| 2            | -1.1582331   |  0.87773676  | 1.5487178    |  0.4030339   | -0.40719338  |  0.09592146  |  0.59294075  | -0.27053268  |  0.8177393   | ...          | -0.009430697 |  0.798278495 | -0.13745808  |  0.14126698  | -0.2060096   |  0.5022922   |  0.219422230 |  0.21515315  |  69.99       | 0            | \n",
       "| 2            | -0.4259659   |  0.96052304  | 1.1411093    | -0.1682521   |  0.42098688  | -0.02972755  |  0.47620095  |  0.26031433  | -0.5686714   | ...          | -0.208253515 | -0.559824796 | -0.02639767  | -0.37142658  | -0.2327938   |  0.1059148   |  0.253844225 |  0.08108026  |   3.67       | 0            | \n",
       "\n",
       "\n"
      ],
      "text/plain": [
       "  Time V1         V2          V3        V4         V5          V6         \n",
       "1 0    -1.3598071 -0.07278117 2.5363467  1.3781552 -0.33832077  0.46238778\n",
       "2 0     1.1918571  0.26615071 0.1664801  0.4481541  0.06001765 -0.08236081\n",
       "3 1    -1.3583541 -1.34016307 1.7732093  0.3797796 -0.50319813  1.80049938\n",
       "4 1    -0.9662717 -0.18522601 1.7929933 -0.8632913 -0.01030888  1.24720317\n",
       "5 2    -1.1582331  0.87773676 1.5487178  0.4030339 -0.40719338  0.09592146\n",
       "6 2    -0.4259659  0.96052304 1.1411093 -0.1682521  0.42098688 -0.02972755\n",
       "  V7          V8          V9         ... V21          V22          V23        \n",
       "1  0.23959855  0.09869790  0.3637870 ... -0.018306778  0.277837576 -0.11047391\n",
       "2 -0.07880298  0.08510165 -0.2554251 ... -0.225775248 -0.638671953  0.10128802\n",
       "3  0.79146096  0.24767579 -1.5146543 ...  0.247998153  0.771679402  0.90941226\n",
       "4  0.23760894  0.37743587 -1.3870241 ... -0.108300452  0.005273597 -0.19032052\n",
       "5  0.59294075 -0.27053268  0.8177393 ... -0.009430697  0.798278495 -0.13745808\n",
       "6  0.47620095  0.26031433 -0.5686714 ... -0.208253515 -0.559824796 -0.02639767\n",
       "  V24         V25        V26        V27          V28         Amount Class\n",
       "1  0.06692808  0.1285394 -0.1891148  0.133558377 -0.02105305 149.62 0    \n",
       "2 -0.33984648  0.1671704  0.1258945 -0.008983099  0.01472417   2.69 0    \n",
       "3 -0.68928096 -0.3276418 -0.1390966 -0.055352794 -0.05975184 378.66 0    \n",
       "4 -1.17557533  0.6473760 -0.2219288  0.062722849  0.06145763 123.50 0    \n",
       "5  0.14126698 -0.2060096  0.5022922  0.219422230  0.21515315  69.99 0    \n",
       "6 -0.37142658 -0.2327938  0.1059148  0.253844225  0.08108026   3.67 0    "
      ]
     },
     "metadata": {},
     "output_type": "display_data"
    }
   ],
   "source": [
    "creditcard %>% head()"
   ]
  },
  {
   "cell_type": "markdown",
   "metadata": {},
   "source": [
    "Feature 'Class' is our label, it equals 1 in case of fraud and 0 otherwise:"
   ]
  },
  {
   "cell_type": "code",
   "execution_count": 4,
   "metadata": {},
   "outputs": [
    {
     "data": {
      "text/html": [
       "<table>\n",
       "<thead><tr><th scope=col>Class</th><th scope=col>Transactions</th><th scope=col>Average_Amount</th></tr></thead>\n",
       "<tbody>\n",
       "\t<tr><td>0        </td><td>284315   </td><td> 88.29102</td></tr>\n",
       "\t<tr><td>1        </td><td>   492   </td><td>122.21132</td></tr>\n",
       "</tbody>\n",
       "</table>\n"
      ],
      "text/latex": [
       "\\begin{tabular}{r|lll}\n",
       " Class & Transactions & Average\\_Amount\\\\\n",
       "\\hline\n",
       "\t 0         & 284315    &  88.29102\\\\\n",
       "\t 1         &    492    & 122.21132\\\\\n",
       "\\end{tabular}\n"
      ],
      "text/markdown": [
       "\n",
       "Class | Transactions | Average_Amount | \n",
       "|---|---|\n",
       "| 0         | 284315    |  88.29102 | \n",
       "| 1         |    492    | 122.21132 | \n",
       "\n",
       "\n"
      ],
      "text/plain": [
       "  Class Transactions Average_Amount\n",
       "1 0     284315        88.29102     \n",
       "2 1        492       122.21132     "
      ]
     },
     "metadata": {},
     "output_type": "display_data"
    }
   ],
   "source": [
    "creditcard %>% group_by(Class) %>%\n",
    "  summarise(Transactions = n(), Average_Amount = mean(Amount))"
   ]
  },
  {
   "cell_type": "markdown",
   "metadata": {},
   "source": [
    "We can take a look at the amounts:"
   ]
  },
  {
   "cell_type": "code",
   "execution_count": 5,
   "metadata": {},
   "outputs": [
    {
     "data": {
      "text/html": [
       "<table>\n",
       "<thead><tr><th scope=col>Transactions</th><th scope=col>Average_Amount</th><th scope=col>Minimum_Amount</th><th scope=col>Maximum_Amount</th></tr></thead>\n",
       "<tbody>\n",
       "\t<tr><td>284807  </td><td>88.34962</td><td>0       </td><td>25691.16</td></tr>\n",
       "</tbody>\n",
       "</table>\n"
      ],
      "text/latex": [
       "\\begin{tabular}{r|llll}\n",
       " Transactions & Average\\_Amount & Minimum\\_Amount & Maximum\\_Amount\\\\\n",
       "\\hline\n",
       "\t 284807   & 88.34962 & 0        & 25691.16\\\\\n",
       "\\end{tabular}\n"
      ],
      "text/markdown": [
       "\n",
       "Transactions | Average_Amount | Minimum_Amount | Maximum_Amount | \n",
       "|---|\n",
       "| 284807   | 88.34962 | 0        | 25691.16 | \n",
       "\n",
       "\n"
      ],
      "text/plain": [
       "  Transactions Average_Amount Minimum_Amount Maximum_Amount\n",
       "1 284807       88.34962       0              25691.16      "
      ]
     },
     "metadata": {},
     "output_type": "display_data"
    },
    {
     "data": {},
     "metadata": {},
     "output_type": "display_data"
    },
    {
     "data": {
      "image/png": "[encoded data removed]",
      "text/plain": [
       "plot without title"
      ]
     },
     "metadata": {},
     "output_type": "display_data"
    }
   ],
   "source": [
    "creditcard %>%\n",
    "  summarise(Transactions = n(),\n",
    "            Average_Amount = mean(Amount),\n",
    "            Minimum_Amount = min(Amount),\n",
    "            Maximum_Amount = max(Amount))\n",
    "\n",
    "options(repr.plot.width=6, repr.plot.height=3)\n",
    "creditcard %>%\n",
    "  ggplot(aes(x = Amount)) + geom_histogram(binwidth = 100) + \n",
    "  labs(title='Transaction Amounts', y='Logarithm of frequency') +\n",
    "  scale_y_log10() + xlim(c(0,10000)) #+ theme(legend.position = \"none\")"
   ]
  },
  {
   "cell_type": "markdown",
   "metadata": {},
   "source": [
    "## Correlations\n",
    "\n",
    "Let's calculate the Pearson correlation for the data."
   ]
  },
  {
   "cell_type": "code",
   "execution_count": 6,
   "metadata": {},
   "outputs": [
    {
     "data": {},
     "metadata": {},
     "output_type": "display_data"
    },
    {
     "data": {
      "image/png": "[encoded data removed]",
      "text/plain": [
       "plot without title"
      ]
     },
     "metadata": {},
     "output_type": "display_data"
    }
   ],
   "source": [
    "correlations = creditcard  %>% cor(use = \"complete.obs\", method = \"pearson\")\n",
    "\n",
    "correlations[upper.tri(correlations)] = 0\n",
    "\n",
    "correlations_gathered = as.data.frame(correlations) %>% \n",
    "  mutate(Var1 = factor(row.names(.), levels=row.names(.))) %>% \n",
    "  gather(key = Var2, value = value, -Var1, na.rm = TRUE, factor_key = TRUE) \n",
    "\n",
    "options(repr.plot.width=6, repr.plot.height=6)\n",
    "ggplot(data = correlations_gathered, aes(Var2, Var1, fill = value)) + \n",
    "  geom_tile(color = \"white\")+\n",
    "  scale_fill_gradient2(low = \"blue\", high = \"red\", mid = \"white\",\n",
    "                       midpoint = 0, limit = c(-1,1), space = \"Lab\",\n",
    "                       name=\"Pearson\\nCorrelation\") +\n",
    "  theme_minimal() +\n",
    "  theme(axis.text.y = element_text(angle = 0, vjust = 1,\n",
    "                                   size = 8, hjust = 1),\n",
    "        axis.text.x = element_blank()) + xlab(\"\") + ylab('Variables') +\n",
    " ggtitle('Correlation Heatmap') +\n",
    " coord_fixed()"
   ]
  },
  {
   "cell_type": "markdown",
   "metadata": {},
   "source": [
    "## Let's take a subsample\n",
    "\n",
    "Since the original dataset is huge, let's try taking a subsample, **just for the sake of using less time and resources for this example**"
   ]
  },
  {
   "cell_type": "code",
   "execution_count": 7,
   "metadata": {},
   "outputs": [
    {
     "data": {
      "text/html": [
       "<table>\n",
       "<thead><tr><th scope=col>Time</th><th scope=col>V1</th><th scope=col>V2</th><th scope=col>V3</th><th scope=col>V4</th><th scope=col>V5</th><th scope=col>V6</th><th scope=col>V7</th><th scope=col>V8</th><th scope=col>V9</th><th scope=col>...</th><th scope=col>V21</th><th scope=col>V22</th><th scope=col>V23</th><th scope=col>V24</th><th scope=col>V25</th><th scope=col>V26</th><th scope=col>V27</th><th scope=col>V28</th><th scope=col>Amount</th><th scope=col>Class</th></tr></thead>\n",
       "<tbody>\n",
       "\t<tr><td> 2          </td><td>-1.1582331  </td><td>0.8777368   </td><td>1.5487178   </td><td> 0.4030339  </td><td>-0.40719338 </td><td> 0.09592146 </td><td> 0.5929407  </td><td>-0.27053268 </td><td> 0.8177393  </td><td>...         </td><td>-0.009430697</td><td>0.7982785   </td><td>-0.137458080</td><td>0.141266984 </td><td>-0.2060096  </td><td> 0.50229222 </td><td> 0.21942223 </td><td> 0.21515315 </td><td> 69.99      </td><td>0           </td></tr>\n",
       "\t<tr><td>26          </td><td>-0.5299123  </td><td>0.8738916   </td><td>1.3472473   </td><td> 0.1454567  </td><td> 0.41420886 </td><td> 0.10022309 </td><td> 0.7112061  </td><td> 0.17606596 </td><td>-0.2867169  </td><td>...         </td><td> 0.046949067</td><td>0.2081049   </td><td>-0.185548347</td><td>0.001030660 </td><td> 0.0988157  </td><td>-0.55290360 </td><td>-0.07328808 </td><td> 0.02330704 </td><td>  6.14      </td><td>0           </td></tr>\n",
       "\t<tr><td>34          </td><td>-0.7622557  </td><td>0.1277678   </td><td>2.6500564   </td><td>-1.8756628  </td><td>-0.89335640 </td><td>-0.26871489 </td><td>-0.4198636  </td><td> 0.14623341 </td><td>-0.8696353  </td><td>...         </td><td> 0.433349642</td><td>1.2604027   </td><td>-0.404700036</td><td>0.094945523 </td><td> 0.4809760  </td><td>-0.09068468 </td><td> 0.31922297 </td><td> 0.13559993 </td><td> 15.99      </td><td>0           </td></tr>\n",
       "\t<tr><td>38          </td><td> 0.1583318  </td><td>0.8726874   </td><td>0.9655246   </td><td> 1.8021272  </td><td> 0.13902198 </td><td> 0.11086310 </td><td> 0.5590792  </td><td>-0.02907093 </td><td>-0.3949123  </td><td>...         </td><td> 0.116269966</td><td>0.6916850   </td><td> 0.121112830</td><td>0.116142168 </td><td>-1.1127250  </td><td>-0.30336915 </td><td> 0.32753280 </td><td> 0.25562138 </td><td> 21.76      </td><td>0           </td></tr>\n",
       "\t<tr><td>39          </td><td>-0.5540646  </td><td>0.2157283   </td><td>0.8442646   </td><td>-0.7530673  </td><td> 0.03484847 </td><td>-0.55859725 </td><td> 1.0904010  </td><td>-0.20387323 </td><td> 0.2623936  </td><td>...         </td><td> 0.212133973</td><td>0.7023376   </td><td>-0.005700602</td><td>0.147346442 </td><td> 0.2456520  </td><td>-0.44045621 </td><td> 0.14713042 </td><td> 0.13946773 </td><td>120.96      </td><td>0           </td></tr>\n",
       "\t<tr><td>50          </td><td>-0.5715208  </td><td>1.0716004   </td><td>1.2801102   </td><td> 0.5427800  </td><td> 0.57443899 </td><td>-0.25935927 </td><td> 1.0611484  </td><td>-0.41097197 </td><td>-0.1791302  </td><td>...         </td><td> 0.003558520</td><td>0.5612405   </td><td>-0.199286720</td><td>0.001387389 </td><td>-0.1795300  </td><td>-0.37411573 </td><td> 0.07164145 </td><td>-0.17551047 </td><td>  9.79      </td><td>0           </td></tr>\n",
       "</tbody>\n",
       "</table>\n"
      ],
      "text/latex": [
       "\\begin{tabular}{r|lllllllllllllllllllllllllllllll}\n",
       " Time & V1 & V2 & V3 & V4 & V5 & V6 & V7 & V8 & V9 & ... & V21 & V22 & V23 & V24 & V25 & V26 & V27 & V28 & Amount & Class\\\\\n",
       "\\hline\n",
       "\t  2           & -1.1582331   & 0.8777368    & 1.5487178    &  0.4030339   & -0.40719338  &  0.09592146  &  0.5929407   & -0.27053268  &  0.8177393   & ...          & -0.009430697 & 0.7982785    & -0.137458080 & 0.141266984  & -0.2060096   &  0.50229222  &  0.21942223  &  0.21515315  &  69.99       & 0           \\\\\n",
       "\t 26           & -0.5299123   & 0.8738916    & 1.3472473    &  0.1454567   &  0.41420886  &  0.10022309  &  0.7112061   &  0.17606596  & -0.2867169   & ...          &  0.046949067 & 0.2081049    & -0.185548347 & 0.001030660  &  0.0988157   & -0.55290360  & -0.07328808  &  0.02330704  &   6.14       & 0           \\\\\n",
       "\t 34           & -0.7622557   & 0.1277678    & 2.6500564    & -1.8756628   & -0.89335640  & -0.26871489  & -0.4198636   &  0.14623341  & -0.8696353   & ...          &  0.433349642 & 1.2604027    & -0.404700036 & 0.094945523  &  0.4809760   & -0.09068468  &  0.31922297  &  0.13559993  &  15.99       & 0           \\\\\n",
       "\t 38           &  0.1583318   & 0.8726874    & 0.9655246    &  1.8021272   &  0.13902198  &  0.11086310  &  0.5590792   & -0.02907093  & -0.3949123   & ...          &  0.116269966 & 0.6916850    &  0.121112830 & 0.116142168  & -1.1127250   & -0.30336915  &  0.32753280  &  0.25562138  &  21.76       & 0           \\\\\n",
       "\t 39           & -0.5540646   & 0.2157283    & 0.8442646    & -0.7530673   &  0.03484847  & -0.55859725  &  1.0904010   & -0.20387323  &  0.2623936   & ...          &  0.212133973 & 0.7023376    & -0.005700602 & 0.147346442  &  0.2456520   & -0.44045621  &  0.14713042  &  0.13946773  & 120.96       & 0           \\\\\n",
       "\t 50           & -0.5715208   & 1.0716004    & 1.2801102    &  0.5427800   &  0.57443899  & -0.25935927  &  1.0611484   & -0.41097197  & -0.1791302   & ...          &  0.003558520 & 0.5612405    & -0.199286720 & 0.001387389  & -0.1795300   & -0.37411573  &  0.07164145  & -0.17551047  &   9.79       & 0           \\\\\n",
       "\\end{tabular}\n"
      ],
      "text/markdown": [
       "\n",
       "Time | V1 | V2 | V3 | V4 | V5 | V6 | V7 | V8 | V9 | ... | V21 | V22 | V23 | V24 | V25 | V26 | V27 | V28 | Amount | Class | \n",
       "|---|---|---|---|---|---|\n",
       "|  2           | -1.1582331   | 0.8777368    | 1.5487178    |  0.4030339   | -0.40719338  |  0.09592146  |  0.5929407   | -0.27053268  |  0.8177393   | ...          | -0.009430697 | 0.7982785    | -0.137458080 | 0.141266984  | -0.2060096   |  0.50229222  |  0.21942223  |  0.21515315  |  69.99       | 0            | \n",
       "| 26           | -0.5299123   | 0.8738916    | 1.3472473    |  0.1454567   |  0.41420886  |  0.10022309  |  0.7112061   |  0.17606596  | -0.2867169   | ...          |  0.046949067 | 0.2081049    | -0.185548347 | 0.001030660  |  0.0988157   | -0.55290360  | -0.07328808  |  0.02330704  |   6.14       | 0            | \n",
       "| 34           | -0.7622557   | 0.1277678    | 2.6500564    | -1.8756628   | -0.89335640  | -0.26871489  | -0.4198636   |  0.14623341  | -0.8696353   | ...          |  0.433349642 | 1.2604027    | -0.404700036 | 0.094945523  |  0.4809760   | -0.09068468  |  0.31922297  |  0.13559993  |  15.99       | 0            | \n",
       "| 38           |  0.1583318   | 0.8726874    | 0.9655246    |  1.8021272   |  0.13902198  |  0.11086310  |  0.5590792   | -0.02907093  | -0.3949123   | ...          |  0.116269966 | 0.6916850    |  0.121112830 | 0.116142168  | -1.1127250   | -0.30336915  |  0.32753280  |  0.25562138  |  21.76       | 0            | \n",
       "| 39           | -0.5540646   | 0.2157283    | 0.8442646    | -0.7530673   |  0.03484847  | -0.55859725  |  1.0904010   | -0.20387323  |  0.2623936   | ...          |  0.212133973 | 0.7023376    | -0.005700602 | 0.147346442  |  0.2456520   | -0.44045621  |  0.14713042  |  0.13946773  | 120.96       | 0            | \n",
       "| 50           | -0.5715208   | 1.0716004    | 1.2801102    |  0.5427800   |  0.57443899  | -0.25935927  |  1.0611484   | -0.41097197  | -0.1791302   | ...          |  0.003558520 | 0.5612405    | -0.199286720 | 0.001387389  | -0.1795300   | -0.37411573  |  0.07164145  | -0.17551047  |   9.79       | 0            | \n",
       "\n",
       "\n"
      ],
      "text/plain": [
       "  Time V1         V2        V3        V4         V5          V6         \n",
       "1  2   -1.1582331 0.8777368 1.5487178  0.4030339 -0.40719338  0.09592146\n",
       "2 26   -0.5299123 0.8738916 1.3472473  0.1454567  0.41420886  0.10022309\n",
       "3 34   -0.7622557 0.1277678 2.6500564 -1.8756628 -0.89335640 -0.26871489\n",
       "4 38    0.1583318 0.8726874 0.9655246  1.8021272  0.13902198  0.11086310\n",
       "5 39   -0.5540646 0.2157283 0.8442646 -0.7530673  0.03484847 -0.55859725\n",
       "6 50   -0.5715208 1.0716004 1.2801102  0.5427800  0.57443899 -0.25935927\n",
       "  V7         V8          V9         ... V21          V22       V23         \n",
       "1  0.5929407 -0.27053268  0.8177393 ... -0.009430697 0.7982785 -0.137458080\n",
       "2  0.7112061  0.17606596 -0.2867169 ...  0.046949067 0.2081049 -0.185548347\n",
       "3 -0.4198636  0.14623341 -0.8696353 ...  0.433349642 1.2604027 -0.404700036\n",
       "4  0.5590792 -0.02907093 -0.3949123 ...  0.116269966 0.6916850  0.121112830\n",
       "5  1.0904010 -0.20387323  0.2623936 ...  0.212133973 0.7023376 -0.005700602\n",
       "6  1.0611484 -0.41097197 -0.1791302 ...  0.003558520 0.5612405 -0.199286720\n",
       "  V24         V25        V26         V27         V28         Amount Class\n",
       "1 0.141266984 -0.2060096  0.50229222  0.21942223  0.21515315  69.99 0    \n",
       "2 0.001030660  0.0988157 -0.55290360 -0.07328808  0.02330704   6.14 0    \n",
       "3 0.094945523  0.4809760 -0.09068468  0.31922297  0.13559993  15.99 0    \n",
       "4 0.116142168 -1.1127250 -0.30336915  0.32753280  0.25562138  21.76 0    \n",
       "5 0.147346442  0.2456520 -0.44045621  0.14713042  0.13946773 120.96 0    \n",
       "6 0.001387389 -0.1795300 -0.37411573  0.07164145 -0.17551047   9.79 0    "
      ]
     },
     "metadata": {},
     "output_type": "display_data"
    }
   ],
   "source": [
    "set.seed(123)\n",
    "\n",
    "subsample = creditcard %>% nrow %>% seq_len %>% createDataPartition(times = 1, p = 0.1, list = F)\n",
    "data_raw = creditcard %>% slice(subsample)\n",
    "\n",
    "data_raw %>% head"
   ]
  },
  {
   "cell_type": "markdown",
   "metadata": {},
   "source": [
    "Let's see what's left:"
   ]
  },
  {
   "cell_type": "code",
   "execution_count": 8,
   "metadata": {},
   "outputs": [
    {
     "data": {
      "text/html": [
       "<table>\n",
       "<thead><tr><th scope=col>Class</th><th scope=col>Transactions</th></tr></thead>\n",
       "<tbody>\n",
       "\t<tr><td>0    </td><td>28442</td></tr>\n",
       "\t<tr><td>1    </td><td>   42</td></tr>\n",
       "</tbody>\n",
       "</table>\n"
      ],
      "text/latex": [
       "\\begin{tabular}{r|ll}\n",
       " Class & Transactions\\\\\n",
       "\\hline\n",
       "\t 0     & 28442\\\\\n",
       "\t 1     &    42\\\\\n",
       "\\end{tabular}\n"
      ],
      "text/markdown": [
       "\n",
       "Class | Transactions | \n",
       "|---|---|\n",
       "| 0     | 28442 | \n",
       "| 1     |    42 | \n",
       "\n",
       "\n"
      ],
      "text/plain": [
       "  Class Transactions\n",
       "1 0     28442       \n",
       "2 1        42       "
      ]
     },
     "metadata": {},
     "output_type": "display_data"
    }
   ],
   "source": [
    "data_raw %>% group_by(Class) %>%\n",
    "  summarise(Transactions = n())"
   ]
  },
  {
   "cell_type": "markdown",
   "metadata": {},
   "source": [
    "## Pre-processing the data"
   ]
  },
  {
   "cell_type": "code",
   "execution_count": 9,
   "metadata": {},
   "outputs": [],
   "source": [
    "## let's set up the features...\n",
    "features =\n",
    "    data_raw %>%\n",
    "    select(Time, # select features\n",
    "           V1:V28,\n",
    "           Amount) %>% \n",
    "    mutate_if(is.character, fct_explicit_na) %>% # assign levels to missing obs\n",
    "    mutate_all(as.numeric) %>% mutate_all(funs(replace(., is.na(.), 0))) %>% # set missing obs to 0\n",
    "    mutate_all(scale) # normalize data\n",
    "\n",
    "data = features\n",
    "\n",
    "## and the labels\n",
    "data$Class = data_raw$Class %>% recode('1' = 'Fraud', '0' = 'Normal') %>% factor"
   ]
  },
  {
   "cell_type": "markdown",
   "metadata": {},
   "source": [
    "Most of the features are not correlated (because of the PCA algorithm)."
   ]
  },
  {
   "cell_type": "markdown",
   "metadata": {},
   "source": [
    "## Partitioning the data\n",
    "\n",
    "Let's partition the dataset into training and testing subsamples."
   ]
  },
  {
   "cell_type": "code",
   "execution_count": 10,
   "metadata": {},
   "outputs": [
    {
     "name": "stdout",
     "output_type": "stream",
     "text": [
      "train data size\n"
     ]
    },
    {
     "data": {
      "text/html": [
       "<ol class=list-inline>\n",
       "\t<li>19940</li>\n",
       "\t<li>31</li>\n",
       "</ol>\n"
      ],
      "text/latex": [
       "\\begin{enumerate*}\n",
       "\\item 19940\n",
       "\\item 31\n",
       "\\end{enumerate*}\n"
      ],
      "text/markdown": [
       "1. 19940\n",
       "2. 31\n",
       "\n",
       "\n"
      ],
      "text/plain": [
       "[1] 19940    31"
      ]
     },
     "metadata": {},
     "output_type": "display_data"
    },
    {
     "name": "stdout",
     "output_type": "stream",
     "text": [
      "test data size\n"
     ]
    },
    {
     "data": {
      "text/html": [
       "<ol class=list-inline>\n",
       "\t<li>8544</li>\n",
       "\t<li>31</li>\n",
       "</ol>\n"
      ],
      "text/latex": [
       "\\begin{enumerate*}\n",
       "\\item 8544\n",
       "\\item 31\n",
       "\\end{enumerate*}\n"
      ],
      "text/markdown": [
       "1. 8544\n",
       "2. 31\n",
       "\n",
       "\n"
      ],
      "text/plain": [
       "[1] 8544   31"
      ]
     },
     "metadata": {},
     "output_type": "display_data"
    }
   ],
   "source": [
    "set.seed(123)\n",
    "\n",
    "partition = data %>% nrow %>% seq_len %>% createDataPartition(times = 1, p = 0.7, list = F)\n",
    "\n",
    "train = data %>% slice(partition)\n",
    "test = data %>% slice(-partition)\n",
    "\n",
    "cat('train data size\\n')\n",
    "train %>% dim\n",
    "\n",
    "cat('test data size\\n')\n",
    "test %>% dim"
   ]
  },
  {
   "cell_type": "markdown",
   "metadata": {},
   "source": [
    "## Fitting a model\n",
    "\n",
    "Let's try and fit a model!"
   ]
  },
  {
   "cell_type": "code",
   "execution_count": 11,
   "metadata": {},
   "outputs": [
    {
     "name": "stdout",
     "output_type": "stream",
     "text": [
      "training started at"
     ]
    },
    {
     "data": {
      "text/plain": [
       "[1] \"2018-06-04 22:10:49 CEST\""
      ]
     },
     "metadata": {},
     "output_type": "display_data"
    },
    {
     "name": "stdout",
     "output_type": "stream",
     "text": [
      "Fitting kmax = 5, distance = 2, kernel = optimal on full training set\n",
      "training finished at"
     ]
    },
    {
     "data": {
      "text/plain": [
       "[1] \"2018-06-04 22:11:07 CEST\""
      ]
     },
     "metadata": {},
     "output_type": "display_data"
    },
    {
     "name": "stdout",
     "output_type": "stream",
     "text": [
      "\n",
      "This is the resulting model:\n"
     ]
    },
    {
     "data": {
      "text/plain": [
       "k-Nearest Neighbors \n",
       "\n",
       "19940 samples\n",
       "   30 predictor\n",
       "    2 classes: 'Fraud', 'Normal' \n",
       "\n",
       "No pre-processing\n",
       "Resampling: None "
      ]
     },
     "metadata": {},
     "output_type": "display_data"
    }
   ],
   "source": [
    "cat('training started at')\n",
    "Sys.time()\n",
    "\n",
    "#####################\n",
    "# Modify this part! #\n",
    "#####################\n",
    "model = train(x = train %>% select(-Class),\n",
    "              y = train %>% pull(Class),\n",
    "              method = 'kknn', ## how about a different model?\n",
    "              ks = 5,  ## or different hyperparameters?\n",
    "              trControl = trainControl(method = 'none', verboseIter = T)\n",
    ")\n",
    "#####################\n",
    "\n",
    "cat('training finished at')\n",
    "Sys.time()\n",
    "\n",
    "cat('\\nThis is the resulting model:\\n')\n",
    "\n",
    "model"
   ]
  },
  {
   "cell_type": "markdown",
   "metadata": {},
   "source": [
    "## How did we do?"
   ]
  },
  {
   "cell_type": "code",
   "execution_count": null,
   "metadata": {},
   "outputs": [],
   "source": [
    "test_response = model %>%\n",
    "  predict(newdata = test %>% select(-Class))\n",
    "\n",
    "confusionMatrix(test_response,\n",
    "                test$Class,\n",
    "                positive = 'Fraud')"
   ]
  },
  {
   "cell_type": "markdown",
   "metadata": {},
   "source": [
    "## How did we really do?\n",
    "\n",
    "Since fraud detection is so unbalanced toward normal transactions, we should use the AUROC as a measure of performance:"
   ]
  },
  {
   "cell_type": "code",
   "execution_count": 13,
   "metadata": {},
   "outputs": [
    {
     "data": {
      "text/html": [
       "<strong>AR:</strong> 0.58"
      ],
      "text/latex": [
       "\\textbf{AR:} 0.58"
      ],
      "text/markdown": [
       "**AR:** 0.58"
      ],
      "text/plain": [
       "  AR \n",
       "0.58 "
      ]
     },
     "metadata": {},
     "output_type": "display_data"
    }
   ],
   "source": [
    "roc(test_response,\n",
    "    test$Class) %>% \n",
    "    auc(.) %>% round(2)*2-1 %>% list('AR' = .) %>% unlist"
   ]
  },
  {
   "cell_type": "markdown",
   "metadata": {},
   "source": [
    "## Now...\n",
    "\n",
    "...go back and modify the code!\n",
    "\n",
    "* How about different models/hyperparameters?\n",
    "* Given a model, can you tune its hyperparameters?\n",
    "* What about mixing two or three models with an ensamble?\n",
    "* What is the highest AUROC you can get?"
   ]
  }
 ],
 "metadata": {
  "kernelspec": {
   "display_name": "R",
   "language": "R",
   "name": "ir"
  },
  "language_info": {
   "codemirror_mode": "r",
   "file_extension": ".r",
   "mimetype": "text/x-r-source",
   "name": "R",
   "pygments_lexer": "r",
   "version": "3.4.4"
  }
 },
 "nbformat": 4,
 "nbformat_minor": 2
}
