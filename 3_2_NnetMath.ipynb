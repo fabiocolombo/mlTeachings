{
 "cells": [
  {
   "cell_type": "markdown",
   "metadata": {},
   "source": [
    "# How to.\n",
    "\n",
    "#### And a little bit of math.\n",
    "\n",
    "The basic of neural network\n",
    "\n",
    "___\n",
    "\n",
    "*Source: [Chollet et al., Deep Learning With R](https://www.amazon.com/Deep-Learning-R-Francois-Chollet/dp/161729554X) *\n",
    "\n",
    "___"
   ]
  },
  {
   "cell_type": "markdown",
   "metadata": {},
   "source": [
    "We have seen that a neural networks is composed of\n",
    "- Some Layers (and weights)\n",
    "- A loss function\n",
    "- A looping function (the optimization algorith)\n",
    "- **Lots** of other stuffs, but the ones above here are the most important.\n",
    "\n",
    "___\n",
    "\n",
    "## MNIST: the *Hello world!* of deep learning\n",
    "\n",
    "You can istantiate your basic nnet in keras by simply knowing these easy concepts, but let's dive a little bit deeper in the **workflow** of creating and training a neural network, starting from the MNIST example."
   ]
  },
  {
   "cell_type": "code",
   "execution_count": 167,
   "metadata": {},
   "outputs": [],
   "source": [
    "source('src/lib.R')"
   ]
  },
  {
   "cell_type": "markdown",
   "metadata": {},
   "source": [
    "#### Load and understand the data"
   ]
  },
  {
   "cell_type": "code",
   "execution_count": 45,
   "metadata": {},
   "outputs": [],
   "source": [
    "mnist = dataset_mnist()\n",
    "train_images = mnist$train$x\n",
    "train_labels = mnist$train$y\n",
    "test_images = mnist$test$x\n",
    "test_labels = mnist$test$y"
   ]
  },
  {
   "cell_type": "markdown",
   "metadata": {},
   "source": [
    "$\\texttt{train}$\\_$\\texttt{images}$ and $\\texttt{train}$\\_$\\texttt{labels}$ form the training set , the data that the model will learn from. The model will then be tested on the test set $\\texttt{test}$\\_$\\texttt{images}$ and $\\texttt{test}$\\_$\\texttt{labels}$. The images are encoded as as 3D arrays, and the labels are a 1D array of digits, ranging from 0 to 9. There is a one-to-one correspondence between the images and the labels.\n",
    "\n",
    "Let's have a look at the structure of the data (with the $\\texttt{str}$ function)."
   ]
  },
  {
   "cell_type": "code",
   "execution_count": 46,
   "metadata": {},
   "outputs": [
    {
     "name": "stdout",
     "output_type": "stream",
     "text": [
      " int [1:60000, 1:28, 1:28] 0 0 0 0 0 0 0 0 0 0 ...\n"
     ]
    }
   ],
   "source": [
    "train_images %>% str\n",
    "# 3d array\n",
    "# 60,000 images, 28x28 pixel"
   ]
  },
  {
   "cell_type": "code",
   "execution_count": 47,
   "metadata": {},
   "outputs": [
    {
     "name": "stdout",
     "output_type": "stream",
     "text": [
      " int [1:60000(1d)] 5 0 4 1 9 2 1 3 1 4 ...\n"
     ]
    }
   ],
   "source": [
    "train_labels %>% str\n",
    "# 1d array\n",
    "# 60,000 image labes scalar"
   ]
  },
  {
   "cell_type": "code",
   "execution_count": 48,
   "metadata": {},
   "outputs": [
    {
     "name": "stdout",
     "output_type": "stream",
     "text": [
      " int [1:10000, 1:28, 1:28] 0 0 0 0 0 0 0 0 0 0 ...\n",
      " int [1:10000(1d)] 7 2 1 0 4 1 4 9 5 9 ...\n"
     ]
    }
   ],
   "source": [
    "test_images %>% str\n",
    "test_labels%>% str\n",
    "# the validation set is composed of 10,000 images"
   ]
  },
  {
   "cell_type": "markdown",
   "metadata": {},
   "source": [
    "### Declare the network\n",
    "\n",
    "The core building block of neural networks is the **layer**, a data-processing module that you can think of as a filter for data. Some data comes in, and it comes out in a more useful form. Specifically, layers extract representations out of the data fed into them, that are - hopefully - more meaningful for the problem at hand.\n",
    "\n",
    "Most of deep learning consists of **chaining together** simple layers that will implement a form of progressive data distillation (the **%>%** operator is very practical here!!!). \n",
    "\n",
    "> In the coming code snippets there may be a few parameter you cannot make your mind around. We will eventually explain them, don't you worry!"
   ]
  },
  {
   "cell_type": "code",
   "execution_count": 99,
   "metadata": {},
   "outputs": [],
   "source": [
    "network = keras_model_sequential() %>% # keras_model_sequential is the basic call to start building the nnet\n",
    "            # first layer\n",
    "            layer_dense(units = 512,\n",
    "                        activation = \"relu\",\n",
    "                        input_shape = c(28 * 28),\n",
    "                        use_bias = T,\n",
    "                        name='first_layer'\n",
    "                       ) %>%\n",
    "            # second layer\n",
    "            layer_dense(units = 10,\n",
    "                        activation = \"softmax\",\n",
    "                        use_bias = T,\n",
    "                        name = 'output_layer'\n",
    "                       )"
   ]
  },
  {
   "cell_type": "markdown",
   "metadata": {},
   "source": [
    "Here our network consists of a sequence of **two** layers, which are densely connected (also called **fully connected**) neural layers. The second (and last) layer is a 10-way **softmax** layer, which means it will return an array of 10 probability scores (summing to 1). Each score will be the probability that the current digit image belongs to one of our 10 digit classes. \n",
    "\n",
    "Here below you can se what you just did. "
   ]
  },
  {
   "cell_type": "code",
   "execution_count": 100,
   "metadata": {},
   "outputs": [
    {
     "data": {
      "text/plain": [
       "Model\n",
       "________________________________________________________________________________\n",
       "Layer (type)                        Output Shape                    Param #     \n",
       "================================================================================\n",
       "first_layer (Dense)                 (None, 512)                     401920      \n",
       "________________________________________________________________________________\n",
       "output_layer (Dense)                (None, 10)                      5130        \n",
       "================================================================================\n",
       "Total params: 407,050\n",
       "Trainable params: 407,050\n",
       "Non-trainable params: 0\n",
       "________________________________________________________________________________\n",
       "\n"
      ]
     },
     "metadata": {},
     "output_type": "display_data"
    }
   ],
   "source": [
    "network"
   ]
  },
  {
   "cell_type": "markdown",
   "metadata": {},
   "source": [
    "### Istantiate the network\n",
    "\n",
    "Up to this point, you have't technically creating anything: the $\\texttt{network}$ object is just a pipeline of information that needs to be istantiated in a c++ TensorFlow structure to be efficiently used. The **process of making the network ready for training** is performed through the call to the **keras** method (function) $\\texttt{compile}$\n",
    "\n",
    "As part of the *compilation* step, we must define:\n",
    "- A **loss function**: how the network will be able to measure how good a job it’s doing on its training data, and thus how it will be able to steer itself in the right direction.\n",
    "- An **optimizer**: the mechanism (algorithm) through which the network will update itself based on the data it sees and its loss function.\n",
    "- The **metric(s)** to monitor during training and testing. Here we’ll only care about accuracy (the fraction of the images that were correctly classified)."
   ]
  },
  {
   "cell_type": "code",
   "execution_count": 51,
   "metadata": {},
   "outputs": [],
   "source": [
    "#note that the compile function does not create any new R object, rather it modifies the existing one (network, in this case)\n",
    "\n",
    "network %>% compile(optimizer = \"rmsprop\",\n",
    "                    loss = \"categorical_crossentropy\",\n",
    "                    metrics = c(\"accuracy\")\n",
    "                    )"
   ]
  },
  {
   "cell_type": "markdown",
   "metadata": {},
   "source": [
    "When you get used to the most basic things, you can access and manipulate the network object as a standard $\\texttt{R}$ list"
   ]
  },
  {
   "cell_type": "code",
   "execution_count": 52,
   "metadata": {},
   "outputs": [
    {
     "data": {
      "text/html": [
       "'add, add_loss, add_update, add_weight, assert_input_compatibility, build, built, call, compile, compute_mask, compute_output_shape, count_params, evaluate, evaluate_generator, fit, fit_generator, from_config, get_config, get_input_at, get_input_mask_at, get_input_shape_at, get_layer, get_losses_for, get_output_at, get_output_mask_at, get_output_shape_at, get_updates_for, get_weights, input, input_layers, input_layers_node_indices, input_layers_tensor_indices, input_mask, input_names, input_shape, input_spec, inputs, layers, legacy_from_config, legacy_get_config, load_weights, loss, loss_weights, losses, metrics, metrics_names, metrics_tensors, model, name, non_trainable_weights, optimizer, output, output_layers, output_layers_node_indices, output_layers_tensor_indices, output_mask, output_names, output_shape, outputs, pop, predict, predict_classes, predict_generator, predict_on_batch, predict_proba, regularizers, reset_states, run_internal_graph, sample_weight_mode, sample_weights, save, save_weights, set_weights, state_updates, stateful, summary, supports_masking, targets, test_on_batch, to_json, to_yaml, total_loss, train_on_batch, trainable, trainable_weights, updates, uses_learning_phase, weighted_metrics, weights'"
      ],
      "text/latex": [
       "'add, add\\_loss, add\\_update, add\\_weight, assert\\_input\\_compatibility, build, built, call, compile, compute\\_mask, compute\\_output\\_shape, count\\_params, evaluate, evaluate\\_generator, fit, fit\\_generator, from\\_config, get\\_config, get\\_input\\_at, get\\_input\\_mask\\_at, get\\_input\\_shape\\_at, get\\_layer, get\\_losses\\_for, get\\_output\\_at, get\\_output\\_mask\\_at, get\\_output\\_shape\\_at, get\\_updates\\_for, get\\_weights, input, input\\_layers, input\\_layers\\_node\\_indices, input\\_layers\\_tensor\\_indices, input\\_mask, input\\_names, input\\_shape, input\\_spec, inputs, layers, legacy\\_from\\_config, legacy\\_get\\_config, load\\_weights, loss, loss\\_weights, losses, metrics, metrics\\_names, metrics\\_tensors, model, name, non\\_trainable\\_weights, optimizer, output, output\\_layers, output\\_layers\\_node\\_indices, output\\_layers\\_tensor\\_indices, output\\_mask, output\\_names, output\\_shape, outputs, pop, predict, predict\\_classes, predict\\_generator, predict\\_on\\_batch, predict\\_proba, regularizers, reset\\_states, run\\_internal\\_graph, sample\\_weight\\_mode, sample\\_weights, save, save\\_weights, set\\_weights, state\\_updates, stateful, summary, supports\\_masking, targets, test\\_on\\_batch, to\\_json, to\\_yaml, total\\_loss, train\\_on\\_batch, trainable, trainable\\_weights, updates, uses\\_learning\\_phase, weighted\\_metrics, weights'"
      ],
      "text/markdown": [
       "'add, add_loss, add_update, add_weight, assert_input_compatibility, build, built, call, compile, compute_mask, compute_output_shape, count_params, evaluate, evaluate_generator, fit, fit_generator, from_config, get_config, get_input_at, get_input_mask_at, get_input_shape_at, get_layer, get_losses_for, get_output_at, get_output_mask_at, get_output_shape_at, get_updates_for, get_weights, input, input_layers, input_layers_node_indices, input_layers_tensor_indices, input_mask, input_names, input_shape, input_spec, inputs, layers, legacy_from_config, legacy_get_config, load_weights, loss, loss_weights, losses, metrics, metrics_names, metrics_tensors, model, name, non_trainable_weights, optimizer, output, output_layers, output_layers_node_indices, output_layers_tensor_indices, output_mask, output_names, output_shape, outputs, pop, predict, predict_classes, predict_generator, predict_on_batch, predict_proba, regularizers, reset_states, run_internal_graph, sample_weight_mode, sample_weights, save, save_weights, set_weights, state_updates, stateful, summary, supports_masking, targets, test_on_batch, to_json, to_yaml, total_loss, train_on_batch, trainable, trainable_weights, updates, uses_learning_phase, weighted_metrics, weights'"
      ],
      "text/plain": [
       "[1] \"add, add_loss, add_update, add_weight, assert_input_compatibility, build, built, call, compile, compute_mask, compute_output_shape, count_params, evaluate, evaluate_generator, fit, fit_generator, from_config, get_config, get_input_at, get_input_mask_at, get_input_shape_at, get_layer, get_losses_for, get_output_at, get_output_mask_at, get_output_shape_at, get_updates_for, get_weights, input, input_layers, input_layers_node_indices, input_layers_tensor_indices, input_mask, input_names, input_shape, input_spec, inputs, layers, legacy_from_config, legacy_get_config, load_weights, loss, loss_weights, losses, metrics, metrics_names, metrics_tensors, model, name, non_trainable_weights, optimizer, output, output_layers, output_layers_node_indices, output_layers_tensor_indices, output_mask, output_names, output_shape, outputs, pop, predict, predict_classes, predict_generator, predict_on_batch, predict_proba, regularizers, reset_states, run_internal_graph, sample_weight_mode, sample_weights, save, save_weights, set_weights, state_updates, stateful, summary, supports_masking, targets, test_on_batch, to_json, to_yaml, total_loss, train_on_batch, trainable, trainable_weights, updates, uses_learning_phase, weighted_metrics, weights\""
      ]
     },
     "metadata": {},
     "output_type": "display_data"
    }
   ],
   "source": [
    "network %>% names %>% paste(collapse = \", \")"
   ]
  },
  {
   "cell_type": "markdown",
   "metadata": {},
   "source": [
    "### Preprocess the data\n",
    "Before training, we’ll preprocess the data by **reshaping** it into the shape the network expects and scaling it so that all values have a value in the $[0, 1]$. Indeed, our training images were previously stored in an array of shape (60,000, 28, 28) **of type integer** with values in the $[0, 255]$ interval. Now they will be stored in a two dimensional array of shape (60,000, **784**) **of type numeric** (alias float, double), bounded between 0 and 1."
   ]
  },
  {
   "cell_type": "code",
   "execution_count": 53,
   "metadata": {},
   "outputs": [
    {
     "name": "stdout",
     "output_type": "stream",
     "text": [
      " num [1:60000, 1:784] 0 0 0 0 0 0 0 0 0 0 ...\n"
     ]
    }
   ],
   "source": [
    "(train_images = array_reshape(train_images, c(60000, 28 * 28)) / 255) %>% str\n",
    "test_images = array_reshape(test_images, c(10000, 28 * 28)) / 255"
   ]
  },
  {
   "cell_type": "markdown",
   "metadata": {},
   "source": [
    "We will also need co **categorically encode** the labels. *One-hot econding* basically means to create an ordered vector which is biunivocally related to the another space (i.e. the output space, in our case). The one-hot vector has value 1 wherever it matches an object in the output space, and zero elsewere."
   ]
  },
  {
   "cell_type": "code",
   "execution_count": 54,
   "metadata": {},
   "outputs": [
    {
     "name": "stdout",
     "output_type": "stream",
     "text": [
      " num [1:60000, 1:10] 0 1 0 0 0 0 0 0 0 0 ...\n"
     ]
    }
   ],
   "source": [
    "# now the labels are a 2d tensor, with 10 one-hot encoded values per observation.\n",
    "(train_labels = to_categorical(train_labels)) %>% str\n",
    "test_labels = to_categorical(test_labels)"
   ]
  },
  {
   "cell_type": "markdown",
   "metadata": {},
   "source": [
    "### Train the newtork\n",
    "\n",
    "We are now ready to train the network, which in **keras** is done via the call to the network's $\\texttt{fit}$ method (function)"
   ]
  },
  {
   "cell_type": "code",
   "execution_count": 55,
   "metadata": {},
   "outputs": [],
   "source": [
    "network %>% fit(train_images,\n",
    "                train_labels,\n",
    "                epochs = 5,\n",
    "                batch_size = 128\n",
    "                ) -> history"
   ]
  },
  {
   "cell_type": "markdown",
   "metadata": {},
   "source": [
    "$\\texttt{Epoch 1/5 60000/60000 [==============================] - 9s - loss: 0.2575 - acc: 0.9255}$\n",
    "$\\texttt{Epoch 2/5 60000/60000 [==============================] - 10s - loss: 0.1038 - acc: 0.9687}$\n",
    "$\\texttt{Epoch 3/5 60000/60000 [==============================] - 10s - loss: 0.0688 - acc: 0.9793}$\n",
    "$\\texttt{Epoch 4/5 60000/60000 [==============================] - 9s - loss: 0.0496 - acc: 0.9855}$\n",
    "$\\texttt{Epoch 5/5 60000/60000 [==============================] - 9s - loss: 0.0372 - acc: 0.988}$"
   ]
  },
  {
   "cell_type": "markdown",
   "metadata": {},
   "source": [
    "Two quantities are displayed during training: the of the network over the trainingloss data, and the accuracy of the network over the training data.\n",
    "\n",
    "The test-set accuracy turns out to be that quite a bit lower than the training set accuracy. This gap between training accuracy and test accuracy is an example of overfitting : the fact that machine-learning models tend to perform worse on new data than on their training data"
   ]
  },
  {
   "cell_type": "code",
   "execution_count": 56,
   "metadata": {},
   "outputs": [
    {
     "data": {
      "text/html": [
       "<dl>\n",
       "\t<dt>$loss</dt>\n",
       "\t\t<dd>0.219335038348251</dd>\n",
       "\t<dt>$acc</dt>\n",
       "\t\t<dd>0.963</dd>\n",
       "</dl>\n"
      ],
      "text/latex": [
       "\\begin{description}\n",
       "\\item[\\$loss] 0.219335038348251\n",
       "\\item[\\$acc] 0.963\n",
       "\\end{description}\n"
      ],
      "text/markdown": [
       "$loss\n",
       ":   0.219335038348251\n",
       "$acc\n",
       ":   0.963\n",
       "\n",
       "\n"
      ],
      "text/plain": [
       "$loss\n",
       "[1] 0.219335\n",
       "\n",
       "$acc\n",
       "[1] 0.963\n"
      ]
     },
     "metadata": {},
     "output_type": "display_data"
    }
   ],
   "source": [
    "(metrics = network %>% evaluate(test_images, test_labels))"
   ]
  },
  {
   "cell_type": "code",
   "execution_count": 57,
   "metadata": {},
   "outputs": [
    {
     "data": {
      "text/html": [
       "<ol class=list-inline>\n",
       "\t<li>'params'</li>\n",
       "\t<li>'metrics'</li>\n",
       "</ol>\n"
      ],
      "text/latex": [
       "\\begin{enumerate*}\n",
       "\\item 'params'\n",
       "\\item 'metrics'\n",
       "\\end{enumerate*}\n"
      ],
      "text/markdown": [
       "1. 'params'\n",
       "2. 'metrics'\n",
       "\n",
       "\n"
      ],
      "text/plain": [
       "[1] \"params\"  \"metrics\""
      ]
     },
     "metadata": {},
     "output_type": "display_data"
    }
   ],
   "source": [
    "history %>% names"
   ]
  },
  {
   "cell_type": "markdown",
   "metadata": {},
   "source": [
    "Let’s generate predictions for the first 10 samples of the test set"
   ]
  },
  {
   "cell_type": "code",
   "execution_count": 58,
   "metadata": {},
   "outputs": [
    {
     "data": {
      "text/html": [
       "'7, 2, 1, 0, 4, 1, 4, 9, 6, 9'"
      ],
      "text/latex": [
       "'7, 2, 1, 0, 4, 1, 4, 9, 6, 9'"
      ],
      "text/markdown": [
       "'7, 2, 1, 0, 4, 1, 4, 9, 6, 9'"
      ],
      "text/plain": [
       "[1] \"7, 2, 1, 0, 4, 1, 4, 9, 6, 9\""
      ]
     },
     "metadata": {},
     "output_type": "display_data"
    }
   ],
   "source": [
    "network %>% predict_classes(test_images[1:10,]) %>% paste(collapse = ', ')"
   ]
  },
  {
   "cell_type": "markdown",
   "metadata": {},
   "source": [
    "___\n",
    "\n",
    "## Data representation for neural networks\n",
    "\n",
    "Data representations for neural networks In the previous example, we started from data stored in multidimensional arrays, also called tensors . In general, all current machine-learning systems use tensors as their basic data structure. **Tensors are fundamental** to the field, so fundamental that Google’s TensorFlow was named after them. So what’s a tensor?\n",
    " \n",
    "Tensors are a generalization of vectors and matrices to an arbitrary number of dimensions (note that in the context of tensors, \"dimension\" is often called \"axis\"). Within $\\texttt{R}$, vectors ($\\texttt{vector}$) are used to create and manipulate 1D tensors and matrices ($\\texttt{matrix}$) are used for 2D tensors. For higher level dimensions dimensions) $\\texttt{array}$ objects (which support any number of dimensions) are used."
   ]
  },
  {
   "cell_type": "code",
   "execution_count": 91,
   "metadata": {},
   "outputs": [
    {
     "name": "stdout",
     "output_type": "stream",
     "text": [
      " num [1:5] 12 3 6 14 10\n",
      "[1] 12  3  6 14 10\n",
      "[1] 5\n"
     ]
    }
   ],
   "source": [
    "# a vector\n",
    "\n",
    "(x = c(12, 3, 6, 14, 10) ) %>% str\n",
    "x %>% print\n",
    "x %>% as.array %>% dim %>% print"
   ]
  },
  {
   "cell_type": "code",
   "execution_count": 90,
   "metadata": {},
   "outputs": [
    {
     "name": "stdout",
     "output_type": "stream",
     "text": [
      " num [1:3, 1:5] 0 0 0 0 0 0 0 0 0 0 ...\n",
      "     [,1] [,2] [,3] [,4] [,5]\n",
      "[1,]    0    0    0    0    0\n",
      "[2,]    0    0    0    0    0\n",
      "[3,]    0    0    0    0    0\n",
      "[1] 3 5\n"
     ]
    }
   ],
   "source": [
    "# a matrix\n",
    "\n",
    "(x = matrix(rep(0, 3*5), nrow = 3, ncol = 5)) %>% str\n",
    "x %>% print\n",
    "x %>% dim %>% print"
   ]
  },
  {
   "cell_type": "code",
   "execution_count": 89,
   "metadata": {},
   "outputs": [
    {
     "name": "stdout",
     "output_type": "stream",
     "text": [
      " num [1:2, 1:3, 1:2] 0 0 0 0 0 0 0 0 0 0 ...\n",
      ", , 1\n",
      "\n",
      "     [,1] [,2] [,3]\n",
      "[1,]    0    0    0\n",
      "[2,]    0    0    0\n",
      "\n",
      ", , 2\n",
      "\n",
      "     [,1] [,2] [,3]\n",
      "[1,]    0    0    0\n",
      "[2,]    0    0    0\n",
      "\n",
      "[1] 2 3 2\n"
     ]
    }
   ],
   "source": [
    "# a tensor\n",
    "\n",
    "(x = array(rep(0, 2*3*2), dim = c(2,3,2)) ) %>% str\n",
    "x %>% print\n",
    "x %>% dim %>% print"
   ]
  },
  {
   "cell_type": "markdown",
   "metadata": {},
   "source": [
    "A tensor is defined by three key attributes:\n",
    "- **Number of axes** (rank): For instance, a 3D tensor has three axes, and a matrix has two axes.\n",
    "- **Shape**: This is an integer vector that describes how many dimensions the tensor has along each axis. For instance, the previous matrix example has shape (3, 5), and the 3D tensor example has shape (3, 3, 5) . A vector has a shape with a single element, such as (5). You can access the dimensions of any array using the dim() function.\n",
    "- **Data type**: This is the type of the data contained in the tensor; for instance, a tensor’s type could be integer ($\\texttt{int}$) or double $\\texttt{numeric}$. On rare occasions, you may see a character ($\\texttt{character}$) tensors. However, since tensors live in pre-allocated contiguous memory segments, and strings, being variable-length, would preclude the use of this implementation, they are more rarely used."
   ]
  },
  {
   "cell_type": "markdown",
   "metadata": {},
   "source": [
    "### A few examples of tensors\n",
    "- *Vector data*: 2d tensors of shape ($\\texttt{samples}$, $\\texttt{feature}$)\n",
    "- *Timeseries data* or *sequence data*: 3d tensors of shape ($\\texttt{samples}$, $\\texttt{timesteps}$, $\\texttt{feature}$)\n",
    "- *Images*: 4d tensors of shape ($\\texttt{samples}$, $\\texttt{height}$, $\\texttt{width}$, $\\texttt{channels}$)\n",
    "- *Videos*: 5d tensors of shape ($\\texttt{samples}$, $\\texttt{frame}$, $\\texttt{height}$, $\\texttt{width}$, $\\texttt{channels}$)\n",
    "\n",
    "<img src=\"fig/2d_tensor.PNG\" width=\"400\"> <img src=\"fig/3d_tensor.PNG\" width=\"400\">\n",
    "\n",
    "### Batches: *slicing* tensors\n",
    "\n",
    "In general, the first axis in all data tensors you’ll come across in deep learning will be the $\\texttt{samples}$ axis. In the MNIST example, samples are images of digits. In addition, deep learning models do not process the entire dataset at once, rather, they break the data into small **batches** (whose size is determined in the $\\texttt{compile}$ method by the parameter - guess what - $\\texttt{batch}$\\_$\\texttt{size}$ )."
   ]
  },
  {
   "cell_type": "markdown",
   "metadata": {},
   "source": [
    "#### Manipulating tensor\n",
    "Slicing can easily be extended to the others dimension of the tensor. This can be useful to inspect and/or select a particular set of the tensor."
   ]
  },
  {
   "cell_type": "code",
   "execution_count": 141,
   "metadata": {},
   "outputs": [],
   "source": [
    "# let's create a batch of 128 images\n",
    "\n",
    "train_images = mnist$train$x\n",
    "batch = train_images[1:128,,]"
   ]
  },
  {
   "cell_type": "code",
   "execution_count": 159,
   "metadata": {},
   "outputs": [
    {
     "data": {
      "image/PNG": "[encoded data removed]",
      "text/plain": [
       "plot without title"
      ]
     },
     "metadata": {},
     "output_type": "display_data"
    }
   ],
   "source": [
    "#let's plot a digit\n",
    "digit = batch[1,,]\n",
    "options(repr.plot.width=3, repr.plot.height=3)\n",
    "digit %>% as.raster(. ,max = 255) %>% plot"
   ]
  },
  {
   "cell_type": "code",
   "execution_count": 160,
   "metadata": {},
   "outputs": [
    {
     "data": {
      "image/PNG": "[encoded data removed]",
      "text/plain": [
       "plot without title"
      ]
     },
     "metadata": {},
     "output_type": "display_data"
    }
   ],
   "source": [
    "#let's plot a zoomed digit\n",
    "digit_zoomed = batch[1,10:20,10:20]\n",
    "digit_zoomed %>% as.raster(. ,max = 255) %>% plot"
   ]
  },
  {
   "cell_type": "markdown",
   "metadata": {},
   "source": [
    "___\n",
    "\n",
    "## Tensor Operations\n",
    "\n",
    "All in all, you can interpret deep learning model as a chained tensor product.\n",
    "\n",
    "In our initial example, we were building our network by stacking dense layers on top of each other. A layer instance looks like this:"
   ]
  },
  {
   "cell_type": "code",
   "execution_count": null,
   "metadata": {},
   "outputs": [],
   "source": [
    "# do not run\n",
    "layer_dense(units = 512, activation = \"relu\")"
   ]
  },
  {
   "cell_type": "markdown",
   "metadata": {},
   "source": [
    "This layer can be interpreted as a function, which takes as input a 2D tensor and returns another 2D tensor—a new representation for the input tensor. Specifically, the function is as follows (where $\\texttt{W}$ is a 2D tensor (weight tensor) and $\\texttt{b}$ is a vector (bias tensor), both attributes of the layer)"
   ]
  },
  {
   "cell_type": "code",
   "execution_count": null,
   "metadata": {},
   "outputs": [],
   "source": [
    "# do not run\n",
    "output = relu(dot(W, input) + b"
   ]
  },
  {
   "cell_type": "markdown",
   "metadata": {},
   "source": [
    "Let’s unpack this. We have **three tensor operations here** (at the core of tensorflow):\n",
    "- a **dot product** ($\\cdot$) between the input tensor and a tensor named $\\texttt{W}$,\n",
    "- an **addition** ($+$) between the resulting 2D tensor and a vector $\\texttt{b}$ , and finally\n",
    "- an **element-wise operation** ($\\texttt{relu}$). $\\texttt{relu(x)} = \\max(x, 0)$\n",
    "\n",
    "\n",
    "> A couple of concepts that will be deepened later on:\n",
    "\n",
    "> #### Bias\n",
    "> A vector. Equivalent of the intercept coefficient in any regression\n",
    "\n",
    "> #### Activation function\n",
    "> The equivalent of the logit function in a logistic regression. Used to introduce non-linearities in the network (wich would otherwise result in a mere linear transformation of the input, uncapable to grasp non-linear features).\n",
    "\n",
    "There is an additional operation worth mentioning, which is **tensor reshaping**: nothing more than rearranging its rows and columns to match a target shape"
   ]
  },
  {
   "cell_type": "code",
   "execution_count": 113,
   "metadata": {},
   "outputs": [
    {
     "name": "stdout",
     "output_type": "stream",
     "text": [
      "     [,1] [,2]\n",
      "[1,]    0    1\n",
      "[2,]    2    3\n",
      "[3,]    4    5\n"
     ]
    }
   ],
   "source": [
    "(x = matrix(c(0, 1, 2, 3, 4, 5),\n",
    "           nrow = 3,\n",
    "           ncol = 2,\n",
    "           byrow = TRUE)) %>% print"
   ]
  },
  {
   "cell_type": "code",
   "execution_count": 114,
   "metadata": {},
   "outputs": [
    {
     "name": "stdout",
     "output_type": "stream",
     "text": [
      "     [,1]\n",
      "[1,]    0\n",
      "[2,]    1\n",
      "[3,]    2\n",
      "[4,]    3\n",
      "[5,]    4\n",
      "[6,]    5\n"
     ]
    }
   ],
   "source": [
    "# reshape to a vector\n",
    "(x = array_reshape(x, dim = c(6, 1))) %>% print"
   ]
  },
  {
   "cell_type": "code",
   "execution_count": 118,
   "metadata": {},
   "outputs": [
    {
     "name": "stdout",
     "output_type": "stream",
     "text": [
      "     [,1] [,2] [,3]\n",
      "[1,]    0    1    2\n",
      "[2,]    3    4    5\n"
     ]
    }
   ],
   "source": [
    "# ri-reshape to a matrix\n",
    "(x = array_reshape(x, dim = c(2, 3))) %>% print"
   ]
  },
  {
   "cell_type": "code",
   "execution_count": 119,
   "metadata": {},
   "outputs": [
    {
     "name": "stdout",
     "output_type": "stream",
     "text": [
      "     [,1] [,2]\n",
      "[1,]    0    3\n",
      "[2,]    1    4\n",
      "[3,]    2    5\n"
     ]
    }
   ],
   "source": [
    "# transpose back to its original shape\n",
    "(x = t(x) ) %>% print"
   ]
  },
  {
   "cell_type": "markdown",
   "metadata": {},
   "source": [
    "### Geometric interpretation of deep learning\n",
    "\n",
    "You just learned that neural networks consist entirely of **chains of tensor operations** and that all of these tensor operations are just geometric transformations of the input data (in some n-dimentional hyperspace). It follows that you can interpret a neural network as a very complex geometric transformation in a high-dimensional space, implemented via a long series of simple\n",
    "steps.\n",
    "\n",
    "Imagine you need to discriminate which side is which in a crumpled paper sheet.\n",
    "\n",
    "<img src=\"fig/paper_ball.PNG\" width=\"400\">\n",
    "\n",
    "**Uncrumpling paper balls is what machine learning is about**: finding neat representations for complex, highly folded data manifolds. "
   ]
  },
  {
   "cell_type": "markdown",
   "metadata": {},
   "source": [
    "___\n",
    "\n",
    "## Gradient Based Optimization\n",
    "\n",
    "This is how things *really* come to be.\n",
    "\n",
    "As you saw in the previous section, each neural layer from our first network example transforms its input data as follows"
   ]
  },
  {
   "cell_type": "code",
   "execution_count": null,
   "metadata": {},
   "outputs": [],
   "source": [
    "# do not run\n",
    "output = relu(dot(W, input) + b"
   ]
  },
  {
   "cell_type": "markdown",
   "metadata": {},
   "source": [
    "In this expression, $\\texttt{W}$ and $\\texttt{b}$ are tensors that are attributes of the layer. They’re called the *weights* or the *trainable parameters* of the layer (the $\\texttt{kernel}$ and $\\texttt{bias}$ attributes, respectively). These weights contain the information learned by the network from exposure to training data. Initially, these weight matrices are filled with small random values (a step called random initialization). Of course, there’s no reason to expect that $\\texttt{relu(dot(W, input) + b)}$, when $\\texttt{W}$ and $\\texttt{b}$ are random, would yield any useful representations. The resulting representations are meaningless but they are a starting point. What comes next is **to gradually adjust these weights, based on a feedback signal**. This gradual adjustment, also called training, is basically \"**the learning**\" that machine learning is all about.\n",
    "\n",
    "This happens within what's called a **training loop**, which schematically looks as follows:\n",
    "1. Draw a batch of training samples $\\texttt{x}$ and corresponding targets $\\texttt{y}$\n",
    "2. Run the network on $\\texttt{x}$ (this is called a **forward pass**, or feedforwading), to obtain predictions $\\texttt{y}$\\_$\\texttt{pred}$\n",
    "3. Compute the loss of the network on the batch, a measure of mismatch between $\\texttt{y}$\\_$\\texttt{pred}$ and $\\texttt{y}$\n",
    "4. Update all weights of the network in a way that slighly redices the loss on this batch\n",
    "\n",
    "You will eventually end up with a network that slighly reduces the loss on training data: that is, a low mismatch between predictions $\\texttt{y_pred}$ and expected targets $\\texttt{y}$. The network has *learned* to map its inputs to correct targets. From afar, it may look like magic, but when reduced to elementary steps, it turns out to be simple.\n",
    "\n",
    "Step 1 sounds easy enough: just I/O code. Steps 2 and 3 are merely the application of a handful of tensor operations, so you could implement these steps purely from what you learned in the previous section. The difficult part is step 4: updating the network’s\n",
    "weights."
   ]
  },
  {
   "cell_type": "code",
   "execution_count": 162,
   "metadata": {},
   "outputs": [
    {
     "data": {
      "text/plain": [
       "[[1]]\n",
       "Variable(shape=(784, 512), dtype=float32_ref)\n",
       "\n",
       "\n",
       "[[2]]\n",
       "Variable(shape=(512,), dtype=float32_ref)\n",
       "\n",
       "\n",
       "[[3]]\n",
       "Variable(shape=(512, 10), dtype=float32_ref)\n",
       "\n",
       "\n",
       "[[4]]\n",
       "Variable(shape=(10,), dtype=float32_ref)\n",
       "\n"
      ]
     },
     "metadata": {},
     "output_type": "display_data"
    }
   ],
   "source": [
    "# which are traineble parameters in our MNIST network\n",
    "network$trainable_weights"
   ]
  },
  {
   "cell_type": "markdown",
   "metadata": {},
   "source": [
    "The approach is to take advantage of the fact that **all operations used in the network are compute the differentiable** , and to **compute the gradient of the loss with regard to the network’s coefficients**. You can then **move the coefficients in the opposite direction from the gradient**, thus decreasing the\n",
    "loss.\n",
    "\n",
    "> BTW a **gradient** is nothing more than a n-dimensional derivative, that is a **derivative of a tensor operation** (i.e. a matrix where on the main diagonal you find the derivative on a specific dimension, while partial derivative elsewere). This thing is also referred as the **Jacobian** matrix.\n",
    "\n",
    "<img src=\"fig/1d_loss.png\" width=\"200\"> <img src=\"fig/2d_loss.png\" width=\"200\">"
   ]
  },
  {
   "cell_type": "markdown",
   "metadata": {},
   "source": [
    "### Chain Rule: the backpropagation algorithm\n",
    "\n",
    "In the previous algorithm, we casually assumed that because a function is differentiable, we can explicitly compute its derivative. In practice, a neural-network function consists of many tensor operations chained together, each of which has a simple, known derivative. For instance, this is a network $f$ composed of three tensor operations $a$, $b$, and $c$, with weight matrices $W1$, $W2$, and $W3$:\n",
    "\n",
    "$$f(W1, W2, W3) = a(W1,\\, b(W2,\\, c(W3))$$\n",
    "\n",
    "Calculus tells us that a chain of function can bedifferentiated using the so-called *chain rule*:\n",
    "\n",
    "$$\\frac{d}{dx}f(g(x)) = f'(g(x)) \\cdot g'(x)$$\n",
    "\n",
    "Recursively applying the chain rule to the coputation of the gradient values gives rise to an algorithm called *backpropagation*. Backpropagation starts with the final loss value and works backward from the top layers to the bottom layers, applying the chain rule to compute the contribution that each parameter had in the loss value.\n",
    "\n",
    "Modern frameworks, such as tensorflow, are capable of *symbolic differentiation*, which means that, given a chain of operations with a known derivative, they can compute a gradient function for the whole chain (by applying the chain rule), that **maps every network parameter to gradient values**. When you have access to such a function, the backward pass is simply reduced to a call to this gradient function."
   ]
  },
  {
   "cell_type": "markdown",
   "metadata": {},
   "source": [
    "___\n",
    "## WAIT. Please recap!\n",
    "Sure.\n",
    "\n",
    "- This was the input data:"
   ]
  },
  {
   "cell_type": "code",
   "execution_count": null,
   "metadata": {},
   "outputs": [],
   "source": [
    "mnist <- dataset_mnist() train_images <- mnist$train$x\n",
    "\n",
    "train_images <- array_reshape(train_images, c(60000, 28 * 28))\n",
    "train_images <- train_images / 255\n",
    "test_images <- mnist$test$x\n",
    "test_images <- array_reshape(test_images, c(10000, 28 * 28))\n",
    "test_images <- test_images / 25"
   ]
  },
  {
   "cell_type": "markdown",
   "metadata": {},
   "source": [
    "now you understand that our **input images are stored in tensors** of shape $(60,000, 784)$ (training data) and $(10,000, 784)$ (testing data) redpectively.\n",
    "\n",
    "- This was our network"
   ]
  },
  {
   "cell_type": "code",
   "execution_count": null,
   "metadata": {},
   "outputs": [],
   "source": [
    "network = keras_model_sequential() %>% # keras_model_sequential is the basic call to start building the nnet\n",
    "            # first layer\n",
    "            layer_dense(units = 512,\n",
    "                        activation = \"relu\",\n",
    "                        input_shape = c(28 * 28),\n",
    "                        use_bias = T,\n",
    "                        name='first_layer'\n",
    "                       ) %>%\n",
    "            # second layer\n",
    "            layer_dense(units = 10,\n",
    "                        activation = \"softmax\",\n",
    "                        use_bias = T,\n",
    "                        name = 'output_layer'\n",
    "                       )"
   ]
  },
  {
   "cell_type": "markdown",
   "metadata": {},
   "source": [
    "Now you understand that\n",
    "1. this network consists in a **chain of two dense layer**, and that\n",
    "2. each layer applies a few simple tensor operations to the input data, that \n",
    "3. these operations involve tensors\n",
    "4.  weight tensors ($\\texttt{W}$ and $\\texttt{b}$), which are attributes of the layer, is where the **knowledge** of the network persist"
   ]
  },
  {
   "cell_type": "markdown",
   "metadata": {},
   "source": [
    "- This was the network-compilation step"
   ]
  },
  {
   "cell_type": "code",
   "execution_count": null,
   "metadata": {},
   "outputs": [],
   "source": [
    "network %>% compile(optimizer = \"rmsprop\",\n",
    "                    loss = \"categorical_crossentropy\",\n",
    "                    metrics = c(\"accuracy\")\n",
    ")"
   ]
  },
  {
   "cell_type": "markdown",
   "metadata": {},
   "source": [
    "Now you understand that\n",
    "1. $\\texttt{categorical}$\\_$\\texttt{crossentropy}$ is the loss funtion that is used as a feedback signal for learning the weight tensors (which the training phase will attempt to minimize)\n",
    "2. The reduction of the loss happens via gradient descent. The exact tules governing a specific use of gradient descent are defined by the $\\texttt{'rmsprop'}$ optimizer passed as the first argument. "
   ]
  },
  {
   "cell_type": "markdown",
   "metadata": {},
   "source": [
    "Finally, this was the training loop:"
   ]
  },
  {
   "cell_type": "code",
   "execution_count": null,
   "metadata": {},
   "outputs": [],
   "source": [
    "network %>% fit(train_images,\n",
    "                train_labels,\n",
    "                epochs = 5,\n",
    "                batch_size = 128)"
   ]
  },
  {
   "cell_type": "markdown",
   "metadata": {},
   "source": [
    "Now you understand what's going on when you call $\\texttt{fit}$\n",
    "1. The network will start to iterate on the training data in batches of 128 samples\n",
    "2. The network will iterate over all batches five times (each iteration over all the training data is called an **epoch**)\n",
    "3. After these 5 epochs you will have performed 2,345 gradient updats (469 per epoch) and the loss of the network wukk be sufficiently low that the model will be capable to classify handwritten digits wih high accuracy."
   ]
  },
  {
   "cell_type": "markdown",
   "metadata": {},
   "source": [
    "___\n",
    "## Final tips\n",
    "\n",
    "### 1.  Activation function\n",
    "Lots of activation function have been developed in time.\n",
    "\n",
    "#### Hidden layer\n",
    "Please use $\\texttt{relu}$ (Rectified linear unit). It is the simplest and it work the best!\n",
    "\n",
    "#### Output layer\n",
    "It depends:\n",
    "- **Binary classification**: use $\\texttt{'sigmoid'}$ \n",
    "- **Multiclass classification**\n",
    "    - **single outcome** possible at a time: use $\\texttt{'softmax'}$\n",
    "    - **multiple outcomes** possible at the same fime: use $\\texttt{'sigmoid'}$\n",
    "- **Regression to arbitrary values**: don't use any\n",
    "    - between O and 1? you can use $\\texttt{'sigmoid'}$"
   ]
  },
  {
   "cell_type": "code",
   "execution_count": 169,
   "metadata": {},
   "outputs": [
    {
     "data": {
      "text/html": [
       "<ol class=list-inline>\n",
       "\t<li>'activation_elu'</li>\n",
       "\t<li>'activation_hard_sigmoid'</li>\n",
       "\t<li>'activation_linear'</li>\n",
       "\t<li>'activation_relu'</li>\n",
       "\t<li>'activation_selu'</li>\n",
       "\t<li>'activation_sigmoid'</li>\n",
       "\t<li>'activation_softmax'</li>\n",
       "\t<li>'activation_softplus'</li>\n",
       "\t<li>'activation_softsign'</li>\n",
       "\t<li>'activation_tanh'</li>\n",
       "\t<li>'layer_activation'</li>\n",
       "\t<li>'layer_activation_elu'</li>\n",
       "\t<li>'layer_activation_leaky_relu'</li>\n",
       "\t<li>'layer_activation_parametric_relu'</li>\n",
       "\t<li>'layer_activation_softmax'</li>\n",
       "\t<li>'layer_activation_thresholded_relu'</li>\n",
       "</ol>\n"
      ],
      "text/latex": [
       "\\begin{enumerate*}\n",
       "\\item 'activation\\_elu'\n",
       "\\item 'activation\\_hard\\_sigmoid'\n",
       "\\item 'activation\\_linear'\n",
       "\\item 'activation\\_relu'\n",
       "\\item 'activation\\_selu'\n",
       "\\item 'activation\\_sigmoid'\n",
       "\\item 'activation\\_softmax'\n",
       "\\item 'activation\\_softplus'\n",
       "\\item 'activation\\_softsign'\n",
       "\\item 'activation\\_tanh'\n",
       "\\item 'layer\\_activation'\n",
       "\\item 'layer\\_activation\\_elu'\n",
       "\\item 'layer\\_activation\\_leaky\\_relu'\n",
       "\\item 'layer\\_activation\\_parametric\\_relu'\n",
       "\\item 'layer\\_activation\\_softmax'\n",
       "\\item 'layer\\_activation\\_thresholded\\_relu'\n",
       "\\end{enumerate*}\n"
      ],
      "text/markdown": [
       "1. 'activation_elu'\n",
       "2. 'activation_hard_sigmoid'\n",
       "3. 'activation_linear'\n",
       "4. 'activation_relu'\n",
       "5. 'activation_selu'\n",
       "6. 'activation_sigmoid'\n",
       "7. 'activation_softmax'\n",
       "8. 'activation_softplus'\n",
       "9. 'activation_softsign'\n",
       "10. 'activation_tanh'\n",
       "11. 'layer_activation'\n",
       "12. 'layer_activation_elu'\n",
       "13. 'layer_activation_leaky_relu'\n",
       "14. 'layer_activation_parametric_relu'\n",
       "15. 'layer_activation_softmax'\n",
       "16. 'layer_activation_thresholded_relu'\n",
       "\n",
       "\n"
      ],
      "text/plain": [
       " [1] \"activation_elu\"                    \"activation_hard_sigmoid\"          \n",
       " [3] \"activation_linear\"                 \"activation_relu\"                  \n",
       " [5] \"activation_selu\"                   \"activation_sigmoid\"               \n",
       " [7] \"activation_softmax\"                \"activation_softplus\"              \n",
       " [9] \"activation_softsign\"               \"activation_tanh\"                  \n",
       "[11] \"layer_activation\"                  \"layer_activation_elu\"             \n",
       "[13] \"layer_activation_leaky_relu\"       \"layer_activation_parametric_relu\" \n",
       "[15] \"layer_activation_softmax\"          \"layer_activation_thresholded_relu\""
      ]
     },
     "metadata": {},
     "output_type": "display_data"
    }
   ],
   "source": [
    "lsp(keras, pattern = 'activation')"
   ]
  },
  {
   "cell_type": "markdown",
   "metadata": {},
   "source": [
    "### 2. Loss function\n",
    "It depends:\n",
    "- **Binary classification**: use $\\texttt{'binary_crossentropy'}$\n",
    "- **Multiclass classification**\n",
    "    - **single outcome** possible at a time: use $\\texttt{'categorical_crossentropy'}$\n",
    "    - **multiple outcomes** possible at the same fime: use $\\texttt{'binary_crossentropy'}$\n",
    "- **Regression to arbitrary values**: $\\texttt{'mse'}$\n",
    "    - between O and 1? you can use $\\texttt{'mse'}$ or $\\texttt{'binary_crossentropy'}$"
   ]
  },
  {
   "cell_type": "code",
   "execution_count": 170,
   "metadata": {},
   "outputs": [
    {
     "data": {
      "text/html": [
       "<ol class=list-inline>\n",
       "\t<li>'loss_binary_crossentropy'</li>\n",
       "\t<li>'loss_categorical_crossentropy'</li>\n",
       "\t<li>'loss_categorical_hinge'</li>\n",
       "\t<li>'loss_cosine_proximity'</li>\n",
       "\t<li>'loss_hinge'</li>\n",
       "\t<li>'loss_kullback_leibler_divergence'</li>\n",
       "\t<li>'loss_logcosh'</li>\n",
       "\t<li>'loss_mean_absolute_error'</li>\n",
       "\t<li>'loss_mean_absolute_percentage_error'</li>\n",
       "\t<li>'loss_mean_squared_error'</li>\n",
       "\t<li>'loss_mean_squared_logarithmic_error'</li>\n",
       "\t<li>'loss_poisson'</li>\n",
       "\t<li>'loss_sparse_categorical_crossentropy'</li>\n",
       "\t<li>'loss_squared_hinge'</li>\n",
       "</ol>\n"
      ],
      "text/latex": [
       "\\begin{enumerate*}\n",
       "\\item 'loss\\_binary\\_crossentropy'\n",
       "\\item 'loss\\_categorical\\_crossentropy'\n",
       "\\item 'loss\\_categorical\\_hinge'\n",
       "\\item 'loss\\_cosine\\_proximity'\n",
       "\\item 'loss\\_hinge'\n",
       "\\item 'loss\\_kullback\\_leibler\\_divergence'\n",
       "\\item 'loss\\_logcosh'\n",
       "\\item 'loss\\_mean\\_absolute\\_error'\n",
       "\\item 'loss\\_mean\\_absolute\\_percentage\\_error'\n",
       "\\item 'loss\\_mean\\_squared\\_error'\n",
       "\\item 'loss\\_mean\\_squared\\_logarithmic\\_error'\n",
       "\\item 'loss\\_poisson'\n",
       "\\item 'loss\\_sparse\\_categorical\\_crossentropy'\n",
       "\\item 'loss\\_squared\\_hinge'\n",
       "\\end{enumerate*}\n"
      ],
      "text/markdown": [
       "1. 'loss_binary_crossentropy'\n",
       "2. 'loss_categorical_crossentropy'\n",
       "3. 'loss_categorical_hinge'\n",
       "4. 'loss_cosine_proximity'\n",
       "5. 'loss_hinge'\n",
       "6. 'loss_kullback_leibler_divergence'\n",
       "7. 'loss_logcosh'\n",
       "8. 'loss_mean_absolute_error'\n",
       "9. 'loss_mean_absolute_percentage_error'\n",
       "10. 'loss_mean_squared_error'\n",
       "11. 'loss_mean_squared_logarithmic_error'\n",
       "12. 'loss_poisson'\n",
       "13. 'loss_sparse_categorical_crossentropy'\n",
       "14. 'loss_squared_hinge'\n",
       "\n",
       "\n"
      ],
      "text/plain": [
       " [1] \"loss_binary_crossentropy\"            \n",
       " [2] \"loss_categorical_crossentropy\"       \n",
       " [3] \"loss_categorical_hinge\"              \n",
       " [4] \"loss_cosine_proximity\"               \n",
       " [5] \"loss_hinge\"                          \n",
       " [6] \"loss_kullback_leibler_divergence\"    \n",
       " [7] \"loss_logcosh\"                        \n",
       " [8] \"loss_mean_absolute_error\"            \n",
       " [9] \"loss_mean_absolute_percentage_error\" \n",
       "[10] \"loss_mean_squared_error\"             \n",
       "[11] \"loss_mean_squared_logarithmic_error\" \n",
       "[12] \"loss_poisson\"                        \n",
       "[13] \"loss_sparse_categorical_crossentropy\"\n",
       "[14] \"loss_squared_hinge\"                  "
      ]
     },
     "metadata": {},
     "output_type": "display_data"
    }
   ],
   "source": [
    "lsp(keras, pattern = 'loss')"
   ]
  },
  {
   "cell_type": "markdown",
   "metadata": {},
   "source": [
    "### 3. Optimizer\n",
    "Lots of optimization function have been developed in time. Currently, for most of tasks, the adaptive moment estimation ($\\texttt{adam}$) optimizer works the best and converge to the mimimum loss faster than any other algorithm."
   ]
  },
  {
   "cell_type": "code",
   "execution_count": 166,
   "metadata": {},
   "outputs": [
    {
     "data": {
      "text/html": [
       "<ol class=list-inline>\n",
       "\t<li>'optimizer_adadelta'</li>\n",
       "\t<li>'optimizer_adagrad'</li>\n",
       "\t<li>'optimizer_adam'</li>\n",
       "\t<li>'optimizer_adamax'</li>\n",
       "\t<li>'optimizer_nadam'</li>\n",
       "\t<li>'optimizer_rmsprop'</li>\n",
       "\t<li>'optimizer_sgd'</li>\n",
       "</ol>\n"
      ],
      "text/latex": [
       "\\begin{enumerate*}\n",
       "\\item 'optimizer\\_adadelta'\n",
       "\\item 'optimizer\\_adagrad'\n",
       "\\item 'optimizer\\_adam'\n",
       "\\item 'optimizer\\_adamax'\n",
       "\\item 'optimizer\\_nadam'\n",
       "\\item 'optimizer\\_rmsprop'\n",
       "\\item 'optimizer\\_sgd'\n",
       "\\end{enumerate*}\n"
      ],
      "text/markdown": [
       "1. 'optimizer_adadelta'\n",
       "2. 'optimizer_adagrad'\n",
       "3. 'optimizer_adam'\n",
       "4. 'optimizer_adamax'\n",
       "5. 'optimizer_nadam'\n",
       "6. 'optimizer_rmsprop'\n",
       "7. 'optimizer_sgd'\n",
       "\n",
       "\n"
      ],
      "text/plain": [
       "[1] \"optimizer_adadelta\" \"optimizer_adagrad\"  \"optimizer_adam\"    \n",
       "[4] \"optimizer_adamax\"   \"optimizer_nadam\"    \"optimizer_rmsprop\" \n",
       "[7] \"optimizer_sgd\"     "
      ]
     },
     "metadata": {},
     "output_type": "display_data"
    }
   ],
   "source": [
    "lsp(keras, pattern = 'optimizer')"
   ]
  },
  {
   "cell_type": "markdown",
   "metadata": {},
   "source": [
    "For every hyperparameter you can choose whether to pass the string ($\\texttt{'adam'}$) or by calling the equivalent function $\\texttt{optimizer}$\\_$\\texttt{adam}$(), where you can additionally manually specify a few parameters."
   ]
  },
  {
   "cell_type": "markdown",
   "metadata": {},
   "source": [
    "### 4. Save model\n",
    "The training process may require a lot of time. You'd better save your model if you want to use it somewhere else without training it by scratch, or if you want to use any pre-trained model.\n",
    "\n",
    "A model is stored as a .hdf5 file. Please note what you will have to save separately the structure and the weights!"
   ]
  },
  {
   "cell_type": "code",
   "execution_count": 173,
   "metadata": {},
   "outputs": [
    {
     "data": {
      "text/html": [
       "<ol class=list-inline>\n",
       "\t<li>'save_model_hdf5'</li>\n",
       "\t<li>'save_model_weights_hdf5'</li>\n",
       "</ol>\n"
      ],
      "text/latex": [
       "\\begin{enumerate*}\n",
       "\\item 'save\\_model\\_hdf5'\n",
       "\\item 'save\\_model\\_weights\\_hdf5'\n",
       "\\end{enumerate*}\n"
      ],
      "text/markdown": [
       "1. 'save_model_hdf5'\n",
       "2. 'save_model_weights_hdf5'\n",
       "\n",
       "\n"
      ],
      "text/plain": [
       "[1] \"save_model_hdf5\"         \"save_model_weights_hdf5\""
      ]
     },
     "metadata": {},
     "output_type": "display_data"
    },
    {
     "data": {
      "text/html": [
       "<ol class=list-inline>\n",
       "\t<li>'load_model_hdf5'</li>\n",
       "\t<li>'load_model_weights_hdf5'</li>\n",
       "\t<li>'mobilenet_load_model_hdf5'</li>\n",
       "</ol>\n"
      ],
      "text/latex": [
       "\\begin{enumerate*}\n",
       "\\item 'load\\_model\\_hdf5'\n",
       "\\item 'load\\_model\\_weights\\_hdf5'\n",
       "\\item 'mobilenet\\_load\\_model\\_hdf5'\n",
       "\\end{enumerate*}\n"
      ],
      "text/markdown": [
       "1. 'load_model_hdf5'\n",
       "2. 'load_model_weights_hdf5'\n",
       "3. 'mobilenet_load_model_hdf5'\n",
       "\n",
       "\n"
      ],
      "text/plain": [
       "[1] \"load_model_hdf5\"           \"load_model_weights_hdf5\"  \n",
       "[3] \"mobilenet_load_model_hdf5\""
      ]
     },
     "metadata": {},
     "output_type": "display_data"
    }
   ],
   "source": [
    "lsp(keras, pattern = 'save_model')\n",
    "lsp(keras, pattern = 'load_model')"
   ]
  },
  {
   "cell_type": "markdown",
   "metadata": {},
   "source": [
    "### 5. Make predictions\n",
    "You may want to predict something... classes? probabilities?"
   ]
  },
  {
   "cell_type": "code",
   "execution_count": 175,
   "metadata": {},
   "outputs": [
    {
     "data": {
      "text/html": [
       "<ol class=list-inline>\n",
       "\t<li>'predict_classes'</li>\n",
       "\t<li>'predict_generator'</li>\n",
       "\t<li>'predict_on_batch'</li>\n",
       "\t<li>'predict_proba'</li>\n",
       "</ol>\n"
      ],
      "text/latex": [
       "\\begin{enumerate*}\n",
       "\\item 'predict\\_classes'\n",
       "\\item 'predict\\_generator'\n",
       "\\item 'predict\\_on\\_batch'\n",
       "\\item 'predict\\_proba'\n",
       "\\end{enumerate*}\n"
      ],
      "text/markdown": [
       "1. 'predict_classes'\n",
       "2. 'predict_generator'\n",
       "3. 'predict_on_batch'\n",
       "4. 'predict_proba'\n",
       "\n",
       "\n"
      ],
      "text/plain": [
       "[1] \"predict_classes\"   \"predict_generator\" \"predict_on_batch\" \n",
       "[4] \"predict_proba\"    "
      ]
     },
     "metadata": {},
     "output_type": "display_data"
    }
   ],
   "source": [
    "lsp(keras, pattern = 'predict_')"
   ]
  }
 ],
 "metadata": {
  "kernelspec": {
   "display_name": "R",
   "language": "R",
   "name": "ir"
  },
  "language_info": {
   "codemirror_mode": "r",
   "file_extension": ".r",
   "mimetype": "text/x-r-source",
   "name": "R",
   "pygments_lexer": "r",
   "version": "3.4.4"
  }
 },
 "nbformat": 4,
 "nbformat_minor": 2
}
