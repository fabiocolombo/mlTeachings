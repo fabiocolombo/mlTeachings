{
 "cells": [
  {
   "cell_type": "markdown",
   "metadata": {},
   "source": [
    "# Newtork Regularization\n",
    "\n",
    "___\n",
    "\n",
    "*Source: [Chollet et al., Deep Learning With R](https://www.amazon.com/Deep-Learning-R-Francois-Chollet/dp/161729554X) *\n",
    "\n",
    "___"
   ]
  },
  {
   "cell_type": "markdown",
   "metadata": {},
   "source": [
    "In all the examples in the previous chapter—predicting movie reviews, topic classification, and house-price regression—the performance of the model on the held-out validation data always peaked after a few epochs and then began to degrade: that is, the model quickly started to **overfit** to the training data. "
   ]
  },
  {
   "cell_type": "markdown",
   "metadata": {},
   "source": [
    "Overfitting happens in every machine learning problem (as we have seen). Learning how to deal with it is essential!"
   ]
  },
  {
   "cell_type": "markdown",
   "metadata": {},
   "source": [
    "The fundamental issue in machine learning is the **trade-off between optimization and generalization**.\n",
    "Optimization refers to the process of adjusting a model to get the best performance possible on the training data (the learning machine learning ), whereas \n",
    "generalization refers to how well the trained model performs on data it has never seen before.\n",
    "The goal of the game is to get good generalization, of course, but you don’t\n",
    "control generalization; you can only adjust the model based on its training data.\n",
    "\n",
    "Always keep this in mind: deep-learning models tend to be good at fitting to the training data, but the real challenge is\n",
    "generalization, not fitting.\n",
    "\n",
    "> The process of fighting overfitting is called **regularization**."
   ]
  },
  {
   "cell_type": "code",
   "execution_count": 1,
   "metadata": {},
   "outputs": [],
   "source": [
    "source('src/lib.R')"
   ]
  },
  {
   "cell_type": "markdown",
   "metadata": {},
   "source": [
    "Let's first load the network we trained previously."
   ]
  },
  {
   "cell_type": "code",
   "execution_count": 10,
   "metadata": {},
   "outputs": [],
   "source": [
    "network = load_model_hdf5('data/mnist_net.h5')\n",
    "network$load_weights('data/mnist_net_w.h5')\n",
    "\n",
    "# network %>% load_model_weights_hdf5('data/mnist_net_w.h5') # other possible way to load weights"
   ]
  },
  {
   "cell_type": "code",
   "execution_count": 5,
   "metadata": {},
   "outputs": [
    {
     "data": {
      "text/plain": [
       "Model\n",
       "________________________________________________________________________________\n",
       "Layer (type)                        Output Shape                    Param #     \n",
       "================================================================================\n",
       "dense_1 (Dense)                     (None, 256)                     200960      \n",
       "________________________________________________________________________________\n",
       "dropout_1 (Dropout)                 (None, 256)                     0           \n",
       "________________________________________________________________________________\n",
       "dense_2 (Dense)                     (None, 128)                     32896       \n",
       "________________________________________________________________________________\n",
       "dropout_2 (Dropout)                 (None, 128)                     0           \n",
       "________________________________________________________________________________\n",
       "dense_3 (Dense)                     (None, 10)                      1290        \n",
       "================================================================================\n",
       "Total params: 235,146\n",
       "Trainable params: 235,146\n",
       "Non-trainable params: 0\n",
       "________________________________________________________________________________\n",
       "\n"
      ]
     },
     "metadata": {},
     "output_type": "display_data"
    }
   ],
   "source": [
    "network"
   ]
  },
  {
   "cell_type": "markdown",
   "metadata": {},
   "source": [
    "Let's also load the training history."
   ]
  },
  {
   "cell_type": "code",
   "execution_count": 12,
   "metadata": {},
   "outputs": [
    {
     "data": {},
     "metadata": {},
     "output_type": "display_data"
    },
    {
     "data": {
      "image/png": "[encoded data removed]",
      "text/plain": [
       "plot without title"
      ]
     },
     "metadata": {},
     "output_type": "display_data"
    }
   ],
   "source": [
    "(history = readRDS('data/mnist_training_history.R')) %>% plot"
   ]
  },
  {
   "cell_type": "markdown",
   "metadata": {},
   "source": [
    "## A short overfitting tale\n",
    "1. At the beginning of training, optimization and generalization are correlated: the lower the loss on training data, the lower the loss on test data. While this is happening, your model is said to be under-fit : there is still progress to be made; the network hasn’t yet modeled all relevant patterns in the training data.\n",
    "2. After a certain number of iterations on the training data, generalization stops improving, and validation metrics stall and then begin to degrade: the model is starting to over-fit. That is, it’s beginning to learn patterns that are specific to the training data but that are misleading or irrelevant when it comes to\n",
    "new data.\n",
    "3. End."
   ]
  },
  {
   "cell_type": "markdown",
   "metadata": {},
   "source": [
    "## How to deal with overfitting issues\n",
    "### Reducing the network's size\n",
    "The simplest way to prevent overfitting is to **reduce the capacity** (i.e. the size) of the model: that is, the number of learnable parameters in the model (which is determined by the number of layers and the number of units per layer). Intuitively, a model with more parameters has more memorization capacity and therefore can easily learn a perfect dictionary-like mapping between training samples and their targets—a mapping without any generalization power.\n",
    "\n",
    "On the other hand, if the network has limited memorization resources, it won’t be able to learn this mapping as easily; thus, in order to minimize its loss, **the model will have to resort to learning compressed representations that have predictive power regarding the targets** precisely the type of representations we’re interested in.\n",
    "\n",
    "At the same time, keep in mind that you should use models that have enough parameters that they don’t underfit: your model shouldn’t be starved for memorization resources. There is a compromise to be found between too much capacity and not enough capacity."
   ]
  },
  {
   "cell_type": "code",
   "execution_count": null,
   "metadata": {},
   "outputs": [],
   "source": [
    "### code here"
   ]
  },
  {
   "cell_type": "markdown",
   "metadata": {},
   "source": [
    "### Adding weight regularization\n",
    "\n",
    "You may be familiar with the principle of Occam’s razor : given two explanations for something, the explanation most likely to be correct is the simplest one—the one that makes fewer assumptions. This idea also applies to the models learned by neural networks: given some training data and a network architecture, multiple sets of weight values (multiple models ) could explain the data. Simpler models are less likely to overfit than complex ones. A\n",
    "simple model in this context is a model where the distribution of parameter values has less entropy (or a model with fewer parameters, as you saw in the previous section). Thus a common way to mitigate overfitting is to put constraints on the complexity of a network by forcing its weights to take only small values, which makes the distribution of weight values more\n",
    "regular . This is called weight regularization , and it’s done by adding to the loss function of the network a cost associated with having large weights. This cost comes in two flavors:\n",
    "\n",
    "- **L1 regularization** The cost added is proportional to the absolute value of the weight (the coefficients L1 norm L2 regularization—The cost added is proportional to the square of the value of the (the of the weights). weight coefficients L2 norm of the weights).\n",
    "- **L2 regularization** is also called weight decay in the context of neural networks. Don’t let the different name confuse you: weight decay is mathematically the same as L2 regularization."
   ]
  },
  {
   "cell_type": "code",
   "execution_count": null,
   "metadata": {},
   "outputs": [],
   "source": [
    "# code here"
   ]
  },
  {
   "cell_type": "markdown",
   "metadata": {},
   "source": [
    "### Adding dropout\n",
    "Dropout is one of the most effective and most commonly used regularization techniques for neural networks, developed by Geoff Hinton and his students at the University of Toronto. Dropout, applied to a layer, consists of randomly dropping out (setting to zero) a number of output features of the layer during training. Let’s say a given layer would normally return a vector [0.2, 0.5, 1.3, 0.8, 1.1] for a given input sample during training. After applying dropout, this vector will have a few zero entries distributed at random: for example, [0, 0.5, 1.3, 0, 1.1].\n",
    "\n",
    "The dropout rate is the fraction of the feature that are zeroued out. It is usually set between 0.2 and 0.5. At test time, no units are dropped out; instead, the layer;s output values are scaled down by a dactor equal to the dropout rate, to balance for the fact that more units are acrive at a training time."
   ]
  },
  {
   "cell_type": "code",
   "execution_count": null,
   "metadata": {},
   "outputs": [],
   "source": [
    "### code here"
   ]
  },
  {
   "cell_type": "markdown",
   "metadata": {},
   "source": [
    "### Scalin up: developing a model that overfits\n",
    "\n",
    "To figure out how big a model you’ll need, you must develop a model that overfits. This is fairly easy:\n",
    "- Add layers.\n",
    "- Make the layers bigger.\n",
    "- Train for more epochs.\n",
    "\n",
    "Always monitor the training loss and validation loss, as well as the training and validation values for any metrics you care about. When you see that the model’s performance on the validation data begins to degrade, you’ve achieved overfitting. The next stage is to start regularizing and tuning the model, to get as close as possible to the ideal model that neither underfits nor overfits."
   ]
  },
  {
   "cell_type": "markdown",
   "metadata": {},
   "source": [
    "###  Regularizing your model and tuning your hyperparameters\n",
    "This step will take the most time: you’ll repeatedly modify your model, train it, evaluate on your validation data (not the test data, at this point), modify it again, and repeat, until the model is as good as it can get. These are some things you should try:\n",
    "- Add dropout.\n",
    "- Try different architectures: add or remove layers.\n",
    "- Add L1 and/or L2 regularization.\n",
    "- Try different hyperparameters (such as the number of units per layer or the learning rate of the optimizer) to find the optimal configuration.\n",
    "- Optionally, iterate on feature engineering: add new features, or remove features that don’t seem to be informative.\n",
    "\n",
    "Be mindful of the following: every time you use feedback from your validation process to tune your model, you leak information about the validation process into the model. Repeated just a few times, this is innocuous; but done systematically over many iterations, it will eventually cause your model to overfit to the validation process (even though no model is directly trained on any of the validation data). This makes the evaluation process less reliable, so keep it in mind.\n",
    "Once you’ve developed a good enough model configuration, you can train your final production model on all the available data (training and validation) and evaluate it one last time on the test set. If it turns out that performance on the test set is significantly worse than the performance measured on the validation data, this may mean either that your validation procedure wasn’t reliable after all, or that you started overfitting to the validation data while tuning the parameters of the model. In this case, you may want to switch to a more reliable evaluation protocol (such as iterated K-fold validation)."
   ]
  },
  {
   "cell_type": "code",
   "execution_count": null,
   "metadata": {},
   "outputs": [],
   "source": []
  }
 ],
 "metadata": {
  "kernelspec": {
   "display_name": "R",
   "language": "R",
   "name": "ir"
  },
  "language_info": {
   "codemirror_mode": "r",
   "file_extension": ".r",
   "mimetype": "text/x-r-source",
   "name": "R",
   "pygments_lexer": "r",
   "version": "3.4.4"
  }
 },
 "nbformat": 4,
 "nbformat_minor": 2
}
