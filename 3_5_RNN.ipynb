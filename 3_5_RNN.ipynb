{
 "cells": [
  {
   "cell_type": "markdown",
   "metadata": {},
   "source": [
    "## Text Data and Recurring Neural Networks"
   ]
  },
  {
   "cell_type": "code",
   "execution_count": 2,
   "metadata": {},
   "outputs": [],
   "source": [
    "source(\"src//lib.R\")"
   ]
  },
  {
   "cell_type": "markdown",
   "metadata": {},
   "source": [
    "In this notebook we'll summarise two related and important topics in Neural Networks:\n",
    "* Text processing and how to feed text data into Neural Networks\n",
    "* The Neural Networks models that have been developed to handle data having a sequence structure (i.e. text or timeseries)"
   ]
  },
  {
   "cell_type": "markdown",
   "metadata": {},
   "source": [
    "### Text vectorization\n",
    "In the previous notebooks we have seen that neural networks model must be fed with numeric tensors, the *text vectorization* is a process that transforms text data into quantitative data.\n",
    "\n",
    "There are different way to *vectorize* text data, as example:\n",
    "* Segment text into **words** and associate each word to a numerical vector.\n",
    "* Segment text into **characters** and transform each character into a numerical vector.\n",
    "* Extract **N-Grams** of words/characters and transform each N-Gram into a vector. A **N-gram** is a sequence of at most **N** consecutive words/characters in a text data: consider text *\"UniCredit is a pan European Winner\"*, it contains the following **3 grams**: *Unicredit, is, a, pan, European, Winner, Unicredit is, is a, a pan, pan European, European Winner, Unicredit is a, is a pan, a pan European, pan European Winner*.\n",
    "\n",
    "In the following we'll focus our attention on the first *vectorization* strategy: **words** vectorization.\n",
    "\n",
    "The **first step** in this process is to segment text data into words: *Tokenization*. Let's see how to tokenize text data in **KERAS**:"
   ]
  },
  {
   "cell_type": "code",
   "execution_count": 2,
   "metadata": {},
   "outputs": [
    {
     "data": {
      "text/html": [
       "<ol class=list-inline>\n",
       "\t<li>'unicredit'</li>\n",
       "\t<li>'is'</li>\n",
       "\t<li>'a'</li>\n",
       "\t<li>'pan'</li>\n",
       "\t<li>'european'</li>\n",
       "\t<li>'winner'</li>\n",
       "\t<li>'cib'</li>\n",
       "\t<li>'fully'</li>\n",
       "\t<li>'plugged'</li>\n",
       "\t<li>'into'</li>\n",
       "</ol>\n"
      ],
      "text/latex": [
       "\\begin{enumerate*}\n",
       "\\item 'unicredit'\n",
       "\\item 'is'\n",
       "\\item 'a'\n",
       "\\item 'pan'\n",
       "\\item 'european'\n",
       "\\item 'winner'\n",
       "\\item 'cib'\n",
       "\\item 'fully'\n",
       "\\item 'plugged'\n",
       "\\item 'into'\n",
       "\\end{enumerate*}\n"
      ],
      "text/markdown": [
       "1. 'unicredit'\n",
       "2. 'is'\n",
       "3. 'a'\n",
       "4. 'pan'\n",
       "5. 'european'\n",
       "6. 'winner'\n",
       "7. 'cib'\n",
       "8. 'fully'\n",
       "9. 'plugged'\n",
       "10. 'into'\n",
       "\n",
       "\n"
      ],
      "text/plain": [
       " [1] \"unicredit\" \"is\"        \"a\"         \"pan\"       \"european\"  \"winner\"   \n",
       " [7] \"cib\"       \"fully\"     \"plugged\"   \"into\"     "
      ]
     },
     "metadata": {},
     "output_type": "display_data"
    }
   ],
   "source": [
    "samples <- c(\"UniCredit is a pan European Winner\", \"CIB is fully plugged into UniCredit\")\n",
    "tokenizer <- text_tokenizer() %>%\n",
    " fit_text_tokenizer(samples)\n",
    "\n",
    "tokenizer$word_counts %>% names"
   ]
  },
  {
   "cell_type": "markdown",
   "metadata": {},
   "source": [
    "The tokenizer found 10 different *words* in the input sentences."
   ]
  },
  {
   "cell_type": "markdown",
   "metadata": {},
   "source": [
    "#### One-Hot encoding\n",
    "Now we have to associate to these words (*tokens*) a numeric vector, the more simple way is called **One-Hot encoding**."
   ]
  },
  {
   "cell_type": "markdown",
   "metadata": {},
   "source": [
    "This encoding strategy first requires to associates a unique integer index id $H_w$ to each word $w$. In **KERAS** this is done directly by the *tokenizer*:"
   ]
  },
  {
   "cell_type": "code",
   "execution_count": 3,
   "metadata": {},
   "outputs": [
    {
     "data": {
      "text/html": [
       "<dl>\n",
       "\t<dt>$unicredit</dt>\n",
       "\t\t<dd>1</dd>\n",
       "\t<dt>$is</dt>\n",
       "\t\t<dd>2</dd>\n",
       "\t<dt>$a</dt>\n",
       "\t\t<dd>3</dd>\n",
       "\t<dt>$pan</dt>\n",
       "\t\t<dd>4</dd>\n",
       "\t<dt>$european</dt>\n",
       "\t\t<dd>5</dd>\n",
       "\t<dt>$winner</dt>\n",
       "\t\t<dd>6</dd>\n",
       "\t<dt>$cib</dt>\n",
       "\t\t<dd>7</dd>\n",
       "\t<dt>$fully</dt>\n",
       "\t\t<dd>8</dd>\n",
       "\t<dt>$plugged</dt>\n",
       "\t\t<dd>9</dd>\n",
       "\t<dt>$into</dt>\n",
       "\t\t<dd>10</dd>\n",
       "</dl>\n"
      ],
      "text/latex": [
       "\\begin{description}\n",
       "\\item[\\$unicredit] 1\n",
       "\\item[\\$is] 2\n",
       "\\item[\\$a] 3\n",
       "\\item[\\$pan] 4\n",
       "\\item[\\$european] 5\n",
       "\\item[\\$winner] 6\n",
       "\\item[\\$cib] 7\n",
       "\\item[\\$fully] 8\n",
       "\\item[\\$plugged] 9\n",
       "\\item[\\$into] 10\n",
       "\\end{description}\n"
      ],
      "text/markdown": [
       "$unicredit\n",
       ":   1\n",
       "$is\n",
       ":   2\n",
       "$a\n",
       ":   3\n",
       "$pan\n",
       ":   4\n",
       "$european\n",
       ":   5\n",
       "$winner\n",
       ":   6\n",
       "$cib\n",
       ":   7\n",
       "$fully\n",
       ":   8\n",
       "$plugged\n",
       ":   9\n",
       "$into\n",
       ":   10\n",
       "\n",
       "\n"
      ],
      "text/plain": [
       "$unicredit\n",
       "[1] 1\n",
       "\n",
       "$is\n",
       "[1] 2\n",
       "\n",
       "$a\n",
       "[1] 3\n",
       "\n",
       "$pan\n",
       "[1] 4\n",
       "\n",
       "$european\n",
       "[1] 5\n",
       "\n",
       "$winner\n",
       "[1] 6\n",
       "\n",
       "$cib\n",
       "[1] 7\n",
       "\n",
       "$fully\n",
       "[1] 8\n",
       "\n",
       "$plugged\n",
       "[1] 9\n",
       "\n",
       "$into\n",
       "[1] 10\n"
      ]
     },
     "metadata": {},
     "output_type": "display_data"
    }
   ],
   "source": [
    "tokenizer$word_index"
   ]
  },
  {
   "cell_type": "markdown",
   "metadata": {},
   "source": [
    "Then we need to transform our sample sentences into list of indices:"
   ]
  },
  {
   "cell_type": "code",
   "execution_count": 4,
   "metadata": {},
   "outputs": [
    {
     "data": {
      "text/html": [
       "'list'"
      ],
      "text/latex": [
       "'list'"
      ],
      "text/markdown": [
       "'list'"
      ],
      "text/plain": [
       "[1] \"list\""
      ]
     },
     "metadata": {},
     "output_type": "display_data"
    }
   ],
   "source": [
    "sequences <- texts_to_sequences(tokenizer, samples)\n",
    "class(sequences)"
   ]
  },
  {
   "cell_type": "markdown",
   "metadata": {},
   "source": [
    "The sequence associated with *UniCredit is a pan European Winner* is:"
   ]
  },
  {
   "cell_type": "code",
   "execution_count": 5,
   "metadata": {},
   "outputs": [
    {
     "data": {
      "text/html": [
       "<ol class=list-inline>\n",
       "\t<li>1</li>\n",
       "\t<li>2</li>\n",
       "\t<li>3</li>\n",
       "\t<li>4</li>\n",
       "\t<li>5</li>\n",
       "\t<li>6</li>\n",
       "</ol>\n"
      ],
      "text/latex": [
       "\\begin{enumerate*}\n",
       "\\item 1\n",
       "\\item 2\n",
       "\\item 3\n",
       "\\item 4\n",
       "\\item 5\n",
       "\\item 6\n",
       "\\end{enumerate*}\n"
      ],
      "text/markdown": [
       "1. 1\n",
       "2. 2\n",
       "3. 3\n",
       "4. 4\n",
       "5. 5\n",
       "6. 6\n",
       "\n",
       "\n"
      ],
      "text/plain": [
       "[1] 1 2 3 4 5 6"
      ]
     },
     "metadata": {},
     "output_type": "display_data"
    }
   ],
   "source": [
    "sequences[[1]]"
   ]
  },
  {
   "cell_type": "markdown",
   "metadata": {},
   "source": [
    "The sequence associated with *CIB is fully plugged into UniCredit* is:"
   ]
  },
  {
   "cell_type": "code",
   "execution_count": 6,
   "metadata": {},
   "outputs": [
    {
     "data": {
      "text/html": [
       "<ol class=list-inline>\n",
       "\t<li>7</li>\n",
       "\t<li>2</li>\n",
       "\t<li>8</li>\n",
       "\t<li>9</li>\n",
       "\t<li>10</li>\n",
       "\t<li>1</li>\n",
       "</ol>\n"
      ],
      "text/latex": [
       "\\begin{enumerate*}\n",
       "\\item 7\n",
       "\\item 2\n",
       "\\item 8\n",
       "\\item 9\n",
       "\\item 10\n",
       "\\item 1\n",
       "\\end{enumerate*}\n"
      ],
      "text/markdown": [
       "1. 7\n",
       "2. 2\n",
       "3. 8\n",
       "4. 9\n",
       "5. 10\n",
       "6. 1\n",
       "\n",
       "\n"
      ],
      "text/plain": [
       "[1]  7  2  8  9 10  1"
      ]
     },
     "metadata": {},
     "output_type": "display_data"
    }
   ],
   "source": [
    "sequences[[2]]"
   ]
  },
  {
   "cell_type": "markdown",
   "metadata": {},
   "source": [
    "Note that the two words *UniCredit* (coded by **1**) and *is* (coded by **2**) are the only ones contained in both sentences, and as a consequence their codes are repeated in both sequences."
   ]
  },
  {
   "cell_type": "markdown",
   "metadata": {},
   "source": [
    "**Finally** we need to transform each number into a binary vector $N$-dimensional binary vector (where $N$ is the number of unique words in all the sentences) in which the only not-zero component is the one corresponding to the given number. This final step is currently done by **KERAS** in a more smart way (as we'll see soon), btw here is a simple base *R* code to do compute this final step:"
   ]
  },
  {
   "cell_type": "code",
   "execution_count": 7,
   "metadata": {},
   "outputs": [],
   "source": [
    "results <- array(0, dim = c(\n",
    "  length(sequences), # number of sentences\n",
    "  max(sapply(sequences, length)), # maximum number of words in a sentence\n",
    "  max(sapply(sequences, max)) # number of unique words in all sentences\n",
    "))\n",
    "\n",
    "for (i in 1:length(sequences)) {\n",
    "  sequence <- sequences[[i]]\n",
    "  for(h in 1:length(sequence)) {\n",
    "    results[i, h, sequence[h]] <- 1\n",
    "  }\n",
    "}"
   ]
  },
  {
   "cell_type": "markdown",
   "metadata": {},
   "source": [
    "The first sentences is **one-hot encoded** by:"
   ]
  },
  {
   "cell_type": "code",
   "execution_count": 8,
   "metadata": {},
   "outputs": [
    {
     "data": {
      "text/html": [
       "<table>\n",
       "<tbody>\n",
       "\t<tr><td>1</td><td>0</td><td>0</td><td>0</td><td>0</td><td>0</td><td>0</td><td>0</td><td>0</td><td>0</td></tr>\n",
       "\t<tr><td>0</td><td>1</td><td>0</td><td>0</td><td>0</td><td>0</td><td>0</td><td>0</td><td>0</td><td>0</td></tr>\n",
       "\t<tr><td>0</td><td>0</td><td>1</td><td>0</td><td>0</td><td>0</td><td>0</td><td>0</td><td>0</td><td>0</td></tr>\n",
       "\t<tr><td>0</td><td>0</td><td>0</td><td>1</td><td>0</td><td>0</td><td>0</td><td>0</td><td>0</td><td>0</td></tr>\n",
       "\t<tr><td>0</td><td>0</td><td>0</td><td>0</td><td>1</td><td>0</td><td>0</td><td>0</td><td>0</td><td>0</td></tr>\n",
       "\t<tr><td>0</td><td>0</td><td>0</td><td>0</td><td>0</td><td>1</td><td>0</td><td>0</td><td>0</td><td>0</td></tr>\n",
       "</tbody>\n",
       "</table>\n"
      ],
      "text/latex": [
       "\\begin{tabular}{llllllllll}\n",
       "\t 1 & 0 & 0 & 0 & 0 & 0 & 0 & 0 & 0 & 0\\\\\n",
       "\t 0 & 1 & 0 & 0 & 0 & 0 & 0 & 0 & 0 & 0\\\\\n",
       "\t 0 & 0 & 1 & 0 & 0 & 0 & 0 & 0 & 0 & 0\\\\\n",
       "\t 0 & 0 & 0 & 1 & 0 & 0 & 0 & 0 & 0 & 0\\\\\n",
       "\t 0 & 0 & 0 & 0 & 1 & 0 & 0 & 0 & 0 & 0\\\\\n",
       "\t 0 & 0 & 0 & 0 & 0 & 1 & 0 & 0 & 0 & 0\\\\\n",
       "\\end{tabular}\n"
      ],
      "text/markdown": [
       "\n",
       "| 1 | 0 | 0 | 0 | 0 | 0 | 0 | 0 | 0 | 0 | \n",
       "| 0 | 1 | 0 | 0 | 0 | 0 | 0 | 0 | 0 | 0 | \n",
       "| 0 | 0 | 1 | 0 | 0 | 0 | 0 | 0 | 0 | 0 | \n",
       "| 0 | 0 | 0 | 1 | 0 | 0 | 0 | 0 | 0 | 0 | \n",
       "| 0 | 0 | 0 | 0 | 1 | 0 | 0 | 0 | 0 | 0 | \n",
       "| 0 | 0 | 0 | 0 | 0 | 1 | 0 | 0 | 0 | 0 | \n",
       "\n",
       "\n"
      ],
      "text/plain": [
       "     [,1] [,2] [,3] [,4] [,5] [,6] [,7] [,8] [,9] [,10]\n",
       "[1,] 1    0    0    0    0    0    0    0    0    0    \n",
       "[2,] 0    1    0    0    0    0    0    0    0    0    \n",
       "[3,] 0    0    1    0    0    0    0    0    0    0    \n",
       "[4,] 0    0    0    1    0    0    0    0    0    0    \n",
       "[5,] 0    0    0    0    1    0    0    0    0    0    \n",
       "[6,] 0    0    0    0    0    1    0    0    0    0    "
      ]
     },
     "metadata": {},
     "output_type": "display_data"
    }
   ],
   "source": [
    "results[1,,]"
   ]
  },
  {
   "cell_type": "markdown",
   "metadata": {},
   "source": [
    "And the second one by:"
   ]
  },
  {
   "cell_type": "code",
   "execution_count": 9,
   "metadata": {},
   "outputs": [
    {
     "data": {
      "text/html": [
       "<table>\n",
       "<tbody>\n",
       "\t<tr><td>0</td><td>0</td><td>0</td><td>0</td><td>0</td><td>0</td><td>1</td><td>0</td><td>0</td><td>0</td></tr>\n",
       "\t<tr><td>0</td><td>1</td><td>0</td><td>0</td><td>0</td><td>0</td><td>0</td><td>0</td><td>0</td><td>0</td></tr>\n",
       "\t<tr><td>0</td><td>0</td><td>0</td><td>0</td><td>0</td><td>0</td><td>0</td><td>1</td><td>0</td><td>0</td></tr>\n",
       "\t<tr><td>0</td><td>0</td><td>0</td><td>0</td><td>0</td><td>0</td><td>0</td><td>0</td><td>1</td><td>0</td></tr>\n",
       "\t<tr><td>0</td><td>0</td><td>0</td><td>0</td><td>0</td><td>0</td><td>0</td><td>0</td><td>0</td><td>1</td></tr>\n",
       "\t<tr><td>1</td><td>0</td><td>0</td><td>0</td><td>0</td><td>0</td><td>0</td><td>0</td><td>0</td><td>0</td></tr>\n",
       "</tbody>\n",
       "</table>\n"
      ],
      "text/latex": [
       "\\begin{tabular}{llllllllll}\n",
       "\t 0 & 0 & 0 & 0 & 0 & 0 & 1 & 0 & 0 & 0\\\\\n",
       "\t 0 & 1 & 0 & 0 & 0 & 0 & 0 & 0 & 0 & 0\\\\\n",
       "\t 0 & 0 & 0 & 0 & 0 & 0 & 0 & 1 & 0 & 0\\\\\n",
       "\t 0 & 0 & 0 & 0 & 0 & 0 & 0 & 0 & 1 & 0\\\\\n",
       "\t 0 & 0 & 0 & 0 & 0 & 0 & 0 & 0 & 0 & 1\\\\\n",
       "\t 1 & 0 & 0 & 0 & 0 & 0 & 0 & 0 & 0 & 0\\\\\n",
       "\\end{tabular}\n"
      ],
      "text/markdown": [
       "\n",
       "| 0 | 0 | 0 | 0 | 0 | 0 | 1 | 0 | 0 | 0 | \n",
       "| 0 | 1 | 0 | 0 | 0 | 0 | 0 | 0 | 0 | 0 | \n",
       "| 0 | 0 | 0 | 0 | 0 | 0 | 0 | 1 | 0 | 0 | \n",
       "| 0 | 0 | 0 | 0 | 0 | 0 | 0 | 0 | 1 | 0 | \n",
       "| 0 | 0 | 0 | 0 | 0 | 0 | 0 | 0 | 0 | 1 | \n",
       "| 1 | 0 | 0 | 0 | 0 | 0 | 0 | 0 | 0 | 0 | \n",
       "\n",
       "\n"
      ],
      "text/plain": [
       "     [,1] [,2] [,3] [,4] [,5] [,6] [,7] [,8] [,9] [,10]\n",
       "[1,] 0    0    0    0    0    0    1    0    0    0    \n",
       "[2,] 0    1    0    0    0    0    0    0    0    0    \n",
       "[3,] 0    0    0    0    0    0    0    1    0    0    \n",
       "[4,] 0    0    0    0    0    0    0    0    1    0    \n",
       "[5,] 0    0    0    0    0    0    0    0    0    1    \n",
       "[6,] 1    0    0    0    0    0    0    0    0    0    "
      ]
     },
     "metadata": {},
     "output_type": "display_data"
    }
   ],
   "source": [
    "results[2,,]"
   ]
  },
  {
   "cell_type": "markdown",
   "metadata": {},
   "source": [
    "#### Words Embedding"
   ]
  },
  {
   "cell_type": "markdown",
   "metadata": {},
   "source": [
    "One-hot encoding is very simple and immediate but have a great disadvantage: the dimension of the vector it produces scales with $N$, the size of the considered vocabulary. Is not **BIG DATA** working with a vocabulary with thousands of words: in these cases we need a more dense representation.\n",
    "\n",
    "The idea behind **words embedding** is to reduce the dimensionality of the binary sparse vectors produced by the **one-hot encoding** in to more compact space of **numeric vectors**:\n",
    "\n",
    "<img src=\"fig/words_embedding.PNG\" width=\"400\">"
   ]
  },
  {
   "cell_type": "markdown",
   "metadata": {},
   "source": [
    "This mapping should preserve some semantic structure of the vocabulary it represents, in some way the geometric relationships between word vectors should reflect the semantic relationships between these words. \n",
    "\n",
    "Otherwise, if we'd use a random mapping the **neural network** couldn't be very effective since two words with a similar meanings like *handsome* and *attractive* could be mapped into very different vectors:  word embeddings are meant to\n",
    "map human language into a geometric space (similar words should be \"near\"):\n",
    "\n",
    "<img src=\"fig/words_plot.PNG\" width=\"400\">\n",
    "\n",
    "But how to find this type of mapping? Here we consider two ways:\n",
    "* Use one of the words embedding mapping already computed by other people, like the [Word2Vec](http://code.google.com/archive/p/word2vec) or the [Global Vectors for Word Representation](https://nlp.stanford.edu/projects/glove/)\n",
    "* Learn the right embedding for your task while learning the rest of the model. "
   ]
  },
  {
   "cell_type": "markdown",
   "metadata": {},
   "source": [
    "#### Words embedding on IMDB dataset"
   ]
  },
  {
   "cell_type": "markdown",
   "metadata": {},
   "source": [
    "In this notebook we'll see only how to find the right embedding while solving a text oriented task. But first we need a task!\n",
    "\n",
    "Here we consider the [Internet Movie DataBase (IMDB)](https://www.imdb.com/) sentiment analys dataset:"
   ]
  },
  {
   "cell_type": "code",
   "execution_count": 3,
   "metadata": {},
   "outputs": [],
   "source": [
    "max_features <- 10000\n",
    "\n",
    "imdb <- dataset_imdb(num_words = max_features)\n",
    "x_train <- imdb$train$x\n",
    "y_train <- imdb$train$y\n",
    "x_test <- imdb$test$x\n",
    "y_test <- imdb$test$y"
   ]
  },
  {
   "cell_type": "markdown",
   "metadata": {},
   "source": [
    "This dataset is a sample dataset provided by **KERAS** and as a consequence has been already preprocessed:"
   ]
  },
  {
   "cell_type": "code",
   "execution_count": 4,
   "metadata": {},
   "outputs": [
    {
     "data": {
      "text/html": [
       "'list'"
      ],
      "text/latex": [
       "'list'"
      ],
      "text/markdown": [
       "'list'"
      ],
      "text/plain": [
       "[1] \"list\""
      ]
     },
     "metadata": {},
     "output_type": "display_data"
    },
    {
     "data": {
      "text/html": [
       "25000"
      ],
      "text/latex": [
       "25000"
      ],
      "text/markdown": [
       "25000"
      ],
      "text/plain": [
       "[1] 25000"
      ]
     },
     "metadata": {},
     "output_type": "display_data"
    },
    {
     "data": {
      "text/html": [
       "<ol class=list-inline>\n",
       "\t<li>1</li>\n",
       "\t<li>14</li>\n",
       "\t<li>22</li>\n",
       "\t<li>16</li>\n",
       "\t<li>43</li>\n",
       "</ol>\n"
      ],
      "text/latex": [
       "\\begin{enumerate*}\n",
       "\\item 1\n",
       "\\item 14\n",
       "\\item 22\n",
       "\\item 16\n",
       "\\item 43\n",
       "\\end{enumerate*}\n"
      ],
      "text/markdown": [
       "1. 1\n",
       "2. 14\n",
       "3. 22\n",
       "4. 16\n",
       "5. 43\n",
       "\n",
       "\n"
      ],
      "text/plain": [
       "[1]  1 14 22 16 43"
      ]
     },
     "metadata": {},
     "output_type": "display_data"
    },
    {
     "data": {
      "text/html": [
       "0"
      ],
      "text/latex": [
       "0"
      ],
      "text/markdown": [
       "0"
      ],
      "text/plain": [
       "[1] 0"
      ]
     },
     "metadata": {},
     "output_type": "display_data"
    }
   ],
   "source": [
    "x_train %>% class\n",
    "x_train %>% length\n",
    "x_train[[1]] %>% head(n = 5)\n",
    "y_train[2]"
   ]
  },
  {
   "cell_type": "markdown",
   "metadata": {},
   "source": [
    "The input features are the indexes associated with the words in a movie review, in the target binary class we have an indicator telling if the review is positive (1) or negative (0). Note that parameter *num_words* set to 10000 limit the considered dictionary to the 10000 words with the highest frequency. Using function **dataset_imdb_word_index** we can retrieve the original content of the review:"
   ]
  },
  {
   "cell_type": "code",
   "execution_count": 8,
   "metadata": {},
   "outputs": [
    {
     "data": {
      "text/html": [
       "'&lt;START&gt; big hair big boobs bad music and a giant safety pin these are the words to best describe this terrible movie i love cheesy horror movies and i\\'ve seen hundreds but this had got to be on of the worst ever made the plot is paper thin and ridiculous the acting is an abomination the script is completely laughable the best is the end showdown with the cop and how he worked out who the killer is it\\'s just so damn terribly written the clothes are sickening and funny in equal &lt;UNK&gt; the hair is big lots of boobs &lt;UNK&gt; men wear those cut &lt;UNK&gt; shirts that show off their &lt;UNK&gt; sickening that men actually wore them and the music is just &lt;UNK&gt; trash that plays over and over again in almost every scene there is trashy music boobs and &lt;UNK&gt; taking away bodies and the gym still doesn\\'t close for &lt;UNK&gt; all joking aside this is a truly bad film whose only charm is to look back on the disaster that was the 80\\'s and have a good old laugh at how bad everything was back then'"
      ],
      "text/latex": [
       "'<START> big hair big boobs bad music and a giant safety pin these are the words to best describe this terrible movie i love cheesy horror movies and i\\textbackslash{}'ve seen hundreds but this had got to be on of the worst ever made the plot is paper thin and ridiculous the acting is an abomination the script is completely laughable the best is the end showdown with the cop and how he worked out who the killer is it\\textbackslash{}'s just so damn terribly written the clothes are sickening and funny in equal <UNK> the hair is big lots of boobs <UNK> men wear those cut <UNK> shirts that show off their <UNK> sickening that men actually wore them and the music is just <UNK> trash that plays over and over again in almost every scene there is trashy music boobs and <UNK> taking away bodies and the gym still doesn\\textbackslash{}'t close for <UNK> all joking aside this is a truly bad film whose only charm is to look back on the disaster that was the 80\\textbackslash{}'s and have a good old laugh at how bad everything was back then'"
      ],
      "text/markdown": [
       "'&lt;START&gt; big hair big boobs bad music and a giant safety pin these are the words to best describe this terrible movie i love cheesy horror movies and i\\'ve seen hundreds but this had got to be on of the worst ever made the plot is paper thin and ridiculous the acting is an abomination the script is completely laughable the best is the end showdown with the cop and how he worked out who the killer is it\\'s just so damn terribly written the clothes are sickening and funny in equal &lt;UNK&gt; the hair is big lots of boobs &lt;UNK&gt; men wear those cut &lt;UNK&gt; shirts that show off their &lt;UNK&gt; sickening that men actually wore them and the music is just &lt;UNK&gt; trash that plays over and over again in almost every scene there is trashy music boobs and &lt;UNK&gt; taking away bodies and the gym still doesn\\'t close for &lt;UNK&gt; all joking aside this is a truly bad film whose only charm is to look back on the disaster that was the 80\\'s and have a good old laugh at how bad everything was back then'"
      ],
      "text/plain": [
       "[1] \"<START> big hair big boobs bad music and a giant safety pin these are the words to best describe this terrible movie i love cheesy horror movies and i've seen hundreds but this had got to be on of the worst ever made the plot is paper thin and ridiculous the acting is an abomination the script is completely laughable the best is the end showdown with the cop and how he worked out who the killer is it's just so damn terribly written the clothes are sickening and funny in equal <UNK> the hair is big lots of boobs <UNK> men wear those cut <UNK> shirts that show off their <UNK> sickening that men actually wore them and the music is just <UNK> trash that plays over and over again in almost every scene there is trashy music boobs and <UNK> taking away bodies and the gym still doesn't close for <UNK> all joking aside this is a truly bad film whose only charm is to look back on the disaster that was the 80's and have a good old laugh at how bad everything was back then\""
      ]
     },
     "metadata": {},
     "output_type": "display_data"
    }
   ],
   "source": [
    "index_step <- 3  # word index offset\n",
    "data <- dataset_imdb_word_index()\n",
    "mapping_df <- data_frame(\n",
    "  word = names(data),\n",
    "  index = data %>% sapply(function(x)x[[1]]) + index_step\n",
    ") %>% rbind(\n",
    "  data_frame(\n",
    "    word = c(\"<PAD>\", \"<START>\",\"<UNK>\"),\n",
    "    index = 0:2\n",
    "  )\n",
    ")\n",
    "\n",
    "x_train[[2]] %>% sapply(function(x) mapping_df %>% filter(index == x) %>% pull(word)) %>% paste(collapse = \" \")"
   ]
  },
  {
   "cell_type": "markdown",
   "metadata": {},
   "source": [
    "This text is quite a nonsense since we are removed all the words that aren't the most frequent ones. Another way to simplify the input data is to limit (or pad) each review to the first *K* words with **KERAS** function *pad_sequences* (here $K = 20$), at the end we have an input matrix having a row for each review and *K* columns:"
   ]
  },
  {
   "cell_type": "code",
   "execution_count": 9,
   "metadata": {},
   "outputs": [
    {
     "data": {
      "text/html": [
       "'matrix'"
      ],
      "text/latex": [
       "'matrix'"
      ],
      "text/markdown": [
       "'matrix'"
      ],
      "text/plain": [
       "[1] \"matrix\""
      ]
     },
     "metadata": {},
     "output_type": "display_data"
    },
    {
     "data": {
      "text/html": [
       "<ol class=list-inline>\n",
       "\t<li>25000</li>\n",
       "\t<li>20</li>\n",
       "</ol>\n"
      ],
      "text/latex": [
       "\\begin{enumerate*}\n",
       "\\item 25000\n",
       "\\item 20\n",
       "\\end{enumerate*}\n"
      ],
      "text/markdown": [
       "1. 25000\n",
       "2. 20\n",
       "\n",
       "\n"
      ],
      "text/plain": [
       "[1] 25000    20"
      ]
     },
     "metadata": {},
     "output_type": "display_data"
    },
    {
     "data": {
      "text/html": [
       "'on the disaster that was the 80\\'s and have a good old laugh at how bad everything was back then'"
      ],
      "text/latex": [
       "'on the disaster that was the 80\\textbackslash{}'s and have a good old laugh at how bad everything was back then'"
      ],
      "text/markdown": [
       "'on the disaster that was the 80\\'s and have a good old laugh at how bad everything was back then'"
      ],
      "text/plain": [
       "[1] \"on the disaster that was the 80's and have a good old laugh at how bad everything was back then\""
      ]
     },
     "metadata": {},
     "output_type": "display_data"
    }
   ],
   "source": [
    "maxlen <- 20\n",
    "x_train <- pad_sequences(x_train, maxlen = maxlen)\n",
    "x_test <- pad_sequences(x_test, maxlen = maxlen)\n",
    "class(x_train)\n",
    "dim(x_train)\n",
    "x_train[2,] %>% sapply(function(x) mapping_df %>% filter(index == x) %>% pull(word)) %>% paste(collapse = \" \")                   "
   ]
  },
  {
   "cell_type": "markdown",
   "metadata": {},
   "source": [
    "Now we are ready to learn our embedding while training a neural network on the imdb dataset:"
   ]
  },
  {
   "cell_type": "code",
   "execution_count": 39,
   "metadata": {},
   "outputs": [
    {
     "name": "stdout",
     "output_type": "stream",
     "text": [
      "________________________________________________________________________________\n",
      "Layer (type)                        Output Shape                    Param #     \n",
      "================================================================================\n",
      "embedding_1 (Embedding)             (None, 20, 8)                   80000       \n",
      "________________________________________________________________________________\n",
      "flatten_1 (Flatten)                 (None, 160)                     0           \n",
      "________________________________________________________________________________\n",
      "dense_1 (Dense)                     (None, 1)                       161         \n",
      "================================================================================\n",
      "Total params: 80,161\n",
      "Trainable params: 80,161\n",
      "Non-trainable params: 0\n",
      "________________________________________________________________________________\n"
     ]
    }
   ],
   "source": [
    "model <- keras_model_sequential() %>%\n",
    "layer_embedding(input_dim = 10000, output_dim = 8, input_length = maxlen) %>%\n",
    "layer_flatten() %>%\n",
    "layer_dense(units = 1, activation = \"sigmoid\")\n",
    "model %>% compile(\n",
    "    optimizer = \"rmsprop\",\n",
    "    loss = \"binary_crossentropy\",\n",
    "    metrics = c(\"acc\")\n",
    ")\n",
    "summary(model)\n",
    "history <- model %>% fit(\n",
    "    x_train, y_train,\n",
    "    epochs = 10,\n",
    "    batch_size = 32,\n",
    "    validation_split = 0.2\n",
    ")"
   ]
  },
  {
   "cell_type": "code",
   "execution_count": 40,
   "metadata": {},
   "outputs": [
    {
     "data": {},
     "metadata": {},
     "output_type": "display_data"
    },
    {
     "data": {
      "image/png": "[encoded data removed]",
      "text/plain": [
       "plot without title"
      ]
     },
     "metadata": {},
     "output_type": "display_data"
    }
   ],
   "source": [
    "plot(history)"
   ]
  }
 ],
 "metadata": {
  "kernelspec": {
   "display_name": "R",
   "language": "R",
   "name": "ir"
  },
  "language_info": {
   "codemirror_mode": "r",
   "file_extension": ".r",
   "mimetype": "text/x-r-source",
   "name": "R",
   "pygments_lexer": "r",
   "version": "3.4.3"
  }
 },
 "nbformat": 4,
 "nbformat_minor": 2
}
