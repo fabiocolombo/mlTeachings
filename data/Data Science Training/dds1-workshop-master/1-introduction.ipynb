{
 "cells": [
  {
   "cell_type": "markdown",
   "metadata": {
    "collapsed": true
   },
   "source": [
    "# Introduction\n",
    "\n",
    "Welcome! This workshop is from [TrainingDataScience.com](https://trainingdatascience.com/?utm_source=trainingdatascience&utm_medium=notebook&utm_campaign=workshop&utm_term=individual). Sign up to receive more free workshops, training and videos.\n",
    "\n",
    "This workshop is a quick introduction to using Python and Jupyter Notebooks.\n",
    "\n",
    "## Python\n",
    "\n",
    "For most Data Science tasks there are two competing Open Source languages. R is favoured more by those with a mathematical background. Python is preferred by those with a programming background; all of my workshops are currently in Python.\n",
    "\n",
    "I prefer Python because I can achieve a lot with very little code. We can make use of an extensive library ecosystem and Python's scripting abilities to be very productive.\n",
    "\n",
    "This can also be a downside. With experience you will tend to create big one-liners; code that does a lot in a single line. This can make it hard for new users to understand. Where possible, I try to be as clear as possible.\n",
    "    \n",
    "\n",
    "## Jupyter notebooks\n",
    "(aka. IPython notebooks)\n",
    "\n",
    "Notebooks are an incredible way to work. They allow you to present documentation and working code in the same file. People can pick it up, read through the content and immediately see the running code.\n",
    "\n",
    "There are two types of _cells_: markdown and code. This is a markdown cell. Code cells run actual python code!"
   ]
  },
  {
   "cell_type": "markdown",
   "metadata": {},
   "source": [
    "## The notebook\n",
    "\n",
    "When using cells, try to separate distinct pieces of code.\n",
    "\n",
    "At the end of each cell, there is room for some output. The output could be blank, `printf`s, images, html. Pretty much anything you can think of."
   ]
  },
  {
   "cell_type": "code",
   "execution_count": 1,
   "metadata": {},
   "outputs": [
    {
     "name": "stdout",
     "output_type": "stream",
     "text": [
      "1\n",
      "This is a word 1 0.23\n"
     ]
    },
    {
     "data": {
      "text/plain": [
       "'123'"
      ]
     },
     "execution_count": 1,
     "metadata": {},
     "output_type": "execute_result"
    }
   ],
   "source": [
    "print(1) # This is like a printf. It will print underneath the current cell\n",
    "print(\"This is a %s %d %0.2f\" % (\"word\", 1, 0.2343)) # This is how you print variables\n",
    "\"abc\"\n",
    "\"123\"    # By default, the last non-supressed element that isn't asigned to a variable is also printed"
   ]
  },
  {
   "cell_type": "markdown",
   "metadata": {},
   "source": [
    "You run cells by pressing ctrl-enter. If you press shift-enter this will run the cell and advance.\n",
    "\n",
    "You can find many more handy keyboard shortcuts by viewing \"Help->Keyboard shortcuts\""
   ]
  },
  {
   "cell_type": "markdown",
   "metadata": {},
   "source": [
    "# Variables and array types\n",
    "\n",
    "Python is untyped by default. So variables are super easy to define.\n",
    "\n",
    "Other than variables, the two constructs that we will be using all day are lists (a.k.a. arrays) and dictionaries (a.k.a. maps). Why they don't call them arrays and maps, I don't know."
   ]
  },
  {
   "cell_type": "code",
   "execution_count": 2,
   "metadata": {},
   "outputs": [
    {
     "name": "stdout",
     "output_type": "stream",
     "text": [
      "1\n",
      "['a', 'string', 'list']\n",
      "['a', 'string']\n",
      "c\n"
     ]
    }
   ],
   "source": [
    "my_variable = 2                         # A simple variable\n",
    "my_list = [1, 2, 3]                     # A simple list\n",
    "print(my_list[0])                       # Zero indexing, print is an inbuilt printf like function.\n",
    "another_list = [\"a\", \"string\", \"list\"]\n",
    "print(another_list[:])                  # Colon means \"all\"\n",
    "print(another_list[0:2])                # Index ranges are exclusive.\n",
    "character_list = 'abc'\n",
    "print(character_list[-1])               # -1 means the last entry, -2 means last but one"
   ]
  },
  {
   "cell_type": "code",
   "execution_count": 3,
   "metadata": {},
   "outputs": [
    {
     "name": "stdout",
     "output_type": "stream",
     "text": [
      "bob is aged 32\n"
     ]
    }
   ],
   "source": [
    "first_dict = {'bob': 32, 'steve': 94}               # Simple dictionary\n",
    "key = \"bob\"\n",
    "print(\"%s is aged %d\" % (key, first_dict[key]))     # print accepts parameters after a % sign. Note the brackets around the terms."
   ]
  },
  {
   "cell_type": "markdown",
   "metadata": {},
   "source": [
    "### Example\n",
    "\n",
    "The code below will:\n",
    "\n",
    "- Create a Python list of keys\n",
    "- Create a map continaing those keys pointing to some values\n",
    "- Use the Python function `print(...)` to print a value or range of values using your list"
   ]
  },
  {
   "cell_type": "code",
   "execution_count": 4,
   "metadata": {},
   "outputs": [
    {
     "name": "stdout",
     "output_type": "stream",
     "text": [
      "1\n",
      "2\n",
      "3\n"
     ]
    }
   ],
   "source": [
    "keys = [\"a\", \"b\", \"c\"]\n",
    "d = {\"a\": 1, \"b\": 2, \"c\": 3}\n",
    "for k in keys:\n",
    "    print(d[k])"
   ]
  },
  {
   "cell_type": "markdown",
   "metadata": {},
   "source": [
    "# Functions\n",
    "Functions are defined in similar ways to other languages, but you might not be used to the syntax.\n",
    "\n",
    "Because types are interpreted at runtime, it's not very strict (you can tell it to enforce types)."
   ]
  },
  {
   "cell_type": "code",
   "execution_count": 5,
   "metadata": {},
   "outputs": [
    {
     "name": "stdout",
     "output_type": "stream",
     "text": [
      "1\n",
      "2\n",
      "3\n",
      "11\n",
      "12\n",
      "a\n",
      "string\n"
     ]
    }
   ],
   "source": [
    "def printData(x=[1, 2, 3]):     # An = in the paramter list means \"default to\". Note the colon\n",
    "    for x_i in x:               # Note the tab indentation in the function. This is required.\n",
    "        print(x_i)              # The \"in\" construct iterates over values in x.\n",
    "        \n",
    "printData()\n",
    "printData([11, 12])\n",
    "printData([\"a\", \"string\"])"
   ]
  },
  {
   "cell_type": "markdown",
   "metadata": {},
   "source": [
    "# Handy functions\n",
    "\n",
    "There are a wide range of handy extensions to python. You might not need to use these. But here are some..."
   ]
  },
  {
   "cell_type": "code",
   "execution_count": 6,
   "metadata": {},
   "outputs": [
    {
     "name": "stdout",
     "output_type": "stream",
     "text": [
      "['0', '1', '2']\n",
      "3, 2, 1\n",
      "9\n"
     ]
    }
   ],
   "source": [
    "str_list = [str(x) for x in range(3)]               # \"List comprehension\", i.e. create a list from a for loop\n",
    "print(str_list)                                 \n",
    "print(', '.join(str(x) for x in range(3, 0, -1)))   # Joining strings\n",
    "\n",
    "# The following will only work in python 3, the first (of many) difference between 2 and 3.\n",
    "l = lambda x: print(x**2)                           # A \"lambda\", a function. ** = power. Most times you can just define a function.\n",
    "l(3)"
   ]
  },
  {
   "cell_type": "markdown",
   "metadata": {},
   "source": [
    "## Tasks\n",
    "\n",
    "- Print a string\n",
    "- Print a variable\n",
    "- Print a list\n",
    "- Create a function\n",
    "- Write a \"pretty print table\" function where:\n",
    "    - The input is a 2d list (defined like this: `[ [1, 2], [3, 4] ]` - print it out to see what it looks like)\n",
    "    - The output is a print of a simple 2d table, delimited by tabs. Number the columns."
   ]
  },
  {
   "cell_type": "code",
   "execution_count": null,
   "metadata": {
    "collapsed": true
   },
   "outputs": [],
   "source": []
  }
 ],
 "metadata": {
  "kernelspec": {
   "display_name": "Python 3",
   "language": "python",
   "name": "python3"
  },
  "language_info": {
   "codemirror_mode": {
    "name": "ipython",
    "version": 3
   },
   "file_extension": ".py",
   "mimetype": "text/x-python",
   "name": "python",
   "nbconvert_exporter": "python",
   "pygments_lexer": "ipython3",
   "version": "3.6.2"
  }
 },
 "nbformat": 4,
 "nbformat_minor": 1
}
