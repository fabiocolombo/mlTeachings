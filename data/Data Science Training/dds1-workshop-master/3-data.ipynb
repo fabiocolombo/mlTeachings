{
 "cells": [
  {
   "cell_type": "markdown",
   "metadata": {},
   "source": [
    "# Distributions\n",
    "\n",
    "Welcome! This workshop is from [TrainingDataScience.com](https://trainingdatascience.com/?utm_source=trainingdatascience&utm_medium=notebook&utm_campaign=workshop&utm_term=individual). Sign up to receive more free workshops, training and videos.\n",
    "\n",
    "This workshop is about another way of presenting data. We can plot how frequent observations are to better characterise the data.\n",
    "\n",
    "Imagine you had some data. For sake of example, imagine that is a measure of peoples' height. If you measured 10 people, then you would see 10 different heights. The heights are said to be _distributed_ along the height axis."
   ]
  },
  {
   "cell_type": "code",
   "execution_count": 1,
   "metadata": {
    "collapsed": true
   },
   "outputs": [],
   "source": [
    "import numpy as np\n",
    "heights = [ 5.36, 5.50, 5.04, 5.00, 6.00,  6.27, 5.56, 6.10, 5.78, 5.27]"
   ]
  },
  {
   "cell_type": "markdown",
   "metadata": {},
   "source": [
    "We can calculate the value of the mean and standard deviation like before:"
   ]
  },
  {
   "cell_type": "code",
   "execution_count": 2,
   "metadata": {},
   "outputs": [
    {
     "name": "stdout",
     "output_type": "stream",
     "text": [
      "μ = 5.588 , σ = 0.417320021087\n"
     ]
    }
   ],
   "source": [
    "print(\"μ =\", np.mean(heights), \", σ =\", np.std(heights))"
   ]
  },
  {
   "cell_type": "markdown",
   "metadata": {},
   "source": [
    "And that's great at summarising the data, but it doesn't explain all of the data. Thankfully our brain contains a very complex _Convolutional Neural Network_ called the _Visual Cortex_. This is able to accept images of data and generate very sophisticated mental models of what is really going on.\n",
    "\n",
    "One of the most useful images we can generate is called a _Histogram_. This comes from the Greek _Histos_ which means web, and the English _-gram_ which means encoding.\n",
    "\n",
    "## Histogram\n",
    "\n",
    "A Histogram is a count of the number of occasions that an observation lands inside an upper and lower bound. The space between an upper and lower bound is called a bin. In other words, we're plotting the frequency of a particular set of values.\n",
    "\n",
    "Imagine we picked a bin width of 0.2 and we were given the $heights$ data above."
   ]
  },
  {
   "cell_type": "code",
   "execution_count": 3,
   "metadata": {},
   "outputs": [
    {
     "data": {
      "image/png": "[encoded data removed]",
      "text/plain": [
       "<matplotlib.figure.Figure at 0x7efee8341278>"
      ]
     },
     "metadata": {},
     "output_type": "display_data"
    }
   ],
   "source": [
    "import matplotlib.pyplot as plt\n",
    "plt.hist(heights, bins=[5, 5.2, 5.4, 5.6, 5.8, 6, 6.2, 6.4, 6.6, 6.8])\n",
    "plt.show()"
   ]
  },
  {
   "cell_type": "markdown",
   "metadata": {},
   "source": [
    "`matplotlib` is a famous Python plotting library, but it's API is rather annoying. I've used it here because it's the most prolific; not the best.\n",
    "\n",
    "We've used the `matplotlib.pyplot.hist` function to create a plot of our data. Of course, we could write code to produce a histogram ourselves, but we don't want to waste time re-writing code that developers much better than ourselves have spent years creating!\n",
    "\n",
    "Finally, I've provided an array (list) of bin boundaries. Usually we'd generate these programatically or allow the library to pick bins for us.\n",
    "\n",
    "## Analysis\n",
    "\n",
    "What can we say about the data from that image? Well, we can immediately talk about the _Range_ of the data, which is the difference between the maximum and the minimum. Also we can see that the Mean value, 5.6, doesn't look very typical. There's only one observation in that bin and the bin next to it is empty!\n",
    "\n",
    "But the main thing to notice is the shape of the _envelope_ of the data. If we were to draw a line over the peaks, this will usually look like a very specific shape.\n",
    "\n",
    "The original data is generated from one of these shapes, but I only generated 10 samples. Let's generate 50 and 100."
   ]
  },
  {
   "cell_type": "code",
   "execution_count": 4,
   "metadata": {},
   "outputs": [
    {
     "data": {
      "image/png": "[encoded data removed]",
      "text/plain": [
       "<matplotlib.figure.Figure at 0x7efed354eb70>"
      ]
     },
     "metadata": {},
     "output_type": "display_data"
    }
   ],
   "source": [
    "plt.hist(0.3*np.random.randn(100) + 5.6, bins=[5, 5.2, 5.4, 5.6, 5.8, 6, 6.2, 6.4, 6.6, 6.8])\n",
    "plt.hist(0.3*np.random.randn(50) + 5.6, bins=[5, 5.2, 5.4, 5.6, 5.8, 6, 6.2, 6.4, 6.6, 6.8])\n",
    "plt.hist(heights, bins=[5, 5.2, 5.4, 5.6, 5.8, 6, 6.2, 6.4, 6.6, 6.8])\n",
    "plt.show()"
   ]
  },
  {
   "cell_type": "markdown",
   "metadata": {},
   "source": [
    "Here I've plotted the heights data on top of two new datasets which have been generated with 50 and 100 samples. Notice that with increasing numbers of random samples, we're starting to see a peak.\n",
    "\n",
    "Now we would be quite happy to say that the tendency does centre around 5.6.\n",
    "\n",
    "Also notice how many samples it took before we started seeing a peak in the histogram, even though the calculation of the mean was pretty good, even with 10 samples.\n",
    "\n",
    "Now, let's repeat the same procress for a different type of data.\n",
    "\n",
    "## Different Data\n",
    "\n",
    "Imagine that our company deals with Software Engineering projects. We're a big company, so we have lots of projects per year, but some of those projects go wrong. Over the years, we've recorded how many bad projects we have per year. Next year, how many bad projects are we going to have?\n",
    "\n",
    "First, here is some data. This data was produced by counting how many bad projects we had each year (I'm assuming the consistent underlying features like total number of projects, static economic circumstances, etc.).\n",
    "\n"
   ]
  },
  {
   "cell_type": "code",
   "execution_count": 5,
   "metadata": {},
   "outputs": [
    {
     "name": "stdout",
     "output_type": "stream",
     "text": [
      "μ = 0.8 , σ = 0.979795897113\n"
     ]
    }
   ],
   "source": [
    "bad = [0,1,0,0,0,0,1,1,0,0,1,2,0,3,1,3,0,2,0,1]\n",
    "print(\"μ =\", np.mean(bad), \", σ =\", np.std(bad))"
   ]
  },
  {
   "cell_type": "code",
   "execution_count": 6,
   "metadata": {},
   "outputs": [
    {
     "data": {
      "image/png": "[encoded data removed]",
      "text/plain": [
       "<matplotlib.figure.Figure at 0x7efef819d5c0>"
      ]
     },
     "metadata": {},
     "output_type": "display_data"
    }
   ],
   "source": [
    "plt.hist(bad, bins=[0, 1, 2, 3, 4, 5])\n",
    "plt.show()"
   ]
  },
  {
   "cell_type": "markdown",
   "metadata": {},
   "source": [
    "The mean is about 0.8. Remember that the mean is the expected value for a specific shape of distribution (I still haven't told you what these are yet).\n",
    "\n",
    "But we can clearly see from the histogram above that the most likely value is 0, with chances decreasing as we increase the number of problems.\n",
    "\n",
    "What's even worse is that the standard deviation, the measure of the spread, is saying that it is very likely to spread to beyond the mean minus the standard deviation, which is $-0.2$. Our data doesn't show any sign of negatives. In fact, we know from our problem statement that we can't have negative problem projects. That's impossible!\n",
    "\n",
    "So what's going on?\n",
    "\n",
    "### Distributions\n",
    "\n",
    "The reason is because the underlying data isn't _distributed_ in the same way as the previous example. In fact, it's so different that we can't use the mean and standard deviation as a summary statistic!"
   ]
  },
  {
   "cell_type": "code",
   "execution_count": 7,
   "metadata": {},
   "outputs": [
    {
     "name": "stdout",
     "output_type": "stream",
     "text": [
      "0,0,1,2,1,1,0,1,0,0,0,0,0,1,2,1,2,0,0,1\n"
     ]
    }
   ],
   "source": [
    "print(\",\".join(np.random.poisson(0.7, 20).astype(str)))"
   ]
  },
  {
   "cell_type": "code",
   "execution_count": 8,
   "metadata": {},
   "outputs": [
    {
     "data": {
      "image/png": "[encoded data removed]",
      "text/plain": [
       "<matplotlib.figure.Figure at 0x7efed33fe710>"
      ]
     },
     "metadata": {},
     "output_type": "display_data"
    },
    {
     "data": {
      "image/png": "[encoded data removed]",
      "text/plain": [
       "<matplotlib.figure.Figure at 0x7efed33fe5c0>"
      ]
     },
     "metadata": {},
     "output_type": "display_data"
    }
   ],
   "source": [
    "import scipy.stats as stats\n",
    "\n",
    "# Height data (50 samples)\n",
    "heights = 0.3*np.random.randn(50) + 5.6\n",
    "bins = [5, 5.2, 5.4, 5.6, 5.8, 6, 6.2, 6.4, 6.6, 6.8]\n",
    "plt.hist(heights, bins=bins, normed=True)\n",
    "x = np.linspace(5, 6.8, 100)\n",
    "pdf_fitted = stats.norm.pdf(x, 5.6, 0.3)\n",
    "plt.plot(x, pdf_fitted, color='r')\n",
    "plt.title(\"Height Data with Fitted Normal Distribution\")\n",
    "plt.yticks([])\n",
    "plt.show()\n",
    "\n",
    "# Bad project data\n",
    "bins = np.array([0, 1, 2, 3, 4, 5])\n",
    "plt.hist(bad, bins=bins, normed=True)\n",
    "pdf_fitted = stats.poisson.pmf(bins, 0.7)\n",
    "plt.plot(bins + 0.5, pdf_fitted, color='r')\n",
    "plt.title(\"Bad Project Data with Fitted Poisson Distribution\")\n",
    "plt.yticks([])\n",
    "plt.show()"
   ]
  },
  {
   "cell_type": "markdown",
   "metadata": {},
   "source": [
    "Above we plotted to the two histograms and fitted by two probability distributions. The first is a _Normal_ or _Gaussian_ distribution and the second is a _Poisson_ distribution.\n",
    "\n",
    "The Normal distribution is described by the mean and standard deviation. The Poisson distribution is defined by a single parameter, $\\lambda$, and in our example can be interpreted as the average number of problematic projects in a one-year period.\n",
    "\n",
    "## What's the Big Deal?\n",
    "\n",
    "I would hazard a guess at saying that around half of the data you work with will be normally distributed. The other half is taken up by tens of different distributions.\n",
    "\n",
    "The issue is that nearly every Data Science algorithm that is used on a day-to-day basis assumes data that is distributed normally. For example, whenever an algorithm uses a mean or standard deviation, it is assuming that the data can be described by these summary statistics. \n",
    "\n",
    "Hence, when you get really poor results in more advanced techniques, the first thing you should check is how your data is distributed. Is it Normal? Can you make it Normal?"
   ]
  },
  {
   "cell_type": "markdown",
   "metadata": {},
   "source": [
    "# Histograms and Inverting Skewed Data\n",
    "\n",
    "When we first receive some data, it can be in a mess. If we tried to force that data into a model it is more than likely that the results will be useless.\n",
    "\n",
    "So we need to spend a significant amount of time _cleaning_ the data. This workshop is all about bad data."
   ]
  },
  {
   "cell_type": "code",
   "execution_count": 9,
   "metadata": {
    "collapsed": true
   },
   "outputs": [],
   "source": [
    "# These are the standard imports that we will use all the time.\n",
    "import os                             # Library to do things on the filesystem\n",
    "import pandas as pd                   # Super cool general purpose data handling library\n",
    "import matplotlib.pyplot as plt       # Standard plotting library\n",
    "import numpy as np                    # General purpose math library\n",
    "from IPython.display import display   # A notebook function to display more complex data (like tables)\n",
    "import scipy.stats as stats           # Scipy again"
   ]
  },
  {
   "cell_type": "markdown",
   "metadata": {},
   "source": [
    "## Dummy data investigation\n",
    "\n",
    "For this part of the workshop we're going to create some \"dummy\" data. Dummy data is great for\n",
    "messing around with new tools and technologies. And they serve as reference datasets for people\n",
    "to compete against.\n",
    "\n",
    "However, as you will see, dummy data is never as complex as the real world..."
   ]
  },
  {
   "cell_type": "code",
   "execution_count": 10,
   "metadata": {},
   "outputs": [
    {
     "name": "stdout",
     "output_type": "stream",
     "text": [
      "[[ 155.83953905]\n",
      " [  86.65149531]\n",
      " [ 175.25636487]\n",
      " [ 310.29348423]\n",
      " [  77.9553576 ]\n",
      " [  77.95680717]\n",
      " [ 320.26910947]\n",
      " [ 191.4673745 ]\n",
      " [  58.56271638]\n",
      " [ 161.61528938]]\n"
     ]
    }
   ],
   "source": [
    "# Generate some data\n",
    "np.random.seed(42)  # To ensure we get the same data every time.\n",
    "X = (np.random.randn(100,1) * 5 + 10)**2\n",
    "print(X[:10])"
   ]
  },
  {
   "cell_type": "markdown",
   "metadata": {},
   "source": [
    "Let's print the mean and standard deviation of this data."
   ]
  },
  {
   "cell_type": "code",
   "execution_count": 11,
   "metadata": {},
   "outputs": [
    {
     "name": "stdout",
     "output_type": "stream",
     "text": [
      "Raw: 110.298 +/- 86.573\n"
     ]
    }
   ],
   "source": [
    "# Print the mean and standard deviation\n",
    "print(\"Raw: %0.3f +/- %0.3f\" % (np.mean(X), np.std(X)))"
   ]
  },
  {
   "cell_type": "markdown",
   "metadata": {},
   "source": [
    "This is telling us that we should expect to see approximately two thirds of the values to occur in the range 110 +/- 87. However, this data is not quite as it seems."
   ]
  },
  {
   "cell_type": "markdown",
   "metadata": {},
   "source": [
    "### Histograms\n",
    "\n",
    "A histogram is one of the most basic but useful plots you can use to visualise the data contained within a feature.\n",
    "\n",
    "If we imagine a range of bins, in this example let's imagine bins that are 25 wide and extend from zero up to 350 ish. What we can do is count the number of times that we see an observation falling within each bin. This is known as a Histogram (often we also perform some scaling to the raw counts, but we'll ignore that for now).\n",
    "\n",
    "Let's plot the histogram of the above data to see what's going on."
   ]
  },
  {
   "cell_type": "code",
   "execution_count": 12,
   "metadata": {},
   "outputs": [
    {
     "data": {
      "image/png": "[encoded data removed]",
      "text/plain": [
       "<matplotlib.figure.Figure at 0x7efee80ebef0>"
      ]
     },
     "metadata": {},
     "output_type": "display_data"
    }
   ],
   "source": [
    "df = pd.DataFrame(X) # Create a pandas DataFrame out of the numpy array\n",
    "df.plot.hist(alpha=0.5, bins=15, grid=True, legend=None)  # Pandas helper function to plot a hist. Uses matplotlib under the hood.\n",
    "plt.xlabel(\"Feature value\")\n",
    "plt.title(\"Histogram\")\n",
    "plt.show()"
   ]
  },
  {
   "cell_type": "markdown",
   "metadata": {},
   "source": [
    "We can see that the data appears pretty noisy. And it's strangly skewed.\n",
    "\n",
    "With experience, you would notice that all the data are positive, this is strange.\n",
    "You would also notice that there appears to be a downward-curved slope from a feature value of 0 to 350.\n",
    "\n",
    "This is indicating some sort of power law, or exponential.\n",
    "\n",
    "We can transform the data, by trying to invert the mathematical operation that has occured up to the point where we measured it. This is ok, we're not altering the data, we're just changing how it is represented."
   ]
  },
  {
   "cell_type": "code",
   "execution_count": 13,
   "metadata": {},
   "outputs": [
    {
     "data": {
      "image/png": "[encoded data removed]",
      "text/plain": [
       "<matplotlib.figure.Figure at 0x7efed3425208>"
      ]
     },
     "metadata": {},
     "output_type": "display_data"
    }
   ],
   "source": [
    "df_exp = df.apply(np.log)   # pd.DataFrame.apply accepts a function to apply to each column of the data\n",
    "df_exp.plot.hist(alpha=0.5, bins=15, grid=True, legend=None)\n",
    "plt.xlabel(\"Feature value\")\n",
    "plt.title(\"Histogram\")\n",
    "plt.show()"
   ]
  },
  {
   "cell_type": "markdown",
   "metadata": {},
   "source": [
    "Ok, that still looks a bit weird. I wonder if it's a power law?"
   ]
  },
  {
   "cell_type": "code",
   "execution_count": 14,
   "metadata": {},
   "outputs": [
    {
     "data": {
      "image/png": "[encoded data removed]",
      "text/plain": [
       "<matplotlib.figure.Figure at 0x7efec6baa588>"
      ]
     },
     "metadata": {},
     "output_type": "display_data"
    }
   ],
   "source": [
    "df_pow = df.apply(np.sqrt)\n",
    "df_pow.plot.hist(alpha=0.5, bins=15, grid=True, legend=None)\n",
    "plt.xlabel(\"Feature value\")\n",
    "plt.title(\"Histogram\")\n",
    "plt.show()"
   ]
  },
  {
   "cell_type": "markdown",
   "metadata": {},
   "source": [
    "That's looking much better! So it looks like it is a power law (to the power of 2). But to be sure,\n",
    "let's fit a normal curve over the top..."
   ]
  },
  {
   "cell_type": "code",
   "execution_count": 15,
   "metadata": {},
   "outputs": [
    {
     "data": {
      "image/png": "[encoded data removed]",
      "text/plain": [
       "<matplotlib.figure.Figure at 0x7efec6bd92e8>"
      ]
     },
     "metadata": {},
     "output_type": "display_data"
    }
   ],
   "source": [
    "param = stats.norm.fit(df_pow)   # Fit a normal distribution to the data\n",
    "\n",
    "x = np.linspace(0, 20, 100)      # Linear spacing of 100 elements between 0 and 20.\n",
    "pdf_fitted = stats.norm.pdf(x, *param)    # Use the fitted paramters to create the y datapoints\n",
    "\n",
    "# Plot the histogram again\n",
    "df_pow.plot.hist(alpha=0.5, bins=15, grid=True, normed=True, legend=None)\n",
    "\n",
    "# Plot some fancy text to show us what the paramters of the distribution are (mean and standard deviation)\n",
    "plt.text(x=np.min(df_pow), y=0.1, s=r\"$\\mu=%0.1f$\" % param[0] + \"\\n\" + r\"$\\sigma=%0.1f$\" % param[1], color='r')\n",
    "\n",
    "# Plot a line of the fitted distribution over the top \n",
    "plt.plot(x, pdf_fitted, color='r')\n",
    "\n",
    "# Standard plot stuff\n",
    "plt.xlabel(\"Feature value\")\n",
    "plt.title(\"Histogram with fitted normal distribution\")\n",
    "plt.show()"
   ]
  },
  {
   "cell_type": "markdown",
   "metadata": {},
   "source": [
    "Yeah, definitely looking pretty good. **Always try to visualise your data to make sure it conforms to your expectations**\n",
    "\n",
    "Remember that some algorithms don't like data that isn't centred around 0 and they don't like it when the standard deviation isn't 1.\n",
    "\n",
    "So we transform the data by scaling with the `StandardScaler`..."
   ]
  },
  {
   "cell_type": "code",
   "execution_count": 16,
   "metadata": {},
   "outputs": [
    {
     "name": "stdout",
     "output_type": "stream",
     "text": [
      "StandardScaler: -0.000 +/- 1.000\n"
     ]
    }
   ],
   "source": [
    "from sklearn import preprocessing\n",
    "\n",
    "X_s = preprocessing.StandardScaler().fit_transform(df_pow)\n",
    "X_s = pd.DataFrame(X_s)   # Put the np array back into a pandas DataFrame for later\n",
    "print(\"StandardScaler: %0.3f +/- %0.3f\" % (np.mean(X_s), np.std(X_s)))\n",
    "\n",
    "# Nice! This should be 0.000 +/- 1.000"
   ]
  },
  {
   "cell_type": "code",
   "execution_count": 17,
   "metadata": {},
   "outputs": [
    {
     "data": {
      "image/png": "[encoded data removed]",
      "text/plain": [
       "<matplotlib.figure.Figure at 0x7efec60a9eb8>"
      ]
     },
     "metadata": {},
     "output_type": "display_data"
    }
   ],
   "source": [
    "param = stats.norm.fit(X_s)\n",
    "x = np.linspace(-3, 3, 100)\n",
    "pdf_fitted = stats.norm.pdf(x, *param)\n",
    "X_s.plot.hist(alpha=0.5, bins=15, grid=True, normed=True, legend=None)\n",
    "plt.text(x=np.min(df_pow), y=0.1, s=r\"$\\mu=%0.1f$\" % param[0] + \"\\n\" + r\"$\\sigma=%0.1f$\" % param[1], color='r')\n",
    "plt.xlabel(\"Feature value\")\n",
    "plt.title(\"Histogram with fitted normal distribution\")\n",
    "plt.plot(x, pdf_fitted, color='r')\n",
    "plt.show()"
   ]
  },
  {
   "cell_type": "markdown",
   "metadata": {},
   "source": [
    "Beautiful!"
   ]
  },
  {
   "cell_type": "code",
   "execution_count": 18,
   "metadata": {},
   "outputs": [],
   "source": [
    "np.random.seed(42)  # To ensure we get the same data every time.\n",
    "X = np.log((np.random.randn(100,1) * 5 + 20))\n",
    "df = pd.DataFrame(X) # Create a pandas DataFrame out of the numpy array"
   ]
  },
  {
   "cell_type": "markdown",
   "metadata": {},
   "source": [
    "## Tasks\n",
    "\n",
    "- Given the data `df` above, attempt to normalise the data."
   ]
  },
  {
   "cell_type": "markdown",
   "metadata": {},
   "source": [
    "# Correlating Data\n",
    "\n",
    "Correlations between features are bad because you are effectively telling the model that this information is twice more important than everything else. You're feeding the model the same data twice.\n",
    "\n",
    "Technically it's known as _multicollinear_, which is the generalisation to any number of features that could be correlated.\n",
    "\n",
    "Generally correlating features will decrease the performance of your model, so we need to find them and remove them.\n",
    "\n",
    "Again, let's generate some dummy data for simplicity..."
   ]
  },
  {
   "cell_type": "code",
   "execution_count": 19,
   "metadata": {
    "collapsed": true
   },
   "outputs": [],
   "source": [
    "import numpy as np\n",
    "import pandas as pd\n",
    "import matplotlib.pyplot as plt\n",
    "\n",
    "X = np.random.randn(100,5)\n",
    "noise = np.random.randn(100)\n",
    "X[:,0] = 2*X[:,2] + 3*X[:, 4] + 0.5*noise"
   ]
  },
  {
   "cell_type": "markdown",
   "metadata": {},
   "source": [
    "The easiest way of spotting correlating features is to generate a _scatter matrix_. This is an image which plots each feature against each other feature."
   ]
  },
  {
   "cell_type": "code",
   "execution_count": 20,
   "metadata": {},
   "outputs": [
    {
     "data": {
      "image/png": "[encoded data removed]",
      "text/plain": [
       "<matplotlib.figure.Figure at 0x7efec69ff0f0>"
      ]
     },
     "metadata": {},
     "output_type": "display_data"
    }
   ],
   "source": [
    "# Here, we're plotting a \"scatter matrix\". I.e. a matrix of scatter plots of each feature.\n",
    "# Its really useful for spotting dodgy data.\n",
    "\n",
    "from pandas.plotting import scatter_matrix\n",
    "df = pd.DataFrame(X)\n",
    "scatter_matrix(df, alpha=0.2, figsize=(6, 6), diagonal='hist')\n",
    "plt.show()"
   ]
  },
  {
   "cell_type": "markdown",
   "metadata": {},
   "source": [
    "We can see that there is some linearity in the plots. Definitely in the top right.\n",
    "\n",
    "Again, the simplest thing to do at this stage is manually remove that feature."
   ]
  },
  {
   "cell_type": "code",
   "execution_count": 21,
   "metadata": {},
   "outputs": [
    {
     "data": {
      "image/png": "[encoded data removed]",
      "text/plain": [
       "<matplotlib.figure.Figure at 0x7efec5cb0588>"
      ]
     },
     "metadata": {},
     "output_type": "display_data"
    }
   ],
   "source": [
    "del df[4]\n",
    "scatter_matrix(df, alpha=0.2, figsize=(6, 6), diagonal='hist')\n",
    "plt.show()"
   ]
  },
  {
   "cell_type": "markdown",
   "metadata": {},
   "source": [
    "There's still a little bit of correlation in the second feature, but it's not huge. Try scoring your model with and without this feature.\n",
    "\n",
    "We could perform this process in a more quantitative manner using eigenvectors and eigenvalues to spot the correlation, but that's a bit too complex to consider at this point."
   ]
  },
  {
   "cell_type": "code",
   "execution_count": 22,
   "metadata": {},
   "outputs": [],
   "source": [
    "X = np.random.randn(100,5)\n",
    "noise = np.random.randn(100)\n",
    "X[:,1] = 0.5*X[:, 2] + 0.5*noise\n",
    "df = pd.DataFrame(X)"
   ]
  },
  {
   "cell_type": "markdown",
   "metadata": {},
   "source": [
    "## Tasks\n",
    "\n",
    "- Give the data `df` above, remove the correlation"
   ]
  },
  {
   "cell_type": "markdown",
   "metadata": {},
   "source": [
    "# Data Cleaning Example - Loan Data\n",
    "\n",
    "A huge amount of time is spent cleaning, removing, scaling data. All in an effort to squeeze\n",
    "a bit more performance out of the model.\n",
    "\n",
    "The data we are using is from Kaggle, and is available in raw from from\n",
    "[here](https://www.kaggle.com/wendykan/lending-club-loan-data). You will need to sign into kaggle if you want to download the full data. I've included just a small sample.\n",
    "\n",
    "It is a loan dataset, showing the loans that have suffered repayment issues. There are a lot of\n",
    "columns and many of them are useless. Many more columns have missing data.\n",
    "\n",
    "The goal that I set out to achieve was to attempt to predict which loans would suffer problems\n",
    "but we will see that it will require a lot more time to get right."
   ]
  },
  {
   "cell_type": "code",
   "execution_count": 23,
   "metadata": {
    "collapsed": true
   },
   "outputs": [],
   "source": [
    "import numpy as np\n",
    "import pandas as pd\n",
    "import matplotlib.pyplot as plt\n",
    "\n",
    "# Load the data\n",
    "data = pd.read_csv(\"https://s3.eu-west-2.amazonaws.com/free.trainingdatascience.com/data/loan_small.csv\")"
   ]
  },
  {
   "cell_type": "code",
   "execution_count": 24,
   "metadata": {},
   "outputs": [
    {
     "data": {
      "text/plain": [
       "Index(['id', 'member_id', 'loan_amnt', 'funded_amnt', 'funded_amnt_inv',\n",
       "       'term', 'int_rate', 'installment', 'grade', 'sub_grade', 'emp_title',\n",
       "       'emp_length', 'home_ownership', 'annual_inc', 'verification_status',\n",
       "       'issue_d', 'loan_status', 'pymnt_plan', 'url', 'desc', 'purpose',\n",
       "       'title', 'zip_code', 'addr_state', 'dti', 'delinq_2yrs',\n",
       "       'earliest_cr_line', 'inq_last_6mths', 'mths_since_last_delinq',\n",
       "       'mths_since_last_record', 'open_acc', 'pub_rec', 'revol_bal',\n",
       "       'revol_util', 'total_acc', 'initial_list_status', 'out_prncp',\n",
       "       'out_prncp_inv', 'total_pymnt', 'total_pymnt_inv', 'total_rec_prncp',\n",
       "       'total_rec_int', 'total_rec_late_fee', 'recoveries',\n",
       "       'collection_recovery_fee', 'last_pymnt_d', 'last_pymnt_amnt',\n",
       "       'next_pymnt_d', 'last_credit_pull_d', 'collections_12_mths_ex_med',\n",
       "       'mths_since_last_major_derog', 'policy_code', 'application_type',\n",
       "       'annual_inc_joint', 'dti_joint', 'verification_status_joint',\n",
       "       'acc_now_delinq', 'tot_coll_amt', 'tot_cur_bal', 'open_acc_6m',\n",
       "       'open_il_6m', 'open_il_12m', 'open_il_24m', 'mths_since_rcnt_il',\n",
       "       'total_bal_il', 'il_util', 'open_rv_12m', 'open_rv_24m', 'max_bal_bc',\n",
       "       'all_util', 'total_rev_hi_lim', 'inq_fi', 'total_cu_tl',\n",
       "       'inq_last_12m'],\n",
       "      dtype='object')"
      ]
     },
     "execution_count": 24,
     "metadata": {},
     "output_type": "execute_result"
    }
   ],
   "source": [
    "# These are the columns\n",
    "data.columns"
   ]
  },
  {
   "cell_type": "code",
   "execution_count": 25,
   "metadata": {
    "scrolled": true
   },
   "outputs": [
    {
     "data": {
      "text/html": [
       "<div>\n",
       "<style scoped>\n",
       "    .dataframe tbody tr th:only-of-type {\n",
       "        vertical-align: middle;\n",
       "    }\n",
       "\n",
       "    .dataframe tbody tr th {\n",
       "        vertical-align: top;\n",
       "    }\n",
       "\n",
       "    .dataframe thead th {\n",
       "        text-align: right;\n",
       "    }\n",
       "</style>\n",
       "<table border=\"1\" class=\"dataframe\">\n",
       "  <thead>\n",
       "    <tr style=\"text-align: right;\">\n",
       "      <th></th>\n",
       "      <th>id</th>\n",
       "      <th>member_id</th>\n",
       "      <th>emp_title</th>\n",
       "    </tr>\n",
       "  </thead>\n",
       "  <tbody>\n",
       "    <tr>\n",
       "      <th>0</th>\n",
       "      <td>1077501</td>\n",
       "      <td>1296599</td>\n",
       "      <td>NaN</td>\n",
       "    </tr>\n",
       "    <tr>\n",
       "      <th>1</th>\n",
       "      <td>1077430</td>\n",
       "      <td>1314167</td>\n",
       "      <td>Ryder</td>\n",
       "    </tr>\n",
       "    <tr>\n",
       "      <th>2</th>\n",
       "      <td>1077175</td>\n",
       "      <td>1313524</td>\n",
       "      <td>NaN</td>\n",
       "    </tr>\n",
       "    <tr>\n",
       "      <th>3</th>\n",
       "      <td>1076863</td>\n",
       "      <td>1277178</td>\n",
       "      <td>AIR RESOURCES BOARD</td>\n",
       "    </tr>\n",
       "    <tr>\n",
       "      <th>4</th>\n",
       "      <td>1075358</td>\n",
       "      <td>1311748</td>\n",
       "      <td>University Medical Group</td>\n",
       "    </tr>\n",
       "  </tbody>\n",
       "</table>\n",
       "</div>"
      ],
      "text/plain": [
       "        id  member_id                 emp_title\n",
       "0  1077501    1296599                       NaN\n",
       "1  1077430    1314167                     Ryder\n",
       "2  1077175    1313524                       NaN\n",
       "3  1076863    1277178       AIR RESOURCES BOARD\n",
       "4  1075358    1311748  University Medical Group"
      ]
     },
     "metadata": {},
     "output_type": "display_data"
    }
   ],
   "source": [
    "# There are some columns called \"id\". ID columns don't provide any predictive power\n",
    "# so let's double check, then remove them.\n",
    "display(data[[\"id\", \"member_id\", \"emp_title\"]].head())\n",
    "data.drop(['id', 'member_id'], axis=1, inplace=True)"
   ]
  },
  {
   "cell_type": "markdown",
   "metadata": {
    "collapsed": true
   },
   "source": [
    "Let's take a deeper look at the data.\n",
    "\n",
    "I see that there are a combination of numerical, catagorical\n",
    "and some messed up catagorical data here.\n",
    "\n",
    "Let's try and fix some of the columns as an example. In reality, you'd have to do a\n",
    "lot more to fix this data."
   ]
  },
  {
   "cell_type": "code",
   "execution_count": 26,
   "metadata": {},
   "outputs": [
    {
     "data": {
      "text/html": [
       "<div>\n",
       "<style scoped>\n",
       "    .dataframe tbody tr th:only-of-type {\n",
       "        vertical-align: middle;\n",
       "    }\n",
       "\n",
       "    .dataframe tbody tr th {\n",
       "        vertical-align: top;\n",
       "    }\n",
       "\n",
       "    .dataframe thead th {\n",
       "        text-align: right;\n",
       "    }\n",
       "</style>\n",
       "<table border=\"1\" class=\"dataframe\">\n",
       "  <thead>\n",
       "    <tr style=\"text-align: right;\">\n",
       "      <th></th>\n",
       "      <th>loan_amnt</th>\n",
       "      <th>funded_amnt</th>\n",
       "      <th>funded_amnt_inv</th>\n",
       "      <th>term</th>\n",
       "      <th>int_rate</th>\n",
       "      <th>installment</th>\n",
       "      <th>grade</th>\n",
       "      <th>sub_grade</th>\n",
       "      <th>emp_title</th>\n",
       "      <th>emp_length</th>\n",
       "      <th>...</th>\n",
       "      <th>total_bal_il</th>\n",
       "      <th>il_util</th>\n",
       "      <th>open_rv_12m</th>\n",
       "      <th>open_rv_24m</th>\n",
       "      <th>max_bal_bc</th>\n",
       "      <th>all_util</th>\n",
       "      <th>total_rev_hi_lim</th>\n",
       "      <th>inq_fi</th>\n",
       "      <th>total_cu_tl</th>\n",
       "      <th>inq_last_12m</th>\n",
       "    </tr>\n",
       "  </thead>\n",
       "  <tbody>\n",
       "    <tr>\n",
       "      <th>0</th>\n",
       "      <td>5000.0</td>\n",
       "      <td>5000.0</td>\n",
       "      <td>4975.0</td>\n",
       "      <td>36 months</td>\n",
       "      <td>10.65</td>\n",
       "      <td>162.87</td>\n",
       "      <td>B</td>\n",
       "      <td>B2</td>\n",
       "      <td>NaN</td>\n",
       "      <td>10+ years</td>\n",
       "      <td>...</td>\n",
       "      <td>NaN</td>\n",
       "      <td>NaN</td>\n",
       "      <td>NaN</td>\n",
       "      <td>NaN</td>\n",
       "      <td>NaN</td>\n",
       "      <td>NaN</td>\n",
       "      <td>NaN</td>\n",
       "      <td>NaN</td>\n",
       "      <td>NaN</td>\n",
       "      <td>NaN</td>\n",
       "    </tr>\n",
       "    <tr>\n",
       "      <th>1</th>\n",
       "      <td>2500.0</td>\n",
       "      <td>2500.0</td>\n",
       "      <td>2500.0</td>\n",
       "      <td>60 months</td>\n",
       "      <td>15.27</td>\n",
       "      <td>59.83</td>\n",
       "      <td>C</td>\n",
       "      <td>C4</td>\n",
       "      <td>Ryder</td>\n",
       "      <td>&lt; 1 year</td>\n",
       "      <td>...</td>\n",
       "      <td>NaN</td>\n",
       "      <td>NaN</td>\n",
       "      <td>NaN</td>\n",
       "      <td>NaN</td>\n",
       "      <td>NaN</td>\n",
       "      <td>NaN</td>\n",
       "      <td>NaN</td>\n",
       "      <td>NaN</td>\n",
       "      <td>NaN</td>\n",
       "      <td>NaN</td>\n",
       "    </tr>\n",
       "    <tr>\n",
       "      <th>2</th>\n",
       "      <td>2400.0</td>\n",
       "      <td>2400.0</td>\n",
       "      <td>2400.0</td>\n",
       "      <td>36 months</td>\n",
       "      <td>15.96</td>\n",
       "      <td>84.33</td>\n",
       "      <td>C</td>\n",
       "      <td>C5</td>\n",
       "      <td>NaN</td>\n",
       "      <td>10+ years</td>\n",
       "      <td>...</td>\n",
       "      <td>NaN</td>\n",
       "      <td>NaN</td>\n",
       "      <td>NaN</td>\n",
       "      <td>NaN</td>\n",
       "      <td>NaN</td>\n",
       "      <td>NaN</td>\n",
       "      <td>NaN</td>\n",
       "      <td>NaN</td>\n",
       "      <td>NaN</td>\n",
       "      <td>NaN</td>\n",
       "    </tr>\n",
       "    <tr>\n",
       "      <th>3</th>\n",
       "      <td>10000.0</td>\n",
       "      <td>10000.0</td>\n",
       "      <td>10000.0</td>\n",
       "      <td>36 months</td>\n",
       "      <td>13.49</td>\n",
       "      <td>339.31</td>\n",
       "      <td>C</td>\n",
       "      <td>C1</td>\n",
       "      <td>AIR RESOURCES BOARD</td>\n",
       "      <td>10+ years</td>\n",
       "      <td>...</td>\n",
       "      <td>NaN</td>\n",
       "      <td>NaN</td>\n",
       "      <td>NaN</td>\n",
       "      <td>NaN</td>\n",
       "      <td>NaN</td>\n",
       "      <td>NaN</td>\n",
       "      <td>NaN</td>\n",
       "      <td>NaN</td>\n",
       "      <td>NaN</td>\n",
       "      <td>NaN</td>\n",
       "    </tr>\n",
       "    <tr>\n",
       "      <th>4</th>\n",
       "      <td>3000.0</td>\n",
       "      <td>3000.0</td>\n",
       "      <td>3000.0</td>\n",
       "      <td>60 months</td>\n",
       "      <td>12.69</td>\n",
       "      <td>67.79</td>\n",
       "      <td>B</td>\n",
       "      <td>B5</td>\n",
       "      <td>University Medical Group</td>\n",
       "      <td>1 year</td>\n",
       "      <td>...</td>\n",
       "      <td>NaN</td>\n",
       "      <td>NaN</td>\n",
       "      <td>NaN</td>\n",
       "      <td>NaN</td>\n",
       "      <td>NaN</td>\n",
       "      <td>NaN</td>\n",
       "      <td>NaN</td>\n",
       "      <td>NaN</td>\n",
       "      <td>NaN</td>\n",
       "      <td>NaN</td>\n",
       "    </tr>\n",
       "  </tbody>\n",
       "</table>\n",
       "<p>5 rows × 72 columns</p>\n",
       "</div>"
      ],
      "text/plain": [
       "   loan_amnt  funded_amnt  funded_amnt_inv        term  int_rate  installment  \\\n",
       "0     5000.0       5000.0           4975.0   36 months     10.65       162.87   \n",
       "1     2500.0       2500.0           2500.0   60 months     15.27        59.83   \n",
       "2     2400.0       2400.0           2400.0   36 months     15.96        84.33   \n",
       "3    10000.0      10000.0          10000.0   36 months     13.49       339.31   \n",
       "4     3000.0       3000.0           3000.0   60 months     12.69        67.79   \n",
       "\n",
       "  grade sub_grade                 emp_title emp_length     ...       \\\n",
       "0     B        B2                       NaN  10+ years     ...        \n",
       "1     C        C4                     Ryder   < 1 year     ...        \n",
       "2     C        C5                       NaN  10+ years     ...        \n",
       "3     C        C1       AIR RESOURCES BOARD  10+ years     ...        \n",
       "4     B        B5  University Medical Group     1 year     ...        \n",
       "\n",
       "  total_bal_il  il_util open_rv_12m open_rv_24m max_bal_bc all_util  \\\n",
       "0          NaN      NaN         NaN         NaN        NaN      NaN   \n",
       "1          NaN      NaN         NaN         NaN        NaN      NaN   \n",
       "2          NaN      NaN         NaN         NaN        NaN      NaN   \n",
       "3          NaN      NaN         NaN         NaN        NaN      NaN   \n",
       "4          NaN      NaN         NaN         NaN        NaN      NaN   \n",
       "\n",
       "  total_rev_hi_lim inq_fi total_cu_tl inq_last_12m  \n",
       "0              NaN    NaN         NaN          NaN  \n",
       "1              NaN    NaN         NaN          NaN  \n",
       "2              NaN    NaN         NaN          NaN  \n",
       "3              NaN    NaN         NaN          NaN  \n",
       "4              NaN    NaN         NaN          NaN  \n",
       "\n",
       "[5 rows x 72 columns]"
      ]
     },
     "execution_count": 26,
     "metadata": {},
     "output_type": "execute_result"
    }
   ],
   "source": [
    "data.head()"
   ]
  },
  {
   "cell_type": "code",
   "execution_count": 27,
   "metadata": {},
   "outputs": [
    {
     "data": {
      "text/plain": [
       "{'< 1 year',\n",
       " nan,\n",
       " '4 years',\n",
       " '1 year',\n",
       " '8 years',\n",
       " '5 years',\n",
       " '3 years',\n",
       " '2 years',\n",
       " '6 years',\n",
       " '7 years',\n",
       " '9 years',\n",
       " '10+ years'}"
      ]
     },
     "metadata": {},
     "output_type": "display_data"
    }
   ],
   "source": [
    "display(set(data[\"emp_length\"]))\n",
    "data.replace('n/a', np.nan,inplace=True)"
   ]
  },
  {
   "cell_type": "code",
   "execution_count": 28,
   "metadata": {},
   "outputs": [
    {
     "data": {
      "text/plain": [
       "{'< 1 year',\n",
       " 0,\n",
       " '4 years',\n",
       " '1 year',\n",
       " '8 years',\n",
       " '5 years',\n",
       " '3 years',\n",
       " '2 years',\n",
       " '6 years',\n",
       " '7 years',\n",
       " '9 years',\n",
       " '10+ years'}"
      ]
     },
     "execution_count": 28,
     "metadata": {},
     "output_type": "execute_result"
    }
   ],
   "source": [
    "data.emp_length.fillna(value=0,inplace=True)\n",
    "set(data[\"emp_length\"])"
   ]
  },
  {
   "cell_type": "code",
   "execution_count": 29,
   "metadata": {},
   "outputs": [
    {
     "data": {
      "text/plain": [
       "{0, 1, 2, 3, 4, 5, 6, 7, 8, 9, 10}"
      ]
     },
     "execution_count": 29,
     "metadata": {},
     "output_type": "execute_result"
    }
   ],
   "source": [
    "data['emp_length'].replace(to_replace='[^0-9]+', value='', inplace=True, regex=True)\n",
    "data['emp_length'] = data['emp_length'].astype(int)\n",
    "set(data[\"emp_length\"])"
   ]
  },
  {
   "cell_type": "markdown",
   "metadata": {},
   "source": [
    "I see another field called term that can be reduced to a better label"
   ]
  },
  {
   "cell_type": "code",
   "execution_count": 30,
   "metadata": {},
   "outputs": [
    {
     "data": {
      "text/plain": [
       "{' 36 months', ' 60 months'}"
      ]
     },
     "execution_count": 30,
     "metadata": {},
     "output_type": "execute_result"
    }
   ],
   "source": [
    "set(data['term'])"
   ]
  },
  {
   "cell_type": "code",
   "execution_count": 31,
   "metadata": {},
   "outputs": [
    {
     "data": {
      "text/plain": [
       "{36, 60}"
      ]
     },
     "execution_count": 31,
     "metadata": {},
     "output_type": "execute_result"
    }
   ],
   "source": [
    "data['term'].replace(to_replace='[^0-9]+', value='', inplace=True, regex=True)\n",
    "data['term'] = data['term'].astype(int)\n",
    "set(data[\"term\"])"
   ]
  },
  {
   "cell_type": "markdown",
   "metadata": {},
   "source": [
    "Now let's try and define what a bad loan is..."
   ]
  },
  {
   "cell_type": "code",
   "execution_count": 32,
   "metadata": {},
   "outputs": [
    {
     "data": {
      "text/plain": [
       "{'Charged Off', 'Current', 'Default', 'Fully Paid', 'Late (31-120 days)'}"
      ]
     },
     "execution_count": 32,
     "metadata": {},
     "output_type": "execute_result"
    }
   ],
   "source": [
    "set(data[\"loan_status\"])"
   ]
  },
  {
   "cell_type": "code",
   "execution_count": 33,
   "metadata": {},
   "outputs": [
    {
     "data": {
      "text/plain": [
       "False    820\n",
       "True     179\n",
       "Name: loan_status, dtype: int64"
      ]
     },
     "execution_count": 33,
     "metadata": {},
     "output_type": "execute_result"
    }
   ],
   "source": [
    "# This indicates a bad loan. Something we want to predict\n",
    "bad_indicator = data[\"loan_status\"].isin([\"Charged Off\", \"Default\", \"Late (31-120 days)\"])\n",
    "# Remove this from dataset\n",
    "data.drop([\"loan_status\"], axis=1, inplace=True)\n",
    "bad_indicator.value_counts()"
   ]
  },
  {
   "cell_type": "markdown",
   "metadata": {},
   "source": [
    "Note to future self, we have unbalanced classes here. This affects some algorithms."
   ]
  },
  {
   "cell_type": "code",
   "execution_count": 34,
   "metadata": {
    "collapsed": true
   },
   "outputs": [],
   "source": [
    "# Find columns that have all nans and remove\n",
    "naughty_cols = data.columns[data.isnull().sum() == len(data)]\n",
    "data.drop(naughty_cols, axis=1, inplace=True)"
   ]
  },
  {
   "cell_type": "code",
   "execution_count": 35,
   "metadata": {},
   "outputs": [
    {
     "data": {
      "text/plain": [
       "['emp_title',\n",
       " 'desc',\n",
       " 'mths_since_last_delinq',\n",
       " 'mths_since_last_record',\n",
       " 'last_pymnt_d',\n",
       " 'next_pymnt_d']"
      ]
     },
     "execution_count": 35,
     "metadata": {},
     "output_type": "execute_result"
    }
   ],
   "source": [
    "# Any more nans?\n",
    "data.columns[data.isnull().any()].tolist()"
   ]
  },
  {
   "cell_type": "code",
   "execution_count": 36,
   "metadata": {
    "collapsed": true
   },
   "outputs": [],
   "source": [
    "# We could write some code to do this, but I'm going to do it manually for now\n",
    "string_features = [\"emp_title\", \"desc\"]\n",
    "data[string_features] = data[string_features].fillna(value='')\n",
    "numeric_features = [\"mths_since_last_delinq\", \"mths_since_last_record\"]\n",
    "data[numeric_features] = data[numeric_features].fillna(value=0)"
   ]
  },
  {
   "cell_type": "code",
   "execution_count": 37,
   "metadata": {},
   "outputs": [
    {
     "data": {
      "text/plain": [
       "['last_pymnt_d', 'next_pymnt_d']"
      ]
     },
     "execution_count": 37,
     "metadata": {},
     "output_type": "execute_result"
    }
   ],
   "source": [
    "# Any more nans, just ditch them?\n",
    "just_ditch = data.columns[data.isnull().any()].tolist()\n",
    "just_ditch"
   ]
  },
  {
   "cell_type": "code",
   "execution_count": 38,
   "metadata": {
    "collapsed": true
   },
   "outputs": [],
   "source": [
    "data.drop(just_ditch, axis=1, inplace=True)"
   ]
  },
  {
   "cell_type": "markdown",
   "metadata": {},
   "source": [
    "Normally, we would continue improving the features until we were happy we couldn't do any more.\n",
    "\n",
    "When you do, remember that you will have to repeat the same steps to any new incoming data.\n",
    "So remember to make the pre-processing clean and pretty.\n",
    "\n",
    "Now, let's try and convert all those string values into numeric catagories for a tree algorithm..."
   ]
  },
  {
   "cell_type": "code",
   "execution_count": 39,
   "metadata": {},
   "outputs": [
    {
     "data": {
      "text/html": [
       "<div>\n",
       "<style scoped>\n",
       "    .dataframe tbody tr th:only-of-type {\n",
       "        vertical-align: middle;\n",
       "    }\n",
       "\n",
       "    .dataframe tbody tr th {\n",
       "        vertical-align: top;\n",
       "    }\n",
       "\n",
       "    .dataframe thead th {\n",
       "        text-align: right;\n",
       "    }\n",
       "</style>\n",
       "<table border=\"1\" class=\"dataframe\">\n",
       "  <thead>\n",
       "    <tr style=\"text-align: right;\">\n",
       "      <th></th>\n",
       "      <th>loan_amnt</th>\n",
       "      <th>funded_amnt</th>\n",
       "      <th>funded_amnt_inv</th>\n",
       "      <th>term</th>\n",
       "      <th>int_rate</th>\n",
       "      <th>installment</th>\n",
       "      <th>grade</th>\n",
       "      <th>sub_grade</th>\n",
       "      <th>emp_title</th>\n",
       "      <th>emp_length</th>\n",
       "      <th>...</th>\n",
       "      <th>total_rec_int</th>\n",
       "      <th>total_rec_late_fee</th>\n",
       "      <th>recoveries</th>\n",
       "      <th>collection_recovery_fee</th>\n",
       "      <th>last_pymnt_amnt</th>\n",
       "      <th>last_credit_pull_d</th>\n",
       "      <th>collections_12_mths_ex_med</th>\n",
       "      <th>policy_code</th>\n",
       "      <th>application_type</th>\n",
       "      <th>acc_now_delinq</th>\n",
       "    </tr>\n",
       "  </thead>\n",
       "  <tbody>\n",
       "    <tr>\n",
       "      <th>0</th>\n",
       "      <td>32</td>\n",
       "      <td>32</td>\n",
       "      <td>32</td>\n",
       "      <td>0</td>\n",
       "      <td>6</td>\n",
       "      <td>119</td>\n",
       "      <td>1</td>\n",
       "      <td>6</td>\n",
       "      <td>0</td>\n",
       "      <td>10</td>\n",
       "      <td>...</td>\n",
       "      <td>209</td>\n",
       "      <td>0</td>\n",
       "      <td>0</td>\n",
       "      <td>0</td>\n",
       "      <td>128</td>\n",
       "      <td>19</td>\n",
       "      <td>0</td>\n",
       "      <td>0</td>\n",
       "      <td>0</td>\n",
       "      <td>0</td>\n",
       "    </tr>\n",
       "    <tr>\n",
       "      <th>1</th>\n",
       "      <td>12</td>\n",
       "      <td>12</td>\n",
       "      <td>12</td>\n",
       "      <td>1</td>\n",
       "      <td>13</td>\n",
       "      <td>9</td>\n",
       "      <td>2</td>\n",
       "      <td>13</td>\n",
       "      <td>582</td>\n",
       "      <td>1</td>\n",
       "      <td>...</td>\n",
       "      <td>71</td>\n",
       "      <td>0</td>\n",
       "      <td>27</td>\n",
       "      <td>4</td>\n",
       "      <td>79</td>\n",
       "      <td>44</td>\n",
       "      <td>0</td>\n",
       "      <td>0</td>\n",
       "      <td>0</td>\n",
       "      <td>0</td>\n",
       "    </tr>\n",
       "    <tr>\n",
       "      <th>2</th>\n",
       "      <td>10</td>\n",
       "      <td>10</td>\n",
       "      <td>10</td>\n",
       "      <td>0</td>\n",
       "      <td>14</td>\n",
       "      <td>28</td>\n",
       "      <td>2</td>\n",
       "      <td>14</td>\n",
       "      <td>0</td>\n",
       "      <td>10</td>\n",
       "      <td>...</td>\n",
       "      <td>132</td>\n",
       "      <td>0</td>\n",
       "      <td>0</td>\n",
       "      <td>0</td>\n",
       "      <td>525</td>\n",
       "      <td>19</td>\n",
       "      <td>0</td>\n",
       "      <td>0</td>\n",
       "      <td>0</td>\n",
       "      <td>0</td>\n",
       "    </tr>\n",
       "    <tr>\n",
       "      <th>3</th>\n",
       "      <td>92</td>\n",
       "      <td>99</td>\n",
       "      <td>111</td>\n",
       "      <td>0</td>\n",
       "      <td>10</td>\n",
       "      <td>361</td>\n",
       "      <td>2</td>\n",
       "      <td>10</td>\n",
       "      <td>12</td>\n",
       "      <td>10</td>\n",
       "      <td>...</td>\n",
       "      <td>588</td>\n",
       "      <td>13</td>\n",
       "      <td>0</td>\n",
       "      <td>0</td>\n",
       "      <td>323</td>\n",
       "      <td>18</td>\n",
       "      <td>0</td>\n",
       "      <td>0</td>\n",
       "      <td>0</td>\n",
       "      <td>0</td>\n",
       "    </tr>\n",
       "    <tr>\n",
       "      <th>4</th>\n",
       "      <td>14</td>\n",
       "      <td>14</td>\n",
       "      <td>14</td>\n",
       "      <td>1</td>\n",
       "      <td>9</td>\n",
       "      <td>13</td>\n",
       "      <td>1</td>\n",
       "      <td>9</td>\n",
       "      <td>744</td>\n",
       "      <td>1</td>\n",
       "      <td>...</td>\n",
       "      <td>271</td>\n",
       "      <td>0</td>\n",
       "      <td>0</td>\n",
       "      <td>0</td>\n",
       "      <td>44</td>\n",
       "      <td>19</td>\n",
       "      <td>0</td>\n",
       "      <td>0</td>\n",
       "      <td>0</td>\n",
       "      <td>0</td>\n",
       "    </tr>\n",
       "  </tbody>\n",
       "</table>\n",
       "<p>5 rows × 48 columns</p>\n",
       "</div>"
      ],
      "text/plain": [
       "   loan_amnt  funded_amnt  funded_amnt_inv  term  int_rate  installment  \\\n",
       "0         32           32               32     0         6          119   \n",
       "1         12           12               12     1        13            9   \n",
       "2         10           10               10     0        14           28   \n",
       "3         92           99              111     0        10          361   \n",
       "4         14           14               14     1         9           13   \n",
       "\n",
       "   grade  sub_grade  emp_title  emp_length       ...        total_rec_int  \\\n",
       "0      1          6          0          10       ...                  209   \n",
       "1      2         13        582           1       ...                   71   \n",
       "2      2         14          0          10       ...                  132   \n",
       "3      2         10         12          10       ...                  588   \n",
       "4      1          9        744           1       ...                  271   \n",
       "\n",
       "   total_rec_late_fee  recoveries  collection_recovery_fee  last_pymnt_amnt  \\\n",
       "0                   0           0                        0              128   \n",
       "1                   0          27                        4               79   \n",
       "2                   0           0                        0              525   \n",
       "3                  13           0                        0              323   \n",
       "4                   0           0                        0               44   \n",
       "\n",
       "   last_credit_pull_d  collections_12_mths_ex_med  policy_code  \\\n",
       "0                  19                           0            0   \n",
       "1                  44                           0            0   \n",
       "2                  19                           0            0   \n",
       "3                  18                           0            0   \n",
       "4                  19                           0            0   \n",
       "\n",
       "   application_type  acc_now_delinq  \n",
       "0                 0               0  \n",
       "1                 0               0  \n",
       "2                 0               0  \n",
       "3                 0               0  \n",
       "4                 0               0  \n",
       "\n",
       "[5 rows x 48 columns]"
      ]
     },
     "execution_count": 39,
     "metadata": {},
     "output_type": "execute_result"
    }
   ],
   "source": [
    "from sklearn import preprocessing\n",
    "\n",
    "selected = pd.DataFrame(data)\n",
    "\n",
    "X = selected.apply(preprocessing.LabelEncoder().fit_transform)\n",
    "X.head()"
   ]
  },
  {
   "cell_type": "raw",
   "metadata": {},
   "source": [
    "Just for giggles, let's fit a tree classifier and view the accuracy and feature importances.\n",
    "\n",
    "This might give us some insight into what features are important and a baseline performance."
   ]
  },
  {
   "cell_type": "code",
   "execution_count": 40,
   "metadata": {
    "collapsed": true
   },
   "outputs": [],
   "source": [
    "from sklearn.ensemble import RandomForestClassifier\n",
    "\n",
    "clf = RandomForestClassifier(max_depth=3)\n",
    "clf = clf.fit(X, bad_indicator)"
   ]
  },
  {
   "cell_type": "code",
   "execution_count": 41,
   "metadata": {},
   "outputs": [
    {
     "name": "stdout",
     "output_type": "stream",
     "text": [
      "Accuracy: 0.94 (+/- 0.04)\n"
     ]
    }
   ],
   "source": [
    "from sklearn.model_selection import cross_val_score\n",
    "scores = cross_val_score(clf, X, bad_indicator, cv=5, scoring='accuracy')\n",
    "print(\"Accuracy: %0.2f (+/- %0.2f)\" % (scores.mean(), scores.std()))"
   ]
  },
  {
   "cell_type": "markdown",
   "metadata": {},
   "source": [
    "Uh oh! Look how high that accuracy score is!\n",
    "\n",
    "This should raise alarm bells.\n",
    "\n",
    "Either the problem is super simple (and you can see the simplicity in plots) or something is not right.\n",
    "\n",
    "Let's look at the importances..."
   ]
  },
  {
   "cell_type": "code",
   "execution_count": 42,
   "metadata": {},
   "outputs": [
    {
     "name": "stdout",
     "output_type": "stream",
     "text": [
      "Feature ranking:\n",
      "1. collection_recovery_fee (0.367956)\n",
      "2. recoveries (0.194140)\n",
      "3. total_rec_prncp (0.183480)\n",
      "4. total_pymnt (0.099906)\n",
      "5. total_pymnt_inv (0.042872)\n",
      "6. funded_amnt (0.042638)\n",
      "7. total_rec_late_fee (0.015095)\n",
      "8. last_pymnt_amnt (0.013317)\n",
      "9. url (0.006635)\n",
      "10. emp_length (0.006529)\n",
      "11. installment (0.005544)\n",
      "12. last_credit_pull_d (0.004893)\n",
      "13. revol_util (0.004202)\n",
      "14. title (0.003670)\n",
      "15. purpose (0.002012)\n",
      "16. addr_state (0.001564)\n",
      "17. revol_bal (0.001559)\n",
      "18. total_rec_int (0.001532)\n",
      "19. out_prncp (0.001118)\n",
      "20. annual_inc (0.000907)\n",
      "21. int_rate (0.000432)\n",
      "22. emp_title (0.000000)\n",
      "23. sub_grade (0.000000)\n",
      "24. home_ownership (0.000000)\n",
      "25. grade (0.000000)\n",
      "26. verification_status (0.000000)\n",
      "27. issue_d (0.000000)\n",
      "28. term (0.000000)\n",
      "29. pymnt_plan (0.000000)\n",
      "30. funded_amnt_inv (0.000000)\n",
      "31. acc_now_delinq (0.000000)\n",
      "32. earliest_cr_line (0.000000)\n",
      "33. desc (0.000000)\n",
      "34. zip_code (0.000000)\n",
      "35. dti (0.000000)\n",
      "36. delinq_2yrs (0.000000)\n",
      "37. application_type (0.000000)\n",
      "38. inq_last_6mths (0.000000)\n",
      "39. mths_since_last_delinq (0.000000)\n",
      "40. mths_since_last_record (0.000000)\n",
      "41. open_acc (0.000000)\n",
      "42. pub_rec (0.000000)\n",
      "43. total_acc (0.000000)\n",
      "44. initial_list_status (0.000000)\n",
      "45. out_prncp_inv (0.000000)\n",
      "46. collections_12_mths_ex_med (0.000000)\n",
      "47. policy_code (0.000000)\n",
      "48. loan_amnt (0.000000)\n"
     ]
    },
    {
     "data": {
      "image/png": "[encoded data removed]",
      "text/plain": [
       "<matplotlib.figure.Figure at 0x7efec5d57668>"
      ]
     },
     "metadata": {},
     "output_type": "display_data"
    }
   ],
   "source": [
    "importances = clf.feature_importances_\n",
    "std = np.std([tree.feature_importances_ for tree in clf.estimators_],\n",
    "             axis=0)\n",
    "indices = np.argsort(importances)[::-1]\n",
    "\n",
    "# Print the feature ranking\n",
    "print(\"Feature ranking:\")\n",
    "\n",
    "names = X.columns\n",
    "\n",
    "for f in range(X.shape[1]):\n",
    "    print(\"%d. %s (%f)\" % (f + 1, names[indices[f]], importances[indices[f]]))\n",
    "\n",
    "# Plot the feature importances of the forest\n",
    "plt.figure()\n",
    "plt.title(\"Feature importances\")\n",
    "plt.bar(range(X.shape[1]), importances[indices],\n",
    "       color=\"r\", yerr=std[indices], align=\"center\")\n",
    "plt.xticks(range(X.shape[1]), indices)\n",
    "plt.xlim([-1, X.shape[1]])\n",
    "plt.show()"
   ]
  },
  {
   "cell_type": "markdown",
   "metadata": {},
   "source": [
    "Ahhhhhh. Look at the top two features:\n",
    "\n",
    "1. collection_recovery_fee (0.254455)\n",
    "2. recoveries (0.219021)\n",
    "\n",
    "The recovery fee recieved and the number of recoveries. These are directly related to loan defaults;\n",
    "you will only get a recovery if there is a loan default.\n",
    "\n",
    "Clearly, we won't have these features unless a default has already occured and in that case, there's\n",
    "certainly no point in trying to predict it!\n",
    "\n",
    "This is a perfect example of _data leakage_. This is where you use data that is impossible to\n",
    "obtain at the time, usually because it is a direct consequence of an event that you are trying to \n",
    "predict.\n",
    "\n",
    "Just for further giggles, let's plot a _box plot_ of the recoveries data..."
   ]
  },
  {
   "cell_type": "code",
   "execution_count": 43,
   "metadata": {},
   "outputs": [
    {
     "data": {
      "image/png": "[encoded data removed]",
      "text/plain": [
       "<matplotlib.figure.Figure at 0x7efec5d895c0>"
      ]
     },
     "metadata": {},
     "output_type": "display_data"
    }
   ],
   "source": [
    "loan_amount = pd.DataFrame([selected[\"recoveries\"], bad_indicator]).transpose()\n",
    "loan_amount.boxplot(by=\"loan_status\")\n",
    "plt.show()"
   ]
  },
  {
   "cell_type": "markdown",
   "metadata": {},
   "source": [
    "This is plotting the recoveries data by the loan status. Note how all of the \"normal\" loans\n",
    "have zero recoveries.\n",
    "\n",
    "If this really was a feature we could just threshold above 0 and say it was \"suffering\".\n",
    "\n",
    "Hence why we got 95% in the accuracy score!\n",
    "\n",
    "**However, this begs the question, if this was so easy, why did we get 95% and not 100%?!?!**\n",
    "\n",
    "Let's remove those features and try again..."
   ]
  },
  {
   "cell_type": "code",
   "execution_count": 44,
   "metadata": {
    "collapsed": true
   },
   "outputs": [],
   "source": [
    "X.drop([\"collection_recovery_fee\", \"recoveries\"], axis=1, inplace=True)"
   ]
  },
  {
   "cell_type": "code",
   "execution_count": 45,
   "metadata": {},
   "outputs": [
    {
     "name": "stdout",
     "output_type": "stream",
     "text": [
      "Accuracy: 0.86 (+/- 0.01)\n"
     ]
    }
   ],
   "source": [
    "clf = RandomForestClassifier(max_depth=3)\n",
    "clf = clf.fit(X, bad_indicator)\n",
    "scores = cross_val_score(clf, X, bad_indicator, cv=5, scoring='accuracy')\n",
    "print(\"Accuracy: %0.2f (+/- %0.2f)\" % (scores.mean(), scores.std()))"
   ]
  },
  {
   "cell_type": "markdown",
   "metadata": {},
   "source": [
    "Ok, this is starting to look a bit more feasible"
   ]
  },
  {
   "cell_type": "code",
   "execution_count": 46,
   "metadata": {},
   "outputs": [
    {
     "name": "stdout",
     "output_type": "stream",
     "text": [
      "Feature ranking:\n",
      "1. total_rec_prncp (0.448753)\n",
      "2. total_pymnt_inv (0.135914)\n",
      "3. total_pymnt (0.079042)\n",
      "4. loan_amnt (0.066316)\n",
      "5. funded_amnt_inv (0.047604)\n",
      "6. total_rec_int (0.032647)\n",
      "7. zip_code (0.023197)\n",
      "8. revol_util (0.018872)\n",
      "9. term (0.018008)\n",
      "10. last_credit_pull_d (0.017132)\n",
      "11. mths_since_last_delinq (0.016491)\n",
      "12. dti (0.011959)\n",
      "13. earliest_cr_line (0.011853)\n",
      "14. purpose (0.011168)\n",
      "15. url (0.009623)\n",
      "16. last_pymnt_amnt (0.008408)\n",
      "17. int_rate (0.008235)\n",
      "18. open_acc (0.006879)\n",
      "19. total_rec_late_fee (0.006551)\n",
      "20. addr_state (0.006494)\n",
      "21. out_prncp_inv (0.005765)\n",
      "22. funded_amnt (0.004310)\n",
      "23. annual_inc (0.003599)\n",
      "24. emp_title (0.001035)\n",
      "25. revol_bal (0.000145)\n",
      "26. emp_length (0.000000)\n",
      "27. sub_grade (0.000000)\n",
      "28. home_ownership (0.000000)\n",
      "29. grade (0.000000)\n",
      "30. issue_d (0.000000)\n",
      "31. installment (0.000000)\n",
      "32. verification_status (0.000000)\n",
      "33. acc_now_delinq (0.000000)\n",
      "34. pymnt_plan (0.000000)\n",
      "35. desc (0.000000)\n",
      "36. title (0.000000)\n",
      "37. application_type (0.000000)\n",
      "38. inq_last_6mths (0.000000)\n",
      "39. mths_since_last_record (0.000000)\n",
      "40. pub_rec (0.000000)\n",
      "41. total_acc (0.000000)\n",
      "42. initial_list_status (0.000000)\n",
      "43. out_prncp (0.000000)\n",
      "44. collections_12_mths_ex_med (0.000000)\n",
      "45. policy_code (0.000000)\n",
      "46. delinq_2yrs (0.000000)\n"
     ]
    },
    {
     "data": {
      "image/png": "[encoded data removed]",
      "text/plain": [
       "<matplotlib.figure.Figure at 0x7efec5ffbbe0>"
      ]
     },
     "metadata": {},
     "output_type": "display_data"
    }
   ],
   "source": [
    "importances = clf.feature_importances_\n",
    "std = np.std([tree.feature_importances_ for tree in clf.estimators_],\n",
    "             axis=0)\n",
    "indices = np.argsort(importances)[::-1]\n",
    "\n",
    "# Print the feature ranking\n",
    "print(\"Feature ranking:\")\n",
    "\n",
    "names = X.columns\n",
    "\n",
    "for f in range(X.shape[1]):\n",
    "    print(\"%d. %s (%f)\" % (f + 1, names[indices[f]], importances[indices[f]]))\n",
    "\n",
    "# Plot the feature importances of the forest\n",
    "plt.figure()\n",
    "plt.title(\"Feature importances\")\n",
    "plt.bar(range(X.shape[1]), importances[indices],\n",
    "       color=\"r\", yerr=std[indices], align=\"center\")\n",
    "plt.xticks(range(X.shape[1]), indices)\n",
    "plt.xlim([-1, X.shape[1]])\n",
    "# plt.savefig('../img/feature_importances.svg', transparent=True, bbox_inches='tight', pad_inches=0)    \n",
    "plt.show()"
   ]
  },
  {
   "cell_type": "markdown",
   "metadata": {},
   "source": [
    "The best features now are:\n",
    "\n",
    "1. total_rec_prncp (0.232828)\n",
    "2. last_pymnt_amnt (0.145886)\n",
    "3. total_pymnt_inv (0.140592)\n",
    "4. total_pymnt (0.129989)\n",
    "\n",
    "So it seems like there is some correlation with how much has been paid off and delinquincy.\n",
    "\n",
    "We should look into these correlations more.\n",
    "\n",
    "So, what we'd do now is chop off all except the first 10, maybe, and see if we can improve that\n",
    "data (with scaling, encoding, missing data imputing, etc.)\n",
    "\n",
    "We would also consider mixtures of features, e.g. the proportion of the loan repaid, etc."
   ]
  },
  {
   "cell_type": "markdown",
   "metadata": {
    "collapsed": true
   },
   "source": [
    "## Tasks\n",
    "\n",
    "- Continue this analysis if you have time"
   ]
  }
 ],
 "metadata": {
  "kernelspec": {
   "display_name": "Python 3",
   "language": "python",
   "name": "python3"
  },
  "language_info": {
   "codemirror_mode": {
    "name": "ipython",
    "version": 3
   },
   "file_extension": ".py",
   "mimetype": "text/x-python",
   "name": "python",
   "nbconvert_exporter": "python",
   "pygments_lexer": "ipython3",
   "version": "3.6.2"
  }
 },
 "nbformat": 4,
 "nbformat_minor": 2
}
