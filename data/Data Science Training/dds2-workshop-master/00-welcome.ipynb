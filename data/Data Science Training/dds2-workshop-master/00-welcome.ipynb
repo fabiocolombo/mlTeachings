{
 "cells": [
  {
   "cell_type": "markdown",
   "metadata": {},
   "source": [
    "# Intermediate Developer Data Science Workshop\n",
    "\n",
    "Welcome back data-friends!\n",
    "\n",
    "Today we will be looking at the nuances of data science and we start by examining the definition of what is a good model.\n",
    "\n",
    "## Now With Chat!\n",
    "\n",
    "If you want to share code with everyone, one of the simplest ways is to use a simple chat webapp. Checkout:\n",
    "\n",
    "http://hack.chat/?dds\n",
    "\n",
    "\n",
    "# Model Evaluation\n",
    "\n",
    "This section is just a quick warm up to get up and running in the jupyter environment.\n",
    "\n",
    "This is a quick exercise with some extra do-it-yourself questions at the end, to allow time for others to get setup.\n",
    "\n",
    "Let's begin!\n",
    "\n",
    "## Load some data\n",
    "\n",
    "Tasks:\n",
    "\n",
    "- Create a Support Vector Machine (`svm.SVC(...)`)\n",
    "- Fit the digits dataset to the SVM\n",
    "\n",
    "_Hint: Look at the documentation for `svm.SVC()`..._"
   ]
  },
  {
   "cell_type": "code",
   "execution_count": 1,
   "metadata": {},
   "outputs": [],
   "source": [
    "from sklearn import datasets, svm\n",
    "digits = datasets.load_digits()\n",
    "X_digits = digits.data\n",
    "y_digits = digits.target\n",
    "svc = svm.SVC(C=1, kernel='linear')\n",
    "svcf = svc.fit(X_digits[:-100], y_digits[:-100])"
   ]
  },
  {
   "cell_type": "markdown",
   "metadata": {},
   "source": [
    "## Accuracy\n",
    "\n",
    "Next, let's measure the accuracy.\n",
    "\n",
    "Tasks:\n",
    "- Measure the accuracy of the fit"
   ]
  },
  {
   "cell_type": "code",
   "execution_count": 2,
   "metadata": {},
   "outputs": [
    {
     "data": {
      "text/plain": [
       "0.97999999999999998"
      ]
     },
     "execution_count": 2,
     "metadata": {},
     "output_type": "execute_result"
    }
   ],
   "source": [
    "svcf.score(X_digits[-100:], y_digits[-100:])"
   ]
  },
  {
   "cell_type": "markdown",
   "metadata": {},
   "source": [
    "## Confusion Matrix\n",
    "\n",
    "Pretty good eh?\n",
    "\n",
    "Now, lets take a look in depth by looking at the confusion matrix for this model.\n",
    "\n",
    "Tasks:\n",
    "\n",
    "- Print the confusion matrix (`sklearn.metrics.confusion_matrix`)"
   ]
  },
  {
   "cell_type": "code",
   "execution_count": 3,
   "metadata": {},
   "outputs": [
    {
     "name": "stdout",
     "output_type": "stream",
     "text": [
      "Confusion matrix:\n",
      "[[10  0  0  0  0  0  0  0  0  0]\n",
      " [ 0 10  0  0  0  0  0  0  0  0]\n",
      " [ 0  0 10  0  0  0  0  0  0  0]\n",
      " [ 0  0  0  8  0  1  0  0  1  0]\n",
      " [ 0  0  0  0 10  0  0  0  0  0]\n",
      " [ 0  0  0  0  0 10  0  0  0  0]\n",
      " [ 0  0  0  0  0  0 10  0  0  0]\n",
      " [ 0  0  0  0  0  0  0 10  0  0]\n",
      " [ 0  0  0  0  0  0  0  0 10  0]\n",
      " [ 0  0  0  0  0  0  0  0  0 10]]\n"
     ]
    }
   ],
   "source": [
    "from sklearn import metrics\n",
    "\n",
    "expected = y_digits[-100:]\n",
    "predicted = svc.predict(X_digits[-100:])\n",
    "\n",
    "print(\"Confusion matrix:\\n%s\" % metrics.confusion_matrix(expected, predicted))"
   ]
  },
  {
   "cell_type": "markdown",
   "metadata": {},
   "source": [
    "Note how it appears to be struggling with the number 3 (zero-indexed). It seems to be confusing 3 with 5 and 8, which is to be expected."
   ]
  },
  {
   "cell_type": "markdown",
   "metadata": {
    "collapsed": true
   },
   "source": [
    "## Bonus\n",
    "\n",
    "Have a go at some of these if you finished before everyone else.\n",
    "\n",
    "Tasks:\n",
    "\n",
    "- Try another model\n",
    "- Load some different data\n",
    "- Try repeating the accuracy score with cross-validation"
   ]
  }
 ],
 "metadata": {
  "kernelspec": {
   "display_name": "Python 3",
   "language": "python",
   "name": "python3"
  },
  "language_info": {
   "codemirror_mode": {
    "name": "ipython",
    "version": 3
   },
   "file_extension": ".py",
   "mimetype": "text/x-python",
   "name": "python",
   "nbconvert_exporter": "python",
   "pygments_lexer": "ipython3",
   "version": "3.6.2"
  }
 },
 "nbformat": 4,
 "nbformat_minor": 1
}
