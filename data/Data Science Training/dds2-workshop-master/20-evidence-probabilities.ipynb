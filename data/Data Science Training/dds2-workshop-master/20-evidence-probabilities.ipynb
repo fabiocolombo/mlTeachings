{
 "cells": [
  {
   "cell_type": "markdown",
   "metadata": {},
   "source": [
    "# Evidence and Probabilities\n",
    "\n",
    "Bayes rule is one of the most useful parts of statistics. It allows us to estimate probabilities that would otherwise be impossible.\n",
    "\n",
    "In this worksheet we look at bayes at a basic level, then try a naive classifier.\n",
    "\n",
    "## Bayes Rule\n",
    "\n",
    "Following on from the previous marketing examples, consider the following situation. You have already developed a model that decides to either show and advert, or not show an advert, to a set of customers.\n",
    "\n",
    "\n",
    "Your boss has come back with some results and says:\n",
    "\n",
    "> \"We're going to ask you to develop a new model, but first we need a baseline to compare against. Can you tell me what is the probability that a customer will buy our product, given that they have seen your advert?\".\n",
    "\n",
    "We notice the word \"given\" in the sentence and we release that we can use bayes rule:\n",
    "\n",
    "$p(B \\vert A) = \\frac{p(B) \\times p(A \\vert B)}{p(A)} = \\frac{p(B) \\times p(A \\vert B)}{p(B) \\times p(A \\vert B) + p(notB) \\times p(A \\vert notB)}$\n",
    "\n",
    "Where $A$ is being shown the advert and $B$ is buy our product.\n",
    "\n",
    "Next, she provides the following statistics from the previous experiment:\n",
    "\n",
    "- 10 people bought product after being shown the advert. (TP)\n",
    "- 1000 people were not shown the advert and didn't buy. (TN)\n",
    "- 50 people were shown the advert, but didn't buy. (FP)\n",
    "- And 5 people bought our product without being shown any advert. (FN)"
   ]
  },
  {
   "cell_type": "markdown",
   "metadata": {},
   "source": [
    "- 10 true positives. 10 people bought product.\n",
    "- 1000 true negatives. Not shown advert.\n",
    "- 50 false positives. They didn't buy, but were shown the advert.\n",
    "- 5 false negatives, people bought even though they weren't shown the advert.\n",
    "\n",
    "| |p | n|\n",
    "|--|--|--|\n",
    "|Y|10|50|\n",
    "|N|5|1000|"
   ]
  },
  {
   "cell_type": "code",
   "execution_count": 1,
   "metadata": {},
   "outputs": [
    {
     "name": "stdout",
     "output_type": "stream",
     "text": [
      "p(buy|ad) = 16.7%\n"
     ]
    }
   ],
   "source": [
    "T = 1000+50+10+5\n",
    "p_buy = (10+5)/T\n",
    "p_ad_buy = 10/15\n",
    "p_notbuy = (1000+50)/T\n",
    "p_ad_notbuy = 50/1050\n",
    "p_buy_ad = p_buy * p_ad_buy / (p_buy * p_ad_buy + p_notbuy * p_ad_notbuy)\n",
    "\n",
    "print(\"p(buy|ad) = %0.1f%%\" % (p_buy_ad*100))"
   ]
  },
  {
   "cell_type": "markdown",
   "metadata": {},
   "source": [
    "## Naive Bayes Classifier\n",
    "\n",
    "Now let's try a naive bayes classifier. Once again, sklearn makes this very easy.\n",
    "\n",
    "Tasks:\n",
    "\n",
    "- Classify the iris dataset\n",
    "- Print the confusion matrix\n",
    "- Print and investigate the resulting probabilities\n",
    "- Plot the ROC curves"
   ]
  },
  {
   "cell_type": "code",
   "execution_count": 2,
   "metadata": {
    "scrolled": true
   },
   "outputs": [
    {
     "data": {
      "text/plain": [
       "(150, 4)"
      ]
     },
     "execution_count": 2,
     "metadata": {},
     "output_type": "execute_result"
    }
   ],
   "source": [
    "from matplotlib import pyplot as plt\n",
    "from sklearn import metrics\n",
    "from sklearn import datasets\n",
    "from sklearn.naive_bayes import GaussianNB\n",
    "iris = datasets.load_iris()\n",
    "iris.data.shape"
   ]
  },
  {
   "cell_type": "code",
   "execution_count": 3,
   "metadata": {},
   "outputs": [
    {
     "name": "stdout",
     "output_type": "stream",
     "text": [
      "[[50  0  0]\n",
      " [ 0 47  3]\n",
      " [ 0  3 47]]\n"
     ]
    }
   ],
   "source": [
    "gnb = GaussianNB()\n",
    "mdl = gnb.fit(iris.data, iris.target) # Tut, tut. We should really be splitting the training/test set.\n",
    "y_pred = mdl.predict(iris.data)\n",
    "cm = metrics.confusion_matrix(iris.target, y_pred)\n",
    "print(cm)"
   ]
  },
  {
   "cell_type": "code",
   "execution_count": 4,
   "metadata": {},
   "outputs": [
    {
     "name": "stdout",
     "output_type": "stream",
     "text": [
      "These are the misclassified instances:\n",
      " [[  1.52821825e-122   4.56151317e-001   5.43848683e-001]\n",
      " [  7.43572418e-129   1.54494085e-001   8.45505915e-001]\n",
      " [  2.12531216e-137   7.52691316e-002   9.24730868e-001]\n",
      " [  4.59552511e-108   9.73514345e-001   2.64856553e-002]\n",
      " [  5.69697725e-125   9.58135362e-001   4.18646381e-002]\n",
      " [  2.19798649e-130   7.12645144e-001   2.87354856e-001]]\n",
      "They were classified as:\n",
      " [2 2 2 1 1 1]\n",
      "But should have been:\n",
      " [1 1 1 2 2 2]\n"
     ]
    }
   ],
   "source": [
    "y_proba = gnb.fit(iris.data, iris.target).predict_proba(iris.data)\n",
    "print(\"These are the misclassified instances:\\n\", y_proba[iris.target != y_pred])\n",
    "print(\"They were classified as:\\n\", y_pred[iris.target != y_pred])\n",
    "print(\"But should have been:\\n\", iris.target[iris.target != y_pred])"
   ]
  },
  {
   "cell_type": "code",
   "execution_count": 5,
   "metadata": {},
   "outputs": [
    {
     "data": {
      "image/png": "[encoded data removed]",
      "text/plain": [
       "<matplotlib.figure.Figure at 0x7f36fd995160>"
      ]
     },
     "metadata": {},
     "output_type": "display_data"
    }
   ],
   "source": [
    "# Ideally, generate a curve for each target. Do it in a loop.\n",
    "fpr, tpr, _ = metrics.roc_curve(iris.target, y_proba[:,1], pos_label=1)\n",
    "\n",
    "plt.figure()\n",
    "lw = 2\n",
    "plt.plot(fpr, tpr, color='darkorange',\n",
    "         lw=lw, label='ROC curve')\n",
    "plt.plot([0, 1], [0, 1], color='navy', lw=lw, linestyle='--', label='Random')\n",
    "plt.xlim([0.0, 1.0])\n",
    "plt.ylim([0.0, 1.05])\n",
    "plt.xlabel('False Positive Rate')\n",
    "plt.ylabel('True Positive Rate')\n",
    "plt.title('Receiver operating characteristic of iris data')\n",
    "plt.legend(loc=\"lower right\")\n",
    "plt.show()"
   ]
  },
  {
   "cell_type": "markdown",
   "metadata": {},
   "source": [
    "## Tasks\n",
    "\n",
    "| |actual cancer | actual no cancer |\n",
    "|--|--|--|\n",
    "|diagnosed cancer|8|90|\n",
    "|not diagnosed cancer|2|900|\n",
    "\n",
    "- Above is a (simulated) confusion matrix for breast cancer diagnosis.\n",
    "  - What is the probability that a person has cancer given that they have a diagnosis? (Find p(cancer|diag))\n",
    "  \n",
    "## Bonus\n",
    "\n",
    "- Load the digits dataset from the previous workshop, classify with a naive bayes classifier and plot the ROC curve.\n",
    "- Compare that to another classifier"
   ]
  },
  {
   "cell_type": "code",
   "execution_count": null,
   "metadata": {
    "collapsed": true
   },
   "outputs": [],
   "source": []
  }
 ],
 "metadata": {
  "kernelspec": {
   "display_name": "Python 3",
   "language": "python",
   "name": "python3"
  },
  "language_info": {
   "codemirror_mode": {
    "name": "ipython",
    "version": 3
   },
   "file_extension": ".py",
   "mimetype": "text/x-python",
   "name": "python",
   "nbconvert_exporter": "python",
   "pygments_lexer": "ipython3",
   "version": "3.6.4"
  }
 },
 "nbformat": 4,
 "nbformat_minor": 2
}
