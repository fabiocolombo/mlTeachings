{
 "cells": [
  {
   "cell_type": "markdown",
   "metadata": {},
   "source": [
    "# Perceptron\n",
    "\n",
    "In this section we will investigate the most primitive component of neural networks. The neuron.\n",
    "\n",
    "This version of the neuron is called a perceptron.\n",
    "\n",
    "The goal is to write your own perceptron.\n",
    "\n",
    "As usual, we have a few imports and helper functions."
   ]
  },
  {
   "cell_type": "code",
   "execution_count": 1,
   "metadata": {},
   "outputs": [],
   "source": [
    "from matplotlib import pyplot as plt\n",
    "from matplotlib.colors import ListedColormap\n",
    "from sklearn import datasets\n",
    "import numpy as np"
   ]
  },
  {
   "cell_type": "code",
   "execution_count": 2,
   "metadata": {
    "collapsed": true
   },
   "outputs": [],
   "source": [
    "h = 0.025\n",
    "colours = np.array([\"r\", \"b\", \"g\", \"k\", \"c\", \"m\"])\n",
    "def plot_decision(ax, clf, X):\n",
    "    cmap = ListedColormap(colours[:len(np.unique(y))])\n",
    "    x_min, x_max = X[:, 0].min() - 1, X[:, 0].max() + 1\n",
    "    y_min, y_max = X[:, 1].min() - 1, X[:, 1].max() + 1\n",
    "    xx, yy = np.meshgrid(np.arange(x_min, x_max, h), np.arange(y_min, y_max, h))\n",
    "    Z = np.array([clf.predict(x) for x in np.c_[xx.ravel(), yy.ravel()]])\n",
    "    Z = Z.reshape(xx.shape)\n",
    "    ax.contourf(xx, yy, Z, alpha=0.4, cmap=cmap)\n",
    "    ax.set_xlim(xx.min(), xx.max())\n",
    "    ax.set_ylim(yy.min(), yy.max())\n",
    "    \n",
    "def plot_points(ax, X, y):\n",
    "    ax.plot\n",
    "    ax.scatter(X[:, 0], X[:, 1], c=colours[y])"
   ]
  },
  {
   "cell_type": "markdown",
   "metadata": {},
   "source": [
    "We're going to use the iris dataset for this, for no particular reason. For this version of the perceptron though we need to make sure the classes are linearly separable."
   ]
  },
  {
   "cell_type": "code",
   "execution_count": 3,
   "metadata": {
    "collapsed": true
   },
   "outputs": [],
   "source": [
    "iris = datasets.load_iris()\n",
    "X, y = (iris.data[:100, [0, 2]], iris.target[:100])  # For simplicity, pick only two features and only two classes\n",
    "y[y == 0] = -1.0"
   ]
  },
  {
   "cell_type": "markdown",
   "metadata": {},
   "source": [
    "Let us create a class that provides a Perceptron.\n",
    "\n",
    "To do this you will need to implement the following algorithm:\n",
    "\n",
    "1. foreach iteration\n",
    "    1. foreach instance\n",
    "        1. Predict $\\hat{y}$\n",
    "        2. Calculate the error between $y$ and $\\hat{y}$\n",
    "        3. Create the weight update according to the perceptron learning rule\n",
    "\n",
    "With the following equations...\n",
    "\n",
    "The net input:\n",
    "\n",
    "$z=w_0 + w_1x_1+\\dots+w_mx_m$\n",
    "\n",
    "The activation function:\n",
    "\n",
    "$ \\hat{y} = \\phi(z) = \\begin{cases}\n",
    "1 &\\text{if } z \\ge \\theta, \\\\\\\\\n",
    "-1 &\\text{otherwise}\n",
    "\\end{cases}\n",
    "$\n",
    "\n",
    "The weight update:\n",
    "\n",
    "$ w_j = w_j + \\Delta w_j$\n",
    "\n",
    "\n",
    "Where $\\Delta w_j$ is the perceptron learning rule:\n",
    "\n",
    "$ \\Delta w_j = \\eta \\left( y - \\hat{y} \\right) x_j $\n",
    "\n",
    "---\n",
    "\n",
    "Once this is done, you should be able to see a valid error chart. It should start high and end at zero."
   ]
  },
  {
   "cell_type": "code",
   "execution_count": 4,
   "metadata": {
    "collapsed": true
   },
   "outputs": [],
   "source": [
    "class Perceptron():\n",
    "    def __init__(self, itr=10, eta=0.01) -> None:\n",
    "        self.n_iterations = itr\n",
    "        self.eta = eta\n",
    "\n",
    "    def fit(self, X, y) -> None:\n",
    "        self.w_ = np.zeros(X.shape[1] + 1)              # Add one for bias input (threshold)\n",
    "        self.errors_ = np.zeros(self.n_iterations)      # Array for holding errors\n",
    "\n",
    "        for i in range(self.n_iterations):              # Foreach iteration\n",
    "            for (x_i, y_i) in zip(X, y):                # Foreach training instance\n",
    "                y_hat = self.predict(x_i)               # Predict output\n",
    "                self.errors_[i] += np.abs(y_i - y_hat)  # Add error to the current error sum\n",
    "\n",
    "                update = self.eta * (y_i - y_hat)       # Weights update equation\n",
    "                self.w_[1:] += update * x_i             # Update the weights given input\n",
    "                self.w_[0] += update                    # Update the bias weight\n",
    "\n",
    "    def activation(self, z):\n",
    "        if z >= 0:\n",
    "            return 1\n",
    "        else:\n",
    "            return -1\n",
    "\n",
    "    def net_input(self, X):\n",
    "        return np.dot(self.w_[1:].T, X) + self.w_[0]    # Sum of weighted inputs\n",
    "\n",
    "    def predict(self, X):\n",
    "        return self.activation(self.net_input(X))       # Given X => net input => activate"
   ]
  },
  {
   "cell_type": "code",
   "execution_count": 5,
   "metadata": {},
   "outputs": [
    {
     "data": {
      "image/png": "[encoded data removed]",
      "text/plain": [
       "<matplotlib.figure.Figure at 0x7fccec1658d0>"
      ]
     },
     "metadata": {},
     "output_type": "display_data"
    }
   ],
   "source": [
    "clf = Perceptron(eta=0.1, itr=10)\n",
    "clf.fit(X, y)\n",
    "fig, ax = plt.subplots(figsize=(9, 7))\n",
    "ax.plot(range(1, len(clf.errors_) + 1), clf.errors_)\n",
    "ax.set_title(\"Errors for each iteration\")\n",
    "ax.set_xlabel(\"Iteration\")\n",
    "ax.set_ylabel(\"Approximate error\")\n",
    "plt.show()"
   ]
  },
  {
   "cell_type": "markdown",
   "metadata": {},
   "source": [
    "Now let's plot the decision boundary and the data."
   ]
  },
  {
   "cell_type": "code",
   "execution_count": 6,
   "metadata": {},
   "outputs": [
    {
     "data": {
      "image/png": "[encoded data removed]",
      "text/plain": [
       "<matplotlib.figure.Figure at 0x7fccec165748>"
      ]
     },
     "metadata": {},
     "output_type": "display_data"
    }
   ],
   "source": [
    "fig, ax = plt.subplots(figsize=(9, 7))\n",
    "plot_decision(ax, clf, X)\n",
    "plot_points(ax, X, y)\n",
    "ax.set_axis_off()\n",
    "ax.set_title(\"Perceptron Decision Boundary\")\n",
    "plt.show()"
   ]
  },
  {
   "cell_type": "markdown",
   "metadata": {},
   "source": [
    "## Bonus tasks\n",
    "\n",
    "### Tasks:\n",
    "\n",
    "- Instead of initialising the weights with zeros, intialise them randomly. What happens?\n",
    "- Try with a different dataset\n",
    "- Try with a non-separable dataset\n",
    "- Try different ways of implementing the perceptron. Using matrix math maybe?"
   ]
  },
  {
   "cell_type": "code",
   "execution_count": null,
   "metadata": {
    "collapsed": true
   },
   "outputs": [],
   "source": []
  }
 ],
 "metadata": {
  "kernelspec": {
   "display_name": "Python 3",
   "language": "python",
   "name": "python3"
  },
  "language_info": {
   "codemirror_mode": {
    "name": "ipython",
    "version": 3
   },
   "file_extension": ".py",
   "mimetype": "text/x-python",
   "name": "python",
   "nbconvert_exporter": "python",
   "pygments_lexer": "ipython3",
   "version": "3.6.2"
  }
 },
 "nbformat": 4,
 "nbformat_minor": 1
}
