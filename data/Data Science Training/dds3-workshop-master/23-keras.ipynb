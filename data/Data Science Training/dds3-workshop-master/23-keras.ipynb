{
 "cells": [
  {
   "cell_type": "markdown",
   "metadata": {},
   "source": [
    "# Keras\n",
    "\n",
    "Keras is a very high-level deep learning library. Open source, MIT licensed and the main developer is an employee of Google (of course).\n",
    "\n",
    "Thankfully it seems to be relatively untouched by Google and does have support for CNTK (Microsoft), Theano (academia) as well as Tensorflow. So no Caffee. I also here through my grapevine that MXNet support is in the works.\n",
    "\n",
    "It's great because it's so high-level, you don't get bogged down with the implementation. Just the architecture.\n",
    "\n",
    "But obviously, once you have honed in on an architecture, then you might want to export the model to a dedicated framework.\n",
    "\n",
    "Let's go!"
   ]
  },
  {
   "cell_type": "code",
   "execution_count": 27,
   "metadata": {},
   "outputs": [],
   "source": [
    "import matplotlib.pyplot as plt\n",
    "import numpy as np\n",
    "from matplotlib.colors import ListedColormap\n",
    "from keras.layers import Dense, Activation\n",
    "from keras.models import Sequential\n",
    "from keras.optimizers import Adam\n",
    "from keras.initializers import glorot_uniform\n",
    "from matplotlib.colors import ListedColormap\n",
    "from sklearn import datasets\n",
    "from sklearn.preprocessing import StandardScaler"
   ]
  },
  {
   "cell_type": "code",
   "execution_count": 28,
   "metadata": {},
   "outputs": [],
   "source": [
    "h = 0.025\n",
    "colours = np.array([\"r\", \"b\", \"g\", \"k\", \"c\", \"m\"])\n",
    "def plot_decision(ax, clf, X, y):\n",
    "    cmap = ListedColormap(colours[:len(np.unique(y))])\n",
    "    x_min, x_max = X[:, 0].min() - 1, X[:, 0].max() + 1\n",
    "    y_min, y_max = X[:, 1].min() - 1, X[:, 1].max() + 1\n",
    "    xx, yy = np.meshgrid(np.arange(x_min, x_max, h), np.arange(y_min, y_max, h))\n",
    "    Z = clf.predict(np.c_[xx.ravel(), yy.ravel()])\n",
    "    Z = Z.reshape(xx.shape)\n",
    "    ax.contourf(xx, yy, Z, alpha=0.4, cmap=cmap)\n",
    "    ax.set_xlim(xx.min(), xx.max())\n",
    "    ax.set_ylim(yy.min(), yy.max())\n",
    "    \n",
    "def plot_points(ax, X, y):\n",
    "    ax.plot\n",
    "    ax.scatter(X[:, 0], X[:, 1], c=colours[y])"
   ]
  },
  {
   "cell_type": "markdown",
   "metadata": {},
   "source": [
    "Below we're going to create a model that mimics `sklearn`'s MLPClassifier (almost). It is a little complicated because of the need for the custom initialisation (zeros are rarely the best option). And we need to use a non-standard Adam learning rate to match that of our `sklearn` parameters."
   ]
  },
  {
   "cell_type": "code",
   "execution_count": 24,
   "metadata": {},
   "outputs": [],
   "source": [
    "# Generate dummy data\n",
    "x_train, y_train = datasets.make_moons(noise=0, random_state=42)\n",
    "sclr = StandardScaler().fit(x_train)\n",
    "x_train = sclr.transform(x_train)\n",
    "\n",
    "x_test, y_test = datasets.make_moons(noise=0, random_state=420)\n",
    "x_test = sclr.transform(x_train)\n",
    "\n",
    "\n",
    "# Create the model\n",
    "model = Sequential()\n",
    "\n",
    "# Create special intialisation (to be the same as sklearn)\n",
    "initialisation=glorot_uniform()\n",
    "\n",
    "# Add hidden layer\n",
    "model.add(Dense(3, input_dim=2, bias_initializer=initialisation))\n",
    "\n",
    "# Add activation\n",
    "model.add(Activation('tanh'))\n",
    "\n",
    "# Add output layer\n",
    "model.add(Dense(1, bias_initializer=initialisation))\n",
    "\n",
    "# Add activation\n",
    "model.add(Activation('sigmoid'))\n",
    "\n",
    "# Create optimiser\n",
    "adam = Adam(lr=0.05)\n",
    "\n",
    "# Compile the model\n",
    "model.compile(loss='binary_crossentropy', optimizer=adam)\n",
    "\n",
    "# Fit the model\n",
    "history = model.fit(x_train, y_train, epochs=200, verbose=0, shuffle=True)"
   ]
  },
  {
   "cell_type": "code",
   "execution_count": 25,
   "metadata": {},
   "outputs": [
    {
     "name": "stdout",
     "output_type": "stream",
     "text": [
      "loss : 4.67181648664\n"
     ]
    }
   ],
   "source": [
    "score = model.evaluate(x_test, y_test, verbose=0)\n",
    "print(model.metrics_names[0], \":\", score)"
   ]
  },
  {
   "cell_type": "code",
   "execution_count": 26,
   "metadata": {},
   "outputs": [
    {
     "data": {
      "image/png": "[encoded data removed]",
      "text/plain": [
       "<matplotlib.figure.Figure at 0x7f6054a25a20>"
      ]
     },
     "metadata": {},
     "output_type": "display_data"
    }
   ],
   "source": [
    "fig, axarr = plt.subplots(1, 2, figsize=(11, 5))\n",
    "ax = axarr[0]\n",
    "ax.plot(range(1, len(history.history['loss']) + 1), history.history['loss'])\n",
    "ax.set_title(\"Errors for each iteration\")\n",
    "ax.set_xlabel(\"Iteration\")\n",
    "ax.set_ylabel(\"MLP error\")\n",
    "\n",
    "ax = axarr[1]\n",
    "plot_decision(ax, model, x_train, y_train)\n",
    "plot_points(ax, x_train, y_train)\n",
    "ax.set_axis_off()\n",
    "ax.set_title(\"MLP Decision Boundary\")\n",
    "plt.show()"
   ]
  },
  {
   "cell_type": "markdown",
   "metadata": {},
   "source": [
    "So there we have it. Now it's your turn. Copy (or edit) the code above and try and create your own model. Can you do any better?\n",
    "\n",
    "## Tasks:\n",
    "\n",
    "- Create your own keras model.\n",
    "- Play with the various parameters.\n",
    "- Investigate other initialisations\n",
    "- Investigate other activations. What is best for this problem?\n",
    "- Add nodes. Remove nodes. What happens?"
   ]
  },
  {
   "cell_type": "code",
   "execution_count": null,
   "metadata": {
    "collapsed": true
   },
   "outputs": [],
   "source": []
  }
 ],
 "metadata": {
  "kernelspec": {
   "display_name": "Python 3",
   "language": "python",
   "name": "python3"
  },
  "language_info": {
   "codemirror_mode": {
    "name": "ipython",
    "version": 3
   },
   "file_extension": ".py",
   "mimetype": "text/x-python",
   "name": "python",
   "nbconvert_exporter": "python",
   "pygments_lexer": "ipython3",
   "version": "3.6.2"
  }
 },
 "nbformat": 4,
 "nbformat_minor": 2
}
