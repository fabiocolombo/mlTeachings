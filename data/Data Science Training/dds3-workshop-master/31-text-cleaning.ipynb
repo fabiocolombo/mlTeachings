{
 "cells": [
  {
   "cell_type": "markdown",
   "metadata": {},
   "source": [
    "# Text Cleaning\n",
    "\n",
    "Similar to other domains, parsing, cleaning and creating reasonable features from the data is the most time consuming task.\n",
    "\n",
    "In this section we take the manual approach. We will develop hand-crafted rules to clean our text data."
   ]
  },
  {
   "cell_type": "code",
   "execution_count": 1,
   "metadata": {
    "collapsed": true
   },
   "outputs": [],
   "source": [
    "import pandas as pd"
   ]
  },
  {
   "cell_type": "markdown",
   "metadata": {},
   "source": [
    "The data we are going to use is a \"trolling\" dataset.\n",
    "\n",
    "Be warned, some of the data is quite offensive!"
   ]
  },
  {
   "cell_type": "code",
   "execution_count": 2,
   "metadata": {
    "collapsed": true
   },
   "outputs": [],
   "source": [
    "trolls = pd.read_csv(\"data/trolls.csv\")\n",
    "X, y = (trolls[\"Comment\"], trolls[\"Insult\"])"
   ]
  },
  {
   "cell_type": "code",
   "execution_count": 3,
   "metadata": {},
   "outputs": [
    {
     "name": "stdout",
     "output_type": "stream",
     "text": [
      "26% of the examples are positive\n"
     ]
    }
   ],
   "source": [
    "print(\"%d%% of the examples are positive\" % (100 * y.sum()/len(y)))"
   ]
  },
  {
   "cell_type": "markdown",
   "metadata": {},
   "source": [
    "Note that the data is heavily skewed.\n",
    "\n",
    "## Cleaning\n",
    "\n",
    "Now, let's get on with the cleaning.\n",
    "\n",
    "There are a few libraries out there to help you work with text. Many of them have inbuilt libraries that will automatically clean and tag text (e.g. `nltk`). \n",
    "\n",
    "But there's nothing better than writing your own and seeing the results.\n",
    "\n",
    "Let's create some cleaners."
   ]
  },
  {
   "cell_type": "code",
   "execution_count": 4,
   "metadata": {
    "collapsed": true
   },
   "outputs": [],
   "source": [
    "\n",
    "def clean(X):\n",
    "    # Lowercase everything\n",
    "    X = X.str.lower()\n",
    "    \n",
    "    # Get rid of those duplicate backslashes\n",
    "    X = X.str.replace(r'\\\\\\\\', r'\\\\', case=False)\n",
    "    \n",
    "    # Remove all unnecessary punctuation\n",
    "    \n",
    "    # Ditch all other unicode\n",
    "    X = X.str.decode(\"unicode_escape\").str.encode('ascii', 'ignore').str.decode(\"utf-8\")\n",
    "    \n",
    "    # Remove contractions\n",
    "    X = X.str.replace(\"won't\", \"will not\")\n",
    "    \n",
    "    # Create tokens of interest\n",
    "    X = X.str.replace(r\"([#%&\\*\\$]{2,})(\\w*)\", r\"_SW\") # Swearword obfuscations\n",
    "    X = X.str.replace(r\" [8x;:=]-?(?:\\)|\\}|\\]|>){2,}\", \" _BS\") # Big smileys\n",
    "    X = X.str.replace(r\" (?:[;:=]-?[\\)\\}\\]d>])|(?:<3)\", \" _S\") # Smileys   \n",
    "    X = X.str.replace(r\" [x:=]-?[\\(\\[\\|\\\\/\\{<]', r\", \" _F\") # Sad faces\n",
    "    X = X.str.replace(r\" [x:=]-?(?:\\(|\\[|\\||\\\\|/|\\{|<){2,}\", \" _BF\") # Big Sad faces   \n",
    "    X = X.str.replace(r\"(@[a-z]+)\", r\"_AT\") # Directed at someone\n",
    "    X = X.str.replace(r\"[\\w\\-][\\w\\-\\.]+@[\\w\\-][\\w\\-\\.]+[a-zA-Z]{1,4}\", r\"_EM\") # Email\n",
    "    X = X.str.replace(r\"\\w+:\\/\\/\\S+\", r\"_U\") # URL\n",
    "    \n",
    "    return X\n",
    "\n",
    "X = clean(X)"
   ]
  },
  {
   "cell_type": "code",
   "execution_count": 5,
   "metadata": {},
   "outputs": [
    {
     "name": "stdout",
     "output_type": "stream",
     "text": [
      "1      \"i really don't understand your point. it seem...\n",
      "4      \"cc bn xung ng biu tnh 2011 c n ho khng ? \\ncc...\n",
      "5      \"_AT ok, but i would hope they'd sign him to a...\n",
      "19         \"your a retard go post your head up your _SW\"\n",
      "21                                                   \"_U\n",
      "113    \"political correctness:\\n\\npolitical correctne...\n",
      "174    \"gallup daily\\nmay 24-26, 2012  updates daily ...\n",
      "183    \"_AT \\n\\nyou are right concerning campbell.  m...\n",
      "Name: Comment, dtype: object\n"
     ]
    }
   ],
   "source": [
    "print(X[[1, 4, 5, 19, 21, 113, 174, 183]])"
   ]
  },
  {
   "cell_type": "markdown",
   "metadata": {
    "collapsed": true
   },
   "source": [
    "## Tasks\n",
    "\n",
    "- Add some more cleaners\n",
    "- Investigate the data further"
   ]
  }
 ],
 "metadata": {
  "kernelspec": {
   "display_name": "Python 3",
   "language": "python",
   "name": "python3"
  },
  "language_info": {
   "codemirror_mode": {
    "name": "ipython",
    "version": 3
   },
   "file_extension": ".py",
   "mimetype": "text/x-python",
   "name": "python",
   "nbconvert_exporter": "python",
   "pygments_lexer": "ipython3",
   "version": "3.6.2"
  }
 },
 "nbformat": 4,
 "nbformat_minor": 2
}
