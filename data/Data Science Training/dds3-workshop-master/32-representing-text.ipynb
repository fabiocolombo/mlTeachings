{
 "cells": [
  {
   "cell_type": "markdown",
   "metadata": {},
   "source": [
    "# Representing Text\n",
    "\n",
    "Now that we have the data cleaned, we can start to convert the text into a representation that can be used with `sklearn`'s classifiers."
   ]
  },
  {
   "cell_type": "code",
   "execution_count": 1,
   "metadata": {},
   "outputs": [
    {
     "name": "stderr",
     "output_type": "stream",
     "text": [
      "/opt/conda/lib/python3.6/site-packages/sklearn/cross_validation.py:41: DeprecationWarning: This module was deprecated in version 0.18 in favor of the model_selection module into which all the refactored classes and functions are moved. Also note that the interface of the new CV iterators are different from that of this module. This module will be removed in 0.20.\n",
      "  \"This module will be removed in 0.20.\", DeprecationWarning)\n"
     ]
    }
   ],
   "source": [
    "import pandas as pd\n",
    "from sklearn.feature_extraction.text import CountVectorizer, TfidfVectorizer\n",
    "from sklearn.ensemble import RandomForestClassifier\n",
    "from sklearn.cross_validation import train_test_split, cross_val_score\n",
    "from sklearn import metrics\n",
    "from matplotlib import pyplot as plt\n",
    "import numpy as np"
   ]
  },
  {
   "cell_type": "code",
   "execution_count": 2,
   "metadata": {},
   "outputs": [
    {
     "name": "stdout",
     "output_type": "stream",
     "text": [
      "33    \"@sdnoriko LOL as if Capcom listens. Watch the...\n",
      "34    \"Allinit123, your\\xa0hypocrisy\\xa0is sickening...\n",
      "Name: Comment, dtype: object\n"
     ]
    }
   ],
   "source": [
    "trolls = pd.read_csv(\"data/trolls.csv\")\n",
    "X, y = (trolls[\"Comment\"], trolls[\"Insult\"])\n",
    "selection = [33, 34]\n",
    "print(X[selection])"
   ]
  },
  {
   "cell_type": "code",
   "execution_count": 3,
   "metadata": {
    "collapsed": true
   },
   "outputs": [],
   "source": [
    "def clean(X):\n",
    "    # Lowercase everything\n",
    "    X = X.str.lower()\n",
    "    \n",
    "    # Get rid of those duplicate backslashes\n",
    "    X = X.str.replace(r'\\\\\\\\', r'\\\\', case=False)\n",
    "    \n",
    "    # Remove whitespace\n",
    "    X = X.str.replace('\"', ' ')\n",
    "    X = X.str.replace('_', ' ')\n",
    "    X = X.str.replace('-', ' ')\n",
    "    X = X.str.replace(r'\\n', ' ')\n",
    "    X = X.str.replace(r'\\\\n', ' ')\n",
    "    X = X.str.replace(r'\\t', ' ')\n",
    "    X = X.str.replace(r'\\\\t', ' ')\n",
    "    X = X.str.replace(r\"\\\\xa0\", ' ') # A space\n",
    "    X = X.str.replace(r\"\\\\xc2\", ' ') # A space\n",
    "    X = X.str.replace(' +', ' ')\n",
    "    \n",
    "    # Ditch all other unicode\n",
    "    X = X.str.decode(\"unicode_escape\").str.encode('ascii', 'ignore').str.decode(\"utf-8\")\n",
    "    \n",
    "    # Remove contractions\n",
    "    X = X.str.replace(\"won't\", \"will not\")\n",
    "    X = X.str.replace(\"can't\", \"can not\")\n",
    "    X = X.str.replace(\"don't\", \"do not\")\n",
    "    X = X.str.replace(\"i'm\", \"i am\")\n",
    "    X = X.str.replace(\" im\", \" i am\")\n",
    "    X = X.str.replace(\"ain't\", \"is not\")\n",
    "    X = X.str.replace(\"'ll\", \" will\")\n",
    "    X = X.str.replace(\"'t\", \" not\")\n",
    "    X = X.str.replace(\"'ve\", \" have\")\n",
    "    X = X.str.replace(\"'re\", \" are\")\n",
    "    X = X.str.replace(\"'d\", \" would\")\n",
    "    \n",
    "    # Create tokens of interest\n",
    "    X = X.str.replace(r\"([#%&\\*\\$]{2,})(\\w*)\", r\"_SW\") # Swearword obfuscations\n",
    "    X = X.str.replace(r\" [8x;:=]-?(?:\\)|\\}|\\]|>){2,}\", \" _BS\") # Big smileys\n",
    "    X = X.str.replace(r\" (?:[;:=]-?[\\)\\}\\]d>])|(?:<3)\", \" _S\") # Smileys   \n",
    "    X = X.str.replace(r\" [x:=]-?[\\(\\[\\|\\\\/\\{<]', r\", \" _F\") # Sad faces\n",
    "    X = X.str.replace(r\" [x:=]-?(?:\\(|\\[|\\||\\\\|/|\\{|<){2,}\", \" _BF\") # Big Sad faces   \n",
    "    X = X.str.replace(r\"(@[a-z]+)\", r\"_AT\") # Directed at someone\n",
    "    X = X.str.replace(r\"[\\w\\-][\\w\\-\\.]+@[\\w\\-][\\w\\-\\.]+[a-zA-Z]{1,4}\", r\"_EM\") # Email\n",
    "    X = X.str.replace(r\"\\w+:\\/\\/\\S+\", r\"_U\") # URL\n",
    "    \n",
    "    return X\n",
    "\n",
    "X = clean(X)"
   ]
  },
  {
   "cell_type": "markdown",
   "metadata": {
    "collapsed": true
   },
   "source": [
    "## `CountVectorizer`\n",
    "\n",
    "The simplest form of transformation is to count the number of times a word is used in a document."
   ]
  },
  {
   "cell_type": "code",
   "execution_count": 4,
   "metadata": {},
   "outputs": [
    {
     "name": "stdout",
     "output_type": "stream",
     "text": [
      "(2, 25)\n"
     ]
    }
   ],
   "source": [
    "count_vect = CountVectorizer()\n",
    "X_train_counts = count_vect.fit_transform(X[selection])\n",
    "print(X_train_counts.shape)"
   ]
  },
  {
   "cell_type": "code",
   "execution_count": 5,
   "metadata": {},
   "outputs": [
    {
     "name": "stdout",
     "output_type": "stream",
     "text": [
      "_at|allinit123|am|as|capcom|fuck|hope|hypocrisy|if|ignorant|is|listens|lol|loser|love|okami|sickening|them|this|too|up|watch|wrong|you|your\n",
      "---|---|---|---|---|---|---|---|---|---|---|---|---|---|---|---|---|---|---|---|---|---|---|---|---\n",
      "1|0|1|1|1|1|1|0|1|0|0|1|1|0|1|1|0|1|1|1|1|1|1|0|0\n",
      "0|1|0|0|0|0|0|1|0|1|1|0|0|1|0|0|1|0|0|0|0|0|0|1|1\n",
      "\n"
     ]
    }
   ],
   "source": [
    "def pandas_df_to_markdown_table(df):\n",
    "    from IPython.display import Markdown, display_markdown\n",
    "    df = df.round(2)\n",
    "    fmt = ['---' for i in range(len(df.columns))]\n",
    "    df_fmt = pd.DataFrame([fmt], columns=df.columns)\n",
    "    df_formatted = pd.concat([df_fmt, df])\n",
    "    return ((df_formatted.to_csv(sep=\"|\", index=False)))\n",
    "\n",
    "print(pandas_df_to_markdown_table(pd.DataFrame(X_train_counts.A, columns=count_vect.get_feature_names())))"
   ]
  },
  {
   "cell_type": "markdown",
   "metadata": {},
   "source": [
    "## Stemming\n",
    "\n",
    "You can see that there are various forms of words in there. Plurals, contractions, tense, etc.\n",
    "\n",
    "Stemming is the process of removing these lexical extras and replace them with a simple, compound version."
   ]
  },
  {
   "cell_type": "code",
   "execution_count": 6,
   "metadata": {
    "collapsed": true
   },
   "outputs": [],
   "source": [
    "def stemming(X):\n",
    "    X = X.str.replace(\"ies( |$|\\.)\", \"y \")  # Plurals\n",
    "    X = X.str.replace(\"(?<!i)s( |$|\\.)\", \" \")  # Plurals\n",
    "    X = X.str.replace(\"ing( |$|\\.)\", \" \")  # adverbs\n",
    "    X = X.str.replace(\"ed( |$|\\.)\", \" \")  # Past tense\n",
    "    X = X.str.replace(\"your( |$|\\.)\", \"you \") # Personal\n",
    "    X = X.str.replace(\"our( |$|\\.)\", \"us \") # Personal\n",
    "    return X\n",
    "\n",
    "X = stemming(X)"
   ]
  },
  {
   "cell_type": "code",
   "execution_count": 7,
   "metadata": {},
   "outputs": [
    {
     "name": "stdout",
     "output_type": "stream",
     "text": [
      "(2, 23)\n"
     ]
    }
   ],
   "source": [
    "count_vect = CountVectorizer()\n",
    "X_train_counts = count_vect.fit_transform(X[selection])\n",
    "print(X_train_counts.shape)"
   ]
  },
  {
   "cell_type": "code",
   "execution_count": 8,
   "metadata": {},
   "outputs": [
    {
     "name": "stdout",
     "output_type": "stream",
     "text": [
      "_at|allinit123|am|capcom|fuck|hope|hypocrisy|if|ignorant|is|listen|lol|loser|love|okami|sickening|them|this|too|up|watch|wrong|you\n",
      "---|---|---|---|---|---|---|---|---|---|---|---|---|---|---|---|---|---|---|---|---|---|---\n",
      "1|0|1|1|1|1|0|1|0|0|1|1|0|1|1|0|1|1|1|1|1|1|0\n",
      "0|1|0|0|0|0|1|0|1|1|0|0|1|0|0|1|0|0|0|0|0|0|2\n",
      "\n"
     ]
    }
   ],
   "source": [
    "print(pandas_df_to_markdown_table(pd.DataFrame(X_train_counts.A, columns=count_vect.get_feature_names())))"
   ]
  },
  {
   "cell_type": "markdown",
   "metadata": {},
   "source": [
    "## Stopwords\n",
    "\n",
    "Stopwords are words that join sentences and often provide no meaning."
   ]
  },
  {
   "cell_type": "code",
   "execution_count": 9,
   "metadata": {
    "collapsed": true
   },
   "outputs": [],
   "source": [
    "def stopwords(X):\n",
    "    X = X.str.replace(\"the( |$)\", \" \")\n",
    "    X = X.str.replace(\"and( |$)\", \" \")\n",
    "    X = X.str.replace(\"but( |$)\", \" \")\n",
    "    X = X.str.replace(\"of( |$)\", \" \")\n",
    "    X = X.str.replace(\"on( |$)\", \" \")\n",
    "    return X\n",
    "\n",
    "X = stopwords(X)"
   ]
  },
  {
   "cell_type": "code",
   "execution_count": 10,
   "metadata": {},
   "outputs": [
    {
     "name": "stdout",
     "output_type": "stream",
     "text": [
      "(2, 23)\n",
      "_at|allinit123|am|capcom|fuck|hope|hypocrisy|if|ignorant|is|listen|lol|loser|love|okami|sickening|them|this|too|up|watch|wrong|you\n",
      "---|---|---|---|---|---|---|---|---|---|---|---|---|---|---|---|---|---|---|---|---|---|---\n",
      "1|0|1|1|1|1|0|1|0|0|1|1|0|1|1|0|1|1|1|1|1|1|0\n",
      "0|1|0|0|0|0|1|0|1|1|0|0|1|0|0|1|0|0|0|0|0|0|2\n",
      "\n"
     ]
    }
   ],
   "source": [
    "count_vect = CountVectorizer()\n",
    "X_train_counts = count_vect.fit_transform(X[selection])\n",
    "print(X_train_counts.shape)\n",
    "print(pandas_df_to_markdown_table(pd.DataFrame(X_train_counts.A, columns=count_vect.get_feature_names())))"
   ]
  },
  {
   "cell_type": "markdown",
   "metadata": {},
   "source": [
    "# TD-IDF\n",
    "\n",
    "TDIDF is a measure of information content for each token.\n",
    "\n",
    "We can select the maximum number of highest value features to return from the algorithm. We're not passing any other parameters because we have already performed the cleaning and the stop words above.\n",
    "\n",
    "However we're still passing in raw text, so we need split on words (like the `CountVectorizer`)."
   ]
  },
  {
   "cell_type": "code",
   "execution_count": 11,
   "metadata": {},
   "outputs": [
    {
     "name": "stdout",
     "output_type": "stream",
     "text": [
      "(2, 23)\n",
      "_at|allinit123|am|capcom|fuck|hope|hypocrisy|if|ignorant|is|listen|lol|loser|love|okami|sickening|them|this|too|up|watch|wrong|you\n",
      "---|---|---|---|---|---|---|---|---|---|---|---|---|---|---|---|---|---|---|---|---|---|---\n",
      "0.25|0.0|0.25|0.25|0.25|0.25|0.0|0.25|0.0|0.0|0.25|0.25|0.0|0.25|0.25|0.0|0.25|0.25|0.25|0.25|0.25|0.25|0.0\n",
      "0.0|0.32|0.0|0.0|0.0|0.0|0.32|0.0|0.32|0.32|0.0|0.0|0.32|0.0|0.0|0.32|0.0|0.0|0.0|0.0|0.0|0.0|0.63\n",
      "\n"
     ]
    }
   ],
   "source": [
    "tfidf_vect = TfidfVectorizer(analyzer = \"word\", tokenizer=None, preprocessor=None, stop_words=None, max_features=5000)\n",
    "X_train_counts = tfidf_vect.fit_transform(X[selection])\n",
    "print(X_train_counts.shape)\n",
    "print(pandas_df_to_markdown_table(pd.DataFrame(X_train_counts.A, columns=count_vect.get_feature_names())))"
   ]
  },
  {
   "cell_type": "code",
   "execution_count": 12,
   "metadata": {
    "collapsed": true
   },
   "outputs": [],
   "source": [
    "X_train, X_test, y_train, y_test = train_test_split(X, y, test_size=0.20, random_state=42)"
   ]
  },
  {
   "cell_type": "code",
   "execution_count": 13,
   "metadata": {},
   "outputs": [
    {
     "name": "stdout",
     "output_type": "stream",
     "text": [
      "(3157, 500)\n"
     ]
    }
   ],
   "source": [
    "tfidf_vect = TfidfVectorizer(analyzer = \"word\", tokenizer=None, preprocessor=None, stop_words=None, max_features=500)\n",
    "X_train_counts = tfidf_vect.fit_transform(X_train)\n",
    "X_test_counts = tfidf_vect.transform(X_test)\n",
    "print(X_train_counts.shape)"
   ]
  },
  {
   "cell_type": "markdown",
   "metadata": {},
   "source": [
    "## Classify\n",
    "\n",
    "Let's now attempt to classify the data"
   ]
  },
  {
   "cell_type": "code",
   "execution_count": 14,
   "metadata": {},
   "outputs": [
    {
     "data": {
      "text/plain": [
       "0.8238878116360161"
      ]
     },
     "execution_count": 14,
     "metadata": {},
     "output_type": "execute_result"
    }
   ],
   "source": [
    "clf = RandomForestClassifier(n_estimators=10, max_depth=None,\n",
    "    min_samples_split=50, random_state=42)\n",
    "clf.fit(X_train_counts, y_train)\n",
    "scores = cross_val_score(clf, X_train_counts, y_train)\n",
    "scores.mean()           "
   ]
  },
  {
   "cell_type": "code",
   "execution_count": 15,
   "metadata": {},
   "outputs": [
    {
     "data": {
      "image/png": "[encoded data removed]",
      "text/plain": [
       "<matplotlib.figure.Figure at 0x7f2f87a61208>"
      ]
     },
     "metadata": {},
     "output_type": "display_data"
    }
   ],
   "source": [
    "y_proba = clf.predict_proba(X_test_counts)\n",
    "fpr, tpr, _ = metrics.roc_curve(y_test, y_proba[:,1])\n",
    "\n",
    "plt.figure();\n",
    "lw = 2\n",
    "plt.plot(fpr, tpr, color='darkorange',\n",
    "         lw=lw, label='ROC curve')\n",
    "plt.plot([0, 1], [0, 1], color='navy', lw=lw, linestyle='--', label='Random')\n",
    "plt.xlim([0.0, 1.0])\n",
    "plt.ylim([0.0, 1.05])\n",
    "plt.xlabel('False Positive Rate')\n",
    "plt.ylabel('True Positive Rate')\n",
    "plt.title('ROC of Random Forest on TDIDF data')\n",
    "plt.legend(loc=\"lower right\")\n",
    "plt.show()"
   ]
  },
  {
   "cell_type": "code",
   "execution_count": 16,
   "metadata": {},
   "outputs": [
    {
     "name": "stdout",
     "output_type": "stream",
     "text": [
      "[[ 96  30]\n",
      " [119 545]]\n"
     ]
    }
   ],
   "source": [
    "def lit_confusion_matrix(y_true, y_pred):\n",
    "    '''\n",
    "    Reformat confusion matrix output from sklearn for plotting profit curve.\n",
    "    '''\n",
    "    [[tn, fp], [fn, tp]] = metrics.confusion_matrix(y_true, y_pred)\n",
    "    return np.array([[tp, fp], [fn, tn]])\n",
    "\n",
    "print(lit_confusion_matrix(y_test, clf.predict(X_test_counts)))"
   ]
  },
  {
   "cell_type": "code",
   "execution_count": 17,
   "metadata": {},
   "outputs": [
    {
     "name": "stdout",
     "output_type": "stream",
     "text": [
      "Troll 1:  you are a mor son.. come  be a man  call it like it is.. \n",
      "Troll 0:  how old are you? \n"
     ]
    }
   ],
   "source": [
    "print(\"\\n\".join([\"Troll %s: %s\" % (y, x) for x, y in zip(X_test[:2].values, y[:2].values)]))"
   ]
  },
  {
   "cell_type": "code",
   "execution_count": 18,
   "metadata": {
    "scrolled": true
   },
   "outputs": [
    {
     "data": {
      "text/plain": [
       "array([[ 0.57163829,  0.42836171],\n",
       "       [ 0.92269122,  0.07730878]])"
      ]
     },
     "execution_count": 18,
     "metadata": {},
     "output_type": "execute_result"
    }
   ],
   "source": [
    "clf.predict_proba(X_test_counts[:2])"
   ]
  },
  {
   "cell_type": "markdown",
   "metadata": {},
   "source": [
    "# Balancing\n",
    "\n",
    "We saw earlier how important it was to balance the datasets. Here we do that to get a better representation of performance."
   ]
  },
  {
   "cell_type": "code",
   "execution_count": 19,
   "metadata": {
    "collapsed": true
   },
   "outputs": [],
   "source": [
    "def balanced_spl_by(df, lblcol, uspl=True):\n",
    "    datas_l = [ df[df[lblcol]==l].copy() for l in list(set(df[lblcol].values)) ]\n",
    "    lsz = [f.shape[0] for f in datas_l ]\n",
    "    return pd.concat([f.sample(n = (min(lsz) if uspl else max(lsz)), replace = (not uspl)).copy() for f in datas_l ], axis=0 ).sample(frac=1)"
   ]
  },
  {
   "cell_type": "code",
   "execution_count": 20,
   "metadata": {
    "collapsed": true
   },
   "outputs": [],
   "source": [
    "trolls = balanced_spl_by(trolls, \"Insult\")\n",
    "X, y = (trolls[\"Comment\"], trolls[\"Insult\"])"
   ]
  },
  {
   "cell_type": "code",
   "execution_count": 21,
   "metadata": {
    "collapsed": true
   },
   "outputs": [],
   "source": [
    "X = clean(X)\n",
    "X = stemming(X)\n",
    "X = stopwords(X)"
   ]
  },
  {
   "cell_type": "code",
   "execution_count": 22,
   "metadata": {},
   "outputs": [
    {
     "name": "stdout",
     "output_type": "stream",
     "text": [
      "(1678, 500)\n"
     ]
    }
   ],
   "source": [
    "X_train, X_test, y_train, y_test = train_test_split(X, y, test_size=0.20, random_state=42)\n",
    "tfidf_vect = TfidfVectorizer(analyzer = \"word\", tokenizer=None, preprocessor=None, stop_words=None, max_features=500)\n",
    "X_train_counts = tfidf_vect.fit_transform(X_train)\n",
    "X_test_counts = tfidf_vect.transform(X_test)\n",
    "print(X_train_counts.shape)"
   ]
  },
  {
   "cell_type": "code",
   "execution_count": 23,
   "metadata": {},
   "outputs": [
    {
     "data": {
      "text/plain": [
       "0.73420592251237415"
      ]
     },
     "execution_count": 23,
     "metadata": {},
     "output_type": "execute_result"
    }
   ],
   "source": [
    "clf = RandomForestClassifier(n_estimators=10, max_depth=None,\n",
    "    min_samples_split=50, random_state=42)\n",
    "clf.fit(X_train_counts, y_train)\n",
    "scores = cross_val_score(clf, X_train_counts, y_train)\n",
    "scores.mean()           "
   ]
  },
  {
   "cell_type": "code",
   "execution_count": 24,
   "metadata": {},
   "outputs": [
    {
     "data": {
      "image/png": "[encoded data removed]",
      "text/plain": [
       "<matplotlib.figure.Figure at 0x7f2f87a61f60>"
      ]
     },
     "metadata": {},
     "output_type": "display_data"
    }
   ],
   "source": [
    "y_proba = clf.predict_proba(X_test_counts)\n",
    "fpr, tpr, _ = metrics.roc_curve(y_test, y_proba[:,1])\n",
    "\n",
    "plt.figure();\n",
    "lw = 2\n",
    "plt.plot(fpr, tpr, color='darkorange',\n",
    "         lw=lw, label='ROC curve')\n",
    "plt.plot([0, 1], [0, 1], color='navy', lw=lw, linestyle='--', label='Random')\n",
    "plt.xlim([0.0, 1.0])\n",
    "plt.ylim([0.0, 1.05])\n",
    "plt.xlabel('False Positive Rate')\n",
    "plt.ylabel('True Positive Rate')\n",
    "plt.title('ROC of Random Forest on Balanced TDIDF data')\n",
    "plt.legend(loc=\"lower right\")\n",
    "plt.show()"
   ]
  },
  {
   "cell_type": "code",
   "execution_count": 25,
   "metadata": {},
   "outputs": [
    {
     "name": "stdout",
     "output_type": "stream",
     "text": [
      "[[171  47]\n",
      " [ 48 154]]\n"
     ]
    }
   ],
   "source": [
    "print(lit_confusion_matrix(y_test, clf.predict(X_test_counts)))"
   ]
  },
  {
   "cell_type": "markdown",
   "metadata": {
    "collapsed": true
   },
   "source": [
    "## How far can you go?\n",
    "\n",
    "You can improve a lot here. You can try different classifiers. You can tune the parameters. You can go back to the text and improve the cleaning/stemming/etc.\n",
    "\n",
    "Incidentally, whilst writing these notes I found an error with a stemmer that removed ALL `s` from the end of words. E.g. `this` was turned into `thi`. After fixing that, the results shut up by 5%!!!\n",
    "\n",
    "## Tasks\n",
    "\n",
    "- Whats the best performance you can get? Who can get the best?"
   ]
  },
  {
   "cell_type": "code",
   "execution_count": null,
   "metadata": {
    "collapsed": true
   },
   "outputs": [],
   "source": []
  }
 ],
 "metadata": {
  "kernelspec": {
   "display_name": "Python 3",
   "language": "python",
   "name": "python3"
  },
  "language_info": {
   "codemirror_mode": {
    "name": "ipython",
    "version": 3
   },
   "file_extension": ".py",
   "mimetype": "text/x-python",
   "name": "python",
   "nbconvert_exporter": "python",
   "pygments_lexer": "ipython3",
   "version": "3.6.2"
  }
 },
 "nbformat": 4,
 "nbformat_minor": 2
}
