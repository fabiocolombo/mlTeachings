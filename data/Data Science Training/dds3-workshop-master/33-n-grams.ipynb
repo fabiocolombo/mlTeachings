{
 "cells": [
  {
   "cell_type": "markdown",
   "metadata": {},
   "source": [
    "# N-Grams\n",
    "\n",
    "N-Grams are groups of tokens. Up to now we've been using unigram (1-gram) words. Bigram and Trigram words are popular, especially in more complex documents.\n",
    "\n",
    "The code below is the same as previous. You might need to copy your code from the previous notebook if you altered it."
   ]
  },
  {
   "cell_type": "code",
   "execution_count": 1,
   "metadata": {},
   "outputs": [
    {
     "name": "stderr",
     "output_type": "stream",
     "text": [
      "/opt/conda/lib/python3.6/site-packages/sklearn/cross_validation.py:41: DeprecationWarning: This module was deprecated in version 0.18 in favor of the model_selection module into which all the refactored classes and functions are moved. Also note that the interface of the new CV iterators are different from that of this module. This module will be removed in 0.20.\n",
      "  \"This module will be removed in 0.20.\", DeprecationWarning)\n"
     ]
    }
   ],
   "source": [
    "import pandas as pd\n",
    "from sklearn.feature_extraction.text import CountVectorizer, TfidfVectorizer\n",
    "from sklearn.ensemble import RandomForestClassifier\n",
    "from sklearn.cross_validation import train_test_split, cross_val_score\n",
    "from sklearn import metrics\n",
    "from matplotlib import pyplot as plt\n",
    "import numpy as np\n",
    "from sklearn.feature_selection import SelectKBest, chi2"
   ]
  },
  {
   "cell_type": "code",
   "execution_count": 2,
   "metadata": {
    "collapsed": true
   },
   "outputs": [],
   "source": [
    "def balanced_spl_by(df, lblcol, uspl=True):\n",
    "    np.random.seed(42)\n",
    "    datas_l = [ df[df[lblcol]==l].copy() for l in list(set(df[lblcol].values)) ]\n",
    "    lsz = [f.shape[0] for f in datas_l ]\n",
    "    return pd.concat([f.sample(n = (min(lsz) if uspl else max(lsz)), replace = (not uspl)).copy() for f in datas_l ], axis=0 ).sample(frac=1)\n",
    "\n",
    "trolls = pd.read_csv(\"data/trolls.csv\")\n",
    "trolls = balanced_spl_by(trolls, \"Insult\")\n",
    "X, y = (trolls[\"Comment\"], trolls[\"Insult\"])"
   ]
  },
  {
   "cell_type": "code",
   "execution_count": 3,
   "metadata": {
    "collapsed": true
   },
   "outputs": [],
   "source": [
    "def clean(X):\n",
    "    # Lowercase everything\n",
    "    X = X.str.lower()\n",
    "    \n",
    "    # Get rid of those duplicate backslashes\n",
    "    X = X.str.replace(r'\\\\\\\\', r'\\\\', case=False)\n",
    "    \n",
    "    # Remove whitespace\n",
    "    X = X.str.replace('\"', ' ')\n",
    "    X = X.str.replace('_', ' ')\n",
    "    X = X.str.replace('-', ' ')\n",
    "    X = X.str.replace(r'\\n', ' ')\n",
    "    X = X.str.replace(r'\\\\n', ' ')\n",
    "    X = X.str.replace(r'\\t', ' ')\n",
    "    X = X.str.replace(r'\\\\t', ' ')\n",
    "    X = X.str.replace(r\"\\\\xa0\", ' ') # A space\n",
    "    X = X.str.replace(r\"\\\\xc2\", ' ') # A space\n",
    "    X = X.str.replace(' +', ' ')\n",
    "    \n",
    "    # Ditch all other unicode\n",
    "    X = X.str.decode(\"unicode_escape\").str.encode('ascii', 'ignore').str.decode(\"utf-8\")\n",
    "    \n",
    "    # Remove contractions\n",
    "    X = X.str.replace(\"won't\", \"will not\")\n",
    "    X = X.str.replace(\"can't\", \"can not\")\n",
    "    X = X.str.replace(\"don't\", \"do not\")\n",
    "    X = X.str.replace(\"i'm\", \"i am\")\n",
    "    X = X.str.replace(\" im\", \" i am\")\n",
    "    X = X.str.replace(\"ain't\", \"is not\")\n",
    "    X = X.str.replace(\"'ll\", \" will\")\n",
    "    X = X.str.replace(\"'t\", \" not\")\n",
    "    X = X.str.replace(\"'ve\", \" have\")\n",
    "    X = X.str.replace(\"'re\", \" are\")\n",
    "    X = X.str.replace(\"'d\", \" would\")\n",
    "    \n",
    "    # Create tokens of interest\n",
    "    X = X.str.replace(r\"([#%&\\*\\$]{2,})(\\w*)\", r\"_SW\") # Swearword obfuscations\n",
    "    X = X.str.replace(r\" [8x;:=]-?(?:\\)|\\}|\\]|>){2,}\", \" _BS\") # Big smileys\n",
    "    X = X.str.replace(r\" (?:[;:=]-?[\\)\\}\\]d>])|(?:<3)\", \" _S\") # Smileys   \n",
    "    X = X.str.replace(r\" [x:=]-?[\\(\\[\\|\\\\/\\{<]', r\", \" _F\") # Sad faces\n",
    "    X = X.str.replace(r\" [x:=]-?(?:\\(|\\[|\\||\\\\|/|\\{|<){2,}\", \" _BF\") # Big Sad faces   \n",
    "    X = X.str.replace(r\"(@[a-z]+)\", r\"_AT\") # Directed at someone\n",
    "    X = X.str.replace(r\"[\\w\\-][\\w\\-\\.]+@[\\w\\-][\\w\\-\\.]+[a-zA-Z]{1,4}\", r\"_EM\") # Email\n",
    "    X = X.str.replace(r\"\\w+:\\/\\/\\S+\", r\"_U\") # URL\n",
    "    \n",
    "    return X\n",
    "\n",
    "X = clean(X)\n",
    "\n",
    "def stemming(X):\n",
    "    X = X.str.replace(\"ies( |$|\\.)\", \"y \")  # Plurals\n",
    "    X = X.str.replace(\"(?<!i)s( |$|\\.)\", \" \")  # Plurals\n",
    "    X = X.str.replace(\"ing( |$|\\.)\", \" \")  # adverbs\n",
    "    X = X.str.replace(\"ed( |$|\\.)\", \" \")  # Past tense\n",
    "    X = X.str.replace(\"your( |$|\\.)\", \"you \") # Personal\n",
    "    X = X.str.replace(\"our( |$|\\.)\", \"us \") # Personal\n",
    "    return X\n",
    "\n",
    "X = stemming(X)\n",
    "\n",
    "def stopwords(X):\n",
    "    X = X.str.replace(\"the( |$)\", \" \")\n",
    "    X = X.str.replace(\"and( |$)\", \" \")\n",
    "    X = X.str.replace(\"but( |$)\", \" \")\n",
    "    X = X.str.replace(\"of( |$)\", \" \")\n",
    "    X = X.str.replace(\"on( |$)\", \" \")\n",
    "    return X\n",
    "\n",
    "X = stopwords(X)\n",
    "\n",
    "def pandas_df_to_markdown_table(df):\n",
    "    from IPython.display import Markdown, display_markdown\n",
    "    df = df.round(2)\n",
    "    fmt = ['---' for i in range(len(df.columns))]\n",
    "    df_fmt = pd.DataFrame([fmt], columns=df.columns)\n",
    "    df_formatted = pd.concat([df_fmt, df])\n",
    "    return ((df_formatted.to_csv(sep=\"|\", index=False)))"
   ]
  },
  {
   "cell_type": "markdown",
   "metadata": {},
   "source": [
    "## CountVectorizer\n",
    "\n",
    "The count vectorizer can produce n-grams. We do this first just to show you the words that are created. You select the number of n-grams by altering the tuple.\n",
    "\n",
    "### Tasks\n",
    "\n",
    "- Try chaning the n-gram settings"
   ]
  },
  {
   "cell_type": "code",
   "execution_count": 4,
   "metadata": {},
   "outputs": [
    {
     "name": "stdout",
     "output_type": "stream",
     "text": [
      "(2, 115)\n",
      "['_at', '_at _at', '_at yo', 'aburrido', 'aburrido nose', 'are', 'are fuck', 'as', 'as btw', 'borderstate', 'borderstate mexico', 'both', 'both you', 'btw', 'btw most', 'cambio', 'cambio de', 'cause', 'cause both', 'check', 'check oaxaca', 'de', 'de tema', 'did', 'did you', 'el', 'el lol', 'forget', 'forget that', 'fuck', 'fuck troll', 'have', 'have you', 'head', 'head up', 'intalado', 'intalado me', 'is', 'is borderstate', 'is relatively', 'juegan', 'juegan tanto', 'know', 'know that', 'last', 'last time', 'lo', 'lo juegan', 'lol', 'lol intalado', 'me', 'me parece', 'mexico', 'mexico or', 'most', 'most violence', 'nose', 'nose porque', 'not', 'not know', 'oaxaca', 'oaxaca is', 'or', 'or did', 'parece', 'parece tan', 'perd', 'porque', 'porque lo', 'relatively', 'relatively safe', 'safe', 'safe ya', 'sicken', 'sicken thought', 'tan', 'tan aburrido', 'tanto', 'tanto cambio', 'tema', 'tema perd', 'tengo', 'tengo el', 'that', 'that cause', 'that too', 'thought', 'thought last', 'time', 'time check', 'too', 'troll', 'troll what', 'two', 'two are', 'up', 'up you', 'violence', 'violence is', 'what', 'what sicken', 'will', 'will wouldn', 'wouldn', 'wouldn not', 'ya', 'ya will', 'yo', 'yo tengo', 'you', 'you as', 'you forget', 'you have', 'you head', 'you two']\n"
     ]
    }
   ],
   "source": [
    "count_vect = CountVectorizer(ngram_range=(1,2))\n",
    "X_train_counts = count_vect.fit_transform(X[8:10])\n",
    "print(X_train_counts.shape)\n",
    "print(count_vect.get_feature_names())"
   ]
  },
  {
   "cell_type": "markdown",
   "metadata": {},
   "source": [
    "## TFIDF N-Grams\n",
    "\n",
    "The TFIDF algorithm takse the same settings. Let's see how a number of n-grams alters performance."
   ]
  },
  {
   "cell_type": "code",
   "execution_count": 5,
   "metadata": {},
   "outputs": [
    {
     "name": "stdout",
     "output_type": "stream",
     "text": [
      "0.740177504694\n",
      "0.732430875576\n",
      "0.742554190135\n"
     ]
    },
    {
     "data": {
      "image/png": "[encoded data removed]",
      "text/plain": [
       "<matplotlib.figure.Figure at 0x7f7260f629b0>"
      ]
     },
     "metadata": {},
     "output_type": "display_data"
    }
   ],
   "source": [
    "X_train, X_test, y_train, y_test = train_test_split(X, y, test_size=0.20, random_state=42)\n",
    "\n",
    "plt.figure();\n",
    "colours = np.array(['#ff7f00','#377eb8','#4daf4a','#f781bf', '#a65628', '#984ea3','#999999', '#e41a1c', '#dede00'])\n",
    "\n",
    "for n in range(1, 4):\n",
    "    tfidf_vect = TfidfVectorizer(analyzer = \"word\", tokenizer=None, preprocessor=None, \\\n",
    "                                 stop_words=None, max_features=500, ngram_range=(1, n))\n",
    "    X_train_counts = tfidf_vect.fit_transform(X_train)\n",
    "    X_test_counts = tfidf_vect.transform(X_test)\n",
    "\n",
    "    clf = RandomForestClassifier(n_estimators=10, max_depth=None,\n",
    "    min_samples_split=50, random_state=42)\n",
    "    clf.fit(X_train_counts, y_train)\n",
    "    scores = cross_val_score(clf, X_train_counts, y_train)\n",
    "    scores.mean()           \n",
    "    print(scores.mean())\n",
    "\n",
    "    y_proba = clf.predict_proba(X_test_counts)\n",
    "    fpr, tpr, _ = metrics.roc_curve(y_test, y_proba[:,1])\n",
    "\n",
    "    lw = 2\n",
    "    plt.plot(fpr, tpr, color=colours[n],\n",
    "             lw=lw, label='n_gram = %d' % n)\n",
    "plt.plot([0, 1], [0, 1], color='navy', lw=lw, linestyle='--', label='Random')\n",
    "plt.xlim([0.0, 1.0])\n",
    "plt.ylim([0.0, 1.05])\n",
    "plt.xlabel('False Positive Rate')\n",
    "plt.ylabel('True Positive Rate')\n",
    "plt.title('ROC of Random Forest on TDIDF data')\n",
    "plt.legend(loc=\"lower right\")\n",
    "plt.show()"
   ]
  },
  {
   "cell_type": "markdown",
   "metadata": {},
   "source": [
    "It's interesting to note that the higher n-grams to better at low false-positive rates, but then tail off near the top. I certainly think that the higher-ngrams are better, but these aren't represented properly in the accuracy scores. AUC or F1-Score would better represent performance."
   ]
  },
  {
   "cell_type": "markdown",
   "metadata": {
    "collapsed": true
   },
   "source": [
    "## Tasks\n",
    "\n",
    "- Maybe we're not getting very good n-gram performance because our model can't handle it. Try another model?"
   ]
  },
  {
   "cell_type": "code",
   "execution_count": null,
   "metadata": {
    "collapsed": true
   },
   "outputs": [],
   "source": []
  }
 ],
 "metadata": {
  "kernelspec": {
   "display_name": "Python 3",
   "language": "python",
   "name": "python3"
  },
  "language_info": {
   "codemirror_mode": {
    "name": "ipython",
    "version": 3
   },
   "file_extension": ".py",
   "mimetype": "text/x-python",
   "name": "python",
   "nbconvert_exporter": "python",
   "pygments_lexer": "ipython3",
   "version": "3.6.2"
  }
 },
 "nbformat": 4,
 "nbformat_minor": 2
}
