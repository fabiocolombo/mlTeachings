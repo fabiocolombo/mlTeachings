{
 "cells": [
  {
   "cell_type": "markdown",
   "metadata": {},
   "source": [
    "# Big Example\n",
    "\n",
    "Now you're going to use all your new skills to try and predict the stock market.\n",
    "\n",
    "Note that this is highly dubious due to the lack of data. (Note to self, improve this!)\n",
    "\n",
    "But anyway, it's worth going through the motions, because later on we've got a proper example.\n",
    "\n",
    "Below I'm going to prepare the data for you."
   ]
  },
  {
   "cell_type": "code",
   "execution_count": null,
   "metadata": {},
   "outputs": [],
   "source": [
    "from pandas_datareader import data\n",
    "import pandas as pd\n",
    "from matplotlib import pyplot as plt\n",
    "from sklearn.ensemble import RandomForestClassifier\n",
    "from sklearn.cross_validation import train_test_split, cross_val_score\n",
    "from sklearn import metrics\n",
    "from matplotlib import pyplot as plt\n",
    "from sklearn.feature_extraction.text import CountVectorizer, TfidfVectorizer\n",
    "import numpy as np"
   ]
  },
  {
   "cell_type": "code",
   "execution_count": null,
   "metadata": {
    "collapsed": true
   },
   "outputs": [],
   "source": [
    "news = pd.read_csv(\"data/news.csv\", index_col=0, header=None)\n",
    "news.columns = [\"text\"]\n",
    "news.index = pd.to_datetime(news.index)\n",
    "start_date, end_date = (min(news.index), max(news.index))"
   ]
  },
  {
   "cell_type": "code",
   "execution_count": null,
   "metadata": {
    "collapsed": true
   },
   "outputs": [],
   "source": [
    "stock = \"AAPL\"\n",
    "source = \"yahoo\""
   ]
  },
  {
   "cell_type": "code",
   "execution_count": null,
   "metadata": {
    "collapsed": true
   },
   "outputs": [],
   "source": [
    "apple_news = news[news[\"text\"].str.contains(stock)]"
   ]
  },
  {
   "cell_type": "code",
   "execution_count": null,
   "metadata": {},
   "outputs": [],
   "source": [
    "# NBVAL_SKIP\n",
    "# IF YOU GET AN ERROR HERE, JUST RUN IT AGAIN. RATE LIMITING.\n",
    "apple_stock = data.DataReader(stock, source, start_date.date(), end_date.date())"
   ]
  },
  {
   "cell_type": "code",
   "execution_count": null,
   "metadata": {
    "collapsed": true
   },
   "outputs": [],
   "source": [
    "# NBVAL_SKIP\n",
    "c = apple_stock['Close']\n",
    "o = apple_stock['Open']\n",
    "pl_ratio = (o - c)/o"
   ]
  },
  {
   "cell_type": "code",
   "execution_count": null,
   "metadata": {},
   "outputs": [],
   "source": [
    "# NBVAL_SKIP\n",
    "plt.figure(figsize=(15, 7))\n",
    "pl_ratio.plot(label=stock)\n",
    "plt.scatter(apple_news.index, [0] * len(apple_news.index), marker=\"x\", color=\"g\", label=\"News\")\n",
    "plt.ylabel(\"Open-Close Profit/Loss (%)\")\n",
    "plt.legend()\n",
    "plt.show()"
   ]
  },
  {
   "cell_type": "code",
   "execution_count": null,
   "metadata": {
    "collapsed": true
   },
   "outputs": [],
   "source": [
    "# NBVAL_SKIP\n",
    "target = abs(pl_ratio) > 0.01"
   ]
  },
  {
   "cell_type": "code",
   "execution_count": null,
   "metadata": {
    "collapsed": true
   },
   "outputs": [],
   "source": [
    "# NBVAL_SKIP\n",
    "X = []\n",
    "y = []\n",
    "for d, t in zip(apple_news.index.date, apple_news[\"text\"]):\n",
    "    try: \n",
    "        val = target[str(d)]\n",
    "        y.append(val)\n",
    "        X.append(t)\n",
    "    except KeyError:\n",
    "        continue\n",
    "        \n",
    "X = pd.Series(X)"
   ]
  },
  {
   "cell_type": "markdown",
   "metadata": {},
   "source": [
    "## Your turn\n",
    "\n",
    "So that's the data prepared. Now its your turn."
   ]
  },
  {
   "cell_type": "code",
   "execution_count": null,
   "metadata": {
    "collapsed": true
   },
   "outputs": [],
   "source": [
    "# NBVAL_SKIP\n",
    "def clean(X):\n",
    "    # Lowercase everything\n",
    "    X = X.str.lower()\n",
    "    \n",
    "    # Get rid of those duplicate backslashes\n",
    "    X = X.str.replace(r'\\\\\\\\', r'\\\\', case=False)\n",
    "    \n",
    "    # Remove whitespace\n",
    "    X = X.str.replace('\"', ' ')\n",
    "    X = X.str.replace('_', ' ')\n",
    "    X = X.str.replace('-', ' ')\n",
    "    X = X.str.replace(r'\\n', ' ')\n",
    "    X = X.str.replace(r'\\\\n', ' ')\n",
    "    X = X.str.replace(r'\\t', ' ')\n",
    "    X = X.str.replace(r'\\\\t', ' ')\n",
    "    X = X.str.replace(r\"\\\\xa0\", ' ') # A space\n",
    "    X = X.str.replace(r\"\\\\xc2\", ' ') # A space\n",
    "    X = X.str.replace(' +', ' ')\n",
    "    \n",
    "    # Ditch all other unicode\n",
    "    X = X.str.decode(\"unicode_escape\").str.encode('ascii', 'ignore').str.decode(\"utf-8\")\n",
    "    \n",
    "    # Remove contractions\n",
    "    X = X.str.replace(\"won't\", \"will not\")\n",
    "    X = X.str.replace(\"can't\", \"can not\")\n",
    "    X = X.str.replace(\"don't\", \"do not\")\n",
    "    X = X.str.replace(\"i'm\", \"i am\")\n",
    "    X = X.str.replace(\" im\", \" i am\")\n",
    "    X = X.str.replace(\"ain't\", \"is not\")\n",
    "    X = X.str.replace(\"'ll\", \" will\")\n",
    "    X = X.str.replace(\"'t\", \" not\")\n",
    "    X = X.str.replace(\"'ve\", \" have\")\n",
    "    X = X.str.replace(\"'re\", \" are\")\n",
    "    X = X.str.replace(\"'d\", \" would\")\n",
    "    \n",
    "    # Create tokens of interest\n",
    "    X = X.str.replace(r\"([#%&\\*\\$]{2,})(\\w*)\", r\"_SW\") # Swearword obfuscations\n",
    "    X = X.str.replace(r\" [8x;:=]-?(?:\\)|\\}|\\]|>){2,}\", \" _BS\") # Big smileys\n",
    "    X = X.str.replace(r\" (?:[;:=]-?[\\)\\}\\]d>])|(?:<3)\", \" _S\") # Smileys   \n",
    "    X = X.str.replace(r\" [x:=]-?[\\(\\[\\|\\\\/\\{<]', r\", \" _F\") # Sad faces\n",
    "    X = X.str.replace(r\" [x:=]-?(?:\\(|\\[|\\||\\\\|/|\\{|<){2,}\", \" _BF\") # Big Sad faces   \n",
    "    X = X.str.replace(r\"(@[a-z]+)\", r\"_AT\") # Directed at someone\n",
    "    X = X.str.replace(r\"[\\w\\-][\\w\\-\\.]+@[\\w\\-][\\w\\-\\.]+[a-zA-Z]{1,4}\", r\"_EM\") # Email\n",
    "    X = X.str.replace(r\"\\w+:\\/\\/\\S+\", r\"_U\") # URL\n",
    "    \n",
    "    return X\n",
    "X = clean(X)\n",
    "\n",
    "def stemming(X):\n",
    "    X = X.str.replace(\"ies( |$)\", \"y \")  # Plurals\n",
    "    X = X.str.replace(\"s( |$)\", \" \")  # Plurals\n",
    "    X = X.str.replace(\"ing( |$)\", \" \")  # adverbs\n",
    "    X = X.str.replace(\"ed( |$)\", \" \")  # Past tense\n",
    "    X = X.str.replace(\"your( |$)\", \"you \") # Personal\n",
    "    X = X.str.replace(\"our( |$)\", \"us \") # Personal\n",
    "    return X\n",
    "\n",
    "X = stemming(X)\n",
    "\n",
    "def stopwords(X):\n",
    "    X = X.str.replace(\"the( |$)\", \" \")\n",
    "    X = X.str.replace(\"and( |$)\", \" \")\n",
    "    X = X.str.replace(\"of( |$)\", \" \")\n",
    "    X = X.str.replace(\"on( |$)\", \" \")\n",
    "    X = X.str.replace(\"or( |$)\", \" \")\n",
    "    X = X.str.replace(\"to( |$)\", \" \")\n",
    "    X = X.str.replace(\"in( |$)\", \" \")\n",
    "    X = X.str.replace(\"at( |$)\", \" \")\n",
    "    return X\n",
    "\n",
    "X = stopwords(X)\n",
    "\n",
    "def custom(X):\n",
    "    X = X.str.replace(\"aapl\", \" \")\n",
    "    X = X.str.replace(\"apple\", \" \")\n",
    "    X = X.str.replace(\"inc\", \" \")\n",
    "    return X\n",
    "\n",
    "X = custom(X)"
   ]
  },
  {
   "cell_type": "code",
   "execution_count": null,
   "metadata": {},
   "outputs": [],
   "source": [
    "# NBVAL_SKIP\n",
    "X_train, X_test, y_train, y_test = train_test_split(X, y, test_size=0.30, random_state=42)\n",
    "tfidf_vect = # !!!!! YOUR CODE HERE !!!!!\n",
    "X_train_counts = tfidf_vect.fit_transform(X_train)\n",
    "X_test_counts = tfidf_vect.transform(X_test)\n",
    "print(X_train_counts.shape)\n",
    "print(tfidf_vect.get_feature_names())"
   ]
  },
  {
   "cell_type": "code",
   "execution_count": null,
   "metadata": {},
   "outputs": [],
   "source": [
    "# NBVAL_SKIP\n",
    "clf = # !!!!! YOUR CODE HERE !!!!!\n",
    "clf.fit(X_train_counts, y_train)\n",
    "scores = cross_val_score(clf, X_train_counts, y_train)\n",
    "scores.mean()           "
   ]
  },
  {
   "cell_type": "code",
   "execution_count": null,
   "metadata": {},
   "outputs": [],
   "source": [
    "# NBVAL_SKIP\n",
    "y_proba = clf.predict_proba(X_test_counts)\n",
    "fpr, tpr, _ = metrics.roc_curve(y_test, y_proba[:,1])\n",
    "\n",
    "plt.figure();\n",
    "lw = 2\n",
    "plt.plot(fpr, tpr, color='darkorange',\n",
    "         lw=lw, label='ROC curve')\n",
    "plt.plot([0, 1], [0, 1], color='navy', lw=lw, linestyle='--', label='Random')\n",
    "plt.xlim([0.0, 1.0])\n",
    "plt.ylim([0.0, 1.05])\n",
    "plt.xlabel('False Positive Rate')\n",
    "plt.ylabel('True Positive Rate')\n",
    "plt.title('ROC of Random Forest on Balanced TDIDF data')\n",
    "plt.legend(loc=\"lower right\")\n",
    "plt.show()"
   ]
  },
  {
   "cell_type": "code",
   "execution_count": null,
   "metadata": {},
   "outputs": [],
   "source": [
    "# NBVAL_SKIP\n",
    "def lit_confusion_matrix(y_true, y_pred):\n",
    "    '''\n",
    "    Reformat confusion matrix output from sklearn for plotting profit curve.\n",
    "    '''\n",
    "    [[tn, fp], [fn, tp]] = metrics.confusion_matrix(y_true, y_pred)\n",
    "    return np.array([[tp, fp], [fn, tn]])\n",
    "\n",
    "print(lit_confusion_matrix(y_test, clf.predict(X_test_counts)))"
   ]
  },
  {
   "cell_type": "markdown",
   "metadata": {
    "collapsed": true
   },
   "source": [
    "### Tasks\n",
    "\n",
    "1. Clean the data\n",
    "2. Train a TDIDF\n",
    "3. Create a classifier\n",
    "4. Generate a cross-validated accuracy\n",
    "5. Plot the ROC curve (and see how little data we have!)\n",
    "\n",
    "Who can get the highest accuracy? (No kudos for this one though. Because of the small amount of data and the complexity of the model, people will randomly get high scores just by chance.)"
   ]
  },
  {
   "cell_type": "code",
   "execution_count": null,
   "metadata": {
    "collapsed": true
   },
   "outputs": [],
   "source": []
  }
 ],
 "metadata": {
  "kernelspec": {
   "display_name": "Python 3",
   "language": "python",
   "name": "python3"
  },
  "language_info": {
   "codemirror_mode": {
    "name": "ipython",
    "version": 3
   },
   "file_extension": ".py",
   "mimetype": "text/x-python",
   "name": "python",
   "nbconvert_exporter": "python",
   "pygments_lexer": "ipython3",
   "version": "3.6.2"
  }
 },
 "nbformat": 4,
 "nbformat_minor": 2
}
