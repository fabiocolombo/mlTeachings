{
 "cells": [
  {
   "cell_type": "markdown",
   "metadata": {},
   "source": [
    "# Introduction to the tidyverse\n",
    "The [tidyverse](https://www.tidyverse.org/) is an opinionated collection of $\\texttt{R}$ packages designed for data science. All packages share an underlying design philosophy, grammar, and data structures.\n",
    "\n",
    "![tidyverse](../fig/tidyverse.jpg \"title-1\")\n",
    "\n",
    "And you can load all of these packages with a simple command"
   ]
  },
  {
   "cell_type": "code",
   "execution_count": 2,
   "metadata": {},
   "outputs": [
    {
     "name": "stderr",
     "output_type": "stream",
     "text": [
      "-- Attaching packages --------------------------------------- tidyverse 1.2.1 --\n",
      "v ggplot2 2.2.1     v purrr   0.2.4\n",
      "v tibble  1.4.2     v dplyr   0.7.4\n",
      "v tidyr   0.8.0     v stringr 1.3.0\n",
      "v readr   1.1.1     v forcats 0.2.0\n",
      "-- Conflicts ------------------------------------------ tidyverse_conflicts() --\n",
      "x dplyr::filter() masks stats::filter()\n",
      "x dplyr::lag()    masks stats::lag()\n"
     ]
    }
   ],
   "source": [
    "library(tidyverse)"
   ]
  },
  {
   "cell_type": "markdown",
   "metadata": {},
   "source": [
    "As the messages and warnings suggest, by loading tidyverse we are actually loading a *set of packages*: ggplot2, dplyr, tidyr..."
   ]
  },
  {
   "cell_type": "markdown",
   "metadata": {},
   "source": [
    "### The Pipe operator\n",
    "\n",
    "We are going to do a quick overview of some of these packages, but first you need to make friends with the **pipe** operator (**%>%** <- this guy here!). \n",
    "\n",
    "The pipe operator (also known out of the $\\texttt{R}$ world as **|**) was first introduced in the $\\texttt{R}$ world by the developers of the **magrittr** package:\n",
    "\n",
    "![Magrittr](../fig/magrittr.png \"title-1\")\n",
    "\n",
    "This operator allows to concatenate an $\\texttt{R}$ value or the result of an $\\texttt{R}$ function with other $\\texttt{R}$ functions, the value on the left of the **%>%** will be interpreted as the first value for the function on its right:"
   ]
  },
  {
   "cell_type": "code",
   "execution_count": 3,
   "metadata": {},
   "outputs": [
    {
     "data": {
      "text/html": [
       "<ol class=list-inline>\n",
       "\t<li>'mpg'</li>\n",
       "\t<li>'cyl'</li>\n",
       "\t<li>'disp'</li>\n",
       "\t<li>'hp'</li>\n",
       "\t<li>'drat'</li>\n",
       "\t<li>'wt'</li>\n",
       "\t<li>'qsec'</li>\n",
       "\t<li>'vs'</li>\n",
       "\t<li>'am'</li>\n",
       "\t<li>'gear'</li>\n",
       "\t<li>'carb'</li>\n",
       "</ol>\n"
      ],
      "text/latex": [
       "\\begin{enumerate*}\n",
       "\\item 'mpg'\n",
       "\\item 'cyl'\n",
       "\\item 'disp'\n",
       "\\item 'hp'\n",
       "\\item 'drat'\n",
       "\\item 'wt'\n",
       "\\item 'qsec'\n",
       "\\item 'vs'\n",
       "\\item 'am'\n",
       "\\item 'gear'\n",
       "\\item 'carb'\n",
       "\\end{enumerate*}\n"
      ],
      "text/markdown": [
       "1. 'mpg'\n",
       "2. 'cyl'\n",
       "3. 'disp'\n",
       "4. 'hp'\n",
       "5. 'drat'\n",
       "6. 'wt'\n",
       "7. 'qsec'\n",
       "8. 'vs'\n",
       "9. 'am'\n",
       "10. 'gear'\n",
       "11. 'carb'\n",
       "\n",
       "\n"
      ],
      "text/plain": [
       " [1] \"mpg\"  \"cyl\"  \"disp\" \"hp\"   \"drat\" \"wt\"   \"qsec\" \"vs\"   \"am\"   \"gear\"\n",
       "[11] \"carb\""
      ]
     },
     "metadata": {},
     "output_type": "display_data"
    },
    {
     "data": {
      "text/html": [
       "<table>\n",
       "<thead><tr><th></th><th scope=col>mpg</th><th scope=col>cyl</th><th scope=col>disp</th><th scope=col>hp</th><th scope=col>drat</th><th scope=col>wt</th><th scope=col>qsec</th><th scope=col>vs</th><th scope=col>am</th><th scope=col>gear</th><th scope=col>carb</th></tr></thead>\n",
       "<tbody>\n",
       "\t<tr><th scope=row>Mazda RX4</th><td>21.0 </td><td>6    </td><td>160  </td><td>110  </td><td>3.90 </td><td>2.620</td><td>16.46</td><td>0    </td><td>1    </td><td>4    </td><td>4    </td></tr>\n",
       "\t<tr><th scope=row>Mazda RX4 Wag</th><td>21.0 </td><td>6    </td><td>160  </td><td>110  </td><td>3.90 </td><td>2.875</td><td>17.02</td><td>0    </td><td>1    </td><td>4    </td><td>4    </td></tr>\n",
       "\t<tr><th scope=row>Datsun 710</th><td>22.8 </td><td>4    </td><td>108  </td><td> 93  </td><td>3.85 </td><td>2.320</td><td>18.61</td><td>1    </td><td>1    </td><td>4    </td><td>1    </td></tr>\n",
       "\t<tr><th scope=row>Hornet 4 Drive</th><td>21.4 </td><td>6    </td><td>258  </td><td>110  </td><td>3.08 </td><td>3.215</td><td>19.44</td><td>1    </td><td>0    </td><td>3    </td><td>1    </td></tr>\n",
       "\t<tr><th scope=row>Hornet Sportabout</th><td>18.7 </td><td>8    </td><td>360  </td><td>175  </td><td>3.15 </td><td>3.440</td><td>17.02</td><td>0    </td><td>0    </td><td>3    </td><td>2    </td></tr>\n",
       "</tbody>\n",
       "</table>\n"
      ],
      "text/latex": [
       "\\begin{tabular}{r|lllllllllll}\n",
       "  & mpg & cyl & disp & hp & drat & wt & qsec & vs & am & gear & carb\\\\\n",
       "\\hline\n",
       "\tMazda RX4 & 21.0  & 6     & 160   & 110   & 3.90  & 2.620 & 16.46 & 0     & 1     & 4     & 4    \\\\\n",
       "\tMazda RX4 Wag & 21.0  & 6     & 160   & 110   & 3.90  & 2.875 & 17.02 & 0     & 1     & 4     & 4    \\\\\n",
       "\tDatsun 710 & 22.8  & 4     & 108   &  93   & 3.85  & 2.320 & 18.61 & 1     & 1     & 4     & 1    \\\\\n",
       "\tHornet 4 Drive & 21.4  & 6     & 258   & 110   & 3.08  & 3.215 & 19.44 & 1     & 0     & 3     & 1    \\\\\n",
       "\tHornet Sportabout & 18.7  & 8     & 360   & 175   & 3.15  & 3.440 & 17.02 & 0     & 0     & 3     & 2    \\\\\n",
       "\\end{tabular}\n"
      ],
      "text/markdown": [
       "\n",
       "| <!--/--> | mpg | cyl | disp | hp | drat | wt | qsec | vs | am | gear | carb | \n",
       "|---|---|---|---|---|\n",
       "| Mazda RX4 | 21.0  | 6     | 160   | 110   | 3.90  | 2.620 | 16.46 | 0     | 1     | 4     | 4     | \n",
       "| Mazda RX4 Wag | 21.0  | 6     | 160   | 110   | 3.90  | 2.875 | 17.02 | 0     | 1     | 4     | 4     | \n",
       "| Datsun 710 | 22.8  | 4     | 108   |  93   | 3.85  | 2.320 | 18.61 | 1     | 1     | 4     | 1     | \n",
       "| Hornet 4 Drive | 21.4  | 6     | 258   | 110   | 3.08  | 3.215 | 19.44 | 1     | 0     | 3     | 1     | \n",
       "| Hornet Sportabout | 18.7  | 8     | 360   | 175   | 3.15  | 3.440 | 17.02 | 0     | 0     | 3     | 2     | \n",
       "\n",
       "\n"
      ],
      "text/plain": [
       "                  mpg  cyl disp hp  drat wt    qsec  vs am gear carb\n",
       "Mazda RX4         21.0 6   160  110 3.90 2.620 16.46 0  1  4    4   \n",
       "Mazda RX4 Wag     21.0 6   160  110 3.90 2.875 17.02 0  1  4    4   \n",
       "Datsun 710        22.8 4   108   93 3.85 2.320 18.61 1  1  4    1   \n",
       "Hornet 4 Drive    21.4 6   258  110 3.08 3.215 19.44 1  0  3    1   \n",
       "Hornet Sportabout 18.7 8   360  175 3.15 3.440 17.02 0  0  3    2   "
      ]
     },
     "metadata": {},
     "output_type": "display_data"
    },
    {
     "data": {
      "text/html": [
       "0.000546325030441058"
      ],
      "text/latex": [
       "0.000546325030441058"
      ],
      "text/markdown": [
       "0.000546325030441058"
      ],
      "text/plain": [
       "[1] 0.000546325"
      ]
     },
     "metadata": {},
     "output_type": "display_data"
    }
   ],
   "source": [
    "names(mtcars)\n",
    "head(mtcars, n = 5)\n",
    "mean(rnorm(100))"
   ]
  },
  {
   "cell_type": "markdown",
   "metadata": {},
   "source": [
    "can be rewritten using a **%>%** as follows:"
   ]
  },
  {
   "cell_type": "code",
   "execution_count": 4,
   "metadata": {},
   "outputs": [
    {
     "data": {
      "text/html": [
       "<ol class=list-inline>\n",
       "\t<li>'mpg'</li>\n",
       "\t<li>'cyl'</li>\n",
       "\t<li>'disp'</li>\n",
       "\t<li>'hp'</li>\n",
       "\t<li>'drat'</li>\n",
       "\t<li>'wt'</li>\n",
       "\t<li>'qsec'</li>\n",
       "\t<li>'vs'</li>\n",
       "\t<li>'am'</li>\n",
       "\t<li>'gear'</li>\n",
       "\t<li>'carb'</li>\n",
       "</ol>\n"
      ],
      "text/latex": [
       "\\begin{enumerate*}\n",
       "\\item 'mpg'\n",
       "\\item 'cyl'\n",
       "\\item 'disp'\n",
       "\\item 'hp'\n",
       "\\item 'drat'\n",
       "\\item 'wt'\n",
       "\\item 'qsec'\n",
       "\\item 'vs'\n",
       "\\item 'am'\n",
       "\\item 'gear'\n",
       "\\item 'carb'\n",
       "\\end{enumerate*}\n"
      ],
      "text/markdown": [
       "1. 'mpg'\n",
       "2. 'cyl'\n",
       "3. 'disp'\n",
       "4. 'hp'\n",
       "5. 'drat'\n",
       "6. 'wt'\n",
       "7. 'qsec'\n",
       "8. 'vs'\n",
       "9. 'am'\n",
       "10. 'gear'\n",
       "11. 'carb'\n",
       "\n",
       "\n"
      ],
      "text/plain": [
       " [1] \"mpg\"  \"cyl\"  \"disp\" \"hp\"   \"drat\" \"wt\"   \"qsec\" \"vs\"   \"am\"   \"gear\"\n",
       "[11] \"carb\""
      ]
     },
     "metadata": {},
     "output_type": "display_data"
    },
    {
     "data": {
      "text/html": [
       "<table>\n",
       "<thead><tr><th></th><th scope=col>mpg</th><th scope=col>cyl</th><th scope=col>disp</th><th scope=col>hp</th><th scope=col>drat</th><th scope=col>wt</th><th scope=col>qsec</th><th scope=col>vs</th><th scope=col>am</th><th scope=col>gear</th><th scope=col>carb</th></tr></thead>\n",
       "<tbody>\n",
       "\t<tr><th scope=row>Mazda RX4</th><td>21.0 </td><td>6    </td><td>160  </td><td>110  </td><td>3.90 </td><td>2.620</td><td>16.46</td><td>0    </td><td>1    </td><td>4    </td><td>4    </td></tr>\n",
       "\t<tr><th scope=row>Mazda RX4 Wag</th><td>21.0 </td><td>6    </td><td>160  </td><td>110  </td><td>3.90 </td><td>2.875</td><td>17.02</td><td>0    </td><td>1    </td><td>4    </td><td>4    </td></tr>\n",
       "\t<tr><th scope=row>Datsun 710</th><td>22.8 </td><td>4    </td><td>108  </td><td> 93  </td><td>3.85 </td><td>2.320</td><td>18.61</td><td>1    </td><td>1    </td><td>4    </td><td>1    </td></tr>\n",
       "\t<tr><th scope=row>Hornet 4 Drive</th><td>21.4 </td><td>6    </td><td>258  </td><td>110  </td><td>3.08 </td><td>3.215</td><td>19.44</td><td>1    </td><td>0    </td><td>3    </td><td>1    </td></tr>\n",
       "\t<tr><th scope=row>Hornet Sportabout</th><td>18.7 </td><td>8    </td><td>360  </td><td>175  </td><td>3.15 </td><td>3.440</td><td>17.02</td><td>0    </td><td>0    </td><td>3    </td><td>2    </td></tr>\n",
       "</tbody>\n",
       "</table>\n"
      ],
      "text/latex": [
       "\\begin{tabular}{r|lllllllllll}\n",
       "  & mpg & cyl & disp & hp & drat & wt & qsec & vs & am & gear & carb\\\\\n",
       "\\hline\n",
       "\tMazda RX4 & 21.0  & 6     & 160   & 110   & 3.90  & 2.620 & 16.46 & 0     & 1     & 4     & 4    \\\\\n",
       "\tMazda RX4 Wag & 21.0  & 6     & 160   & 110   & 3.90  & 2.875 & 17.02 & 0     & 1     & 4     & 4    \\\\\n",
       "\tDatsun 710 & 22.8  & 4     & 108   &  93   & 3.85  & 2.320 & 18.61 & 1     & 1     & 4     & 1    \\\\\n",
       "\tHornet 4 Drive & 21.4  & 6     & 258   & 110   & 3.08  & 3.215 & 19.44 & 1     & 0     & 3     & 1    \\\\\n",
       "\tHornet Sportabout & 18.7  & 8     & 360   & 175   & 3.15  & 3.440 & 17.02 & 0     & 0     & 3     & 2    \\\\\n",
       "\\end{tabular}\n"
      ],
      "text/markdown": [
       "\n",
       "| <!--/--> | mpg | cyl | disp | hp | drat | wt | qsec | vs | am | gear | carb | \n",
       "|---|---|---|---|---|\n",
       "| Mazda RX4 | 21.0  | 6     | 160   | 110   | 3.90  | 2.620 | 16.46 | 0     | 1     | 4     | 4     | \n",
       "| Mazda RX4 Wag | 21.0  | 6     | 160   | 110   | 3.90  | 2.875 | 17.02 | 0     | 1     | 4     | 4     | \n",
       "| Datsun 710 | 22.8  | 4     | 108   |  93   | 3.85  | 2.320 | 18.61 | 1     | 1     | 4     | 1     | \n",
       "| Hornet 4 Drive | 21.4  | 6     | 258   | 110   | 3.08  | 3.215 | 19.44 | 1     | 0     | 3     | 1     | \n",
       "| Hornet Sportabout | 18.7  | 8     | 360   | 175   | 3.15  | 3.440 | 17.02 | 0     | 0     | 3     | 2     | \n",
       "\n",
       "\n"
      ],
      "text/plain": [
       "                  mpg  cyl disp hp  drat wt    qsec  vs am gear carb\n",
       "Mazda RX4         21.0 6   160  110 3.90 2.620 16.46 0  1  4    4   \n",
       "Mazda RX4 Wag     21.0 6   160  110 3.90 2.875 17.02 0  1  4    4   \n",
       "Datsun 710        22.8 4   108   93 3.85 2.320 18.61 1  1  4    1   \n",
       "Hornet 4 Drive    21.4 6   258  110 3.08 3.215 19.44 1  0  3    1   \n",
       "Hornet Sportabout 18.7 8   360  175 3.15 3.440 17.02 0  0  3    2   "
      ]
     },
     "metadata": {},
     "output_type": "display_data"
    },
    {
     "data": {
      "text/html": [
       "-0.0168041457744686"
      ],
      "text/latex": [
       "-0.0168041457744686"
      ],
      "text/markdown": [
       "-0.0168041457744686"
      ],
      "text/plain": [
       "[1] -0.01680415"
      ]
     },
     "metadata": {},
     "output_type": "display_data"
    }
   ],
   "source": [
    "mtcars %>% names\n",
    "mtcars %>% head(n = 5)\n",
    "rnorm(10) %>% mean"
   ]
  },
  {
   "cell_type": "markdown",
   "metadata": {},
   "source": [
    "*sooo...what*? Obviously....with more than one *pipe* you can build a *pipeline*...\n",
    "\n",
    "What if we'd like to take the **5** cars with the highest mpg values, add a standard normal noise and plot it all?\n",
    "\n",
    "Here is a way to do it without a pipeline:"
   ]
  },
  {
   "cell_type": "code",
   "execution_count": 5,
   "metadata": {},
   "outputs": [
    {
     "data": {
      "image/png": "[encoded data removed]",
      "text/plain": [
       "plot without title"
      ]
     },
     "metadata": {},
     "output_type": "display_data"
    }
   ],
   "source": [
    "options(repr.plot.width=3, repr.plot.height=3) ### set a small plot size\n",
    "plot(tail(sort(mtcars[, \"mpg\"]), n = 5) + rnorm(5))"
   ]
  },
  {
   "cell_type": "markdown",
   "metadata": {},
   "source": [
    "And here is a way to get the same result with a *pipeline*:"
   ]
  },
  {
   "cell_type": "code",
   "execution_count": 6,
   "metadata": {},
   "outputs": [
    {
     "data": {
      "image/png": "[encoded data removed]",
      "text/plain": [
       "plot without title"
      ]
     },
     "metadata": {},
     "output_type": "display_data"
    }
   ],
   "source": [
    "mtcars %>% pull(mpg) %>% sort %>% tail(n = 5) %>% `+`(rnorm(5)) %>% plot"
   ]
  },
  {
   "cell_type": "markdown",
   "metadata": {},
   "source": [
    "*P.S.* here we used a trick: you can call operator functions like **+**, **-**, **\\***, **/** and many others, simply by including them between two backticks \\`\\` (in Windows you can type a backtick using the key combination ALT+96)\n",
    "\n",
    "One last thing about **%>%**... it works even if we want the value on the left of the pipe to be **not the first argument** of the function on the right of it. We can use the point **.** as placeholder, for example this linear regression:"
   ]
  },
  {
   "cell_type": "code",
   "execution_count": 7,
   "metadata": {},
   "outputs": [
    {
     "data": {
      "text/plain": [
       "\n",
       "Call:\n",
       "lm(formula = mpg ~ cyl, data = mtcars)\n",
       "\n",
       "Coefficients:\n",
       "(Intercept)          cyl  \n",
       "     37.885       -2.876  \n"
      ]
     },
     "metadata": {},
     "output_type": "display_data"
    }
   ],
   "source": [
    "lm(mpg ~ cyl, mtcars)"
   ]
  },
  {
   "cell_type": "markdown",
   "metadata": {},
   "source": [
    "can be *pipelinezed* as:"
   ]
  },
  {
   "cell_type": "code",
   "execution_count": 8,
   "metadata": {},
   "outputs": [
    {
     "data": {
      "text/plain": [
       "\n",
       "Call:\n",
       "lm(formula = mpg ~ cyl, data = .)\n",
       "\n",
       "Coefficients:\n",
       "(Intercept)          cyl  \n",
       "     37.885       -2.876  \n"
      ]
     },
     "metadata": {},
     "output_type": "display_data"
    }
   ],
   "source": [
    "mtcars %>% lm(mpg ~ cyl, .)"
   ]
  },
  {
   "cell_type": "markdown",
   "metadata": {},
   "source": [
    "### DPLYR\n",
    "\n",
    "After the pipe operator, we can start with the first useful package of the tidyverse, **dplyr**:\n",
    "\n",
    "![DPLYR](../fig/dplyr_small.png \"title-1\")\n",
    "\n",
    "This package is the *de-facto* standard for data manipulation in modern R.\n",
    "\n",
    "It consists of *single table* verbs to manipulate a single table:\n"
   ]
  },
  {
   "cell_type": "code",
   "execution_count": 9,
   "metadata": {},
   "outputs": [
    {
     "data": {
      "text/html": [
       "8"
      ],
      "text/latex": [
       "8"
      ],
      "text/markdown": [
       "8"
      ],
      "text/plain": [
       "[1] 8"
      ]
     },
     "metadata": {},
     "output_type": "display_data"
    },
    {
     "data": {
      "text/html": [
       "<table>\n",
       "<thead><tr><th></th><th scope=col>mpg</th><th scope=col>cyl</th><th scope=col>disp</th><th scope=col>hp</th><th scope=col>drat</th><th scope=col>wt</th><th scope=col>qsec</th><th scope=col>vs</th><th scope=col>am</th><th scope=col>gear</th><th scope=col>carb</th></tr></thead>\n",
       "<tbody>\n",
       "\t<tr><th scope=row>Volvo 142E</th><td>21.4 </td><td>4    </td><td>121.0</td><td>109  </td><td>4.11 </td><td>2.780</td><td>18.60</td><td>1    </td><td>1    </td><td>4    </td><td>2    </td></tr>\n",
       "\t<tr><th scope=row>Merc 280C</th><td>17.8 </td><td>6    </td><td>167.6</td><td>123  </td><td>3.92 </td><td>3.440</td><td>18.90</td><td>1    </td><td>0    </td><td>4    </td><td>4    </td></tr>\n",
       "\t<tr><th scope=row>Merc 450SE</th><td>16.4 </td><td>8    </td><td>275.8</td><td>180  </td><td>3.07 </td><td>4.070</td><td>17.40</td><td>0    </td><td>0    </td><td>3    </td><td>3    </td></tr>\n",
       "\t<tr><th scope=row>Hornet 4 Drive</th><td>21.4 </td><td>6    </td><td>258.0</td><td>110  </td><td>3.08 </td><td>3.215</td><td>19.44</td><td>1    </td><td>0    </td><td>3    </td><td>1    </td></tr>\n",
       "\t<tr><th scope=row>Toyota Corolla</th><td>33.9 </td><td>4    </td><td> 71.1</td><td> 65  </td><td>4.22 </td><td>1.835</td><td>19.90</td><td>1    </td><td>1    </td><td>4    </td><td>1    </td></tr>\n",
       "</tbody>\n",
       "</table>\n"
      ],
      "text/latex": [
       "\\begin{tabular}{r|lllllllllll}\n",
       "  & mpg & cyl & disp & hp & drat & wt & qsec & vs & am & gear & carb\\\\\n",
       "\\hline\n",
       "\tVolvo 142E & 21.4  & 4     & 121.0 & 109   & 4.11  & 2.780 & 18.60 & 1     & 1     & 4     & 2    \\\\\n",
       "\tMerc 280C & 17.8  & 6     & 167.6 & 123   & 3.92  & 3.440 & 18.90 & 1     & 0     & 4     & 4    \\\\\n",
       "\tMerc 450SE & 16.4  & 8     & 275.8 & 180   & 3.07  & 4.070 & 17.40 & 0     & 0     & 3     & 3    \\\\\n",
       "\tHornet 4 Drive & 21.4  & 6     & 258.0 & 110   & 3.08  & 3.215 & 19.44 & 1     & 0     & 3     & 1    \\\\\n",
       "\tToyota Corolla & 33.9  & 4     &  71.1 &  65   & 4.22  & 1.835 & 19.90 & 1     & 1     & 4     & 1    \\\\\n",
       "\\end{tabular}\n"
      ],
      "text/markdown": [
       "\n",
       "| <!--/--> | mpg | cyl | disp | hp | drat | wt | qsec | vs | am | gear | carb | \n",
       "|---|---|---|---|---|\n",
       "| Volvo 142E | 21.4  | 4     | 121.0 | 109   | 4.11  | 2.780 | 18.60 | 1     | 1     | 4     | 2     | \n",
       "| Merc 280C | 17.8  | 6     | 167.6 | 123   | 3.92  | 3.440 | 18.90 | 1     | 0     | 4     | 4     | \n",
       "| Merc 450SE | 16.4  | 8     | 275.8 | 180   | 3.07  | 4.070 | 17.40 | 0     | 0     | 3     | 3     | \n",
       "| Hornet 4 Drive | 21.4  | 6     | 258.0 | 110   | 3.08  | 3.215 | 19.44 | 1     | 0     | 3     | 1     | \n",
       "| Toyota Corolla | 33.9  | 4     |  71.1 |  65   | 4.22  | 1.835 | 19.90 | 1     | 1     | 4     | 1     | \n",
       "\n",
       "\n"
      ],
      "text/plain": [
       "               mpg  cyl disp  hp  drat wt    qsec  vs am gear carb\n",
       "Volvo 142E     21.4 4   121.0 109 4.11 2.780 18.60 1  1  4    2   \n",
       "Merc 280C      17.8 6   167.6 123 3.92 3.440 18.90 1  0  4    4   \n",
       "Merc 450SE     16.4 8   275.8 180 3.07 4.070 17.40 0  0  3    3   \n",
       "Hornet 4 Drive 21.4 6   258.0 110 3.08 3.215 19.44 1  0  3    1   \n",
       "Toyota Corolla 33.9 4    71.1  65 4.22 1.835 19.90 1  1  4    1   "
      ]
     },
     "metadata": {},
     "output_type": "display_data"
    },
    {
     "data": {
      "text/html": [
       "<table>\n",
       "<thead><tr><th scope=col>mpg</th><th scope=col>cyl</th><th scope=col>disp</th><th scope=col>hp</th><th scope=col>drat</th><th scope=col>wt</th><th scope=col>qsec</th><th scope=col>vs</th><th scope=col>am</th><th scope=col>gear</th><th scope=col>carb</th></tr></thead>\n",
       "<tbody>\n",
       "\t<tr><td>16.4 </td><td>8    </td><td>275.8</td><td>180  </td><td>3.07 </td><td>4.07 </td><td>17.4 </td><td>0    </td><td>0    </td><td>3    </td><td>3    </td></tr>\n",
       "</tbody>\n",
       "</table>\n"
      ],
      "text/latex": [
       "\\begin{tabular}{r|lllllllllll}\n",
       " mpg & cyl & disp & hp & drat & wt & qsec & vs & am & gear & carb\\\\\n",
       "\\hline\n",
       "\t 16.4  & 8     & 275.8 & 180   & 3.07  & 4.07  & 17.4  & 0     & 0     & 3     & 3    \\\\\n",
       "\\end{tabular}\n"
      ],
      "text/markdown": [
       "\n",
       "mpg | cyl | disp | hp | drat | wt | qsec | vs | am | gear | carb | \n",
       "|---|\n",
       "| 16.4  | 8     | 275.8 | 180   | 3.07  | 4.07  | 17.4  | 0     | 0     | 3     | 3     | \n",
       "\n",
       "\n"
      ],
      "text/plain": [
       "  mpg  cyl disp  hp  drat wt   qsec vs am gear carb\n",
       "1 16.4 8   275.8 180 3.07 4.07 17.4 0  0  3    3   "
      ]
     },
     "metadata": {},
     "output_type": "display_data"
    },
    {
     "data": {
      "text/html": [
       "<table>\n",
       "<thead><tr><th scope=col>mpg</th><th scope=col>cyl</th><th scope=col>disp</th><th scope=col>hp</th><th scope=col>drat</th><th scope=col>wt</th><th scope=col>qsec</th><th scope=col>vs</th><th scope=col>am</th><th scope=col>gear</th><th scope=col>carb</th></tr></thead>\n",
       "<tbody>\n",
       "\t<tr><td>16.4 </td><td>8    </td><td>275.8</td><td>180  </td><td>3.07 </td><td>4.070</td><td>17.40</td><td>0    </td><td>0    </td><td>3    </td><td>3    </td></tr>\n",
       "\t<tr><td>17.8 </td><td>6    </td><td>167.6</td><td>123  </td><td>3.92 </td><td>3.440</td><td>18.90</td><td>1    </td><td>0    </td><td>4    </td><td>4    </td></tr>\n",
       "\t<tr><td>21.4 </td><td>6    </td><td>258.0</td><td>110  </td><td>3.08 </td><td>3.215</td><td>19.44</td><td>1    </td><td>0    </td><td>3    </td><td>1    </td></tr>\n",
       "\t<tr><td>21.4 </td><td>4    </td><td>121.0</td><td>109  </td><td>4.11 </td><td>2.780</td><td>18.60</td><td>1    </td><td>1    </td><td>4    </td><td>2    </td></tr>\n",
       "\t<tr><td>33.9 </td><td>4    </td><td> 71.1</td><td> 65  </td><td>4.22 </td><td>1.835</td><td>19.90</td><td>1    </td><td>1    </td><td>4    </td><td>1    </td></tr>\n",
       "</tbody>\n",
       "</table>\n"
      ],
      "text/latex": [
       "\\begin{tabular}{r|lllllllllll}\n",
       " mpg & cyl & disp & hp & drat & wt & qsec & vs & am & gear & carb\\\\\n",
       "\\hline\n",
       "\t 16.4  & 8     & 275.8 & 180   & 3.07  & 4.070 & 17.40 & 0     & 0     & 3     & 3    \\\\\n",
       "\t 17.8  & 6     & 167.6 & 123   & 3.92  & 3.440 & 18.90 & 1     & 0     & 4     & 4    \\\\\n",
       "\t 21.4  & 6     & 258.0 & 110   & 3.08  & 3.215 & 19.44 & 1     & 0     & 3     & 1    \\\\\n",
       "\t 21.4  & 4     & 121.0 & 109   & 4.11  & 2.780 & 18.60 & 1     & 1     & 4     & 2    \\\\\n",
       "\t 33.9  & 4     &  71.1 &  65   & 4.22  & 1.835 & 19.90 & 1     & 1     & 4     & 1    \\\\\n",
       "\\end{tabular}\n"
      ],
      "text/markdown": [
       "\n",
       "mpg | cyl | disp | hp | drat | wt | qsec | vs | am | gear | carb | \n",
       "|---|---|---|---|---|\n",
       "| 16.4  | 8     | 275.8 | 180   | 3.07  | 4.070 | 17.40 | 0     | 0     | 3     | 3     | \n",
       "| 17.8  | 6     | 167.6 | 123   | 3.92  | 3.440 | 18.90 | 1     | 0     | 4     | 4     | \n",
       "| 21.4  | 6     | 258.0 | 110   | 3.08  | 3.215 | 19.44 | 1     | 0     | 3     | 1     | \n",
       "| 21.4  | 4     | 121.0 | 109   | 4.11  | 2.780 | 18.60 | 1     | 1     | 4     | 2     | \n",
       "| 33.9  | 4     |  71.1 |  65   | 4.22  | 1.835 | 19.90 | 1     | 1     | 4     | 1     | \n",
       "\n",
       "\n"
      ],
      "text/plain": [
       "  mpg  cyl disp  hp  drat wt    qsec  vs am gear carb\n",
       "1 16.4 8   275.8 180 3.07 4.070 17.40 0  0  3    3   \n",
       "2 17.8 6   167.6 123 3.92 3.440 18.90 1  0  4    4   \n",
       "3 21.4 6   258.0 110 3.08 3.215 19.44 1  0  3    1   \n",
       "4 21.4 4   121.0 109 4.11 2.780 18.60 1  1  4    2   \n",
       "5 33.9 4    71.1  65 4.22 1.835 19.90 1  1  4    1   "
      ]
     },
     "metadata": {},
     "output_type": "display_data"
    },
    {
     "data": {
      "text/html": [
       "<table>\n",
       "<thead><tr><th></th><th scope=col>carb</th><th scope=col>cyl</th></tr></thead>\n",
       "<tbody>\n",
       "\t<tr><th scope=row>Volvo 142E</th><td>2</td><td>4</td></tr>\n",
       "\t<tr><th scope=row>Merc 280C</th><td>4</td><td>6</td></tr>\n",
       "\t<tr><th scope=row>Merc 450SE</th><td>3</td><td>8</td></tr>\n",
       "\t<tr><th scope=row>Hornet 4 Drive</th><td>1</td><td>6</td></tr>\n",
       "\t<tr><th scope=row>Toyota Corolla</th><td>1</td><td>4</td></tr>\n",
       "</tbody>\n",
       "</table>\n"
      ],
      "text/latex": [
       "\\begin{tabular}{r|ll}\n",
       "  & carb & cyl\\\\\n",
       "\\hline\n",
       "\tVolvo 142E & 2 & 4\\\\\n",
       "\tMerc 280C & 4 & 6\\\\\n",
       "\tMerc 450SE & 3 & 8\\\\\n",
       "\tHornet 4 Drive & 1 & 6\\\\\n",
       "\tToyota Corolla & 1 & 4\\\\\n",
       "\\end{tabular}\n"
      ],
      "text/markdown": [
       "\n",
       "| <!--/--> | carb | cyl | \n",
       "|---|---|---|---|---|\n",
       "| Volvo 142E | 2 | 4 | \n",
       "| Merc 280C | 4 | 6 | \n",
       "| Merc 450SE | 3 | 8 | \n",
       "| Hornet 4 Drive | 1 | 6 | \n",
       "| Toyota Corolla | 1 | 4 | \n",
       "\n",
       "\n"
      ],
      "text/plain": [
       "               carb cyl\n",
       "Volvo 142E     2    4  \n",
       "Merc 280C      4    6  \n",
       "Merc 450SE     3    8  \n",
       "Hornet 4 Drive 1    6  \n",
       "Toyota Corolla 1    4  "
      ]
     },
     "metadata": {},
     "output_type": "display_data"
    },
    {
     "data": {
      "text/html": [
       "<table>\n",
       "<thead><tr><th></th><th scope=col>mpg</th><th scope=col>cylinder</th><th scope=col>disp</th><th scope=col>horsepower</th><th scope=col>drat</th><th scope=col>wt</th><th scope=col>qsec</th><th scope=col>vs</th><th scope=col>am</th><th scope=col>gear</th><th scope=col>carb</th></tr></thead>\n",
       "<tbody>\n",
       "\t<tr><th scope=row>Volvo 142E</th><td>21.4 </td><td>4    </td><td>121.0</td><td>109  </td><td>4.11 </td><td>2.780</td><td>18.60</td><td>1    </td><td>1    </td><td>4    </td><td>2    </td></tr>\n",
       "\t<tr><th scope=row>Merc 280C</th><td>17.8 </td><td>6    </td><td>167.6</td><td>123  </td><td>3.92 </td><td>3.440</td><td>18.90</td><td>1    </td><td>0    </td><td>4    </td><td>4    </td></tr>\n",
       "\t<tr><th scope=row>Merc 450SE</th><td>16.4 </td><td>8    </td><td>275.8</td><td>180  </td><td>3.07 </td><td>4.070</td><td>17.40</td><td>0    </td><td>0    </td><td>3    </td><td>3    </td></tr>\n",
       "\t<tr><th scope=row>Hornet 4 Drive</th><td>21.4 </td><td>6    </td><td>258.0</td><td>110  </td><td>3.08 </td><td>3.215</td><td>19.44</td><td>1    </td><td>0    </td><td>3    </td><td>1    </td></tr>\n",
       "\t<tr><th scope=row>Toyota Corolla</th><td>33.9 </td><td>4    </td><td> 71.1</td><td> 65  </td><td>4.22 </td><td>1.835</td><td>19.90</td><td>1    </td><td>1    </td><td>4    </td><td>1    </td></tr>\n",
       "</tbody>\n",
       "</table>\n"
      ],
      "text/latex": [
       "\\begin{tabular}{r|lllllllllll}\n",
       "  & mpg & cylinder & disp & horsepower & drat & wt & qsec & vs & am & gear & carb\\\\\n",
       "\\hline\n",
       "\tVolvo 142E & 21.4  & 4     & 121.0 & 109   & 4.11  & 2.780 & 18.60 & 1     & 1     & 4     & 2    \\\\\n",
       "\tMerc 280C & 17.8  & 6     & 167.6 & 123   & 3.92  & 3.440 & 18.90 & 1     & 0     & 4     & 4    \\\\\n",
       "\tMerc 450SE & 16.4  & 8     & 275.8 & 180   & 3.07  & 4.070 & 17.40 & 0     & 0     & 3     & 3    \\\\\n",
       "\tHornet 4 Drive & 21.4  & 6     & 258.0 & 110   & 3.08  & 3.215 & 19.44 & 1     & 0     & 3     & 1    \\\\\n",
       "\tToyota Corolla & 33.9  & 4     &  71.1 &  65   & 4.22  & 1.835 & 19.90 & 1     & 1     & 4     & 1    \\\\\n",
       "\\end{tabular}\n"
      ],
      "text/markdown": [
       "\n",
       "| <!--/--> | mpg | cylinder | disp | horsepower | drat | wt | qsec | vs | am | gear | carb | \n",
       "|---|---|---|---|---|\n",
       "| Volvo 142E | 21.4  | 4     | 121.0 | 109   | 4.11  | 2.780 | 18.60 | 1     | 1     | 4     | 2     | \n",
       "| Merc 280C | 17.8  | 6     | 167.6 | 123   | 3.92  | 3.440 | 18.90 | 1     | 0     | 4     | 4     | \n",
       "| Merc 450SE | 16.4  | 8     | 275.8 | 180   | 3.07  | 4.070 | 17.40 | 0     | 0     | 3     | 3     | \n",
       "| Hornet 4 Drive | 21.4  | 6     | 258.0 | 110   | 3.08  | 3.215 | 19.44 | 1     | 0     | 3     | 1     | \n",
       "| Toyota Corolla | 33.9  | 4     |  71.1 |  65   | 4.22  | 1.835 | 19.90 | 1     | 1     | 4     | 1     | \n",
       "\n",
       "\n"
      ],
      "text/plain": [
       "               mpg  cylinder disp  horsepower drat wt    qsec  vs am gear carb\n",
       "Volvo 142E     21.4 4        121.0 109        4.11 2.780 18.60 1  1  4    2   \n",
       "Merc 280C      17.8 6        167.6 123        3.92 3.440 18.90 1  0  4    4   \n",
       "Merc 450SE     16.4 8        275.8 180        3.07 4.070 17.40 0  0  3    3   \n",
       "Hornet 4 Drive 21.4 6        258.0 110        3.08 3.215 19.44 1  0  3    1   \n",
       "Toyota Corolla 33.9 4         71.1  65        4.22 1.835 19.90 1  1  4    1   "
      ]
     },
     "metadata": {},
     "output_type": "display_data"
    },
    {
     "data": {
      "text/html": [
       "<table>\n",
       "<thead><tr><th scope=col>mpg</th><th scope=col>cyl</th><th scope=col>disp</th><th scope=col>hp</th><th scope=col>drat</th><th scope=col>wt</th><th scope=col>qsec</th><th scope=col>vs</th><th scope=col>am</th><th scope=col>gear</th><th scope=col>carb</th><th scope=col>tot</th></tr></thead>\n",
       "<tbody>\n",
       "\t<tr><td>21.4 </td><td> 8   </td><td>121.0</td><td>109  </td><td>4.11 </td><td>2.780</td><td>18.60</td><td>1    </td><td>1    </td><td>4    </td><td>2    </td><td>7    </td></tr>\n",
       "\t<tr><td>17.8 </td><td>12   </td><td>167.6</td><td>123  </td><td>3.92 </td><td>3.440</td><td>18.90</td><td>1    </td><td>0    </td><td>4    </td><td>4    </td><td>8    </td></tr>\n",
       "\t<tr><td>16.4 </td><td>16   </td><td>275.8</td><td>180  </td><td>3.07 </td><td>4.070</td><td>17.40</td><td>0    </td><td>0    </td><td>3    </td><td>3    </td><td>6    </td></tr>\n",
       "\t<tr><td>21.4 </td><td>12   </td><td>258.0</td><td>110  </td><td>3.08 </td><td>3.215</td><td>19.44</td><td>1    </td><td>0    </td><td>3    </td><td>1    </td><td>4    </td></tr>\n",
       "\t<tr><td>33.9 </td><td> 8   </td><td> 71.1</td><td> 65  </td><td>4.22 </td><td>1.835</td><td>19.90</td><td>1    </td><td>1    </td><td>4    </td><td>1    </td><td>6    </td></tr>\n",
       "</tbody>\n",
       "</table>\n"
      ],
      "text/latex": [
       "\\begin{tabular}{r|llllllllllll}\n",
       " mpg & cyl & disp & hp & drat & wt & qsec & vs & am & gear & carb & tot\\\\\n",
       "\\hline\n",
       "\t 21.4  &  8    & 121.0 & 109   & 4.11  & 2.780 & 18.60 & 1     & 1     & 4     & 2     & 7    \\\\\n",
       "\t 17.8  & 12    & 167.6 & 123   & 3.92  & 3.440 & 18.90 & 1     & 0     & 4     & 4     & 8    \\\\\n",
       "\t 16.4  & 16    & 275.8 & 180   & 3.07  & 4.070 & 17.40 & 0     & 0     & 3     & 3     & 6    \\\\\n",
       "\t 21.4  & 12    & 258.0 & 110   & 3.08  & 3.215 & 19.44 & 1     & 0     & 3     & 1     & 4    \\\\\n",
       "\t 33.9  &  8    &  71.1 &  65   & 4.22  & 1.835 & 19.90 & 1     & 1     & 4     & 1     & 6    \\\\\n",
       "\\end{tabular}\n"
      ],
      "text/markdown": [
       "\n",
       "mpg | cyl | disp | hp | drat | wt | qsec | vs | am | gear | carb | tot | \n",
       "|---|---|---|---|---|\n",
       "| 21.4  |  8    | 121.0 | 109   | 4.11  | 2.780 | 18.60 | 1     | 1     | 4     | 2     | 7     | \n",
       "| 17.8  | 12    | 167.6 | 123   | 3.92  | 3.440 | 18.90 | 1     | 0     | 4     | 4     | 8     | \n",
       "| 16.4  | 16    | 275.8 | 180   | 3.07  | 4.070 | 17.40 | 0     | 0     | 3     | 3     | 6     | \n",
       "| 21.4  | 12    | 258.0 | 110   | 3.08  | 3.215 | 19.44 | 1     | 0     | 3     | 1     | 4     | \n",
       "| 33.9  |  8    |  71.1 |  65   | 4.22  | 1.835 | 19.90 | 1     | 1     | 4     | 1     | 6     | \n",
       "\n",
       "\n"
      ],
      "text/plain": [
       "  mpg  cyl disp  hp  drat wt    qsec  vs am gear carb tot\n",
       "1 21.4  8  121.0 109 4.11 2.780 18.60 1  1  4    2    7  \n",
       "2 17.8 12  167.6 123 3.92 3.440 18.90 1  0  4    4    8  \n",
       "3 16.4 16  275.8 180 3.07 4.070 17.40 0  0  3    3    6  \n",
       "4 21.4 12  258.0 110 3.08 3.215 19.44 1  0  3    1    4  \n",
       "5 33.9  8   71.1  65 4.22 1.835 19.90 1  1  4    1    6  "
      ]
     },
     "metadata": {},
     "output_type": "display_data"
    },
    {
     "data": {
      "text/html": [
       "<table>\n",
       "<thead><tr><th scope=col>mean_hp</th></tr></thead>\n",
       "<tbody>\n",
       "\t<tr><td>117.4</td></tr>\n",
       "</tbody>\n",
       "</table>\n"
      ],
      "text/latex": [
       "\\begin{tabular}{r|l}\n",
       " mean\\_hp\\\\\n",
       "\\hline\n",
       "\t 117.4\\\\\n",
       "\\end{tabular}\n"
      ],
      "text/markdown": [
       "\n",
       "mean_hp | \n",
       "|---|\n",
       "| 117.4 | \n",
       "\n",
       "\n"
      ],
      "text/plain": [
       "  mean_hp\n",
       "1 117.4  "
      ]
     },
     "metadata": {},
     "output_type": "display_data"
    }
   ],
   "source": [
    "mtcars %>% sample_n(5) -> smcars # randomly choose five cars\n",
    "smcars %>% pull(cyl) %>% max -> max_cyl\n",
    "max_cyl\n",
    "smcars\n",
    "smcars %>% filter(cyl == max_cyl) # choose cars with six cylinders\n",
    "smcars %>% arrange(desc(hp)) # arrange the cars by descending horse power\n",
    "smcars %>% select(carb, cyl) # select only two columns of the datasets\n",
    "smcars %>% rename(cylinder = cyl, horsepower = hp) # rename some variable\n",
    "smcars %>% mutate(cyl = 2 * cyl, tot = am + gear + carb) # create new columns or modify old ones\n",
    "smcars %>% summarise(mean_hp = mean(hp))"
   ]
  },
  {
   "cell_type": "markdown",
   "metadata": {},
   "source": [
    "Then there is the **group_by** operation to change the way in which some *single table verbs* are applied to the table:"
   ]
  },
  {
   "cell_type": "code",
   "execution_count": 10,
   "metadata": {},
   "outputs": [
    {
     "data": {
      "text/html": [
       "<table>\n",
       "<thead><tr><th scope=col>cyl</th><th scope=col>hp</th></tr></thead>\n",
       "<tbody>\n",
       "\t<tr><td>4        </td><td> 82.63636</td></tr>\n",
       "\t<tr><td>6        </td><td>122.28571</td></tr>\n",
       "\t<tr><td>8        </td><td>209.21429</td></tr>\n",
       "</tbody>\n",
       "</table>\n"
      ],
      "text/latex": [
       "\\begin{tabular}{r|ll}\n",
       " cyl & hp\\\\\n",
       "\\hline\n",
       "\t 4         &  82.63636\\\\\n",
       "\t 6         & 122.28571\\\\\n",
       "\t 8         & 209.21429\\\\\n",
       "\\end{tabular}\n"
      ],
      "text/markdown": [
       "\n",
       "cyl | hp | \n",
       "|---|---|---|\n",
       "| 4         |  82.63636 | \n",
       "| 6         | 122.28571 | \n",
       "| 8         | 209.21429 | \n",
       "\n",
       "\n"
      ],
      "text/plain": [
       "  cyl hp       \n",
       "1 4    82.63636\n",
       "2 6   122.28571\n",
       "3 8   209.21429"
      ]
     },
     "metadata": {},
     "output_type": "display_data"
    },
    {
     "data": {
      "text/html": [
       "<table>\n",
       "<thead><tr><th scope=col>mpg</th><th scope=col>cyl</th><th scope=col>disp</th><th scope=col>hp</th><th scope=col>drat</th><th scope=col>wt</th><th scope=col>qsec</th><th scope=col>vs</th><th scope=col>am</th><th scope=col>gear</th><th scope=col>carb</th></tr></thead>\n",
       "<tbody>\n",
       "\t<tr><td>33.9 </td><td>4    </td><td> 71.1</td><td> 65  </td><td>4.22 </td><td>1.835</td><td>19.90</td><td>1    </td><td>1    </td><td>4    </td><td>1    </td></tr>\n",
       "\t<tr><td>30.4 </td><td>4    </td><td> 75.7</td><td> 52  </td><td>4.93 </td><td>1.615</td><td>18.52</td><td>1    </td><td>1    </td><td>4    </td><td>2    </td></tr>\n",
       "\t<tr><td>19.2 </td><td>6    </td><td>167.6</td><td>123  </td><td>3.92 </td><td>3.440</td><td>18.30</td><td>1    </td><td>0    </td><td>4    </td><td>4    </td></tr>\n",
       "\t<tr><td>18.1 </td><td>6    </td><td>225.0</td><td>105  </td><td>2.76 </td><td>3.460</td><td>20.22</td><td>1    </td><td>0    </td><td>3    </td><td>1    </td></tr>\n",
       "\t<tr><td>13.3 </td><td>8    </td><td>350.0</td><td>245  </td><td>3.73 </td><td>3.840</td><td>15.41</td><td>0    </td><td>0    </td><td>3    </td><td>4    </td></tr>\n",
       "\t<tr><td>16.4 </td><td>8    </td><td>275.8</td><td>180  </td><td>3.07 </td><td>4.070</td><td>17.40</td><td>0    </td><td>0    </td><td>3    </td><td>3    </td></tr>\n",
       "</tbody>\n",
       "</table>\n"
      ],
      "text/latex": [
       "\\begin{tabular}{r|lllllllllll}\n",
       " mpg & cyl & disp & hp & drat & wt & qsec & vs & am & gear & carb\\\\\n",
       "\\hline\n",
       "\t 33.9  & 4     &  71.1 &  65   & 4.22  & 1.835 & 19.90 & 1     & 1     & 4     & 1    \\\\\n",
       "\t 30.4  & 4     &  75.7 &  52   & 4.93  & 1.615 & 18.52 & 1     & 1     & 4     & 2    \\\\\n",
       "\t 19.2  & 6     & 167.6 & 123   & 3.92  & 3.440 & 18.30 & 1     & 0     & 4     & 4    \\\\\n",
       "\t 18.1  & 6     & 225.0 & 105   & 2.76  & 3.460 & 20.22 & 1     & 0     & 3     & 1    \\\\\n",
       "\t 13.3  & 8     & 350.0 & 245   & 3.73  & 3.840 & 15.41 & 0     & 0     & 3     & 4    \\\\\n",
       "\t 16.4  & 8     & 275.8 & 180   & 3.07  & 4.070 & 17.40 & 0     & 0     & 3     & 3    \\\\\n",
       "\\end{tabular}\n"
      ],
      "text/markdown": [
       "\n",
       "mpg | cyl | disp | hp | drat | wt | qsec | vs | am | gear | carb | \n",
       "|---|---|---|---|---|---|\n",
       "| 33.9  | 4     |  71.1 |  65   | 4.22  | 1.835 | 19.90 | 1     | 1     | 4     | 1     | \n",
       "| 30.4  | 4     |  75.7 |  52   | 4.93  | 1.615 | 18.52 | 1     | 1     | 4     | 2     | \n",
       "| 19.2  | 6     | 167.6 | 123   | 3.92  | 3.440 | 18.30 | 1     | 0     | 4     | 4     | \n",
       "| 18.1  | 6     | 225.0 | 105   | 2.76  | 3.460 | 20.22 | 1     | 0     | 3     | 1     | \n",
       "| 13.3  | 8     | 350.0 | 245   | 3.73  | 3.840 | 15.41 | 0     | 0     | 3     | 4     | \n",
       "| 16.4  | 8     | 275.8 | 180   | 3.07  | 4.070 | 17.40 | 0     | 0     | 3     | 3     | \n",
       "\n",
       "\n"
      ],
      "text/plain": [
       "  mpg  cyl disp  hp  drat wt    qsec  vs am gear carb\n",
       "1 33.9 4    71.1  65 4.22 1.835 19.90 1  1  4    1   \n",
       "2 30.4 4    75.7  52 4.93 1.615 18.52 1  1  4    2   \n",
       "3 19.2 6   167.6 123 3.92 3.440 18.30 1  0  4    4   \n",
       "4 18.1 6   225.0 105 2.76 3.460 20.22 1  0  3    1   \n",
       "5 13.3 8   350.0 245 3.73 3.840 15.41 0  0  3    4   \n",
       "6 16.4 8   275.8 180 3.07 4.070 17.40 0  0  3    3   "
      ]
     },
     "metadata": {},
     "output_type": "display_data"
    },
    {
     "data": {
      "text/html": [
       "<table>\n",
       "<thead><tr><th scope=col>mpg</th><th scope=col>cyl</th><th scope=col>disp</th><th scope=col>hp</th><th scope=col>drat</th><th scope=col>wt</th><th scope=col>qsec</th><th scope=col>vs</th><th scope=col>am</th><th scope=col>gear</th><th scope=col>carb</th><th scope=col>mean_hp_by_cyl</th></tr></thead>\n",
       "<tbody>\n",
       "\t<tr><td>22.8     </td><td>4        </td><td>108.0    </td><td> 93      </td><td>3.85     </td><td>2.32     </td><td>18.61    </td><td>1        </td><td>1        </td><td>4        </td><td>1        </td><td> 82.63636</td></tr>\n",
       "\t<tr><td>19.2     </td><td>6        </td><td>167.6    </td><td>123      </td><td>3.92     </td><td>3.44     </td><td>18.30    </td><td>1        </td><td>0        </td><td>4        </td><td>4        </td><td>122.28571</td></tr>\n",
       "\t<tr><td>15.2     </td><td>8        </td><td>275.8    </td><td>180      </td><td>3.07     </td><td>3.78     </td><td>18.00    </td><td>0        </td><td>0        </td><td>3        </td><td>3        </td><td>209.21429</td></tr>\n",
       "</tbody>\n",
       "</table>\n"
      ],
      "text/latex": [
       "\\begin{tabular}{r|llllllllllll}\n",
       " mpg & cyl & disp & hp & drat & wt & qsec & vs & am & gear & carb & mean\\_hp\\_by\\_cyl\\\\\n",
       "\\hline\n",
       "\t 22.8      & 4         & 108.0     &  93       & 3.85      & 2.32      & 18.61     & 1         & 1         & 4         & 1         &  82.63636\\\\\n",
       "\t 19.2      & 6         & 167.6     & 123       & 3.92      & 3.44      & 18.30     & 1         & 0         & 4         & 4         & 122.28571\\\\\n",
       "\t 15.2      & 8         & 275.8     & 180       & 3.07      & 3.78      & 18.00     & 0         & 0         & 3         & 3         & 209.21429\\\\\n",
       "\\end{tabular}\n"
      ],
      "text/markdown": [
       "\n",
       "mpg | cyl | disp | hp | drat | wt | qsec | vs | am | gear | carb | mean_hp_by_cyl | \n",
       "|---|---|---|\n",
       "| 22.8      | 4         | 108.0     |  93       | 3.85      | 2.32      | 18.61     | 1         | 1         | 4         | 1         |  82.63636 | \n",
       "| 19.2      | 6         | 167.6     | 123       | 3.92      | 3.44      | 18.30     | 1         | 0         | 4         | 4         | 122.28571 | \n",
       "| 15.2      | 8         | 275.8     | 180       | 3.07      | 3.78      | 18.00     | 0         | 0         | 3         | 3         | 209.21429 | \n",
       "\n",
       "\n"
      ],
      "text/plain": [
       "  mpg  cyl disp  hp  drat wt   qsec  vs am gear carb mean_hp_by_cyl\n",
       "1 22.8 4   108.0  93 3.85 2.32 18.61 1  1  4    1     82.63636     \n",
       "2 19.2 6   167.6 123 3.92 3.44 18.30 1  0  4    4    122.28571     \n",
       "3 15.2 8   275.8 180 3.07 3.78 18.00 0  0  3    3    209.21429     "
      ]
     },
     "metadata": {},
     "output_type": "display_data"
    }
   ],
   "source": [
    "mtcars %>% group_by(cyl) %>% summarise(hp = mean(hp)) # mean hp for each cyl value\n",
    "mtcars %>% group_by(cyl) %>% sample_n(2) # randomly choose two samples for each cyl value\n",
    "mtcars %>% group_by(cyl) %>% mutate(mean_hp_by_cyl = mean(hp)) %>% arrange(desc(cyl)) %>% sample_n(1) # what does it do? "
   ]
  },
  {
   "cell_type": "markdown",
   "metadata": {},
   "source": [
    "There are also *two tables verbs*, in particular **joins**, to combine the contents of two tables:"
   ]
  },
  {
   "cell_type": "code",
   "execution_count": 11,
   "metadata": {},
   "outputs": [
    {
     "data": {
      "text/html": [
       "<table>\n",
       "<thead><tr><th></th><th scope=col>name</th><th scope=col>hp</th></tr></thead>\n",
       "<tbody>\n",
       "\t<tr><th scope=row>Mazda RX4</th><td>Mazda RX4        </td><td>110              </td></tr>\n",
       "\t<tr><th scope=row>Mazda RX4 Wag</th><td>Mazda RX4 Wag    </td><td>110              </td></tr>\n",
       "\t<tr><th scope=row>Datsun 710</th><td>Datsun 710       </td><td> 93              </td></tr>\n",
       "\t<tr><th scope=row>Hornet 4 Drive</th><td>Hornet 4 Drive   </td><td>110              </td></tr>\n",
       "\t<tr><th scope=row>Hornet Sportabout</th><td>Hornet Sportabout</td><td>175              </td></tr>\n",
       "\t<tr><th scope=row>Valiant</th><td>Valiant          </td><td>105              </td></tr>\n",
       "\t<tr><th scope=row>Duster 360</th><td>Duster 360       </td><td>245              </td></tr>\n",
       "\t<tr><th scope=row>Merc 240D</th><td>Merc 240D        </td><td> 62              </td></tr>\n",
       "\t<tr><th scope=row>Merc 230</th><td>Merc 230         </td><td> 95              </td></tr>\n",
       "\t<tr><th scope=row>Merc 280</th><td>Merc 280         </td><td>123              </td></tr>\n",
       "</tbody>\n",
       "</table>\n"
      ],
      "text/latex": [
       "\\begin{tabular}{r|ll}\n",
       "  & name & hp\\\\\n",
       "\\hline\n",
       "\tMazda RX4 & Mazda RX4         & 110              \\\\\n",
       "\tMazda RX4 Wag & Mazda RX4 Wag     & 110              \\\\\n",
       "\tDatsun 710 & Datsun 710        &  93              \\\\\n",
       "\tHornet 4 Drive & Hornet 4 Drive    & 110              \\\\\n",
       "\tHornet Sportabout & Hornet Sportabout & 175              \\\\\n",
       "\tValiant & Valiant           & 105              \\\\\n",
       "\tDuster 360 & Duster 360        & 245              \\\\\n",
       "\tMerc 240D & Merc 240D         &  62              \\\\\n",
       "\tMerc 230 & Merc 230          &  95              \\\\\n",
       "\tMerc 280 & Merc 280          & 123              \\\\\n",
       "\\end{tabular}\n"
      ],
      "text/markdown": [
       "\n",
       "| <!--/--> | name | hp | \n",
       "|---|---|---|---|---|---|---|---|---|---|\n",
       "| Mazda RX4 | Mazda RX4         | 110               | \n",
       "| Mazda RX4 Wag | Mazda RX4 Wag     | 110               | \n",
       "| Datsun 710 | Datsun 710        |  93               | \n",
       "| Hornet 4 Drive | Hornet 4 Drive    | 110               | \n",
       "| Hornet Sportabout | Hornet Sportabout | 175               | \n",
       "| Valiant | Valiant           | 105               | \n",
       "| Duster 360 | Duster 360        | 245               | \n",
       "| Merc 240D | Merc 240D         |  62               | \n",
       "| Merc 230 | Merc 230          |  95               | \n",
       "| Merc 280 | Merc 280          | 123               | \n",
       "\n",
       "\n"
      ],
      "text/plain": [
       "                  name              hp \n",
       "Mazda RX4         Mazda RX4         110\n",
       "Mazda RX4 Wag     Mazda RX4 Wag     110\n",
       "Datsun 710        Datsun 710         93\n",
       "Hornet 4 Drive    Hornet 4 Drive    110\n",
       "Hornet Sportabout Hornet Sportabout 175\n",
       "Valiant           Valiant           105\n",
       "Duster 360        Duster 360        245\n",
       "Merc 240D         Merc 240D          62\n",
       "Merc 230          Merc 230           95\n",
       "Merc 280          Merc 280          123"
      ]
     },
     "metadata": {},
     "output_type": "display_data"
    },
    {
     "data": {
      "text/html": [
       "<table>\n",
       "<thead><tr><th scope=col>name</th><th scope=col>cyl</th><th scope=col>hp</th></tr></thead>\n",
       "<tbody>\n",
       "\t<tr><td>Merc 240D     </td><td>4             </td><td>124           </td></tr>\n",
       "\t<tr><td>Mazda RX4     </td><td>6             </td><td>220           </td></tr>\n",
       "\t<tr><td>Mazda RX4 Wag </td><td>6             </td><td>220           </td></tr>\n",
       "\t<tr><td>Hornet 4 Drive</td><td>6             </td><td>220           </td></tr>\n",
       "\t<tr><td>Datsun 710    </td><td>4             </td><td>186           </td></tr>\n",
       "</tbody>\n",
       "</table>\n"
      ],
      "text/latex": [
       "\\begin{tabular}{r|lll}\n",
       " name & cyl & hp\\\\\n",
       "\\hline\n",
       "\t Merc 240D      & 4              & 124           \\\\\n",
       "\t Mazda RX4      & 6              & 220           \\\\\n",
       "\t Mazda RX4 Wag  & 6              & 220           \\\\\n",
       "\t Hornet 4 Drive & 6              & 220           \\\\\n",
       "\t Datsun 710     & 4              & 186           \\\\\n",
       "\\end{tabular}\n"
      ],
      "text/markdown": [
       "\n",
       "name | cyl | hp | \n",
       "|---|---|---|---|---|\n",
       "| Merc 240D      | 4              | 124            | \n",
       "| Mazda RX4      | 6              | 220            | \n",
       "| Mazda RX4 Wag  | 6              | 220            | \n",
       "| Hornet 4 Drive | 6              | 220            | \n",
       "| Datsun 710     | 4              | 186            | \n",
       "\n",
       "\n"
      ],
      "text/plain": [
       "  name           cyl hp \n",
       "1 Merc 240D      4   124\n",
       "2 Mazda RX4      6   220\n",
       "3 Mazda RX4 Wag  6   220\n",
       "4 Hornet 4 Drive 6   220\n",
       "5 Datsun 710     4   186"
      ]
     },
     "metadata": {},
     "output_type": "display_data"
    },
    {
     "data": {
      "text/html": [
       "<table>\n",
       "<thead><tr><th scope=col>name</th><th scope=col>hp_one</th><th scope=col>cyl</th><th scope=col>hp_two</th></tr></thead>\n",
       "<tbody>\n",
       "\t<tr><td>Mazda RX4        </td><td>110              </td><td> 6               </td><td>220              </td></tr>\n",
       "\t<tr><td>Mazda RX4 Wag    </td><td>110              </td><td> 6               </td><td>220              </td></tr>\n",
       "\t<tr><td>Datsun 710       </td><td> 93              </td><td> 4               </td><td>186              </td></tr>\n",
       "\t<tr><td>Hornet 4 Drive   </td><td>110              </td><td> 6               </td><td>220              </td></tr>\n",
       "\t<tr><td>Hornet Sportabout</td><td>175              </td><td>NA               </td><td> NA              </td></tr>\n",
       "\t<tr><td>Valiant          </td><td>105              </td><td>NA               </td><td> NA              </td></tr>\n",
       "\t<tr><td>Duster 360       </td><td>245              </td><td>NA               </td><td> NA              </td></tr>\n",
       "\t<tr><td>Merc 240D        </td><td> 62              </td><td> 4               </td><td>124              </td></tr>\n",
       "\t<tr><td>Merc 230         </td><td> 95              </td><td>NA               </td><td> NA              </td></tr>\n",
       "\t<tr><td>Merc 280         </td><td>123              </td><td>NA               </td><td> NA              </td></tr>\n",
       "</tbody>\n",
       "</table>\n"
      ],
      "text/latex": [
       "\\begin{tabular}{r|llll}\n",
       " name & hp\\_one & cyl & hp\\_two\\\\\n",
       "\\hline\n",
       "\t Mazda RX4         & 110               &  6                & 220              \\\\\n",
       "\t Mazda RX4 Wag     & 110               &  6                & 220              \\\\\n",
       "\t Datsun 710        &  93               &  4                & 186              \\\\\n",
       "\t Hornet 4 Drive    & 110               &  6                & 220              \\\\\n",
       "\t Hornet Sportabout & 175               & NA                &  NA              \\\\\n",
       "\t Valiant           & 105               & NA                &  NA              \\\\\n",
       "\t Duster 360        & 245               & NA                &  NA              \\\\\n",
       "\t Merc 240D         &  62               &  4                & 124              \\\\\n",
       "\t Merc 230          &  95               & NA                &  NA              \\\\\n",
       "\t Merc 280          & 123               & NA                &  NA              \\\\\n",
       "\\end{tabular}\n"
      ],
      "text/markdown": [
       "\n",
       "name | hp_one | cyl | hp_two | \n",
       "|---|---|---|---|---|---|---|---|---|---|\n",
       "| Mazda RX4         | 110               |  6                | 220               | \n",
       "| Mazda RX4 Wag     | 110               |  6                | 220               | \n",
       "| Datsun 710        |  93               |  4                | 186               | \n",
       "| Hornet 4 Drive    | 110               |  6                | 220               | \n",
       "| Hornet Sportabout | 175               | NA                |  NA               | \n",
       "| Valiant           | 105               | NA                |  NA               | \n",
       "| Duster 360        | 245               | NA                |  NA               | \n",
       "| Merc 240D         |  62               |  4                | 124               | \n",
       "| Merc 230          |  95               | NA                |  NA               | \n",
       "| Merc 280          | 123               | NA                |  NA               | \n",
       "\n",
       "\n"
      ],
      "text/plain": [
       "   name              hp_one cyl hp_two\n",
       "1  Mazda RX4         110     6  220   \n",
       "2  Mazda RX4 Wag     110     6  220   \n",
       "3  Datsun 710         93     4  186   \n",
       "4  Hornet 4 Drive    110     6  220   \n",
       "5  Hornet Sportabout 175    NA   NA   \n",
       "6  Valiant           105    NA   NA   \n",
       "7  Duster 360        245    NA   NA   \n",
       "8  Merc 240D          62     4  124   \n",
       "9  Merc 230           95    NA   NA   \n",
       "10 Merc 280          123    NA   NA   "
      ]
     },
     "metadata": {},
     "output_type": "display_data"
    },
    {
     "data": {
      "text/html": [
       "<table>\n",
       "<thead><tr><th scope=col>name</th><th scope=col>hp_one</th><th scope=col>cyl</th><th scope=col>hp_two</th></tr></thead>\n",
       "<tbody>\n",
       "\t<tr><td>Merc 240D     </td><td> 62           </td><td>4             </td><td>124           </td></tr>\n",
       "\t<tr><td>Mazda RX4     </td><td>110           </td><td>6             </td><td>220           </td></tr>\n",
       "\t<tr><td>Mazda RX4 Wag </td><td>110           </td><td>6             </td><td>220           </td></tr>\n",
       "\t<tr><td>Hornet 4 Drive</td><td>110           </td><td>6             </td><td>220           </td></tr>\n",
       "\t<tr><td>Datsun 710    </td><td> 93           </td><td>4             </td><td>186           </td></tr>\n",
       "</tbody>\n",
       "</table>\n"
      ],
      "text/latex": [
       "\\begin{tabular}{r|llll}\n",
       " name & hp\\_one & cyl & hp\\_two\\\\\n",
       "\\hline\n",
       "\t Merc 240D      &  62            & 4              & 124           \\\\\n",
       "\t Mazda RX4      & 110            & 6              & 220           \\\\\n",
       "\t Mazda RX4 Wag  & 110            & 6              & 220           \\\\\n",
       "\t Hornet 4 Drive & 110            & 6              & 220           \\\\\n",
       "\t Datsun 710     &  93            & 4              & 186           \\\\\n",
       "\\end{tabular}\n"
      ],
      "text/markdown": [
       "\n",
       "name | hp_one | cyl | hp_two | \n",
       "|---|---|---|---|---|\n",
       "| Merc 240D      |  62            | 4              | 124            | \n",
       "| Mazda RX4      | 110            | 6              | 220            | \n",
       "| Mazda RX4 Wag  | 110            | 6              | 220            | \n",
       "| Hornet 4 Drive | 110            | 6              | 220            | \n",
       "| Datsun 710     |  93            | 4              | 186            | \n",
       "\n",
       "\n"
      ],
      "text/plain": [
       "  name           hp_one cyl hp_two\n",
       "1 Merc 240D       62    4   124   \n",
       "2 Mazda RX4      110    6   220   \n",
       "3 Mazda RX4 Wag  110    6   220   \n",
       "4 Hornet 4 Drive 110    6   220   \n",
       "5 Datsun 710      93    4   186   "
      ]
     },
     "metadata": {},
     "output_type": "display_data"
    },
    {
     "data": {
      "text/html": [
       "<table>\n",
       "<thead><tr><th scope=col>name</th><th scope=col>cyl</th><th scope=col>hp_two</th><th scope=col>hp_one</th></tr></thead>\n",
       "<tbody>\n",
       "\t<tr><td>Merc 240D     </td><td>4             </td><td>124           </td><td> 62           </td></tr>\n",
       "\t<tr><td>Mazda RX4     </td><td>6             </td><td>220           </td><td>110           </td></tr>\n",
       "\t<tr><td>Mazda RX4 Wag </td><td>6             </td><td>220           </td><td>110           </td></tr>\n",
       "\t<tr><td>Hornet 4 Drive</td><td>6             </td><td>220           </td><td>110           </td></tr>\n",
       "\t<tr><td>Datsun 710    </td><td>4             </td><td>186           </td><td> 93           </td></tr>\n",
       "</tbody>\n",
       "</table>\n"
      ],
      "text/latex": [
       "\\begin{tabular}{r|llll}\n",
       " name & cyl & hp\\_two & hp\\_one\\\\\n",
       "\\hline\n",
       "\t Merc 240D      & 4              & 124            &  62           \\\\\n",
       "\t Mazda RX4      & 6              & 220            & 110           \\\\\n",
       "\t Mazda RX4 Wag  & 6              & 220            & 110           \\\\\n",
       "\t Hornet 4 Drive & 6              & 220            & 110           \\\\\n",
       "\t Datsun 710     & 4              & 186            &  93           \\\\\n",
       "\\end{tabular}\n"
      ],
      "text/markdown": [
       "\n",
       "name | cyl | hp_two | hp_one | \n",
       "|---|---|---|---|---|\n",
       "| Merc 240D      | 4              | 124            |  62            | \n",
       "| Mazda RX4      | 6              | 220            | 110            | \n",
       "| Mazda RX4 Wag  | 6              | 220            | 110            | \n",
       "| Hornet 4 Drive | 6              | 220            | 110            | \n",
       "| Datsun 710     | 4              | 186            |  93            | \n",
       "\n",
       "\n"
      ],
      "text/plain": [
       "  name           cyl hp_two hp_one\n",
       "1 Merc 240D      4   124     62   \n",
       "2 Mazda RX4      6   220    110   \n",
       "3 Mazda RX4 Wag  6   220    110   \n",
       "4 Hornet 4 Drive 6   220    110   \n",
       "5 Datsun 710     4   186     93   "
      ]
     },
     "metadata": {},
     "output_type": "display_data"
    }
   ],
   "source": [
    "mtcars$name <- rownames(mtcars)\n",
    "mtcars_table_1 <- mtcars %>% select(name, hp) %>% head(n = 10)\n",
    "mtcars_table_2 <- mtcars %>% select(name, cyl,hp) %>% head(n = 10) %>% sample_n(5) %>%  mutate(hp = 2 * hp)\n",
    "\n",
    "mtcars_table_1\n",
    "mtcars_table_2\n",
    "\n",
    "mtcars_table_1 %>% left_join(mtcars_table_2, by = \"name\", suffix = c(\"_one\", \"_two\"))\n",
    "mtcars_table_1 %>% right_join(mtcars_table_2, by = \"name\", suffix = c(\"_one\", \"_two\"))\n",
    "mtcars_table_2 %>% inner_join(mtcars_table_1, by = \"name\", suffix = c(\"_two\", \"_one\"))"
   ]
  },
  {
   "cell_type": "markdown",
   "metadata": {},
   "source": [
    "There is a lot more about **dplyr**, we have no more time, but you do! So here are some links:\n",
    "\n",
    "* [Window functions](https://cran.r-project.org/web/packages/dplyr/vignettes/window-functions.html) to compute cumulative sums, means or build rankings among observations\n",
    "* More [two table verbs](https://cran.r-project.org/web/packages/dplyr/vignettes/two-table.html) to compute, for example, unions, intersections, and symmetric differences between tables\n",
    "* [Deep dive](https://cran.r-project.org/web/packages/dplyr/vignettes/programming.html) in the way **dplyr** is built and how to effectively use it to write custom verbs\n",
    "* How to use dplyr as a frontend to standard databases ([dbplyr](https://cran.r-project.org/web/packages/dbplyr/index.html)) or big data stacks ([sparklyr](http://spark.rstudio.com/dplyr/))"
   ]
  },
  {
   "cell_type": "markdown",
   "metadata": {},
   "source": [
    "### GGPLOT\n",
    "\n",
    "Another great package in tidyverse is **[ggplot](http://ggplot2.org/)**, a versatile plotting system. The full introduction to this package is out of the scope of this lesson (but it's covered by the QC R course!).\n",
    "\n",
    "![ggplot](../fig/ggplot.png \"title-1\")\n",
    "\n",
    "Howevere, since in the following lessons we are going to use ggplot extensively, if you have some doubts on its functioning let us know! :)\n",
    "\n",
    "The following is an example of its capabilities:"
   ]
  },
  {
   "cell_type": "code",
   "execution_count": 12,
   "metadata": {},
   "outputs": [
    {
     "data": {},
     "metadata": {},
     "output_type": "display_data"
    },
    {
     "data": {
      "image/png": "[encoded data removed]",
      "text/plain": [
       "plot without title"
      ]
     },
     "metadata": {},
     "output_type": "display_data"
    }
   ],
   "source": [
    "options(repr.plot.width=6, repr.plot.height=5) ### back to the normal plot size\n",
    "\n",
    "mpg %>%  ggplot(aes(displ)) + scale_fill_brewer(palette = \"Spectral\") + geom_histogram(aes(fill=class), \n",
    "                   binwidth = .1, \n",
    "                   col=\"black\", \n",
    "                   size=.1) +  # change binwidth\n",
    "  labs(title=\"Histogram with Auto Binning\", \n",
    "       subtitle=\"Engine Displacement across Vehicle Classes\")  "
   ]
  },
  {
   "cell_type": "markdown",
   "metadata": {},
   "source": [
    "### TIDYR\n",
    "\n",
    "![ggplot](../fig/tidyr.jpg \"title-1\")\n",
    "\n",
    "The **tidyr** package provides a set of functions to help transforming messy data into [tidy data](https://tidyr.tidyverse.org/articles/tidy-data.html). As you can see from the previous link, the definition of tidy data is quite verbose and out of the scope of this lesson (but it's important!).\n",
    "\n",
    "Here we focus on the functions that allow you to transform data from the *wide* format to the *long* one:\n",
    "\n",
    "![gather](../fig/gather.png \"title-1\")\n",
    "\n",
    "The two datasets in the figure have the same content but the left one has the *long* format while the right one has the *wide* format.\n",
    "\n",
    "Consider this dataset:"
   ]
  },
  {
   "cell_type": "code",
   "execution_count": 13,
   "metadata": {},
   "outputs": [
    {
     "data": {
      "text/html": [
       "<table>\n",
       "<thead><tr><th scope=col>Sepal.Length</th><th scope=col>Sepal.Width</th><th scope=col>Petal.Length</th><th scope=col>Petal.Width</th><th scope=col>index</th></tr></thead>\n",
       "<tbody>\n",
       "\t<tr><td>5.1</td><td>3.5</td><td>1.4</td><td>0.2</td><td>1  </td></tr>\n",
       "\t<tr><td>4.9</td><td>3.0</td><td>1.4</td><td>0.2</td><td>2  </td></tr>\n",
       "\t<tr><td>4.7</td><td>3.2</td><td>1.3</td><td>0.2</td><td>3  </td></tr>\n",
       "\t<tr><td>4.6</td><td>3.1</td><td>1.5</td><td>0.2</td><td>4  </td></tr>\n",
       "\t<tr><td>5.0</td><td>3.6</td><td>1.4</td><td>0.2</td><td>5  </td></tr>\n",
       "</tbody>\n",
       "</table>\n"
      ],
      "text/latex": [
       "\\begin{tabular}{r|lllll}\n",
       " Sepal.Length & Sepal.Width & Petal.Length & Petal.Width & index\\\\\n",
       "\\hline\n",
       "\t 5.1 & 3.5 & 1.4 & 0.2 & 1  \\\\\n",
       "\t 4.9 & 3.0 & 1.4 & 0.2 & 2  \\\\\n",
       "\t 4.7 & 3.2 & 1.3 & 0.2 & 3  \\\\\n",
       "\t 4.6 & 3.1 & 1.5 & 0.2 & 4  \\\\\n",
       "\t 5.0 & 3.6 & 1.4 & 0.2 & 5  \\\\\n",
       "\\end{tabular}\n"
      ],
      "text/markdown": [
       "\n",
       "Sepal.Length | Sepal.Width | Petal.Length | Petal.Width | index | \n",
       "|---|---|---|---|---|\n",
       "| 5.1 | 3.5 | 1.4 | 0.2 | 1   | \n",
       "| 4.9 | 3.0 | 1.4 | 0.2 | 2   | \n",
       "| 4.7 | 3.2 | 1.3 | 0.2 | 3   | \n",
       "| 4.6 | 3.1 | 1.5 | 0.2 | 4   | \n",
       "| 5.0 | 3.6 | 1.4 | 0.2 | 5   | \n",
       "\n",
       "\n"
      ],
      "text/plain": [
       "  Sepal.Length Sepal.Width Petal.Length Petal.Width index\n",
       "1 5.1          3.5         1.4          0.2         1    \n",
       "2 4.9          3.0         1.4          0.2         2    \n",
       "3 4.7          3.2         1.3          0.2         3    \n",
       "4 4.6          3.1         1.5          0.2         4    \n",
       "5 5.0          3.6         1.4          0.2         5    "
      ]
     },
     "metadata": {},
     "output_type": "display_data"
    }
   ],
   "source": [
    "small_iris <- iris %>% head(n = 5) %>% select(-Species) %>% mutate(index = 1:n())\n",
    "small_iris"
   ]
  },
  {
   "cell_type": "markdown",
   "metadata": {},
   "source": [
    "This dataset is in the wide format (dense representation), with one column for each variable. If you want to transform it in the long format you can use the tidyr function **gather**:"
   ]
  },
  {
   "cell_type": "code",
   "execution_count": 14,
   "metadata": {},
   "outputs": [
    {
     "data": {
      "text/html": [
       "<table>\n",
       "<thead><tr><th scope=col>index</th><th scope=col>variable</th><th scope=col>value</th></tr></thead>\n",
       "<tbody>\n",
       "\t<tr><td>1           </td><td>Sepal.Length</td><td>5.1         </td></tr>\n",
       "\t<tr><td>2           </td><td>Sepal.Length</td><td>4.9         </td></tr>\n",
       "\t<tr><td>3           </td><td>Sepal.Length</td><td>4.7         </td></tr>\n",
       "\t<tr><td>4           </td><td>Sepal.Length</td><td>4.6         </td></tr>\n",
       "\t<tr><td>5           </td><td>Sepal.Length</td><td>5.0         </td></tr>\n",
       "\t<tr><td>1           </td><td>Sepal.Width </td><td>3.5         </td></tr>\n",
       "\t<tr><td>2           </td><td>Sepal.Width </td><td>3.0         </td></tr>\n",
       "\t<tr><td>3           </td><td>Sepal.Width </td><td>3.2         </td></tr>\n",
       "\t<tr><td>4           </td><td>Sepal.Width </td><td>3.1         </td></tr>\n",
       "\t<tr><td>5           </td><td>Sepal.Width </td><td>3.6         </td></tr>\n",
       "\t<tr><td>1           </td><td>Petal.Length</td><td>1.4         </td></tr>\n",
       "\t<tr><td>2           </td><td>Petal.Length</td><td>1.4         </td></tr>\n",
       "\t<tr><td>3           </td><td>Petal.Length</td><td>1.3         </td></tr>\n",
       "\t<tr><td>4           </td><td>Petal.Length</td><td>1.5         </td></tr>\n",
       "\t<tr><td>5           </td><td>Petal.Length</td><td>1.4         </td></tr>\n",
       "\t<tr><td>1           </td><td>Petal.Width </td><td>0.2         </td></tr>\n",
       "\t<tr><td>2           </td><td>Petal.Width </td><td>0.2         </td></tr>\n",
       "\t<tr><td>3           </td><td>Petal.Width </td><td>0.2         </td></tr>\n",
       "\t<tr><td>4           </td><td>Petal.Width </td><td>0.2         </td></tr>\n",
       "\t<tr><td>5           </td><td>Petal.Width </td><td>0.2         </td></tr>\n",
       "</tbody>\n",
       "</table>\n"
      ],
      "text/latex": [
       "\\begin{tabular}{r|lll}\n",
       " index & variable & value\\\\\n",
       "\\hline\n",
       "\t 1            & Sepal.Length & 5.1         \\\\\n",
       "\t 2            & Sepal.Length & 4.9         \\\\\n",
       "\t 3            & Sepal.Length & 4.7         \\\\\n",
       "\t 4            & Sepal.Length & 4.6         \\\\\n",
       "\t 5            & Sepal.Length & 5.0         \\\\\n",
       "\t 1            & Sepal.Width  & 3.5         \\\\\n",
       "\t 2            & Sepal.Width  & 3.0         \\\\\n",
       "\t 3            & Sepal.Width  & 3.2         \\\\\n",
       "\t 4            & Sepal.Width  & 3.1         \\\\\n",
       "\t 5            & Sepal.Width  & 3.6         \\\\\n",
       "\t 1            & Petal.Length & 1.4         \\\\\n",
       "\t 2            & Petal.Length & 1.4         \\\\\n",
       "\t 3            & Petal.Length & 1.3         \\\\\n",
       "\t 4            & Petal.Length & 1.5         \\\\\n",
       "\t 5            & Petal.Length & 1.4         \\\\\n",
       "\t 1            & Petal.Width  & 0.2         \\\\\n",
       "\t 2            & Petal.Width  & 0.2         \\\\\n",
       "\t 3            & Petal.Width  & 0.2         \\\\\n",
       "\t 4            & Petal.Width  & 0.2         \\\\\n",
       "\t 5            & Petal.Width  & 0.2         \\\\\n",
       "\\end{tabular}\n"
      ],
      "text/markdown": [
       "\n",
       "index | variable | value | \n",
       "|---|---|---|---|---|---|---|---|---|---|---|---|---|---|---|---|---|---|---|---|\n",
       "| 1            | Sepal.Length | 5.1          | \n",
       "| 2            | Sepal.Length | 4.9          | \n",
       "| 3            | Sepal.Length | 4.7          | \n",
       "| 4            | Sepal.Length | 4.6          | \n",
       "| 5            | Sepal.Length | 5.0          | \n",
       "| 1            | Sepal.Width  | 3.5          | \n",
       "| 2            | Sepal.Width  | 3.0          | \n",
       "| 3            | Sepal.Width  | 3.2          | \n",
       "| 4            | Sepal.Width  | 3.1          | \n",
       "| 5            | Sepal.Width  | 3.6          | \n",
       "| 1            | Petal.Length | 1.4          | \n",
       "| 2            | Petal.Length | 1.4          | \n",
       "| 3            | Petal.Length | 1.3          | \n",
       "| 4            | Petal.Length | 1.5          | \n",
       "| 5            | Petal.Length | 1.4          | \n",
       "| 1            | Petal.Width  | 0.2          | \n",
       "| 2            | Petal.Width  | 0.2          | \n",
       "| 3            | Petal.Width  | 0.2          | \n",
       "| 4            | Petal.Width  | 0.2          | \n",
       "| 5            | Petal.Width  | 0.2          | \n",
       "\n",
       "\n"
      ],
      "text/plain": [
       "   index variable     value\n",
       "1  1     Sepal.Length 5.1  \n",
       "2  2     Sepal.Length 4.9  \n",
       "3  3     Sepal.Length 4.7  \n",
       "4  4     Sepal.Length 4.6  \n",
       "5  5     Sepal.Length 5.0  \n",
       "6  1     Sepal.Width  3.5  \n",
       "7  2     Sepal.Width  3.0  \n",
       "8  3     Sepal.Width  3.2  \n",
       "9  4     Sepal.Width  3.1  \n",
       "10 5     Sepal.Width  3.6  \n",
       "11 1     Petal.Length 1.4  \n",
       "12 2     Petal.Length 1.4  \n",
       "13 3     Petal.Length 1.3  \n",
       "14 4     Petal.Length 1.5  \n",
       "15 5     Petal.Length 1.4  \n",
       "16 1     Petal.Width  0.2  \n",
       "17 2     Petal.Width  0.2  \n",
       "18 3     Petal.Width  0.2  \n",
       "19 4     Petal.Width  0.2  \n",
       "20 5     Petal.Width  0.2  "
      ]
     },
     "metadata": {},
     "output_type": "display_data"
    }
   ],
   "source": [
    "small_iris_long <- small_iris %>% gather(variable, value, -index)\n",
    "small_iris_long"
   ]
  },
  {
   "cell_type": "markdown",
   "metadata": {},
   "source": [
    "As you can see, in the *long* format there are two columns (variable and value: the two parameters of the **gather** function) plus the columns that are **NOT** selected in the third parameters. By setting *-index* as the last parameter of gather, we are telling it to reshape all the columns except *index* to the *long* format.\n",
    "\n",
    "If we have a *long* dataframe and we want to reshape it into the *wide* format we can use the **spread** function, as follows:"
   ]
  },
  {
   "cell_type": "code",
   "execution_count": 15,
   "metadata": {},
   "outputs": [
    {
     "data": {
      "text/html": [
       "<table>\n",
       "<thead><tr><th scope=col>index</th><th scope=col>Petal.Length</th><th scope=col>Petal.Width</th><th scope=col>Sepal.Length</th><th scope=col>Sepal.Width</th></tr></thead>\n",
       "<tbody>\n",
       "\t<tr><td>1  </td><td>1.4</td><td>0.2</td><td>5.1</td><td>3.5</td></tr>\n",
       "\t<tr><td>2  </td><td>1.4</td><td>0.2</td><td>4.9</td><td>3.0</td></tr>\n",
       "\t<tr><td>3  </td><td>1.3</td><td>0.2</td><td>4.7</td><td>3.2</td></tr>\n",
       "\t<tr><td>4  </td><td>1.5</td><td>0.2</td><td>4.6</td><td>3.1</td></tr>\n",
       "\t<tr><td>5  </td><td>1.4</td><td>0.2</td><td>5.0</td><td>3.6</td></tr>\n",
       "</tbody>\n",
       "</table>\n"
      ],
      "text/latex": [
       "\\begin{tabular}{r|lllll}\n",
       " index & Petal.Length & Petal.Width & Sepal.Length & Sepal.Width\\\\\n",
       "\\hline\n",
       "\t 1   & 1.4 & 0.2 & 5.1 & 3.5\\\\\n",
       "\t 2   & 1.4 & 0.2 & 4.9 & 3.0\\\\\n",
       "\t 3   & 1.3 & 0.2 & 4.7 & 3.2\\\\\n",
       "\t 4   & 1.5 & 0.2 & 4.6 & 3.1\\\\\n",
       "\t 5   & 1.4 & 0.2 & 5.0 & 3.6\\\\\n",
       "\\end{tabular}\n"
      ],
      "text/markdown": [
       "\n",
       "index | Petal.Length | Petal.Width | Sepal.Length | Sepal.Width | \n",
       "|---|---|---|---|---|\n",
       "| 1   | 1.4 | 0.2 | 5.1 | 3.5 | \n",
       "| 2   | 1.4 | 0.2 | 4.9 | 3.0 | \n",
       "| 3   | 1.3 | 0.2 | 4.7 | 3.2 | \n",
       "| 4   | 1.5 | 0.2 | 4.6 | 3.1 | \n",
       "| 5   | 1.4 | 0.2 | 5.0 | 3.6 | \n",
       "\n",
       "\n"
      ],
      "text/plain": [
       "  index Petal.Length Petal.Width Sepal.Length Sepal.Width\n",
       "1 1     1.4          0.2         5.1          3.5        \n",
       "2 2     1.4          0.2         4.9          3.0        \n",
       "3 3     1.3          0.2         4.7          3.2        \n",
       "4 4     1.5          0.2         4.6          3.1        \n",
       "5 5     1.4          0.2         5.0          3.6        "
      ]
     },
     "metadata": {},
     "output_type": "display_data"
    }
   ],
   "source": [
    "small_iris_wide <- small_iris_long %>% spread(variable, value)\n",
    "small_iris_wide"
   ]
  },
  {
   "cell_type": "markdown",
   "metadata": {},
   "source": [
    "The tidyverse ecosystem, by supporting the *tidy data* principles, is oriented towards the *long* format (the tidiest one!) and some of its packages (**ggplot** in particular) are easier to use if we give them dataframes thare the *long*."
   ]
  },
  {
   "cell_type": "markdown",
   "metadata": {},
   "source": [
    "### Other packages\n",
    "\n",
    "We have no time to explore them, but here is a short description from the [tidyverse](https://www.tidyverse.org/) website:\n",
    "\n",
    "* **stringr** provides a cohesive set of functions designed to make working with strings as easy as possible. It is built on top of stringi, which uses the ICU C library to provide fast, correct implementations of common string manipulations.\n",
    "* **tibble**  is a modern re-imagining of the data frame, keeping what time has proven to be effective, and throwing out what it has not. Tibbles are data.frames that are lazy and surly: they do less and complain more forcing you to confront problems earlier, typically leading to cleaner, more expressive code\n",
    "* **forcats** forcats provides a suite of useful tools that solve common problems with factors. R uses factors to handle categorical variables, variables that have a fixed and known set of possible values.\n",
    "* **purrr** enhances R’s functional programming (FP) toolkit by providing a complete and consistent set of tools for working with functions and vectors. Once you master the basic concepts, purrr allows you to replace many *for* loops with code that is easier to write and more expressive.\n",
    "* **readr** provides a fast and friendly way to read rectangular data (like csv, tsv, and fwf). It is designed to flexibly parse many types of data found in the wild, while still cleanly failing when data unexpectedly changes.\n"
   ]
  },
  {
   "cell_type": "markdown",
   "metadata": {},
   "source": [
    "## CARET\n",
    "\n",
    "![gather](../fig/caret.jpg \"title-1\")\n",
    "\n",
    "**CARET** is a package that we are going to use extensively in the next lessons. It provides a unified framework to build predictive models leveraging on the large list of packages belonging to the **R** ecosystem. \n",
    "\n",
    "Each one of these packages has its particular interface and to use it you have to adapt your code to this interface.  \n",
    "\n",
    "**CARET** provides a standard interface with these packages and you have only to adapt your code to this unique interface: if you use **CARET** and you want to change the statistical methods / implementation used by your code, with **CARET** you should only have to change some parameters and your code will work out-of-the-box.\n",
    "\n",
    "To use this package you have simply have to:"
   ]
  },
  {
   "cell_type": "code",
   "execution_count": 16,
   "metadata": {},
   "outputs": [
    {
     "name": "stderr",
     "output_type": "stream",
     "text": [
      "Loading required package: lattice\n",
      "\n",
      "Attaching package: 'caret'\n",
      "\n",
      "The following object is masked from 'package:purrr':\n",
      "\n",
      "    lift\n",
      "\n"
     ]
    }
   ],
   "source": [
    "library(caret)"
   ]
  },
  {
   "cell_type": "markdown",
   "metadata": {},
   "source": [
    "You can retrieve all the models supported by **CARET** using the **getModelInfo** function, "
   ]
  },
  {
   "cell_type": "code",
   "execution_count": 17,
   "metadata": {},
   "outputs": [
    {
     "data": {
      "text/html": [
       "<ol class=list-inline>\n",
       "\t<li>'ada'</li>\n",
       "\t<li>'AdaBag'</li>\n",
       "\t<li>'AdaBoost.M1'</li>\n",
       "\t<li>'adaboost'</li>\n",
       "\t<li>'amdai'</li>\n",
       "\t<li>'ANFIS'</li>\n",
       "\t<li>'avNNet'</li>\n",
       "\t<li>'awnb'</li>\n",
       "\t<li>'awtan'</li>\n",
       "\t<li>'bag'</li>\n",
       "\t<li>'bagEarth'</li>\n",
       "\t<li>'bagEarthGCV'</li>\n",
       "\t<li>'bagFDA'</li>\n",
       "\t<li>'bagFDAGCV'</li>\n",
       "\t<li>'bam'</li>\n",
       "\t<li>'bartMachine'</li>\n",
       "\t<li>'bayesglm'</li>\n",
       "\t<li>'binda'</li>\n",
       "\t<li>'blackboost'</li>\n",
       "\t<li>'blasso'</li>\n",
       "\t<li>'blassoAveraged'</li>\n",
       "\t<li>'bridge'</li>\n",
       "\t<li>'brnn'</li>\n",
       "\t<li>'BstLm'</li>\n",
       "\t<li>'bstSm'</li>\n",
       "\t<li>'bstTree'</li>\n",
       "\t<li>'C5.0'</li>\n",
       "\t<li>'C5.0Cost'</li>\n",
       "\t<li>'C5.0Rules'</li>\n",
       "\t<li>'C5.0Tree'</li>\n",
       "\t<li>'cforest'</li>\n",
       "\t<li>'chaid'</li>\n",
       "\t<li>'CSimca'</li>\n",
       "\t<li>'ctree'</li>\n",
       "\t<li>'ctree2'</li>\n",
       "\t<li>'cubist'</li>\n",
       "\t<li>'dda'</li>\n",
       "\t<li>'deepboost'</li>\n",
       "\t<li>'DENFIS'</li>\n",
       "\t<li>'dnn'</li>\n",
       "\t<li>'dwdLinear'</li>\n",
       "\t<li>'dwdPoly'</li>\n",
       "\t<li>'dwdRadial'</li>\n",
       "\t<li>'earth'</li>\n",
       "\t<li>'elm'</li>\n",
       "\t<li>'enet'</li>\n",
       "\t<li>'evtree'</li>\n",
       "\t<li>'extraTrees'</li>\n",
       "\t<li>'fda'</li>\n",
       "\t<li>'FH.GBML'</li>\n",
       "\t<li>'FIR.DM'</li>\n",
       "\t<li>'foba'</li>\n",
       "\t<li>'FRBCS.CHI'</li>\n",
       "\t<li>'FRBCS.W'</li>\n",
       "\t<li>'FS.HGD'</li>\n",
       "\t<li>'gam'</li>\n",
       "\t<li>'gamboost'</li>\n",
       "\t<li>'gamLoess'</li>\n",
       "\t<li>'gamSpline'</li>\n",
       "\t<li>'gaussprLinear'</li>\n",
       "\t<li>'gaussprPoly'</li>\n",
       "\t<li>'gaussprRadial'</li>\n",
       "\t<li>'gbm_h2o'</li>\n",
       "\t<li>'gbm'</li>\n",
       "\t<li>'gcvEarth'</li>\n",
       "\t<li>'GFS.FR.MOGUL'</li>\n",
       "\t<li>'GFS.LT.RS'</li>\n",
       "\t<li>'GFS.THRIFT'</li>\n",
       "\t<li>'glm.nb'</li>\n",
       "\t<li>'glm'</li>\n",
       "\t<li>'glmboost'</li>\n",
       "\t<li>'glmnet_h2o'</li>\n",
       "\t<li>'glmnet'</li>\n",
       "\t<li>'glmStepAIC'</li>\n",
       "\t<li>'gpls'</li>\n",
       "\t<li>'hda'</li>\n",
       "\t<li>'hdda'</li>\n",
       "\t<li>'hdrda'</li>\n",
       "\t<li>'HYFIS'</li>\n",
       "\t<li>'icr'</li>\n",
       "\t<li>'J48'</li>\n",
       "\t<li>'JRip'</li>\n",
       "\t<li>'kernelpls'</li>\n",
       "\t<li>'kknn'</li>\n",
       "\t<li>'knn'</li>\n",
       "\t<li>'krlsPoly'</li>\n",
       "\t<li>'krlsRadial'</li>\n",
       "\t<li>'lars'</li>\n",
       "\t<li>'lars2'</li>\n",
       "\t<li>'lasso'</li>\n",
       "\t<li>'lda'</li>\n",
       "\t<li>'lda2'</li>\n",
       "\t<li>'leapBackward'</li>\n",
       "\t<li>'leapForward'</li>\n",
       "\t<li>'leapSeq'</li>\n",
       "\t<li>'Linda'</li>\n",
       "\t<li>'lm'</li>\n",
       "\t<li>'lmStepAIC'</li>\n",
       "\t<li>'LMT'</li>\n",
       "\t<li>'loclda'</li>\n",
       "\t<li>'logicBag'</li>\n",
       "\t<li>'LogitBoost'</li>\n",
       "\t<li>'logreg'</li>\n",
       "\t<li>'lssvmLinear'</li>\n",
       "\t<li>'lssvmPoly'</li>\n",
       "\t<li>'lssvmRadial'</li>\n",
       "\t<li>'lvq'</li>\n",
       "\t<li>'M5'</li>\n",
       "\t<li>'M5Rules'</li>\n",
       "\t<li>'manb'</li>\n",
       "\t<li>'mda'</li>\n",
       "\t<li>'Mlda'</li>\n",
       "\t<li>'mlp'</li>\n",
       "\t<li>'mlpKerasDecay'</li>\n",
       "\t<li>'mlpKerasDecayCost'</li>\n",
       "\t<li>'mlpKerasDropout'</li>\n",
       "\t<li>'mlpKerasDropoutCost'</li>\n",
       "\t<li>'mlpML'</li>\n",
       "\t<li>'mlpSGD'</li>\n",
       "\t<li>'mlpWeightDecay'</li>\n",
       "\t<li>'mlpWeightDecayML'</li>\n",
       "\t<li>'monmlp'</li>\n",
       "\t<li>'msaenet'</li>\n",
       "\t<li>'multinom'</li>\n",
       "\t<li>'mxnet'</li>\n",
       "\t<li>'mxnetAdam'</li>\n",
       "\t<li>'naive_bayes'</li>\n",
       "\t<li>'nb'</li>\n",
       "\t<li>'nbDiscrete'</li>\n",
       "\t<li>'nbSearch'</li>\n",
       "\t<li>'neuralnet'</li>\n",
       "\t<li>'nnet'</li>\n",
       "\t<li>'nnls'</li>\n",
       "\t<li>'nodeHarvest'</li>\n",
       "\t<li>'null'</li>\n",
       "\t<li>'OneR'</li>\n",
       "\t<li>'ordinalNet'</li>\n",
       "\t<li>'ORFlog'</li>\n",
       "\t<li>'ORFpls'</li>\n",
       "\t<li>'ORFridge'</li>\n",
       "\t<li>'ORFsvm'</li>\n",
       "\t<li>'ownn'</li>\n",
       "\t<li>'pam'</li>\n",
       "\t<li>'parRF'</li>\n",
       "\t<li>'PART'</li>\n",
       "\t<li>'partDSA'</li>\n",
       "\t<li>'pcaNNet'</li>\n",
       "\t<li>'pcr'</li>\n",
       "\t<li>'pda'</li>\n",
       "\t<li>'pda2'</li>\n",
       "\t<li>'penalized'</li>\n",
       "\t<li>'PenalizedLDA'</li>\n",
       "\t<li>'plr'</li>\n",
       "\t<li>'pls'</li>\n",
       "\t<li>'plsRglm'</li>\n",
       "\t<li>'polr'</li>\n",
       "\t<li>'ppr'</li>\n",
       "\t<li>'PRIM'</li>\n",
       "\t<li>'protoclass'</li>\n",
       "\t<li>'pythonKnnReg'</li>\n",
       "\t<li>'qda'</li>\n",
       "\t<li>'QdaCov'</li>\n",
       "\t<li>'qrf'</li>\n",
       "\t<li>'qrnn'</li>\n",
       "\t<li>'randomGLM'</li>\n",
       "\t<li>'ranger'</li>\n",
       "\t<li>'rbf'</li>\n",
       "\t<li>'rbfDDA'</li>\n",
       "\t<li>'Rborist'</li>\n",
       "\t<li>'rda'</li>\n",
       "\t<li>'regLogistic'</li>\n",
       "\t<li>'relaxo'</li>\n",
       "\t<li>'rf'</li>\n",
       "\t<li>'rFerns'</li>\n",
       "\t<li>'RFlda'</li>\n",
       "\t<li>'rfRules'</li>\n",
       "\t<li>'ridge'</li>\n",
       "\t<li>'rlda'</li>\n",
       "\t<li>'rlm'</li>\n",
       "\t<li>'rmda'</li>\n",
       "\t<li>'rocc'</li>\n",
       "\t<li>'rotationForest'</li>\n",
       "\t<li>'rotationForestCp'</li>\n",
       "\t<li>'rpart'</li>\n",
       "\t<li>'rpart1SE'</li>\n",
       "\t<li>'rpart2'</li>\n",
       "\t<li>'rpartCost'</li>\n",
       "\t<li>'rpartScore'</li>\n",
       "\t<li>'rqlasso'</li>\n",
       "\t<li>'rqnc'</li>\n",
       "\t<li>'RRF'</li>\n",
       "\t<li>'RRFglobal'</li>\n",
       "\t<li>'rrlda'</li>\n",
       "\t<li>'RSimca'</li>\n",
       "\t<li>'rvmLinear'</li>\n",
       "\t<li>'rvmPoly'</li>\n",
       "\t<li>'rvmRadial'</li>\n",
       "\t<li>'SBC'</li>\n",
       "\t<li>'sda'</li>\n",
       "\t<li>'sdwd'</li>\n",
       "\t<li>'simpls'</li>\n",
       "\t<li>'SLAVE'</li>\n",
       "\t<li>'slda'</li>\n",
       "\t<li>'smda'</li>\n",
       "\t<li>'snn'</li>\n",
       "\t<li>'sparseLDA'</li>\n",
       "\t<li>'spikeslab'</li>\n",
       "\t<li>'spls'</li>\n",
       "\t<li>'stepLDA'</li>\n",
       "\t<li>'stepQDA'</li>\n",
       "\t<li>'superpc'</li>\n",
       "\t<li>'svmBoundrangeString'</li>\n",
       "\t<li>'svmExpoString'</li>\n",
       "\t<li>'svmLinear'</li>\n",
       "\t<li>'svmLinear2'</li>\n",
       "\t<li>'svmLinear3'</li>\n",
       "\t<li>'svmLinearWeights'</li>\n",
       "\t<li>'svmLinearWeights2'</li>\n",
       "\t<li>'svmPoly'</li>\n",
       "\t<li>'svmRadial'</li>\n",
       "\t<li>'svmRadialCost'</li>\n",
       "\t<li>'svmRadialSigma'</li>\n",
       "\t<li>'svmRadialWeights'</li>\n",
       "\t<li>'svmSpectrumString'</li>\n",
       "\t<li>'tan'</li>\n",
       "\t<li>'tanSearch'</li>\n",
       "\t<li>'treebag'</li>\n",
       "\t<li>'vbmpRadial'</li>\n",
       "\t<li>'vglmAdjCat'</li>\n",
       "\t<li>'vglmContRatio'</li>\n",
       "\t<li>'vglmCumulative'</li>\n",
       "\t<li>'widekernelpls'</li>\n",
       "\t<li>'WM'</li>\n",
       "\t<li>'wsrf'</li>\n",
       "\t<li>'xgbDART'</li>\n",
       "\t<li>'xgbLinear'</li>\n",
       "\t<li>'xgbTree'</li>\n",
       "\t<li>'xyf'</li>\n",
       "</ol>\n"
      ],
      "text/latex": [
       "\\begin{enumerate*}\n",
       "\\item 'ada'\n",
       "\\item 'AdaBag'\n",
       "\\item 'AdaBoost.M1'\n",
       "\\item 'adaboost'\n",
       "\\item 'amdai'\n",
       "\\item 'ANFIS'\n",
       "\\item 'avNNet'\n",
       "\\item 'awnb'\n",
       "\\item 'awtan'\n",
       "\\item 'bag'\n",
       "\\item 'bagEarth'\n",
       "\\item 'bagEarthGCV'\n",
       "\\item 'bagFDA'\n",
       "\\item 'bagFDAGCV'\n",
       "\\item 'bam'\n",
       "\\item 'bartMachine'\n",
       "\\item 'bayesglm'\n",
       "\\item 'binda'\n",
       "\\item 'blackboost'\n",
       "\\item 'blasso'\n",
       "\\item 'blassoAveraged'\n",
       "\\item 'bridge'\n",
       "\\item 'brnn'\n",
       "\\item 'BstLm'\n",
       "\\item 'bstSm'\n",
       "\\item 'bstTree'\n",
       "\\item 'C5.0'\n",
       "\\item 'C5.0Cost'\n",
       "\\item 'C5.0Rules'\n",
       "\\item 'C5.0Tree'\n",
       "\\item 'cforest'\n",
       "\\item 'chaid'\n",
       "\\item 'CSimca'\n",
       "\\item 'ctree'\n",
       "\\item 'ctree2'\n",
       "\\item 'cubist'\n",
       "\\item 'dda'\n",
       "\\item 'deepboost'\n",
       "\\item 'DENFIS'\n",
       "\\item 'dnn'\n",
       "\\item 'dwdLinear'\n",
       "\\item 'dwdPoly'\n",
       "\\item 'dwdRadial'\n",
       "\\item 'earth'\n",
       "\\item 'elm'\n",
       "\\item 'enet'\n",
       "\\item 'evtree'\n",
       "\\item 'extraTrees'\n",
       "\\item 'fda'\n",
       "\\item 'FH.GBML'\n",
       "\\item 'FIR.DM'\n",
       "\\item 'foba'\n",
       "\\item 'FRBCS.CHI'\n",
       "\\item 'FRBCS.W'\n",
       "\\item 'FS.HGD'\n",
       "\\item 'gam'\n",
       "\\item 'gamboost'\n",
       "\\item 'gamLoess'\n",
       "\\item 'gamSpline'\n",
       "\\item 'gaussprLinear'\n",
       "\\item 'gaussprPoly'\n",
       "\\item 'gaussprRadial'\n",
       "\\item 'gbm\\_h2o'\n",
       "\\item 'gbm'\n",
       "\\item 'gcvEarth'\n",
       "\\item 'GFS.FR.MOGUL'\n",
       "\\item 'GFS.LT.RS'\n",
       "\\item 'GFS.THRIFT'\n",
       "\\item 'glm.nb'\n",
       "\\item 'glm'\n",
       "\\item 'glmboost'\n",
       "\\item 'glmnet\\_h2o'\n",
       "\\item 'glmnet'\n",
       "\\item 'glmStepAIC'\n",
       "\\item 'gpls'\n",
       "\\item 'hda'\n",
       "\\item 'hdda'\n",
       "\\item 'hdrda'\n",
       "\\item 'HYFIS'\n",
       "\\item 'icr'\n",
       "\\item 'J48'\n",
       "\\item 'JRip'\n",
       "\\item 'kernelpls'\n",
       "\\item 'kknn'\n",
       "\\item 'knn'\n",
       "\\item 'krlsPoly'\n",
       "\\item 'krlsRadial'\n",
       "\\item 'lars'\n",
       "\\item 'lars2'\n",
       "\\item 'lasso'\n",
       "\\item 'lda'\n",
       "\\item 'lda2'\n",
       "\\item 'leapBackward'\n",
       "\\item 'leapForward'\n",
       "\\item 'leapSeq'\n",
       "\\item 'Linda'\n",
       "\\item 'lm'\n",
       "\\item 'lmStepAIC'\n",
       "\\item 'LMT'\n",
       "\\item 'loclda'\n",
       "\\item 'logicBag'\n",
       "\\item 'LogitBoost'\n",
       "\\item 'logreg'\n",
       "\\item 'lssvmLinear'\n",
       "\\item 'lssvmPoly'\n",
       "\\item 'lssvmRadial'\n",
       "\\item 'lvq'\n",
       "\\item 'M5'\n",
       "\\item 'M5Rules'\n",
       "\\item 'manb'\n",
       "\\item 'mda'\n",
       "\\item 'Mlda'\n",
       "\\item 'mlp'\n",
       "\\item 'mlpKerasDecay'\n",
       "\\item 'mlpKerasDecayCost'\n",
       "\\item 'mlpKerasDropout'\n",
       "\\item 'mlpKerasDropoutCost'\n",
       "\\item 'mlpML'\n",
       "\\item 'mlpSGD'\n",
       "\\item 'mlpWeightDecay'\n",
       "\\item 'mlpWeightDecayML'\n",
       "\\item 'monmlp'\n",
       "\\item 'msaenet'\n",
       "\\item 'multinom'\n",
       "\\item 'mxnet'\n",
       "\\item 'mxnetAdam'\n",
       "\\item 'naive\\_bayes'\n",
       "\\item 'nb'\n",
       "\\item 'nbDiscrete'\n",
       "\\item 'nbSearch'\n",
       "\\item 'neuralnet'\n",
       "\\item 'nnet'\n",
       "\\item 'nnls'\n",
       "\\item 'nodeHarvest'\n",
       "\\item 'null'\n",
       "\\item 'OneR'\n",
       "\\item 'ordinalNet'\n",
       "\\item 'ORFlog'\n",
       "\\item 'ORFpls'\n",
       "\\item 'ORFridge'\n",
       "\\item 'ORFsvm'\n",
       "\\item 'ownn'\n",
       "\\item 'pam'\n",
       "\\item 'parRF'\n",
       "\\item 'PART'\n",
       "\\item 'partDSA'\n",
       "\\item 'pcaNNet'\n",
       "\\item 'pcr'\n",
       "\\item 'pda'\n",
       "\\item 'pda2'\n",
       "\\item 'penalized'\n",
       "\\item 'PenalizedLDA'\n",
       "\\item 'plr'\n",
       "\\item 'pls'\n",
       "\\item 'plsRglm'\n",
       "\\item 'polr'\n",
       "\\item 'ppr'\n",
       "\\item 'PRIM'\n",
       "\\item 'protoclass'\n",
       "\\item 'pythonKnnReg'\n",
       "\\item 'qda'\n",
       "\\item 'QdaCov'\n",
       "\\item 'qrf'\n",
       "\\item 'qrnn'\n",
       "\\item 'randomGLM'\n",
       "\\item 'ranger'\n",
       "\\item 'rbf'\n",
       "\\item 'rbfDDA'\n",
       "\\item 'Rborist'\n",
       "\\item 'rda'\n",
       "\\item 'regLogistic'\n",
       "\\item 'relaxo'\n",
       "\\item 'rf'\n",
       "\\item 'rFerns'\n",
       "\\item 'RFlda'\n",
       "\\item 'rfRules'\n",
       "\\item 'ridge'\n",
       "\\item 'rlda'\n",
       "\\item 'rlm'\n",
       "\\item 'rmda'\n",
       "\\item 'rocc'\n",
       "\\item 'rotationForest'\n",
       "\\item 'rotationForestCp'\n",
       "\\item 'rpart'\n",
       "\\item 'rpart1SE'\n",
       "\\item 'rpart2'\n",
       "\\item 'rpartCost'\n",
       "\\item 'rpartScore'\n",
       "\\item 'rqlasso'\n",
       "\\item 'rqnc'\n",
       "\\item 'RRF'\n",
       "\\item 'RRFglobal'\n",
       "\\item 'rrlda'\n",
       "\\item 'RSimca'\n",
       "\\item 'rvmLinear'\n",
       "\\item 'rvmPoly'\n",
       "\\item 'rvmRadial'\n",
       "\\item 'SBC'\n",
       "\\item 'sda'\n",
       "\\item 'sdwd'\n",
       "\\item 'simpls'\n",
       "\\item 'SLAVE'\n",
       "\\item 'slda'\n",
       "\\item 'smda'\n",
       "\\item 'snn'\n",
       "\\item 'sparseLDA'\n",
       "\\item 'spikeslab'\n",
       "\\item 'spls'\n",
       "\\item 'stepLDA'\n",
       "\\item 'stepQDA'\n",
       "\\item 'superpc'\n",
       "\\item 'svmBoundrangeString'\n",
       "\\item 'svmExpoString'\n",
       "\\item 'svmLinear'\n",
       "\\item 'svmLinear2'\n",
       "\\item 'svmLinear3'\n",
       "\\item 'svmLinearWeights'\n",
       "\\item 'svmLinearWeights2'\n",
       "\\item 'svmPoly'\n",
       "\\item 'svmRadial'\n",
       "\\item 'svmRadialCost'\n",
       "\\item 'svmRadialSigma'\n",
       "\\item 'svmRadialWeights'\n",
       "\\item 'svmSpectrumString'\n",
       "\\item 'tan'\n",
       "\\item 'tanSearch'\n",
       "\\item 'treebag'\n",
       "\\item 'vbmpRadial'\n",
       "\\item 'vglmAdjCat'\n",
       "\\item 'vglmContRatio'\n",
       "\\item 'vglmCumulative'\n",
       "\\item 'widekernelpls'\n",
       "\\item 'WM'\n",
       "\\item 'wsrf'\n",
       "\\item 'xgbDART'\n",
       "\\item 'xgbLinear'\n",
       "\\item 'xgbTree'\n",
       "\\item 'xyf'\n",
       "\\end{enumerate*}\n"
      ],
      "text/markdown": [
       "1. 'ada'\n",
       "2. 'AdaBag'\n",
       "3. 'AdaBoost.M1'\n",
       "4. 'adaboost'\n",
       "5. 'amdai'\n",
       "6. 'ANFIS'\n",
       "7. 'avNNet'\n",
       "8. 'awnb'\n",
       "9. 'awtan'\n",
       "10. 'bag'\n",
       "11. 'bagEarth'\n",
       "12. 'bagEarthGCV'\n",
       "13. 'bagFDA'\n",
       "14. 'bagFDAGCV'\n",
       "15. 'bam'\n",
       "16. 'bartMachine'\n",
       "17. 'bayesglm'\n",
       "18. 'binda'\n",
       "19. 'blackboost'\n",
       "20. 'blasso'\n",
       "21. 'blassoAveraged'\n",
       "22. 'bridge'\n",
       "23. 'brnn'\n",
       "24. 'BstLm'\n",
       "25. 'bstSm'\n",
       "26. 'bstTree'\n",
       "27. 'C5.0'\n",
       "28. 'C5.0Cost'\n",
       "29. 'C5.0Rules'\n",
       "30. 'C5.0Tree'\n",
       "31. 'cforest'\n",
       "32. 'chaid'\n",
       "33. 'CSimca'\n",
       "34. 'ctree'\n",
       "35. 'ctree2'\n",
       "36. 'cubist'\n",
       "37. 'dda'\n",
       "38. 'deepboost'\n",
       "39. 'DENFIS'\n",
       "40. 'dnn'\n",
       "41. 'dwdLinear'\n",
       "42. 'dwdPoly'\n",
       "43. 'dwdRadial'\n",
       "44. 'earth'\n",
       "45. 'elm'\n",
       "46. 'enet'\n",
       "47. 'evtree'\n",
       "48. 'extraTrees'\n",
       "49. 'fda'\n",
       "50. 'FH.GBML'\n",
       "51. 'FIR.DM'\n",
       "52. 'foba'\n",
       "53. 'FRBCS.CHI'\n",
       "54. 'FRBCS.W'\n",
       "55. 'FS.HGD'\n",
       "56. 'gam'\n",
       "57. 'gamboost'\n",
       "58. 'gamLoess'\n",
       "59. 'gamSpline'\n",
       "60. 'gaussprLinear'\n",
       "61. 'gaussprPoly'\n",
       "62. 'gaussprRadial'\n",
       "63. 'gbm_h2o'\n",
       "64. 'gbm'\n",
       "65. 'gcvEarth'\n",
       "66. 'GFS.FR.MOGUL'\n",
       "67. 'GFS.LT.RS'\n",
       "68. 'GFS.THRIFT'\n",
       "69. 'glm.nb'\n",
       "70. 'glm'\n",
       "71. 'glmboost'\n",
       "72. 'glmnet_h2o'\n",
       "73. 'glmnet'\n",
       "74. 'glmStepAIC'\n",
       "75. 'gpls'\n",
       "76. 'hda'\n",
       "77. 'hdda'\n",
       "78. 'hdrda'\n",
       "79. 'HYFIS'\n",
       "80. 'icr'\n",
       "81. 'J48'\n",
       "82. 'JRip'\n",
       "83. 'kernelpls'\n",
       "84. 'kknn'\n",
       "85. 'knn'\n",
       "86. 'krlsPoly'\n",
       "87. 'krlsRadial'\n",
       "88. 'lars'\n",
       "89. 'lars2'\n",
       "90. 'lasso'\n",
       "91. 'lda'\n",
       "92. 'lda2'\n",
       "93. 'leapBackward'\n",
       "94. 'leapForward'\n",
       "95. 'leapSeq'\n",
       "96. 'Linda'\n",
       "97. 'lm'\n",
       "98. 'lmStepAIC'\n",
       "99. 'LMT'\n",
       "100. 'loclda'\n",
       "101. 'logicBag'\n",
       "102. 'LogitBoost'\n",
       "103. 'logreg'\n",
       "104. 'lssvmLinear'\n",
       "105. 'lssvmPoly'\n",
       "106. 'lssvmRadial'\n",
       "107. 'lvq'\n",
       "108. 'M5'\n",
       "109. 'M5Rules'\n",
       "110. 'manb'\n",
       "111. 'mda'\n",
       "112. 'Mlda'\n",
       "113. 'mlp'\n",
       "114. 'mlpKerasDecay'\n",
       "115. 'mlpKerasDecayCost'\n",
       "116. 'mlpKerasDropout'\n",
       "117. 'mlpKerasDropoutCost'\n",
       "118. 'mlpML'\n",
       "119. 'mlpSGD'\n",
       "120. 'mlpWeightDecay'\n",
       "121. 'mlpWeightDecayML'\n",
       "122. 'monmlp'\n",
       "123. 'msaenet'\n",
       "124. 'multinom'\n",
       "125. 'mxnet'\n",
       "126. 'mxnetAdam'\n",
       "127. 'naive_bayes'\n",
       "128. 'nb'\n",
       "129. 'nbDiscrete'\n",
       "130. 'nbSearch'\n",
       "131. 'neuralnet'\n",
       "132. 'nnet'\n",
       "133. 'nnls'\n",
       "134. 'nodeHarvest'\n",
       "135. 'null'\n",
       "136. 'OneR'\n",
       "137. 'ordinalNet'\n",
       "138. 'ORFlog'\n",
       "139. 'ORFpls'\n",
       "140. 'ORFridge'\n",
       "141. 'ORFsvm'\n",
       "142. 'ownn'\n",
       "143. 'pam'\n",
       "144. 'parRF'\n",
       "145. 'PART'\n",
       "146. 'partDSA'\n",
       "147. 'pcaNNet'\n",
       "148. 'pcr'\n",
       "149. 'pda'\n",
       "150. 'pda2'\n",
       "151. 'penalized'\n",
       "152. 'PenalizedLDA'\n",
       "153. 'plr'\n",
       "154. 'pls'\n",
       "155. 'plsRglm'\n",
       "156. 'polr'\n",
       "157. 'ppr'\n",
       "158. 'PRIM'\n",
       "159. 'protoclass'\n",
       "160. 'pythonKnnReg'\n",
       "161. 'qda'\n",
       "162. 'QdaCov'\n",
       "163. 'qrf'\n",
       "164. 'qrnn'\n",
       "165. 'randomGLM'\n",
       "166. 'ranger'\n",
       "167. 'rbf'\n",
       "168. 'rbfDDA'\n",
       "169. 'Rborist'\n",
       "170. 'rda'\n",
       "171. 'regLogistic'\n",
       "172. 'relaxo'\n",
       "173. 'rf'\n",
       "174. 'rFerns'\n",
       "175. 'RFlda'\n",
       "176. 'rfRules'\n",
       "177. 'ridge'\n",
       "178. 'rlda'\n",
       "179. 'rlm'\n",
       "180. 'rmda'\n",
       "181. 'rocc'\n",
       "182. 'rotationForest'\n",
       "183. 'rotationForestCp'\n",
       "184. 'rpart'\n",
       "185. 'rpart1SE'\n",
       "186. 'rpart2'\n",
       "187. 'rpartCost'\n",
       "188. 'rpartScore'\n",
       "189. 'rqlasso'\n",
       "190. 'rqnc'\n",
       "191. 'RRF'\n",
       "192. 'RRFglobal'\n",
       "193. 'rrlda'\n",
       "194. 'RSimca'\n",
       "195. 'rvmLinear'\n",
       "196. 'rvmPoly'\n",
       "197. 'rvmRadial'\n",
       "198. 'SBC'\n",
       "199. 'sda'\n",
       "200. 'sdwd'\n",
       "201. 'simpls'\n",
       "202. 'SLAVE'\n",
       "203. 'slda'\n",
       "204. 'smda'\n",
       "205. 'snn'\n",
       "206. 'sparseLDA'\n",
       "207. 'spikeslab'\n",
       "208. 'spls'\n",
       "209. 'stepLDA'\n",
       "210. 'stepQDA'\n",
       "211. 'superpc'\n",
       "212. 'svmBoundrangeString'\n",
       "213. 'svmExpoString'\n",
       "214. 'svmLinear'\n",
       "215. 'svmLinear2'\n",
       "216. 'svmLinear3'\n",
       "217. 'svmLinearWeights'\n",
       "218. 'svmLinearWeights2'\n",
       "219. 'svmPoly'\n",
       "220. 'svmRadial'\n",
       "221. 'svmRadialCost'\n",
       "222. 'svmRadialSigma'\n",
       "223. 'svmRadialWeights'\n",
       "224. 'svmSpectrumString'\n",
       "225. 'tan'\n",
       "226. 'tanSearch'\n",
       "227. 'treebag'\n",
       "228. 'vbmpRadial'\n",
       "229. 'vglmAdjCat'\n",
       "230. 'vglmContRatio'\n",
       "231. 'vglmCumulative'\n",
       "232. 'widekernelpls'\n",
       "233. 'WM'\n",
       "234. 'wsrf'\n",
       "235. 'xgbDART'\n",
       "236. 'xgbLinear'\n",
       "237. 'xgbTree'\n",
       "238. 'xyf'\n",
       "\n",
       "\n"
      ],
      "text/plain": [
       "  [1] \"ada\"                 \"AdaBag\"              \"AdaBoost.M1\"        \n",
       "  [4] \"adaboost\"            \"amdai\"               \"ANFIS\"              \n",
       "  [7] \"avNNet\"              \"awnb\"                \"awtan\"              \n",
       " [10] \"bag\"                 \"bagEarth\"            \"bagEarthGCV\"        \n",
       " [13] \"bagFDA\"              \"bagFDAGCV\"           \"bam\"                \n",
       " [16] \"bartMachine\"         \"bayesglm\"            \"binda\"              \n",
       " [19] \"blackboost\"          \"blasso\"              \"blassoAveraged\"     \n",
       " [22] \"bridge\"              \"brnn\"                \"BstLm\"              \n",
       " [25] \"bstSm\"               \"bstTree\"             \"C5.0\"               \n",
       " [28] \"C5.0Cost\"            \"C5.0Rules\"           \"C5.0Tree\"           \n",
       " [31] \"cforest\"             \"chaid\"               \"CSimca\"             \n",
       " [34] \"ctree\"               \"ctree2\"              \"cubist\"             \n",
       " [37] \"dda\"                 \"deepboost\"           \"DENFIS\"             \n",
       " [40] \"dnn\"                 \"dwdLinear\"           \"dwdPoly\"            \n",
       " [43] \"dwdRadial\"           \"earth\"               \"elm\"                \n",
       " [46] \"enet\"                \"evtree\"              \"extraTrees\"         \n",
       " [49] \"fda\"                 \"FH.GBML\"             \"FIR.DM\"             \n",
       " [52] \"foba\"                \"FRBCS.CHI\"           \"FRBCS.W\"            \n",
       " [55] \"FS.HGD\"              \"gam\"                 \"gamboost\"           \n",
       " [58] \"gamLoess\"            \"gamSpline\"           \"gaussprLinear\"      \n",
       " [61] \"gaussprPoly\"         \"gaussprRadial\"       \"gbm_h2o\"            \n",
       " [64] \"gbm\"                 \"gcvEarth\"            \"GFS.FR.MOGUL\"       \n",
       " [67] \"GFS.LT.RS\"           \"GFS.THRIFT\"          \"glm.nb\"             \n",
       " [70] \"glm\"                 \"glmboost\"            \"glmnet_h2o\"         \n",
       " [73] \"glmnet\"              \"glmStepAIC\"          \"gpls\"               \n",
       " [76] \"hda\"                 \"hdda\"                \"hdrda\"              \n",
       " [79] \"HYFIS\"               \"icr\"                 \"J48\"                \n",
       " [82] \"JRip\"                \"kernelpls\"           \"kknn\"               \n",
       " [85] \"knn\"                 \"krlsPoly\"            \"krlsRadial\"         \n",
       " [88] \"lars\"                \"lars2\"               \"lasso\"              \n",
       " [91] \"lda\"                 \"lda2\"                \"leapBackward\"       \n",
       " [94] \"leapForward\"         \"leapSeq\"             \"Linda\"              \n",
       " [97] \"lm\"                  \"lmStepAIC\"           \"LMT\"                \n",
       "[100] \"loclda\"              \"logicBag\"            \"LogitBoost\"         \n",
       "[103] \"logreg\"              \"lssvmLinear\"         \"lssvmPoly\"          \n",
       "[106] \"lssvmRadial\"         \"lvq\"                 \"M5\"                 \n",
       "[109] \"M5Rules\"             \"manb\"                \"mda\"                \n",
       "[112] \"Mlda\"                \"mlp\"                 \"mlpKerasDecay\"      \n",
       "[115] \"mlpKerasDecayCost\"   \"mlpKerasDropout\"     \"mlpKerasDropoutCost\"\n",
       "[118] \"mlpML\"               \"mlpSGD\"              \"mlpWeightDecay\"     \n",
       "[121] \"mlpWeightDecayML\"    \"monmlp\"              \"msaenet\"            \n",
       "[124] \"multinom\"            \"mxnet\"               \"mxnetAdam\"          \n",
       "[127] \"naive_bayes\"         \"nb\"                  \"nbDiscrete\"         \n",
       "[130] \"nbSearch\"            \"neuralnet\"           \"nnet\"               \n",
       "[133] \"nnls\"                \"nodeHarvest\"         \"null\"               \n",
       "[136] \"OneR\"                \"ordinalNet\"          \"ORFlog\"             \n",
       "[139] \"ORFpls\"              \"ORFridge\"            \"ORFsvm\"             \n",
       "[142] \"ownn\"                \"pam\"                 \"parRF\"              \n",
       "[145] \"PART\"                \"partDSA\"             \"pcaNNet\"            \n",
       "[148] \"pcr\"                 \"pda\"                 \"pda2\"               \n",
       "[151] \"penalized\"           \"PenalizedLDA\"        \"plr\"                \n",
       "[154] \"pls\"                 \"plsRglm\"             \"polr\"               \n",
       "[157] \"ppr\"                 \"PRIM\"                \"protoclass\"         \n",
       "[160] \"pythonKnnReg\"        \"qda\"                 \"QdaCov\"             \n",
       "[163] \"qrf\"                 \"qrnn\"                \"randomGLM\"          \n",
       "[166] \"ranger\"              \"rbf\"                 \"rbfDDA\"             \n",
       "[169] \"Rborist\"             \"rda\"                 \"regLogistic\"        \n",
       "[172] \"relaxo\"              \"rf\"                  \"rFerns\"             \n",
       "[175] \"RFlda\"               \"rfRules\"             \"ridge\"              \n",
       "[178] \"rlda\"                \"rlm\"                 \"rmda\"               \n",
       "[181] \"rocc\"                \"rotationForest\"      \"rotationForestCp\"   \n",
       "[184] \"rpart\"               \"rpart1SE\"            \"rpart2\"             \n",
       "[187] \"rpartCost\"           \"rpartScore\"          \"rqlasso\"            \n",
       "[190] \"rqnc\"                \"RRF\"                 \"RRFglobal\"          \n",
       "[193] \"rrlda\"               \"RSimca\"              \"rvmLinear\"          \n",
       "[196] \"rvmPoly\"             \"rvmRadial\"           \"SBC\"                \n",
       "[199] \"sda\"                 \"sdwd\"                \"simpls\"             \n",
       "[202] \"SLAVE\"               \"slda\"                \"smda\"               \n",
       "[205] \"snn\"                 \"sparseLDA\"           \"spikeslab\"          \n",
       "[208] \"spls\"                \"stepLDA\"             \"stepQDA\"            \n",
       "[211] \"superpc\"             \"svmBoundrangeString\" \"svmExpoString\"      \n",
       "[214] \"svmLinear\"           \"svmLinear2\"          \"svmLinear3\"         \n",
       "[217] \"svmLinearWeights\"    \"svmLinearWeights2\"   \"svmPoly\"            \n",
       "[220] \"svmRadial\"           \"svmRadialCost\"       \"svmRadialSigma\"     \n",
       "[223] \"svmRadialWeights\"    \"svmSpectrumString\"   \"tan\"                \n",
       "[226] \"tanSearch\"           \"treebag\"             \"vbmpRadial\"         \n",
       "[229] \"vglmAdjCat\"          \"vglmContRatio\"       \"vglmCumulative\"     \n",
       "[232] \"widekernelpls\"       \"WM\"                  \"wsrf\"               \n",
       "[235] \"xgbDART\"             \"xgbLinear\"           \"xgbTree\"            \n",
       "[238] \"xyf\"                "
      ]
     },
     "metadata": {},
     "output_type": "display_data"
    },
    {
     "data": {
      "text/html": [
       "238"
      ],
      "text/latex": [
       "238"
      ],
      "text/markdown": [
       "238"
      ],
      "text/plain": [
       "[1] 238"
      ]
     },
     "metadata": {},
     "output_type": "display_data"
    }
   ],
   "source": [
    "models <- getModelInfo()\n",
    "names(models)\n",
    "length(models)"
   ]
  },
  {
   "cell_type": "markdown",
   "metadata": {},
   "source": [
    "**WOW** 238 models! Note that not all these models are implemented in **CARET** but the majority is implemented in an external library and you have to install the related package if you want to use it. The result of **getModelInfo** can be used to find which package you have to install to use a particular method:"
   ]
  },
  {
   "cell_type": "code",
   "execution_count": 18,
   "metadata": {},
   "outputs": [
    {
     "data": {
      "text/html": [
       "'k-Nearest Neighbors'"
      ],
      "text/latex": [
       "'k-Nearest Neighbors'"
      ],
      "text/markdown": [
       "'k-Nearest Neighbors'"
      ],
      "text/plain": [
       "[1] \"k-Nearest Neighbors\""
      ]
     },
     "metadata": {},
     "output_type": "display_data"
    },
    {
     "data": {
      "text/html": [
       "'kknn'"
      ],
      "text/latex": [
       "'kknn'"
      ],
      "text/markdown": [
       "'kknn'"
      ],
      "text/plain": [
       "[1] \"kknn\""
      ]
     },
     "metadata": {},
     "output_type": "display_data"
    }
   ],
   "source": [
    "models$kknn$label\n",
    "models$kknn$library"
   ]
  },
  {
   "cell_type": "markdown",
   "metadata": {},
   "source": [
    "So, if we want to use 'k-Nearest Neighbors' model we have to first install the **kknn** package. \n",
    "\n",
    "Ok nice, but how to train a model with **CARET**?"
   ]
  },
  {
   "cell_type": "code",
   "execution_count": 19,
   "metadata": {},
   "outputs": [
    {
     "data": {
      "text/plain": [
       "Linear Regression \n",
       "\n",
       "32 samples\n",
       " 1 predictor\n",
       "\n",
       "No pre-processing\n",
       "Resampling: Bootstrapped (25 reps) \n",
       "Summary of sample sizes: 32, 32, 32, 32, 32, 32, ... \n",
       "Resampling results:\n",
       "\n",
       "  RMSE      Rsquared   MAE     \n",
       "  3.439192  0.7461967  2.698404\n",
       "\n",
       "Tuning parameter 'intercept' was held constant at a value of TRUE"
      ]
     },
     "metadata": {},
     "output_type": "display_data"
    }
   ],
   "source": [
    "model <- train(mpg ~ cyl, mtcars, method = \"lm\")\n",
    "model"
   ]
  },
  {
   "cell_type": "markdown",
   "metadata": {},
   "source": [
    "Yes! But I want to use **kknn** not linear regression (that works with SAS too!)"
   ]
  },
  {
   "cell_type": "code",
   "execution_count": 20,
   "metadata": {},
   "outputs": [
    {
     "data": {
      "text/plain": [
       "k-Nearest Neighbors \n",
       "\n",
       "32 samples\n",
       " 1 predictor\n",
       "\n",
       "No pre-processing\n",
       "Resampling: Bootstrapped (25 reps) \n",
       "Summary of sample sizes: 32, 32, 32, 32, 32, 32, ... \n",
       "Resampling results across tuning parameters:\n",
       "\n",
       "  kmax  RMSE      Rsquared   MAE     \n",
       "  5     3.849350  0.7097963  3.108613\n",
       "  7     3.702916  0.7127775  2.982081\n",
       "  9     3.730827  0.7126921  2.988557\n",
       "\n",
       "Tuning parameter 'distance' was held constant at a value of 2\n",
       "Tuning\n",
       " parameter 'kernel' was held constant at a value of optimal\n",
       "RMSE was used to select the optimal model using the smallest value.\n",
       "The final values used for the model were kmax = 7, distance = 2 and kernel\n",
       " = optimal."
      ]
     },
     "metadata": {},
     "output_type": "display_data"
    }
   ],
   "source": [
    "model <- train(mpg ~ cyl, mtcars, method = \"kknn\")\n",
    "model"
   ]
  }
 ],
 "metadata": {
  "kernelspec": {
   "display_name": "R",
   "language": "R",
   "name": "ir"
  },
  "language_info": {
   "codemirror_mode": "r",
   "file_extension": ".r",
   "mimetype": "text/x-r-source",
   "name": "R",
   "pygments_lexer": "r",
   "version": "3.4.4"
  }
 },
 "nbformat": 4,
 "nbformat_minor": 2
}
