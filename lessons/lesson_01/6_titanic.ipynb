{
 "cells": [
  {
   "cell_type": "markdown",
   "metadata": {},
   "source": [
    "# A trivial example: Titanic dataset\n",
    "**That scene**. What a tragedy.\n",
    "But..."
   ]
  },
  {
   "cell_type": "markdown",
   "metadata": {},
   "source": [
    "![hadley](../fig/drowning_scene.jpg \"title-1\")"
   ]
  },
  {
   "cell_type": "markdown",
   "metadata": {},
   "source": [
    "...what if Jane had some machine learning to choose a better partner, more likely to survive in case of accident?"
   ]
  },
  {
   "cell_type": "code",
   "execution_count": 1,
   "metadata": {},
   "outputs": [
    {
     "name": "stderr",
     "output_type": "stream",
     "text": [
      "Loading required package: tidyverse\n",
      "-- Attaching packages --------------------------------------- tidyverse 1.2.1 --\n",
      "v ggplot2 2.2.1     v purrr   0.2.4\n",
      "v tibble  1.4.2     v dplyr   0.7.4\n",
      "v tidyr   0.8.0     v stringr 1.3.0\n",
      "v readr   1.1.1     v forcats 0.3.0\n",
      "-- Conflicts ------------------------------------------ tidyverse_conflicts() --\n",
      "x dplyr::filter() masks stats::filter()\n",
      "x dplyr::lag()    masks stats::lag()\n",
      "Loading required package: caret\n",
      "Loading required package: lattice\n",
      "\n",
      "Attaching package: 'caret'\n",
      "\n",
      "The following object is masked from 'package:purrr':\n",
      "\n",
      "    lift\n",
      "\n",
      "Loading required package: keras\n",
      "Loading required package: mlbench\n",
      "Loading required package: ggthemes\n",
      "Loading required package: assertthat\n",
      "\n",
      "Attaching package: 'assertthat'\n",
      "\n",
      "The following object is masked from 'package:tibble':\n",
      "\n",
      "    has_name\n",
      "\n",
      "Loading required package: kernlab\n",
      "\n",
      "Attaching package: 'kernlab'\n",
      "\n",
      "The following object is masked from 'package:purrr':\n",
      "\n",
      "    cross\n",
      "\n",
      "The following object is masked from 'package:ggplot2':\n",
      "\n",
      "    alpha\n",
      "\n",
      "Loading required package: rattle\n",
      "Rattle: A free graphical interface for data science with R.\n",
      "Version 5.1.0 Copyright (c) 2006-2017 Togaware Pty Ltd.\n",
      "Type 'rattle()' to shake, rattle, and roll your data.\n"
     ]
    }
   ],
   "source": [
    "options(warn=-1)\n",
    "setwd('~')\n",
    "source('src/lib.R')"
   ]
  },
  {
   "cell_type": "code",
   "execution_count": 87,
   "metadata": {},
   "outputs": [
    {
     "name": "stderr",
     "output_type": "stream",
     "text": [
      "Parsed with column specification:\n",
      "cols(\n",
      "  pclass = col_integer(),\n",
      "  survived = col_integer(),\n",
      "  name = col_character(),\n",
      "  sex = col_character(),\n",
      "  age = col_double(),\n",
      "  sibsp = col_integer(),\n",
      "  parch = col_integer(),\n",
      "  ticket = col_character(),\n",
      "  fare = col_double(),\n",
      "  cabin = col_character(),\n",
      "  embarked = col_character(),\n",
      "  boat = col_character(),\n",
      "  body = col_integer(),\n",
      "  home.dest = col_character()\n",
      ")\n"
     ]
    }
   ],
   "source": [
    "# import the data\n",
    "titanic_df = read_csv('data/titanic.csv')"
   ]
  },
  {
   "cell_type": "markdown",
   "metadata": {},
   "source": [
    "Randomly choosing a partner aged 18 - 40 is **not a good idea, Rose...**"
   ]
  },
  {
   "cell_type": "code",
   "execution_count": 86,
   "metadata": {},
   "outputs": [
    {
     "data": {},
     "metadata": {},
     "output_type": "display_data"
    },
    {
     "data": {
      "image/png": "[encoded data removed]",
      "text/plain": [
       "plot without title"
      ]
     },
     "metadata": {},
     "output_type": "display_data"
    }
   ],
   "source": [
    "titanic_df %>% filter(sex == 'male', age > 18, age < 40) %>% \n",
    "  select(survived) %>% mutate(survived = ifelse(survived == 1, 'oh yes', 'nope sorry')) %>% \n",
    "  ggplot(aes(survived, fill = survived)) + geom_bar() + ggtitle('Survived?') + theme(legend.position = \"none\")"
   ]
  },
  {
   "cell_type": "markdown",
   "metadata": {},
   "source": [
    "...indeed, approximately 3 every 4 will likely die in case of accident."
   ]
  },
  {
   "cell_type": "code",
   "execution_count": 4,
   "metadata": {},
   "outputs": [
    {
     "name": "stdout",
     "output_type": "stream",
     "text": [
      "Observations: 1,310\n",
      "Variables: 14\n",
      "$ pclass    <int> 1, 1, 1, 1, 1, 1, 1, 1, 1, 1, 1, 1, 1, 1, 1, 1, 1, 1, 1, ...\n",
      "$ survived  <int> 1, 1, 0, 0, 0, 1, 1, 0, 1, 0, 0, 1, 1, 1, 1, 0, 0, 1, 1, ...\n",
      "$ name      <chr> \"Allen, Miss. Elisabeth Walton\", \"Allison, Master. Hudson...\n",
      "$ sex       <chr> \"female\", \"male\", \"female\", \"male\", \"female\", \"male\", \"fe...\n",
      "$ age       <dbl> 29.0000, 0.9167, 2.0000, 30.0000, 25.0000, 48.0000, 63.00...\n",
      "$ sibsp     <int> 0, 1, 1, 1, 1, 0, 1, 0, 2, 0, 1, 1, 0, 0, 0, 0, 0, 0, 0, ...\n",
      "$ parch     <int> 0, 2, 2, 2, 2, 0, 0, 0, 0, 0, 0, 0, 0, 0, 0, 0, 1, 1, 0, ...\n",
      "$ ticket    <chr> \"24160\", \"113781\", \"113781\", \"113781\", \"113781\", \"19952\",...\n",
      "$ fare      <dbl> 211.3375, 151.5500, 151.5500, 151.5500, 151.5500, 26.5500...\n",
      "$ cabin     <chr> \"B5\", \"C22 C26\", \"C22 C26\", \"C22 C26\", \"C22 C26\", \"E12\", ...\n",
      "$ embarked  <chr> \"S\", \"S\", \"S\", \"S\", \"S\", \"S\", \"S\", \"S\", \"S\", \"C\", \"C\", \"C...\n",
      "$ boat      <chr> \"2\", \"11\", NA, NA, NA, \"3\", \"10\", NA, \"D\", NA, NA, \"4\", \"...\n",
      "$ body      <int> NA, NA, NA, 135, NA, NA, NA, NA, NA, 22, 124, NA, NA, NA,...\n",
      "$ home.dest <chr> \"St Louis, MO\", \"Montreal, PQ / Chesterville, ON\", \"Montr...\n"
     ]
    }
   ],
   "source": [
    "titanic_df %>% glimpse"
   ]
  },
  {
   "cell_type": "code",
   "execution_count": 12,
   "metadata": {},
   "outputs": [
    {
     "name": "stdout",
     "output_type": "stream",
     "text": [
      "train data size\n"
     ]
    },
    {
     "data": {
      "text/html": [
       "<ol class=list-inline>\n",
       "\t<li>918</li>\n",
       "\t<li>14</li>\n",
       "</ol>\n"
      ],
      "text/latex": [
       "\\begin{enumerate*}\n",
       "\\item 918\n",
       "\\item 14\n",
       "\\end{enumerate*}\n"
      ],
      "text/markdown": [
       "1. 918\n",
       "2. 14\n",
       "\n",
       "\n"
      ],
      "text/plain": [
       "[1] 918  14"
      ]
     },
     "metadata": {},
     "output_type": "display_data"
    },
    {
     "name": "stdout",
     "output_type": "stream",
     "text": [
      "test data size\n"
     ]
    },
    {
     "data": {
      "text/html": [
       "<ol class=list-inline>\n",
       "\t<li>392</li>\n",
       "\t<li>14</li>\n",
       "</ol>\n"
      ],
      "text/latex": [
       "\\begin{enumerate*}\n",
       "\\item 392\n",
       "\\item 14\n",
       "\\end{enumerate*}\n"
      ],
      "text/markdown": [
       "1. 392\n",
       "2. 14\n",
       "\n",
       "\n"
      ],
      "text/plain": [
       "[1] 392  14"
      ]
     },
     "metadata": {},
     "output_type": "display_data"
    }
   ],
   "source": [
    "partition = titanic_df %>% nrow %>% seq_len %>% createDataPartition(times = 1, p = 0.7, list = F)\n",
    "\n",
    "train_raw = titanic_df %>% slice(partition)\n",
    "test_raw = titanic_df %>% slice(-partition)\n",
    "\n",
    "cat('train data size\\n')\n",
    "train_raw %>% dim\n",
    "\n",
    "cat('test data size\\n')\n",
    "test_raw %>% dim"
   ]
  },
  {
   "cell_type": "markdown",
   "metadata": {},
   "source": [
    "## Prepare the data for being fed into the model\n",
    "* convert data types to float / integer\n",
    "* define rule for managing missing values (*NA*s)\n",
    "* you could even normalize the features (we are not doing this here)"
   ]
  },
  {
   "cell_type": "code",
   "execution_count": 13,
   "metadata": {},
   "outputs": [],
   "source": [
    "data_processing = function(df){\n",
    "  df %>%\n",
    "    select(survived, # select features\n",
    "           pclass,\n",
    "           sex,\n",
    "           age,\n",
    "           sibsp,\n",
    "           parch,\n",
    "           fare,\n",
    "           cabin,\n",
    "           embarked\n",
    "    ) %>% \n",
    "    mutate_if(is.character, fct_explicit_na) %>% # assign levels to missings\n",
    "    mutate_all(as.numeric) %>% mutate_all(funs(replace(., is.na(.), 0))) # %>% # set missings to 0\n",
    "    # mutate_all(scale) # normalize data\n",
    "}\n",
    "\n",
    "train = data_processing(train_raw)\n",
    "test = data_processing(test_raw)"
   ]
  },
  {
   "cell_type": "code",
   "execution_count": 14,
   "metadata": {},
   "outputs": [
    {
     "name": "stdout",
     "output_type": "stream",
     "text": [
      "Observations: 918\n",
      "Variables: 9\n",
      "$ survived <dbl> 0, 0, 1, 1, 0, 0, 1, 0, 1, 1, 1, 1, 1, 0, 1, 1, 1, 1, 0, 1...\n",
      "$ pclass   <dbl> 1, 1, 1, 1, 1, 1, 1, 1, 1, 1, 1, 1, 1, 1, 1, 1, 1, 1, 1, 1...\n",
      "$ sex      <dbl> 2, 1, 2, 1, 2, 2, 1, 2, 1, 2, 1, 1, 1, 2, 2, 1, 1, 2, 2, 2...\n",
      "$ age      <dbl> 30, 25, 48, 63, 71, 47, 26, 0, 32, 37, 47, 42, 29, 25, 25,...\n",
      "$ sibsp    <dbl> 1, 1, 0, 1, 0, 1, 0, 0, 0, 1, 1, 0, 0, 0, 1, 1, 0, 0, 0, 0...\n",
      "$ parch    <dbl> 2, 2, 0, 0, 0, 0, 0, 0, 0, 1, 1, 0, 0, 0, 0, 0, 0, 0, 0, 0...\n",
      "$ fare     <dbl> 151.5500, 151.5500, 26.5500, 77.9583, 49.5042, 227.5250, 7...\n",
      "$ cabin    <dbl> 59, 59, 114, 111, 146, 75, 146, 146, 92, 102, 102, 146, 87...\n",
      "$ embarked <dbl> 3, 3, 3, 3, 1, 1, 3, 3, 1, 3, 3, 1, 3, 1, 1, 1, 3, 3, 3, 1...\n"
     ]
    }
   ],
   "source": [
    "train %>% glimpse"
   ]
  },
  {
   "cell_type": "markdown",
   "metadata": {},
   "source": [
    "## Fit a KNN model and make some predictions"
   ]
  },
  {
   "cell_type": "code",
   "execution_count": 16,
   "metadata": {},
   "outputs": [],
   "source": [
    "# fit knn\n",
    "\n",
    "model = train(x = train %>% select(-one_of('survived')),\n",
    "              y = train %>% select(one_of('survived')) %>% pull %>% factor,\n",
    "              method = 'kknn',\n",
    "              tuneGrid = data.frame(kmax = 20,\n",
    "                                    kernel = c(\"triangular\"),\n",
    "                                    distance = 0.5)\n",
    ")"
   ]
  },
  {
   "cell_type": "code",
   "execution_count": 43,
   "metadata": {},
   "outputs": [],
   "source": [
    "test_response = model %>%\n",
    "  predict(newdata = test %>% select(-one_of('survived'))) %>% factor"
   ]
  },
  {
   "cell_type": "code",
   "execution_count": 85,
   "metadata": {},
   "outputs": [
    {
     "data": {
      "text/html": [
       "<table>\n",
       "<thead><tr><th scope=col>name</th><th scope=col>sex</th><th scope=col>age</th><th scope=col>guess_survived</th><th scope=col>survived</th></tr></thead>\n",
       "<tbody>\n",
       "\t<tr><td>Andrews, Mr. Thomas Jr  </td><td>male                    </td><td>39                      </td><td>0                       </td><td>0                       </td></tr>\n",
       "\t<tr><td>Baxter, Mr. Quigg Edmond</td><td>male                    </td><td>24                      </td><td>1                       </td><td>0                       </td></tr>\n",
       "\t<tr><td>Beattie, Mr. Thomson    </td><td>male                    </td><td>36                      </td><td>0                       </td><td>0                       </td></tr>\n",
       "\t<tr><td>Behr, Mr. Karl Howell   </td><td>male                    </td><td>26                      </td><td>0                       </td><td>1                       </td></tr>\n",
       "\t<tr><td>Carrau, Mr. Francisco M </td><td>male                    </td><td>28                      </td><td>0                       </td><td>0                       </td></tr>\n",
       "\t<tr><td>Clark, Mr. Walter Miller</td><td>male                    </td><td>27                      </td><td>1                       </td><td>0                       </td></tr>\n",
       "</tbody>\n",
       "</table>\n"
      ],
      "text/latex": [
       "\\begin{tabular}{r|lllll}\n",
       " name & sex & age & guess\\_survived & survived\\\\\n",
       "\\hline\n",
       "\t Andrews, Mr. Thomas Jr   & male                     & 39                       & 0                        & 0                       \\\\\n",
       "\t Baxter, Mr. Quigg Edmond & male                     & 24                       & 1                        & 0                       \\\\\n",
       "\t Beattie, Mr. Thomson     & male                     & 36                       & 0                        & 0                       \\\\\n",
       "\t Behr, Mr. Karl Howell    & male                     & 26                       & 0                        & 1                       \\\\\n",
       "\t Carrau, Mr. Francisco M  & male                     & 28                       & 0                        & 0                       \\\\\n",
       "\t Clark, Mr. Walter Miller & male                     & 27                       & 1                        & 0                       \\\\\n",
       "\\end{tabular}\n"
      ],
      "text/markdown": [
       "\n",
       "name | sex | age | guess_survived | survived | \n",
       "|---|---|---|---|---|---|\n",
       "| Andrews, Mr. Thomas Jr   | male                     | 39                       | 0                        | 0                        | \n",
       "| Baxter, Mr. Quigg Edmond | male                     | 24                       | 1                        | 0                        | \n",
       "| Beattie, Mr. Thomson     | male                     | 36                       | 0                        | 0                        | \n",
       "| Behr, Mr. Karl Howell    | male                     | 26                       | 0                        | 1                        | \n",
       "| Carrau, Mr. Francisco M  | male                     | 28                       | 0                        | 0                        | \n",
       "| Clark, Mr. Walter Miller | male                     | 27                       | 1                        | 0                        | \n",
       "\n",
       "\n"
      ],
      "text/plain": [
       "  name                     sex  age guess_survived survived\n",
       "1 Andrews, Mr. Thomas Jr   male 39  0              0       \n",
       "2 Baxter, Mr. Quigg Edmond male 24  1              0       \n",
       "3 Beattie, Mr. Thomson     male 36  0              0       \n",
       "4 Behr, Mr. Karl Howell    male 26  0              1       \n",
       "5 Carrau, Mr. Francisco M  male 28  0              0       \n",
       "6 Clark, Mr. Walter Miller male 27  1              0       "
      ]
     },
     "metadata": {},
     "output_type": "display_data"
    }
   ],
   "source": [
    "# show predictions for male, aged 18-40\n",
    "\n",
    "(pred = test_raw %>% bind_cols(data_frame('guess_survived' = test_response)) %>%\n",
    "  filter(sex == 'male',age > 18, age < 40) %>%\n",
    "  select(name, sex, age, guess_survived, survived)) %>% head"
   ]
  },
  {
   "cell_type": "code",
   "execution_count": 83,
   "metadata": {},
   "outputs": [
    {
     "data": {
      "text/html": [
       "<strong>Accuracy:</strong> 0.797"
      ],
      "text/latex": [
       "\\textbf{Accuracy:} 0.797"
      ],
      "text/markdown": [
       "**Accuracy:** 0.797"
      ],
      "text/plain": [
       "Accuracy \n",
       "   0.797 "
      ]
     },
     "metadata": {},
     "output_type": "display_data"
    }
   ],
   "source": [
    "# how good is the model for this subclass?\n",
    "acc = confusionMatrix(pred$guess_survived, pred$survived %>% factor)\n",
    "acc$overall[1] %>% round(3)"
   ]
  },
  {
   "cell_type": "markdown",
   "metadata": {},
   "source": [
    "hey, it seems that now roses has almost 80% chanche of getting the right partner! Awsome!"
   ]
  },
  {
   "cell_type": "markdown",
   "metadata": {},
   "source": [
    "## Well, probably not. But why?"
   ]
  },
  {
   "cell_type": "markdown",
   "metadata": {},
   "source": [
    "Stay tuned..."
   ]
  }
 ],
 "metadata": {
  "kernelspec": {
   "display_name": "R",
   "language": "R",
   "name": "ir"
  },
  "language_info": {
   "codemirror_mode": "r",
   "file_extension": ".r",
   "mimetype": "text/x-r-source",
   "name": "R",
   "pygments_lexer": "r",
   "version": "3.4.4"
  }
 },
 "nbformat": 4,
 "nbformat_minor": 2
}
