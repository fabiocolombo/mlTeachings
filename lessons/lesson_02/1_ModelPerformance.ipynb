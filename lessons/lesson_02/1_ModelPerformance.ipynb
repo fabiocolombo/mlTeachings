{
 "cells": [
  {
   "cell_type": "markdown",
   "metadata": {},
   "source": [
    "# Model Performance\n",
    "\n",
    "<img src=\"../fig/performance.jpg\" width=\"600\">"
   ]
  },
  {
   "cell_type": "code",
   "execution_count": 2,
   "metadata": {},
   "outputs": [
    {
     "name": "stderr",
     "output_type": "stream",
     "text": [
      "Loading required package: tidyverse\n",
      "-- Attaching packages --------------------------------------- tidyverse 1.2.1 --\n",
      "v ggplot2 2.2.1     v purrr   0.2.4\n",
      "v tibble  1.4.2     v dplyr   0.7.4\n",
      "v tidyr   0.8.0     v stringr 1.3.0\n",
      "v readr   1.1.1     v forcats 0.3.0\n",
      "-- Conflicts ------------------------------------------ tidyverse_conflicts() --\n",
      "x dplyr::filter() masks stats::filter()\n",
      "x dplyr::lag()    masks stats::lag()\n",
      "Loading required package: caret\n",
      "Loading required package: lattice\n",
      "\n",
      "Attaching package: 'caret'\n",
      "\n",
      "The following object is masked from 'package:purrr':\n",
      "\n",
      "    lift\n",
      "\n",
      "Loading required package: keras\n",
      "Loading required package: mlbench\n",
      "Loading required package: ggthemes\n",
      "Loading required package: assertthat\n",
      "\n",
      "Attaching package: 'assertthat'\n",
      "\n",
      "The following object is masked from 'package:tibble':\n",
      "\n",
      "    has_name\n",
      "\n",
      "Loading required package: kernlab\n",
      "\n",
      "Attaching package: 'kernlab'\n",
      "\n",
      "The following object is masked from 'package:purrr':\n",
      "\n",
      "    cross\n",
      "\n",
      "The following object is masked from 'package:ggplot2':\n",
      "\n",
      "    alpha\n",
      "\n",
      "Loading required package: rattle\n",
      "Rattle: A free graphical interface for data science with R.\n",
      "Version 5.1.0 Copyright (c) 2006-2017 Togaware Pty Ltd.\n",
      "Type 'rattle()' to shake, rattle, and roll your data.\n",
      "Loading required package: auc\n"
     ]
    }
   ],
   "source": [
    "options(warn=-1)\n",
    "working_dir <- '~' ## If runing locally, replace with the path to the folder in which you saved the notebooks (e.g. 'C:/Documents/mlTeachings') \n",
    "setwd(working_dir)\n",
    "\n",
    "source('src/lib.R')"
   ]
  },
  {
   "cell_type": "markdown",
   "metadata": {},
   "source": [
    "<img src=\"../fig/drowning_scene.jpg\" width=\"600\">\n",
    "\n",
    "Do you remember? We left Rose with her new ML algorithm.\n",
    "\n",
    "But how can we tell whether it is really of any help?\n",
    "\n",
    "Let's load the trained model. and the datasets."
   ]
  },
  {
   "cell_type": "code",
   "execution_count": 207,
   "metadata": {},
   "outputs": [
    {
     "name": "stderr",
     "output_type": "stream",
     "text": [
      "Parsed with column specification:\n",
      "cols(\n",
      "  survived = col_integer(),\n",
      "  pclass = col_integer(),\n",
      "  sex = col_integer(),\n",
      "  age = col_double(),\n",
      "  sibsp = col_integer(),\n",
      "  parch = col_integer(),\n",
      "  fare = col_double(),\n",
      "  cabin = col_integer(),\n",
      "  embarked = col_integer()\n",
      ")\n",
      "Parsed with column specification:\n",
      "cols(\n",
      "  survived = col_integer(),\n",
      "  pclass = col_integer(),\n",
      "  sex = col_integer(),\n",
      "  age = col_double(),\n",
      "  sibsp = col_integer(),\n",
      "  parch = col_integer(),\n",
      "  fare = col_double(),\n",
      "  cabin = col_integer(),\n",
      "  embarked = col_integer()\n",
      ")\n"
     ]
    },
    {
     "data": {
      "text/html": [
       "<table>\n",
       "<thead><tr><th scope=col>survived</th><th scope=col>pclass</th><th scope=col>sex</th><th scope=col>age</th><th scope=col>sibsp</th><th scope=col>parch</th><th scope=col>fare</th><th scope=col>cabin</th><th scope=col>embarked</th></tr></thead>\n",
       "<tbody>\n",
       "\t<tr><td>1      </td><td>1      </td><td>2      </td><td>48     </td><td>0      </td><td>0      </td><td>26.5500</td><td>61     </td><td>3      </td></tr>\n",
       "\t<tr><td>1      </td><td>1      </td><td>1      </td><td>63     </td><td>1      </td><td>0      </td><td>77.9583</td><td>59     </td><td>3      </td></tr>\n",
       "\t<tr><td>0      </td><td>1      </td><td>2      </td><td>71     </td><td>0      </td><td>0      </td><td>49.5042</td><td>77     </td><td>1      </td></tr>\n",
       "\t<tr><td>0      </td><td>1      </td><td>2      </td><td> 0     </td><td>0      </td><td>0      </td><td>25.9250</td><td>77     </td><td>3      </td></tr>\n",
       "\t<tr><td>1      </td><td>1      </td><td>1      </td><td>32     </td><td>0      </td><td>0      </td><td>76.2917</td><td>52     </td><td>1      </td></tr>\n",
       "\t<tr><td>1      </td><td>1      </td><td>2      </td><td>26     </td><td>0      </td><td>0      </td><td>30.0000</td><td>34     </td><td>1      </td></tr>\n",
       "</tbody>\n",
       "</table>\n"
      ],
      "text/latex": [
       "\\begin{tabular}{r|lllllllll}\n",
       " survived & pclass & sex & age & sibsp & parch & fare & cabin & embarked\\\\\n",
       "\\hline\n",
       "\t 1       & 1       & 2       & 48      & 0       & 0       & 26.5500 & 61      & 3      \\\\\n",
       "\t 1       & 1       & 1       & 63      & 1       & 0       & 77.9583 & 59      & 3      \\\\\n",
       "\t 0       & 1       & 2       & 71      & 0       & 0       & 49.5042 & 77      & 1      \\\\\n",
       "\t 0       & 1       & 2       &  0      & 0       & 0       & 25.9250 & 77      & 3      \\\\\n",
       "\t 1       & 1       & 1       & 32      & 0       & 0       & 76.2917 & 52      & 1      \\\\\n",
       "\t 1       & 1       & 2       & 26      & 0       & 0       & 30.0000 & 34      & 1      \\\\\n",
       "\\end{tabular}\n"
      ],
      "text/markdown": [
       "\n",
       "survived | pclass | sex | age | sibsp | parch | fare | cabin | embarked | \n",
       "|---|---|---|---|---|---|\n",
       "| 1       | 1       | 2       | 48      | 0       | 0       | 26.5500 | 61      | 3       | \n",
       "| 1       | 1       | 1       | 63      | 1       | 0       | 77.9583 | 59      | 3       | \n",
       "| 0       | 1       | 2       | 71      | 0       | 0       | 49.5042 | 77      | 1       | \n",
       "| 0       | 1       | 2       |  0      | 0       | 0       | 25.9250 | 77      | 3       | \n",
       "| 1       | 1       | 1       | 32      | 0       | 0       | 76.2917 | 52      | 1       | \n",
       "| 1       | 1       | 2       | 26      | 0       | 0       | 30.0000 | 34      | 1       | \n",
       "\n",
       "\n"
      ],
      "text/plain": [
       "  survived pclass sex age sibsp parch fare    cabin embarked\n",
       "1 1        1      2   48  0     0     26.5500 61    3       \n",
       "2 1        1      1   63  1     0     77.9583 59    3       \n",
       "3 0        1      2   71  0     0     49.5042 77    1       \n",
       "4 0        1      2    0  0     0     25.9250 77    3       \n",
       "5 1        1      1   32  0     0     76.2917 52    1       \n",
       "6 1        1      2   26  0     0     30.0000 34    1       "
      ]
     },
     "metadata": {},
     "output_type": "display_data"
    },
    {
     "data": {
      "text/plain": [
       "k-Nearest Neighbors \n",
       "\n",
       "918 samples\n",
       "  8 predictor\n",
       "  2 classes: '0', '1' \n",
       "\n",
       "No pre-processing\n",
       "Resampling: Bootstrapped (25 reps) \n",
       "Summary of sample sizes: 918, 918, 918, 918, 918, 918, ... \n",
       "Resampling results:\n",
       "\n",
       "  Accuracy   Kappa    \n",
       "  0.7286793  0.4153752\n",
       "\n",
       "Tuning parameter 'kmax' was held constant at a value of 20\n",
       "Tuning\n",
       " parameter 'distance' was held constant at a value of 0.5\n",
       "Tuning\n",
       " parameter 'kernel' was held constant at a value of triangular"
      ]
     },
     "metadata": {},
     "output_type": "display_data"
    }
   ],
   "source": [
    "train = read_csv('data/titanic_train.csv')\n",
    "(test = read_csv('data/titanic_test.csv')) %>% head\n",
    "\n",
    "(model <- readRDS('data/titanic_model.R'))"
   ]
  },
  {
   "cell_type": "markdown",
   "metadata": {},
   "source": [
    "Let's visualize some "
   ]
  },
  {
   "cell_type": "code",
   "execution_count": 86,
   "metadata": {},
   "outputs": [
    {
     "data": {
      "text/plain": [
       "Confusion Matrix and Statistics\n",
       "\n",
       "          Reference\n",
       "Prediction   0   1\n",
       "         0 199  40\n",
       "         1  40 113\n",
       "                                          \n",
       "               Accuracy : 0.7959          \n",
       "                 95% CI : (0.7526, 0.8347)\n",
       "    No Information Rate : 0.6097          \n",
       "    P-Value [Acc > NIR] : 2.133e-15       \n",
       "                                          \n",
       "                  Kappa : 0.5712          \n",
       " Mcnemar's Test P-Value : 1               \n",
       "                                          \n",
       "            Sensitivity : 0.8326          \n",
       "            Specificity : 0.7386          \n",
       "         Pos Pred Value : 0.8326          \n",
       "         Neg Pred Value : 0.7386          \n",
       "             Prevalence : 0.6097          \n",
       "         Detection Rate : 0.5077          \n",
       "   Detection Prevalence : 0.6097          \n",
       "      Balanced Accuracy : 0.7856          \n",
       "                                          \n",
       "       'Positive' Class : 0               \n",
       "                                          "
      ]
     },
     "metadata": {},
     "output_type": "display_data"
    }
   ],
   "source": [
    "test_response = model %>%\n",
    "  predict(newdata = test %>% select(-one_of('survived')),\n",
    "         type = 'raw') %>% factor\n",
    "\n",
    "# confusionMatrix plots a few statistics\n",
    "\n",
    "(acc = confusionMatrix(test_response, test$survived %>% factor))"
   ]
  },
  {
   "cell_type": "markdown",
   "metadata": {},
   "source": [
    "How can we make our minds around all these stats?"
   ]
  },
  {
   "cell_type": "markdown",
   "metadata": {},
   "source": [
    "## Confusion Matrix"
   ]
  },
  {
   "cell_type": "markdown",
   "metadata": {},
   "source": [
    "The first thing we see is the so-called confusion matrix? This is nothing more than a **hit matrix**, where we can have a first glance on how the model *Prediction* relates to the *Reference* (i.e. actual realization).\n",
    "\n",
    "Ideally, we would like to see high value on the main diagonal of the Confusion Matrix, and lower value elsewhere. This would hints to the fact that the model tends to correctly predict the classes."
   ]
  },
  {
   "cell_type": "markdown",
   "metadata": {},
   "source": [
    "## True Positive\n",
    "\n",
    "Taken one class as reference, (in a bivariate settings it is usually the target of our test), we define a *true positive* an observation belonging to the target class (i.e. the **positive** class), which has been correctly predicted .\n",
    "\n",
    "Here below, if we consider class *1* (survived status), as our reference class, we can see that we have 113 true positive predictions."
   ]
  },
  {
   "cell_type": "code",
   "execution_count": 25,
   "metadata": {},
   "outputs": [
    {
     "data": {
      "text/plain": [
       "          Reference\n",
       "Prediction   0   1\n",
       "         0 199  40\n",
       "         1  40 113"
      ]
     },
     "metadata": {},
     "output_type": "display_data"
    }
   ],
   "source": [
    "acc$table"
   ]
  },
  {
   "cell_type": "markdown",
   "metadata": {},
   "source": [
    "### True Negative\n",
    "\n",
    "Conversely, taken one class as reference, (in a bivariate settings it is usually the target of our test), we define a *true negative* an observation **not** belonging to the target class (i.e. any other **negative** class), which has been correctly predicted .\n",
    "\n",
    "Here below, if we consider class *1* (survived status), as our reference class, we can see that we have 199 true negative predictions (that is, class *0* has been correctly predicted 199 times)."
   ]
  },
  {
   "cell_type": "code",
   "execution_count": 32,
   "metadata": {},
   "outputs": [
    {
     "data": {
      "text/plain": [
       "          Reference\n",
       "Prediction   0   1\n",
       "         0 199  40\n",
       "         1  40 113"
      ]
     },
     "metadata": {},
     "output_type": "display_data"
    }
   ],
   "source": [
    "acc$table"
   ]
  },
  {
   "cell_type": "markdown",
   "metadata": {},
   "source": [
    "### False Positive\n",
    "\n",
    "Let's start talking about errors. We have a false positive everytime our model thinks an observation belongs to the target class (i.e. the **positive** class), but it is actually wrong. \n",
    "\n",
    "In the titanic example, if we consider class *1* as our reference class, we can see that we have 40 false positive predictions."
   ]
  },
  {
   "cell_type": "code",
   "execution_count": 28,
   "metadata": {},
   "outputs": [
    {
     "data": {
      "text/plain": [
       "          Reference\n",
       "Prediction   0   1\n",
       "         0 199  40\n",
       "         1  40 113"
      ]
     },
     "metadata": {},
     "output_type": "display_data"
    }
   ],
   "source": [
    "acc$table"
   ]
  },
  {
   "cell_type": "markdown",
   "metadata": {},
   "source": [
    "### False Negative"
   ]
  },
  {
   "cell_type": "markdown",
   "metadata": {},
   "source": [
    "Likewise, a false negative, is any observation that actually belongs to the reference class (i.e. it **does not** belongs to any negative class), but it is classified as such.\n",
    "\n",
    "Again, in our example we have 40 false negative."
   ]
  },
  {
   "cell_type": "code",
   "execution_count": 30,
   "metadata": {},
   "outputs": [
    {
     "data": {
      "text/plain": [
       "          Reference\n",
       "Prediction   0   1\n",
       "         0 199  40\n",
       "         1  40 113"
      ]
     },
     "metadata": {},
     "output_type": "display_data"
    }
   ],
   "source": [
    "acc$table"
   ]
  },
  {
   "cell_type": "markdown",
   "metadata": {},
   "source": [
    "### More than two classes\n",
    "\n",
    "As you can see. the concept of confusion matrix is easily extensible to a multivariate setting.\n",
    "\n",
    "IF GD7 is our reference class:\n",
    "- how many true positive? 136\n",
    "- how many true negative? 995\n",
    "- how many false positive? 7\n",
    "- how many false negative? 4\n",
    "\n",
    "\n",
    "<img src=\"../fig/multivariate_confusion_matrix.png\" width=\"600\">"
   ]
  },
  {
   "cell_type": "markdown",
   "metadata": {},
   "source": [
    "Also, keep in mind that:\n",
    "- $P = TP + FN$\n",
    "- $N = TN + FP$"
   ]
  },
  {
   "cell_type": "markdown",
   "metadata": {},
   "source": [
    "## Accuracy\n",
    "\n",
    "From the definition of true/false positive/negative, we can mutuate the accuracy metric, defined as $ \\frac{TP+TN}{P+N}$. I would rather call this metric **how many correct guesses?**\n",
    "\n",
    "In the Titanic example our model achieves an out-of-sample accuracy of circa: $80\\% = \\frac{113 + 199}{113 + 199 + 40 + 40}$"
   ]
  },
  {
   "cell_type": "code",
   "execution_count": 37,
   "metadata": {},
   "outputs": [
    {
     "data": {
      "text/plain": [
       "          Reference\n",
       "Prediction   0   1\n",
       "         0 199  40\n",
       "         1  40 113"
      ]
     },
     "metadata": {},
     "output_type": "display_data"
    },
    {
     "data": {
      "text/html": [
       "<strong>Accuracy:</strong> 0.8"
      ],
      "text/latex": [
       "\\textbf{Accuracy:} 0.8"
      ],
      "text/markdown": [
       "**Accuracy:** 0.8"
      ],
      "text/plain": [
       "Accuracy \n",
       "     0.8 "
      ]
     },
     "metadata": {},
     "output_type": "display_data"
    }
   ],
   "source": [
    "acc$table\n",
    "\n",
    "acc$overall[1] %>% round(2)"
   ]
  },
  {
   "cell_type": "markdown",
   "metadata": {},
   "source": [
    "## Precision\n",
    "\n",
    "Another relevant statistic is the precision, which is the ability of the model to detect properly the target (i.e. **positive** class), which is defined as $\\frac{TP}{TP + FP}$"
   ]
  },
  {
   "cell_type": "markdown",
   "metadata": {},
   "source": [
    "In the Titanic example our model has a precision of almost $77\\% = \\frac{133}{133+40}$"
   ]
  },
  {
   "cell_type": "markdown",
   "metadata": {},
   "source": [
    "## Accuracy Paradox\n",
    "\n",
    "Explain the problem with a little bit of animation possibly\n",
    "\n"
   ]
  },
  {
   "cell_type": "code",
   "execution_count": 423,
   "metadata": {},
   "outputs": [
    {
     "data": {
      "text/html": [
       "'numeric'"
      ],
      "text/latex": [
       "'numeric'"
      ],
      "text/markdown": [
       "'numeric'"
      ],
      "text/plain": [
       "[1] \"numeric\""
      ]
     },
     "metadata": {},
     "output_type": "display_data"
    },
    {
     "ename": "ERROR",
     "evalue": "Error in cbind_all(x): Argument 1 must have names\n",
     "execution_count": 423,
     "output_type": "error",
     "traceback": [
      "Error in cbind_all(x): Argument 1 must have names\nTraceback:\n",
      "1. bind_cols(test_response_df %>% as.factor, test_response_probabilities_df, \n .     test %>% select(survived) %>% mutate(survived = as.factor(survived)))",
      "2. cbind_all(x)"
     ]
    }
   ],
   "source": [
    "#### TO BE FIXED\n",
    "\n",
    "\n",
    "test_response_df = model %>%\n",
    "  predict(newdata = test %>% select(-one_of('survived')),\n",
    "         type = 'raw')  %>%\n",
    "  data_frame('Response' = .) %>% mutate(Response = as.numeric(Response) -1),  Response = ifelse(Response > 0.1, 1 , 0) )\n",
    "\n",
    "#%>% ifelse(. >= 0.1, 1, 0) %>% data_frame('Response' = .)\n",
    "                                                                 \n",
    "test_response_df %>% head\n",
    "\n",
    "test_response_probabilities_df = model %>%\n",
    "  predict(newdata = test %>% select(-one_of('survived')),\n",
    "         type = 'prob') %>% pull('1') %>% data_frame('Probabilities' = .)\n",
    "         \n",
    "df = bind_cols(test_response_df %>% as.factor,\n",
    "               test_response_probabilities_df,\n",
    "               test %>% select(survived) %>% mutate(survived = as.factor(survived)))\n",
    "\n",
    "options(repr.plot.width=6, repr.plot.height=3)\n",
    "\n",
    "ggplot(df, aes(x = Probabilities, y = Response, color = survived)) +\n",
    "        geom_point() +\n",
    "        scale_color_manual(values = c(\"red\", \"green\")) +\n",
    "        theme_minimal() + ggtitle('Response Plot')\n",
    "\n",
    "# + geom_vline(xintercept=0.5, linetype=\"dashed\", color = 'blue')"
   ]
  },
  {
   "cell_type": "code",
   "execution_count": 361,
   "metadata": {},
   "outputs": [
    {
     "data": {
      "text/html": [
       "<table>\n",
       "<thead><tr><th scope=col>Response</th><th scope=col>Probabilities</th><th scope=col>survived</th></tr></thead>\n",
       "<tbody>\n",
       "\t<tr><td>0         </td><td>0.09482073</td><td>1         </td></tr>\n",
       "\t<tr><td>1         </td><td>0.85388635</td><td>1         </td></tr>\n",
       "\t<tr><td>0         </td><td>0.32694229</td><td>0         </td></tr>\n",
       "\t<tr><td>0         </td><td>0.39902952</td><td>0         </td></tr>\n",
       "\t<tr><td>1         </td><td>1.00000000</td><td>1         </td></tr>\n",
       "\t<tr><td>1         </td><td>0.55963484</td><td>1         </td></tr>\n",
       "</tbody>\n",
       "</table>\n"
      ],
      "text/latex": [
       "\\begin{tabular}{r|lll}\n",
       " Response & Probabilities & survived\\\\\n",
       "\\hline\n",
       "\t 0          & 0.09482073 & 1         \\\\\n",
       "\t 1          & 0.85388635 & 1         \\\\\n",
       "\t 0          & 0.32694229 & 0         \\\\\n",
       "\t 0          & 0.39902952 & 0         \\\\\n",
       "\t 1          & 1.00000000 & 1         \\\\\n",
       "\t 1          & 0.55963484 & 1         \\\\\n",
       "\\end{tabular}\n"
      ],
      "text/markdown": [
       "\n",
       "Response | Probabilities | survived | \n",
       "|---|---|---|---|---|---|\n",
       "| 0          | 0.09482073 | 1          | \n",
       "| 1          | 0.85388635 | 1          | \n",
       "| 0          | 0.32694229 | 0          | \n",
       "| 0          | 0.39902952 | 0          | \n",
       "| 1          | 1.00000000 | 1          | \n",
       "| 1          | 0.55963484 | 1          | \n",
       "\n",
       "\n"
      ],
      "text/plain": [
       "  Response Probabilities survived\n",
       "1 0        0.09482073    1       \n",
       "2 1        0.85388635    1       \n",
       "3 0        0.32694229    0       \n",
       "4 0        0.39902952    0       \n",
       "5 1        1.00000000    1       \n",
       "6 1        0.55963484    1       "
      ]
     },
     "metadata": {},
     "output_type": "display_data"
    }
   ],
   "source": []
  },
  {
   "cell_type": "markdown",
   "metadata": {},
   "source": [
    "Suppose we say, *every observation with probability greater than 0.5 is classified as survived, and vice versa*"
   ]
  },
  {
   "cell_type": "code",
   "execution_count": null,
   "metadata": {},
   "outputs": [],
   "source": [
    "acc_paradox = confusionMatrix(rep(0,acc$table %>% sum) %>% factor, test$survived %>% factor)"
   ]
  },
  {
   "cell_type": "code",
   "execution_count": 338,
   "metadata": {},
   "outputs": [
    {
     "data": {
      "text/plain": [
       "          Reference\n",
       "Prediction   0   1\n",
       "         0 199  40\n",
       "         1  40 113"
      ]
     },
     "metadata": {},
     "output_type": "display_data"
    },
    {
     "data": {
      "text/html": [
       "<strong>Accuracy:</strong> 79.592"
      ],
      "text/latex": [
       "\\textbf{Accuracy:} 79.592"
      ],
      "text/markdown": [
       "**Accuracy:** 79.592"
      ],
      "text/plain": [
       "Accuracy \n",
       "  79.592 "
      ]
     },
     "metadata": {},
     "output_type": "display_data"
    },
    {
     "data": {
      "text/html": [
       "<strong>Accuracy:</strong> 79.847"
      ],
      "text/latex": [
       "\\textbf{Accuracy:} 79.847"
      ],
      "text/markdown": [
       "**Accuracy:** 79.847"
      ],
      "text/plain": [
       "Accuracy \n",
       "  79.847 "
      ]
     },
     "metadata": {},
     "output_type": "display_data"
    }
   ],
   "source": [
    "# confusionMatrix(rbinom(acc$table %>% sum, 1, 0.5) %>% factor, test$survived %>% factor)\n",
    "acc_paradox = confusionMatrix(ifelse(test_response_probabilities_df > 0.5, 1, 0) %>% factor, test$survived %>% factor)\n",
    "acc_paradox_2 = confusionMatrix(ifelse(test_response_probabilities_df > 0.6, 1, 0) %>% factor, test$survived %>% factor)\n",
    "\n",
    "\n",
    "acc_paradox$table\n",
    "\n",
    "acc_paradox$overall[1] %>% round(5) * 100\n",
    "acc_paradox_2$overall[1] %>% round(5) * 100"
   ]
  },
  {
   "cell_type": "code",
   "execution_count": 270,
   "metadata": {},
   "outputs": [
    {
     "data": {
      "text/plain": [
       "          Reference\n",
       "Prediction   0   1\n",
       "         0 199  40\n",
       "         1  40 113"
      ]
     },
     "metadata": {},
     "output_type": "display_data"
    },
    {
     "data": {
      "text/html": [
       "392"
      ],
      "text/latex": [
       "392"
      ],
      "text/markdown": [
       "392"
      ],
      "text/plain": [
       "[1] 392"
      ]
     },
     "metadata": {},
     "output_type": "display_data"
    }
   ],
   "source": [
    "acc$table"
   ]
  },
  {
   "cell_type": "markdown",
   "metadata": {},
   "source": [
    "### Prevalence\n",
    "\n",
    "Prevalence is an indicator of class unbalance.\n",
    "\n",
    "Defined as $\\frac{P}{P+N}$"
   ]
  },
  {
   "cell_type": "code",
   "execution_count": 10,
   "metadata": {},
   "outputs": [
    {
     "data": {
      "text/html": [
       "<strong>Prevalence:</strong> 0.61"
      ],
      "text/latex": [
       "\\textbf{Prevalence:} 0.61"
      ],
      "text/markdown": [
       "**Prevalence:** 0.61"
      ],
      "text/plain": [
       "Prevalence \n",
       "      0.61 "
      ]
     },
     "metadata": {},
     "output_type": "display_data"
    }
   ],
   "source": [
    "acc$byClass[8] %>% round(2)"
   ]
  },
  {
   "cell_type": "markdown",
   "metadata": {},
   "source": [
    "### No Information Rate\n",
    "\n",
    "Indeed, prior drawing conclusion regarding the goodness of the model, we should check how much the data is biased. The **No Information Rate** could be defined as the accuracy of a random classifier (e.g. the so-called *coin toss classifier*).  "
   ]
  },
  {
   "cell_type": "code",
   "execution_count": 19,
   "metadata": {},
   "outputs": [
    {
     "data": {
      "text/html": [
       "<strong>AccuracyNull:</strong> 0.61"
      ],
      "text/latex": [
       "\\textbf{AccuracyNull:} 0.61"
      ],
      "text/markdown": [
       "**AccuracyNull:** 0.61"
      ],
      "text/plain": [
       "AccuracyNull \n",
       "        0.61 "
      ]
     },
     "metadata": {},
     "output_type": "display_data"
    }
   ],
   "source": [
    "acc$overall[5] %>% round(2)"
   ]
  },
  {
   "cell_type": "markdown",
   "metadata": {},
   "source": [
    "## Sensitivity\n",
    "\n",
    "Sometimes also referred to as *recall*, *hit rate* or *true positive rate*, the sensitivity metric tells how good is the model in discriminating the reference class (i.e. **positive** class).\n",
    "- In other words: *how good is the model in correctly identifying a positive as positive?*\n",
    "\n",
    "It is defined as $\\frac{TP}{P}$.\n",
    "\n",
    "### Type II error\n",
    "Is defined as 1-sensitivity."
   ]
  },
  {
   "cell_type": "code",
   "execution_count": 22,
   "metadata": {},
   "outputs": [
    {
     "data": {
      "text/plain": [
       "          Reference\n",
       "Prediction   0   1\n",
       "         0 199  40\n",
       "         1  40 113"
      ]
     },
     "metadata": {},
     "output_type": "display_data"
    },
    {
     "data": {
      "text/html": [
       "<strong>Sensitivity:</strong> 0.83"
      ],
      "text/latex": [
       "\\textbf{Sensitivity:} 0.83"
      ],
      "text/markdown": [
       "**Sensitivity:** 0.83"
      ],
      "text/plain": [
       "Sensitivity \n",
       "       0.83 "
      ]
     },
     "metadata": {},
     "output_type": "display_data"
    }
   ],
   "source": [
    "acc$table\n",
    "\n",
    "acc$byClass[1] %>% round(2)"
   ]
  },
  {
   "cell_type": "markdown",
   "metadata": {},
   "source": [
    "# Specificity"
   ]
  },
  {
   "cell_type": "markdown",
   "metadata": {},
   "source": [
    "Alias *true negative rate* - opposite to sensitivity - he specificity metrics tells how good is the model in discriminating istance not in the reference class (i.e. **negative** class)\n",
    "\n",
    "\n",
    "- In other words, *how good is the model in correctly identifying istances not belonging to the reference class* \n",
    "\n",
    "It is defined as $\\frac{TN}{N}$\n",
    "\n",
    "### Type I Error\n",
    "\n",
    "Defined as 1-specificity\n"
   ]
  },
  {
   "cell_type": "code",
   "execution_count": 275,
   "metadata": {},
   "outputs": [
    {
     "data": {
      "text/plain": [
       "          Reference\n",
       "Prediction   0   1\n",
       "         0 199  40\n",
       "         1  40 113"
      ]
     },
     "metadata": {},
     "output_type": "display_data"
    },
    {
     "data": {
      "text/html": [
       "<strong>Specificity:</strong> 0.74"
      ],
      "text/latex": [
       "\\textbf{Specificity:} 0.74"
      ],
      "text/markdown": [
       "**Specificity:** 0.74"
      ],
      "text/plain": [
       "Specificity \n",
       "       0.74 "
      ]
     },
     "metadata": {},
     "output_type": "display_data"
    }
   ],
   "source": [
    "acc$table\n",
    "\n",
    "acc$byClass[2] %>% round(2)"
   ]
  },
  {
   "cell_type": "markdown",
   "metadata": {},
   "source": [
    "Discriminating between classes can be crucial...\n",
    "\n",
    "<img src=\"../fig/sensitivity_specificity.jpg\" width=\"600\">"
   ]
  },
  {
   "cell_type": "markdown",
   "metadata": {},
   "source": [
    "### Type I Type II error. What's more relevant?\n",
    "depending on the problem, type I or type II error may be more relevant, but in general, there is a good trade off between the two\n",
    "  - in spam identification, i am better off with a high specificity, because I do not want to identify useful mail as spam\n",
    "  \n",
    "- in disease diagnostic, i do am better off with a high specificity, because I do not want to prescribe medicine if they are not needed.\n",
    "    - you do not want to go through chemio unless strictly necessary\n",
    "    - however sometimes, e.g. if you are a blood donor, you absolutely do not want to use the ematic component of a donor which is not suited to donated.\n",
    "        - this is why test needs to be extremely sensitive. this comes at a cost of reducing specificity, as i am more likely to identify a false positive. You want to be very sure not to receive blood from someone with the syphilis\n",
    "        \n",
    "### Recap       \n",
    " \n",
    "<img src=\"../fig/summary_confusion_matrix.png\" width=\"600\">"
   ]
  },
  {
   "cell_type": "markdown",
   "metadata": {},
   "source": [
    "### Back to a multiclass setting\n",
    "\n",
    "Again, you can extend the concept of sensitivity and specificity to a multivariate problem.\n",
    "\n",
    "Defined a reference class, you treat is a the **positive**, all the othes as a larger, unique, **negative** class.\n",
    "\n",
    "<img src=\"../fig/multivariate_confusion_matrix.png\" width=\"600\">"
   ]
  },
  {
   "cell_type": "markdown",
   "metadata": {},
   "source": [
    "## A big question."
   ]
  },
  {
   "cell_type": "markdown",
   "metadata": {},
   "source": [
    "- Is there a way to have an indicator agnostic to the effect of prevalence?\n",
    "\n",
    "<img src=\"../fig/so_what.jpg\" width=\"600\">\n",
    "\n",
    "\n",
    "       - Yes\n",
    "    Actually, there's a few"
   ]
  },
  {
   "cell_type": "markdown",
   "metadata": {},
   "source": [
    "### Kohen's K\n",
    "\n",
    "$$\\frac{\\text{Accuracy - No Information Rate}}{1 - \\text{No Information Rate}}$$"
   ]
  },
  {
   "cell_type": "code",
   "execution_count": 52,
   "metadata": {},
   "outputs": [
    {
     "data": {
      "text/plain": [
       "          Reference\n",
       "Prediction   0   1\n",
       "         0 199  40\n",
       "         1  40 113"
      ]
     },
     "metadata": {},
     "output_type": "display_data"
    },
    {
     "data": {
      "text/html": [
       "<strong>Kappa:</strong> 0.57"
      ],
      "text/latex": [
       "\\textbf{Kappa:} 0.57"
      ],
      "text/markdown": [
       "**Kappa:** 0.57"
      ],
      "text/plain": [
       "Kappa \n",
       " 0.57 "
      ]
     },
     "metadata": {},
     "output_type": "display_data"
    }
   ],
   "source": [
    "acc$table\n",
    "\n",
    "acc$overall[2] %>% round(2)"
   ]
  },
  {
   "cell_type": "markdown",
   "metadata": {},
   "source": [
    "### Balanced Accuracy\n",
    "\n",
    "$$ (\\text{Sensitivity + Specificity})* \\frac{1}{2} $$"
   ]
  },
  {
   "cell_type": "code",
   "execution_count": 57,
   "metadata": {},
   "outputs": [
    {
     "data": {
      "text/html": [
       "<strong>Balanced Accuracy:</strong> 0.79"
      ],
      "text/latex": [
       "\\textbf{Balanced Accuracy:} 0.79"
      ],
      "text/markdown": [
       "**Balanced Accuracy:** 0.79"
      ],
      "text/plain": [
       "Balanced Accuracy \n",
       "             0.79 "
      ]
     },
     "metadata": {},
     "output_type": "display_data"
    }
   ],
   "source": [
    "acc$byClass[11] %>% round(2) ## find the right function call"
   ]
  },
  {
   "cell_type": "markdown",
   "metadata": {},
   "source": [
    "### Receiver Operating Characteristics\n",
    "\n",
    "Graphically shows the trade off between sensitivity and specificity\n",
    "\n",
    "#### Historical note\n",
    "\n",
    "The ROC curve was first used during World War II for the analysis of radar signals before it was employed in signal detection theory. Following the attack on Pearl Harbor in 1941, the United States army began new research to increase the prediction of correctly detected Japanese aircraft from their radar signals. For this purposes they measured the ability of radar receiver operators to make these important distinctions, which was called the Receiver Operating Characteristics.\n",
    "\n",
    "<img src=\"../fig/roc.jpg\" width=\"400\">"
   ]
  },
  {
   "cell_type": "code",
   "execution_count": 159,
   "metadata": {},
   "outputs": [
    {
     "data": {},
     "metadata": {},
     "output_type": "display_data"
    },
    {
     "data": {
      "image/png": "[encoded data removed]",
      "text/plain": [
       "plot without title"
      ]
     },
     "metadata": {},
     "output_type": "display_data"
    }
   ],
   "source": [
    "test_response_probabilities = model %>%\n",
    "  predict(newdata = test %>% select(-one_of('survived')),\n",
    "         type = 'prob') %>% pull('1')\n",
    "\n",
    "options(repr.plot.width=3, repr.plot.height=3)\n",
    "\n",
    "roc(test_response_probabilities, test$survived %>% factor)[2:3] %>%\n",
    "    as.data.frame.list %>%\n",
    "    as_data_frame %>% ggplot(aes(x = fpr, y = tpr)) + geom_line() + ggtitle('ROC Curve') +\n",
    "    xlab('False Positive Ratio (1 - Specificity)') + \n",
    "    ylab('True Positive Ratio (Sensitivity)')\n"
   ]
  },
  {
   "cell_type": "markdown",
   "metadata": {},
   "source": [
    "The best model is the one that better manages the **trade off** between **sensitivity** and **specificity**\n",
    "- that is to say, the more skewed the curve towards the **top left corner**, the better"
   ]
  },
  {
   "cell_type": "markdown",
   "metadata": {},
   "source": [
    "## Area Under (Receiver Operating Characteristic) Curve\n",
    "\n",
    "This is straghtforward"
   ]
  },
  {
   "cell_type": "code",
   "execution_count": 211,
   "metadata": {},
   "outputs": [
    {
     "data": {
      "text/html": [
       "<strong>AUC:</strong> 0.84"
      ],
      "text/latex": [
       "\\textbf{AUC:} 0.84"
      ],
      "text/markdown": [
       "**AUC:** 0.84"
      ],
      "text/plain": [
       " AUC \n",
       "0.84 "
      ]
     },
     "metadata": {},
     "output_type": "display_data"
    }
   ],
   "source": [
    "roc(test_response_probabilities, test$survived %>% factor) %>% auc %>% round(2) %>% list('AUC' = .) %>% unlist"
   ]
  },
  {
   "cell_type": "code",
   "execution_count": 212,
   "metadata": {},
   "outputs": [
    {
     "data": {},
     "metadata": {},
     "output_type": "display_data"
    },
    {
     "data": {
      "image/png": "[encoded data removed]",
      "text/plain": [
       "plot without title"
      ]
     },
     "metadata": {},
     "output_type": "display_data"
    }
   ],
   "source": [
    "roc(test_response_probabilities, test$survived %>% factor)[2:3] %>%\n",
    "    as.data.frame.list %>%\n",
    "    as_data_frame %>% ggplot(aes(x = fpr, y = tpr)) +\n",
    "    ggtitle('Area Under ROC Curve') +\n",
    "    geom_ribbon(aes(ymin = 0, ymax = tpr), fill = 'darkred') +\n",
    "    xlab('False Positive Ratio (1 - Specificity)') + \n",
    "    ylab('True Positive Ratio (Sensitivity)')"
   ]
  },
  {
   "cell_type": "markdown",
   "metadata": {},
   "source": [
    "## Accuracy Ratio (Gini Index)\n",
    "\n",
    "The AUC value can be misleading in that, depite taking values between 0 and 1, the baseline classifier (i.e. the *coin toss* discriminator) has a AUC of 0.5. To solve this problem, we normalize the AUC metrics by the following transormation.\n",
    "\n",
    "$ \\text{AR} = 2 \\cdot (\\text{AUC}) - 1$\n",
    "\n",
    "In this way, the random discriminator has an Accuracy Ratio equal to zero."
   ]
  },
  {
   "cell_type": "code",
   "execution_count": 220,
   "metadata": {},
   "outputs": [
    {
     "data": {
      "text/html": [
       "<strong>AR:</strong> 0.68"
      ],
      "text/latex": [
       "\\textbf{AR:} 0.68"
      ],
      "text/markdown": [
       "**AR:** 0.68"
      ],
      "text/plain": [
       "  AR \n",
       "0.68 "
      ]
     },
     "metadata": {},
     "output_type": "display_data"
    }
   ],
   "source": [
    "roc(test_response_probabilities, test$survived %>% factor) %>% auc(.) %>% round(2)*2-1 %>% list('AR' = .) %>% unlist"
   ]
  },
  {
   "cell_type": "code",
   "execution_count": 202,
   "metadata": {},
   "outputs": [
    {
     "data": {},
     "metadata": {},
     "output_type": "display_data"
    },
    {
     "data": {
      "image/png": "[encoded data removed]",
      "text/plain": [
       "plot without title"
      ]
     },
     "metadata": {},
     "output_type": "display_data"
    }
   ],
   "source": [
    "roc(test_response_probabilities, test$survived %>% factor)[2:3] %>%\n",
    "    as.data.frame.list %>%\n",
    "    as_data_frame %>% ggplot(aes(x = fpr, y = tpr)) +\n",
    "    ggtitle('Area Under ROC Curve') +\n",
    "    geom_ribbon(aes(ymin = fpr, ymax = tpr), fill = 'darkred') +\n",
    "    xlab('False Positive Ratio (1 - Specificity)') + \n",
    "    ylab('True Positive Ratio (Sensitivity)')"
   ]
  },
  {
   "cell_type": "markdown",
   "metadata": {},
   "source": [
    "### Aaand.. back to multivariate\n",
    "- when sample are **unbalanced**\n",
    " 1. Volume under surface.\n",
    "     - No interpretation\n",
    "     - $O(n^2)$\n",
    "     \n",
    "     <img src=\"../fig/vuc.jpg\">\n",
    "     \n",
    " 2. **weighted** AUROC.\n",
    "     - [toxic comment](https://www.kaggle.com/c/jigsaw-toxic-comment-classification-challenge/leaderboard) classification challenge\n",
    "\n",
    "\n",
    "- when sample **unbalance is less important**\n",
    "    1. accuracy is totally fine (in mnist the sample is e.g. perfectly balanced)\n",
    "\n",
    "    <img src=\"../fig/mnist.png\" width=\"400\">\n",
    " \n",
    "- others\n",
    "    - object segmentation: **IoU** (intersection over union)\n",
    "        - which pixels belongs to a certain object?\n",
    "\n",
    "    <img src=\"../fig/iou.png\" width=\"400\">"
   ]
  },
  {
   "cell_type": "markdown",
   "metadata": {},
   "source": [
    "## Back to Titanic"
   ]
  },
  {
   "cell_type": "markdown",
   "metadata": {},
   "source": [
    "We have seen that our model achieves fairly good performances. (To be honest, you should compare them with other model, but, in general, > 0.5 AR are considerably good). You can try other model and compare them!"
   ]
  },
  {
   "cell_type": "code",
   "execution_count": 221,
   "metadata": {},
   "outputs": [
    {
     "data": {
      "text/plain": [
       "k-Nearest Neighbors \n",
       "\n",
       "918 samples\n",
       "  8 predictor\n",
       "  2 classes: '0', '1' \n",
       "\n",
       "No pre-processing\n",
       "Resampling: Bootstrapped (25 reps) \n",
       "Summary of sample sizes: 918, 918, 918, 918, 918, 918, ... \n",
       "Resampling results:\n",
       "\n",
       "  Accuracy   Kappa    \n",
       "  0.7286793  0.4153752\n",
       "\n",
       "Tuning parameter 'kmax' was held constant at a value of 20\n",
       "Tuning\n",
       " parameter 'distance' was held constant at a value of 0.5\n",
       "Tuning\n",
       " parameter 'kernel' was held constant at a value of triangular"
      ]
     },
     "metadata": {},
     "output_type": "display_data"
    }
   ],
   "source": [
    "model"
   ]
  },
  {
   "cell_type": "markdown",
   "metadata": {},
   "source": [
    "#### But\n",
    "We said Rose is interested in men between 18 and 40 yo. What we can say about performance for this peculiar subclass? Let's find it out!"
   ]
  },
  {
   "cell_type": "code",
   "execution_count": 251,
   "metadata": {},
   "outputs": [],
   "source": [
    "test_response_male = model %>%\n",
    "  predict(newdata = test %>% select(-one_of('survived')) %>%\n",
    "                        filter(sex == 2, age > 18, age < 40), ## male = 2 (due to factor conversion)\n",
    "         type = 'raw') %>% factor"
   ]
  },
  {
   "cell_type": "code",
   "execution_count": 259,
   "metadata": {},
   "outputs": [
    {
     "data": {
      "text/plain": [
       "Confusion Matrix and Statistics\n",
       "\n",
       "          Reference\n",
       "Prediction  0  1\n",
       "         0 80 16\n",
       "         1  6 10\n",
       "                                          \n",
       "               Accuracy : 0.8036          \n",
       "                 95% CI : (0.7178, 0.8726)\n",
       "    No Information Rate : 0.7679          \n",
       "    P-Value [Acc > NIR] : 0.21905         \n",
       "                                          \n",
       "                  Kappa : 0.3636          \n",
       " Mcnemar's Test P-Value : 0.05501         \n",
       "                                          \n",
       "            Sensitivity : 0.9302          \n",
       "            Specificity : 0.3846          \n",
       "         Pos Pred Value : 0.8333          \n",
       "         Neg Pred Value : 0.6250          \n",
       "             Prevalence : 0.7679          \n",
       "         Detection Rate : 0.7143          \n",
       "   Detection Prevalence : 0.8571          \n",
       "      Balanced Accuracy : 0.6574          \n",
       "                                          \n",
       "       'Positive' Class : 0               \n",
       "                                          "
      ]
     },
     "metadata": {},
     "output_type": "display_data"
    }
   ],
   "source": [
    "confusionMatrix(test_response,\n",
    "                test %>% filter(sex == 2, age > 18, age < 40) %>% pull(survived) %>% factor)"
   ]
  },
  {
   "cell_type": "code",
   "execution_count": 268,
   "metadata": {},
   "outputs": [
    {
     "data": {
      "text/html": [
       "<strong>AR:</strong> 0.32"
      ],
      "text/latex": [
       "\\textbf{AR:} 0.32"
      ],
      "text/markdown": [
       "**AR:** 0.32"
      ],
      "text/plain": [
       "  AR \n",
       "0.32 "
      ]
     },
     "metadata": {},
     "output_type": "display_data"
    },
    {
     "data": {},
     "metadata": {},
     "output_type": "display_data"
    },
    {
     "data": {
      "image/png": "[encoded data removed]",
      "text/plain": [
       "plot without title"
      ]
     },
     "metadata": {},
     "output_type": "display_data"
    }
   ],
   "source": [
    "test_response_male_probabilities = model %>%\n",
    "  predict(newdata = test %>% select(-one_of('survived')) %>%\n",
    "                        filter(sex == 2, age > 18, age < 40), ## male = 2 (due to factor conversion)\n",
    "         type = 'prob') %>% pull('1')\n",
    "\n",
    "roc(test_response_male_probabilities, \n",
    "       test %>% filter(sex == 2, age > 18, age < 40) %>% pull(survived) %>% factor) %>%\n",
    "        auc(.) %>% round(2)*2-1 %>% list('AR' = .) %>% unlist\n",
    "\n",
    "roc(test_response_male_probabilities,\n",
    "    test %>% filter(sex == 2, age > 18, age < 40) %>% pull(survived) %>% factor)[2:3] %>%\n",
    "    as.data.frame.list %>%\n",
    "    as_data_frame %>% ggplot(aes(x = fpr, y = tpr)) +\n",
    "    ggtitle('Area Under ROC Curve') +\n",
    "    geom_ribbon(aes(ymin = fpr, ymax = tpr), fill = 'darkgreen') +\n",
    "    xlab('False Positive Ratio (1 - Specificity)') + \n",
    "    ylab('True Positive Ratio (Sensitivity)')"
   ]
  },
  {
   "cell_type": "markdown",
   "metadata": {},
   "source": [
    "### Good luck, Rose!  ;)\n",
    "<img src=\"../fig/drowning_scene.jpg\" width=\"600\">"
   ]
  }
 ],
 "metadata": {
  "kernelspec": {
   "display_name": "R-3.4.1",
   "language": "R",
   "name": "3.4.1"
  },
  "language_info": {
   "codemirror_mode": "r",
   "file_extension": ".r",
   "mimetype": "text/x-r-source",
   "name": "R",
   "pygments_lexer": "r",
   "version": "3.4.1"
  }
 },
 "nbformat": 4,
 "nbformat_minor": 2
}
