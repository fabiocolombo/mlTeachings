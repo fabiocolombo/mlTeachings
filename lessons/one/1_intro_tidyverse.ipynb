{
 "cells": [
  {
   "cell_type": "markdown",
   "metadata": {},
   "source": [
    "# Introduction to the tidyverse\n",
    "The [tidyverse](https://www.tidyverse.org/) is an opinionated collection of R packages designed for data science. All packages share an underlying design philosophy, grammar, and data structures.\n",
    "\n",
    "![tidyverse](../fig/tidyverse.jpg \"title-1\")\n",
    "\n",
    "And you can load all these packages with a simple command"
   ]
  },
  {
   "cell_type": "code",
   "execution_count": 19,
   "metadata": {},
   "outputs": [],
   "source": [
    "library(tidyverse)"
   ]
  },
  {
   "cell_type": "markdown",
   "metadata": {},
   "source": [
    "As messages and warnings suggest, by loading tidyverse we are really loading a *set of packages*: ggplot2, dplyr, tidyr..."
   ]
  },
  {
   "cell_type": "markdown",
   "metadata": {},
   "source": [
    "### The Pipe operator\n",
    "\n",
    "Now we are going to have a rapid survey of some of these packages, but first you need to make friends with the **pipe** operator (**%>%** <- this guy here!). \n",
    "\n",
    "The pipe operator (also known out of the *R* world as **|**) has been first introduced by the developers of the **magrittr** package:\n",
    "\n",
    "![Magrittr](../fig/magrittr.png \"title-1\")\n",
    "\n",
    "This operator allows to concatenate a *R* value or the result of a *R* function with other *R* functions, the value at the left of the **%>%** will be interpret as the first value for the function at the right of it:"
   ]
  },
  {
   "cell_type": "code",
   "execution_count": 20,
   "metadata": {},
   "outputs": [
    {
     "data": {
      "text/html": [
       "<ol class=list-inline>\n",
       "\t<li>'mpg'</li>\n",
       "\t<li>'cyl'</li>\n",
       "\t<li>'disp'</li>\n",
       "\t<li>'hp'</li>\n",
       "\t<li>'drat'</li>\n",
       "\t<li>'wt'</li>\n",
       "\t<li>'qsec'</li>\n",
       "\t<li>'vs'</li>\n",
       "\t<li>'am'</li>\n",
       "\t<li>'gear'</li>\n",
       "\t<li>'carb'</li>\n",
       "</ol>\n"
      ],
      "text/latex": [
       "\\begin{enumerate*}\n",
       "\\item 'mpg'\n",
       "\\item 'cyl'\n",
       "\\item 'disp'\n",
       "\\item 'hp'\n",
       "\\item 'drat'\n",
       "\\item 'wt'\n",
       "\\item 'qsec'\n",
       "\\item 'vs'\n",
       "\\item 'am'\n",
       "\\item 'gear'\n",
       "\\item 'carb'\n",
       "\\end{enumerate*}\n"
      ],
      "text/markdown": [
       "1. 'mpg'\n",
       "2. 'cyl'\n",
       "3. 'disp'\n",
       "4. 'hp'\n",
       "5. 'drat'\n",
       "6. 'wt'\n",
       "7. 'qsec'\n",
       "8. 'vs'\n",
       "9. 'am'\n",
       "10. 'gear'\n",
       "11. 'carb'\n",
       "\n",
       "\n"
      ],
      "text/plain": [
       " [1] \"mpg\"  \"cyl\"  \"disp\" \"hp\"   \"drat\" \"wt\"   \"qsec\" \"vs\"   \"am\"   \"gear\"\n",
       "[11] \"carb\""
      ]
     },
     "metadata": {},
     "output_type": "display_data"
    },
    {
     "data": {
      "text/html": [
       "<table>\n",
       "<thead><tr><th></th><th scope=col>mpg</th><th scope=col>cyl</th><th scope=col>disp</th><th scope=col>hp</th><th scope=col>drat</th><th scope=col>wt</th><th scope=col>qsec</th><th scope=col>vs</th><th scope=col>am</th><th scope=col>gear</th><th scope=col>carb</th></tr></thead>\n",
       "<tbody>\n",
       "\t<tr><th scope=row>Mazda RX4</th><td>21.0 </td><td>6    </td><td>160  </td><td>110  </td><td>3.90 </td><td>2.620</td><td>16.46</td><td>0    </td><td>1    </td><td>4    </td><td>4    </td></tr>\n",
       "\t<tr><th scope=row>Mazda RX4 Wag</th><td>21.0 </td><td>6    </td><td>160  </td><td>110  </td><td>3.90 </td><td>2.875</td><td>17.02</td><td>0    </td><td>1    </td><td>4    </td><td>4    </td></tr>\n",
       "\t<tr><th scope=row>Datsun 710</th><td>22.8 </td><td>4    </td><td>108  </td><td> 93  </td><td>3.85 </td><td>2.320</td><td>18.61</td><td>1    </td><td>1    </td><td>4    </td><td>1    </td></tr>\n",
       "\t<tr><th scope=row>Hornet 4 Drive</th><td>21.4 </td><td>6    </td><td>258  </td><td>110  </td><td>3.08 </td><td>3.215</td><td>19.44</td><td>1    </td><td>0    </td><td>3    </td><td>1    </td></tr>\n",
       "\t<tr><th scope=row>Hornet Sportabout</th><td>18.7 </td><td>8    </td><td>360  </td><td>175  </td><td>3.15 </td><td>3.440</td><td>17.02</td><td>0    </td><td>0    </td><td>3    </td><td>2    </td></tr>\n",
       "</tbody>\n",
       "</table>\n"
      ],
      "text/latex": [
       "\\begin{tabular}{r|lllllllllll}\n",
       "  & mpg & cyl & disp & hp & drat & wt & qsec & vs & am & gear & carb\\\\\n",
       "\\hline\n",
       "\tMazda RX4 & 21.0  & 6     & 160   & 110   & 3.90  & 2.620 & 16.46 & 0     & 1     & 4     & 4    \\\\\n",
       "\tMazda RX4 Wag & 21.0  & 6     & 160   & 110   & 3.90  & 2.875 & 17.02 & 0     & 1     & 4     & 4    \\\\\n",
       "\tDatsun 710 & 22.8  & 4     & 108   &  93   & 3.85  & 2.320 & 18.61 & 1     & 1     & 4     & 1    \\\\\n",
       "\tHornet 4 Drive & 21.4  & 6     & 258   & 110   & 3.08  & 3.215 & 19.44 & 1     & 0     & 3     & 1    \\\\\n",
       "\tHornet Sportabout & 18.7  & 8     & 360   & 175   & 3.15  & 3.440 & 17.02 & 0     & 0     & 3     & 2    \\\\\n",
       "\\end{tabular}\n"
      ],
      "text/markdown": [
       "\n",
       "| <!--/--> | mpg | cyl | disp | hp | drat | wt | qsec | vs | am | gear | carb | \n",
       "|---|---|---|---|---|\n",
       "| Mazda RX4 | 21.0  | 6     | 160   | 110   | 3.90  | 2.620 | 16.46 | 0     | 1     | 4     | 4     | \n",
       "| Mazda RX4 Wag | 21.0  | 6     | 160   | 110   | 3.90  | 2.875 | 17.02 | 0     | 1     | 4     | 4     | \n",
       "| Datsun 710 | 22.8  | 4     | 108   |  93   | 3.85  | 2.320 | 18.61 | 1     | 1     | 4     | 1     | \n",
       "| Hornet 4 Drive | 21.4  | 6     | 258   | 110   | 3.08  | 3.215 | 19.44 | 1     | 0     | 3     | 1     | \n",
       "| Hornet Sportabout | 18.7  | 8     | 360   | 175   | 3.15  | 3.440 | 17.02 | 0     | 0     | 3     | 2     | \n",
       "\n",
       "\n"
      ],
      "text/plain": [
       "                  mpg  cyl disp hp  drat wt    qsec  vs am gear carb\n",
       "Mazda RX4         21.0 6   160  110 3.90 2.620 16.46 0  1  4    4   \n",
       "Mazda RX4 Wag     21.0 6   160  110 3.90 2.875 17.02 0  1  4    4   \n",
       "Datsun 710        22.8 4   108   93 3.85 2.320 18.61 1  1  4    1   \n",
       "Hornet 4 Drive    21.4 6   258  110 3.08 3.215 19.44 1  0  3    1   \n",
       "Hornet Sportabout 18.7 8   360  175 3.15 3.440 17.02 0  0  3    2   "
      ]
     },
     "metadata": {},
     "output_type": "display_data"
    },
    {
     "data": {
      "text/html": [
       "-0.0428326670446577"
      ],
      "text/latex": [
       "-0.0428326670446577"
      ],
      "text/markdown": [
       "-0.0428326670446577"
      ],
      "text/plain": [
       "[1] -0.04283267"
      ]
     },
     "metadata": {},
     "output_type": "display_data"
    }
   ],
   "source": [
    "names(mtcars)\n",
    "head(mtcars, n = 5)\n",
    "mean(rnorm(100))"
   ]
  },
  {
   "cell_type": "markdown",
   "metadata": {},
   "source": [
    "Can be rewritten using a **%>%** as follows:"
   ]
  },
  {
   "cell_type": "code",
   "execution_count": 21,
   "metadata": {},
   "outputs": [
    {
     "data": {
      "text/html": [
       "<ol class=list-inline>\n",
       "\t<li>'mpg'</li>\n",
       "\t<li>'cyl'</li>\n",
       "\t<li>'disp'</li>\n",
       "\t<li>'hp'</li>\n",
       "\t<li>'drat'</li>\n",
       "\t<li>'wt'</li>\n",
       "\t<li>'qsec'</li>\n",
       "\t<li>'vs'</li>\n",
       "\t<li>'am'</li>\n",
       "\t<li>'gear'</li>\n",
       "\t<li>'carb'</li>\n",
       "</ol>\n"
      ],
      "text/latex": [
       "\\begin{enumerate*}\n",
       "\\item 'mpg'\n",
       "\\item 'cyl'\n",
       "\\item 'disp'\n",
       "\\item 'hp'\n",
       "\\item 'drat'\n",
       "\\item 'wt'\n",
       "\\item 'qsec'\n",
       "\\item 'vs'\n",
       "\\item 'am'\n",
       "\\item 'gear'\n",
       "\\item 'carb'\n",
       "\\end{enumerate*}\n"
      ],
      "text/markdown": [
       "1. 'mpg'\n",
       "2. 'cyl'\n",
       "3. 'disp'\n",
       "4. 'hp'\n",
       "5. 'drat'\n",
       "6. 'wt'\n",
       "7. 'qsec'\n",
       "8. 'vs'\n",
       "9. 'am'\n",
       "10. 'gear'\n",
       "11. 'carb'\n",
       "\n",
       "\n"
      ],
      "text/plain": [
       " [1] \"mpg\"  \"cyl\"  \"disp\" \"hp\"   \"drat\" \"wt\"   \"qsec\" \"vs\"   \"am\"   \"gear\"\n",
       "[11] \"carb\""
      ]
     },
     "metadata": {},
     "output_type": "display_data"
    },
    {
     "data": {
      "text/html": [
       "<table>\n",
       "<thead><tr><th></th><th scope=col>mpg</th><th scope=col>cyl</th><th scope=col>disp</th><th scope=col>hp</th><th scope=col>drat</th><th scope=col>wt</th><th scope=col>qsec</th><th scope=col>vs</th><th scope=col>am</th><th scope=col>gear</th><th scope=col>carb</th></tr></thead>\n",
       "<tbody>\n",
       "\t<tr><th scope=row>Mazda RX4</th><td>21.0 </td><td>6    </td><td>160  </td><td>110  </td><td>3.90 </td><td>2.620</td><td>16.46</td><td>0    </td><td>1    </td><td>4    </td><td>4    </td></tr>\n",
       "\t<tr><th scope=row>Mazda RX4 Wag</th><td>21.0 </td><td>6    </td><td>160  </td><td>110  </td><td>3.90 </td><td>2.875</td><td>17.02</td><td>0    </td><td>1    </td><td>4    </td><td>4    </td></tr>\n",
       "\t<tr><th scope=row>Datsun 710</th><td>22.8 </td><td>4    </td><td>108  </td><td> 93  </td><td>3.85 </td><td>2.320</td><td>18.61</td><td>1    </td><td>1    </td><td>4    </td><td>1    </td></tr>\n",
       "\t<tr><th scope=row>Hornet 4 Drive</th><td>21.4 </td><td>6    </td><td>258  </td><td>110  </td><td>3.08 </td><td>3.215</td><td>19.44</td><td>1    </td><td>0    </td><td>3    </td><td>1    </td></tr>\n",
       "\t<tr><th scope=row>Hornet Sportabout</th><td>18.7 </td><td>8    </td><td>360  </td><td>175  </td><td>3.15 </td><td>3.440</td><td>17.02</td><td>0    </td><td>0    </td><td>3    </td><td>2    </td></tr>\n",
       "</tbody>\n",
       "</table>\n"
      ],
      "text/latex": [
       "\\begin{tabular}{r|lllllllllll}\n",
       "  & mpg & cyl & disp & hp & drat & wt & qsec & vs & am & gear & carb\\\\\n",
       "\\hline\n",
       "\tMazda RX4 & 21.0  & 6     & 160   & 110   & 3.90  & 2.620 & 16.46 & 0     & 1     & 4     & 4    \\\\\n",
       "\tMazda RX4 Wag & 21.0  & 6     & 160   & 110   & 3.90  & 2.875 & 17.02 & 0     & 1     & 4     & 4    \\\\\n",
       "\tDatsun 710 & 22.8  & 4     & 108   &  93   & 3.85  & 2.320 & 18.61 & 1     & 1     & 4     & 1    \\\\\n",
       "\tHornet 4 Drive & 21.4  & 6     & 258   & 110   & 3.08  & 3.215 & 19.44 & 1     & 0     & 3     & 1    \\\\\n",
       "\tHornet Sportabout & 18.7  & 8     & 360   & 175   & 3.15  & 3.440 & 17.02 & 0     & 0     & 3     & 2    \\\\\n",
       "\\end{tabular}\n"
      ],
      "text/markdown": [
       "\n",
       "| <!--/--> | mpg | cyl | disp | hp | drat | wt | qsec | vs | am | gear | carb | \n",
       "|---|---|---|---|---|\n",
       "| Mazda RX4 | 21.0  | 6     | 160   | 110   | 3.90  | 2.620 | 16.46 | 0     | 1     | 4     | 4     | \n",
       "| Mazda RX4 Wag | 21.0  | 6     | 160   | 110   | 3.90  | 2.875 | 17.02 | 0     | 1     | 4     | 4     | \n",
       "| Datsun 710 | 22.8  | 4     | 108   |  93   | 3.85  | 2.320 | 18.61 | 1     | 1     | 4     | 1     | \n",
       "| Hornet 4 Drive | 21.4  | 6     | 258   | 110   | 3.08  | 3.215 | 19.44 | 1     | 0     | 3     | 1     | \n",
       "| Hornet Sportabout | 18.7  | 8     | 360   | 175   | 3.15  | 3.440 | 17.02 | 0     | 0     | 3     | 2     | \n",
       "\n",
       "\n"
      ],
      "text/plain": [
       "                  mpg  cyl disp hp  drat wt    qsec  vs am gear carb\n",
       "Mazda RX4         21.0 6   160  110 3.90 2.620 16.46 0  1  4    4   \n",
       "Mazda RX4 Wag     21.0 6   160  110 3.90 2.875 17.02 0  1  4    4   \n",
       "Datsun 710        22.8 4   108   93 3.85 2.320 18.61 1  1  4    1   \n",
       "Hornet 4 Drive    21.4 6   258  110 3.08 3.215 19.44 1  0  3    1   \n",
       "Hornet Sportabout 18.7 8   360  175 3.15 3.440 17.02 0  0  3    2   "
      ]
     },
     "metadata": {},
     "output_type": "display_data"
    },
    {
     "data": {
      "text/html": [
       "-0.522651987041473"
      ],
      "text/latex": [
       "-0.522651987041473"
      ],
      "text/markdown": [
       "-0.522651987041473"
      ],
      "text/plain": [
       "[1] -0.522652"
      ]
     },
     "metadata": {},
     "output_type": "display_data"
    }
   ],
   "source": [
    "mtcars %>% names\n",
    "mtcars %>% head(n = 5)\n",
    "rnorm(10) %>% mean"
   ]
  },
  {
   "cell_type": "markdown",
   "metadata": {},
   "source": [
    "And....*so what*? Obviously....with more than one *pipe* you can build a pipeline...\n",
    "\n",
    "What if I'd like to take the **5** cars with the highest mpg values, add to them standard normal noise and plot it?\n",
    "\n",
    "Here a way to do it without a pipeline:"
   ]
  },
  {
   "cell_type": "markdown",
   "metadata": {},
   "source": []
  },
  {
   "cell_type": "code",
   "execution_count": 22,
   "metadata": {},
   "outputs": [
    {
     "data": {
      "image/png": "[encoded data removed]",
      "text/plain": [
       "plot without title"
      ]
     },
     "metadata": {},
     "output_type": "display_data"
    }
   ],
   "source": [
    "options(repr.plot.width=3, repr.plot.height=3) ### set a small plot size\n",
    "plot(tail(sort(mtcars[, \"mpg\"]), n = 5) + rnorm(5))"
   ]
  },
  {
   "cell_type": "markdown",
   "metadata": {},
   "source": [
    "And here a way to obtain the same result with a *pipeline*:"
   ]
  },
  {
   "cell_type": "code",
   "execution_count": 23,
   "metadata": {},
   "outputs": [
    {
     "data": {
      "image/png": "[encoded data removed]",
      "text/plain": [
       "plot without title"
      ]
     },
     "metadata": {},
     "output_type": "display_data"
    }
   ],
   "source": [
    "mtcars %>% pull(mpg) %>% sort %>% tail(n = 5) %>% `+`(rnorm(5)) %>% plot"
   ]
  },
  {
   "cell_type": "markdown",
   "metadata": {},
   "source": [
    "*P.S.* here we used a trick: you can call operator functions like **+**, **-**, **\\***, **/** and many others, simply by including them between two backticks \\`\\` (on windows you can obtain a backtick using the key combination ALT+96)\n",
    "\n",
    "A last thing about **%>%**...it works even if the function at the right of the pipe does not want the value at the left of it as first argument. We can use the point **.** as placeholder, as example, this linear regression:"
   ]
  },
  {
   "cell_type": "code",
   "execution_count": 24,
   "metadata": {},
   "outputs": [
    {
     "data": {
      "text/plain": [
       "\n",
       "Call:\n",
       "lm(formula = mpg ~ cyl, data = mtcars)\n",
       "\n",
       "Coefficients:\n",
       "(Intercept)          cyl  \n",
       "     37.885       -2.876  \n"
      ]
     },
     "metadata": {},
     "output_type": "display_data"
    }
   ],
   "source": [
    "lm(mpg ~ cyl, mtcars)"
   ]
  },
  {
   "cell_type": "markdown",
   "metadata": {},
   "source": [
    "Can be *pipelinezed* as:"
   ]
  },
  {
   "cell_type": "code",
   "execution_count": 25,
   "metadata": {},
   "outputs": [
    {
     "data": {
      "text/plain": [
       "\n",
       "Call:\n",
       "lm(formula = mpg ~ cyl, data = .)\n",
       "\n",
       "Coefficients:\n",
       "(Intercept)          cyl  \n",
       "     37.885       -2.876  \n"
      ]
     },
     "metadata": {},
     "output_type": "display_data"
    }
   ],
   "source": [
    "mtcars %>% lm(mpg ~ cyl, .)"
   ]
  },
  {
   "cell_type": "markdown",
   "metadata": {},
   "source": [
    "### DPLYR\n",
    "\n",
    "After the pipe operator we can start with the first useful package of the tidyverse, **dplyr**:\n",
    "\n",
    "![DPLYR](../fig/dplyr_small.png \"title-1\")\n",
    "\n",
    "This package is the *de-facto* standard for data manipulation in modern R.\n",
    "\n",
    "It consists of *single table* verbs to manipulate a single table:\n"
   ]
  },
  {
   "cell_type": "code",
   "execution_count": 26,
   "metadata": {},
   "outputs": [
    {
     "data": {
      "text/html": [
       "8"
      ],
      "text/latex": [
       "8"
      ],
      "text/markdown": [
       "8"
      ],
      "text/plain": [
       "[1] 8"
      ]
     },
     "metadata": {},
     "output_type": "display_data"
    },
    {
     "data": {
      "text/html": [
       "<table>\n",
       "<thead><tr><th></th><th scope=col>mpg</th><th scope=col>cyl</th><th scope=col>disp</th><th scope=col>hp</th><th scope=col>drat</th><th scope=col>wt</th><th scope=col>qsec</th><th scope=col>vs</th><th scope=col>am</th><th scope=col>gear</th><th scope=col>carb</th></tr></thead>\n",
       "<tbody>\n",
       "\t<tr><th scope=row>Ford Pantera L</th><td>15.8 </td><td>8    </td><td>351.0</td><td>264  </td><td>4.22 </td><td>3.170</td><td>14.50</td><td>0    </td><td>1    </td><td>5    </td><td>4    </td></tr>\n",
       "\t<tr><th scope=row>Merc 450SE</th><td>16.4 </td><td>8    </td><td>275.8</td><td>180  </td><td>3.07 </td><td>4.070</td><td>17.40</td><td>0    </td><td>0    </td><td>3    </td><td>3    </td></tr>\n",
       "\t<tr><th scope=row>Merc 280C</th><td>17.8 </td><td>6    </td><td>167.6</td><td>123  </td><td>3.92 </td><td>3.440</td><td>18.90</td><td>1    </td><td>0    </td><td>4    </td><td>4    </td></tr>\n",
       "\t<tr><th scope=row>Hornet 4 Drive</th><td>21.4 </td><td>6    </td><td>258.0</td><td>110  </td><td>3.08 </td><td>3.215</td><td>19.44</td><td>1    </td><td>0    </td><td>3    </td><td>1    </td></tr>\n",
       "\t<tr><th scope=row>Datsun 710</th><td>22.8 </td><td>4    </td><td>108.0</td><td> 93  </td><td>3.85 </td><td>2.320</td><td>18.61</td><td>1    </td><td>1    </td><td>4    </td><td>1    </td></tr>\n",
       "</tbody>\n",
       "</table>\n"
      ],
      "text/latex": [
       "\\begin{tabular}{r|lllllllllll}\n",
       "  & mpg & cyl & disp & hp & drat & wt & qsec & vs & am & gear & carb\\\\\n",
       "\\hline\n",
       "\tFord Pantera L & 15.8  & 8     & 351.0 & 264   & 4.22  & 3.170 & 14.50 & 0     & 1     & 5     & 4    \\\\\n",
       "\tMerc 450SE & 16.4  & 8     & 275.8 & 180   & 3.07  & 4.070 & 17.40 & 0     & 0     & 3     & 3    \\\\\n",
       "\tMerc 280C & 17.8  & 6     & 167.6 & 123   & 3.92  & 3.440 & 18.90 & 1     & 0     & 4     & 4    \\\\\n",
       "\tHornet 4 Drive & 21.4  & 6     & 258.0 & 110   & 3.08  & 3.215 & 19.44 & 1     & 0     & 3     & 1    \\\\\n",
       "\tDatsun 710 & 22.8  & 4     & 108.0 &  93   & 3.85  & 2.320 & 18.61 & 1     & 1     & 4     & 1    \\\\\n",
       "\\end{tabular}\n"
      ],
      "text/markdown": [
       "\n",
       "| <!--/--> | mpg | cyl | disp | hp | drat | wt | qsec | vs | am | gear | carb | \n",
       "|---|---|---|---|---|\n",
       "| Ford Pantera L | 15.8  | 8     | 351.0 | 264   | 4.22  | 3.170 | 14.50 | 0     | 1     | 5     | 4     | \n",
       "| Merc 450SE | 16.4  | 8     | 275.8 | 180   | 3.07  | 4.070 | 17.40 | 0     | 0     | 3     | 3     | \n",
       "| Merc 280C | 17.8  | 6     | 167.6 | 123   | 3.92  | 3.440 | 18.90 | 1     | 0     | 4     | 4     | \n",
       "| Hornet 4 Drive | 21.4  | 6     | 258.0 | 110   | 3.08  | 3.215 | 19.44 | 1     | 0     | 3     | 1     | \n",
       "| Datsun 710 | 22.8  | 4     | 108.0 |  93   | 3.85  | 2.320 | 18.61 | 1     | 1     | 4     | 1     | \n",
       "\n",
       "\n"
      ],
      "text/plain": [
       "               mpg  cyl disp  hp  drat wt    qsec  vs am gear carb\n",
       "Ford Pantera L 15.8 8   351.0 264 4.22 3.170 14.50 0  1  5    4   \n",
       "Merc 450SE     16.4 8   275.8 180 3.07 4.070 17.40 0  0  3    3   \n",
       "Merc 280C      17.8 6   167.6 123 3.92 3.440 18.90 1  0  4    4   \n",
       "Hornet 4 Drive 21.4 6   258.0 110 3.08 3.215 19.44 1  0  3    1   \n",
       "Datsun 710     22.8 4   108.0  93 3.85 2.320 18.61 1  1  4    1   "
      ]
     },
     "metadata": {},
     "output_type": "display_data"
    },
    {
     "name": "stderr",
     "output_type": "stream",
     "text": [
      "Warning message:\n",
      "\"package 'bindrcpp' was built under R version 3.4.2\""
     ]
    },
    {
     "data": {
      "text/html": [
       "<table>\n",
       "<thead><tr><th scope=col>mpg</th><th scope=col>cyl</th><th scope=col>disp</th><th scope=col>hp</th><th scope=col>drat</th><th scope=col>wt</th><th scope=col>qsec</th><th scope=col>vs</th><th scope=col>am</th><th scope=col>gear</th><th scope=col>carb</th></tr></thead>\n",
       "<tbody>\n",
       "\t<tr><td>15.8 </td><td>8    </td><td>351.0</td><td>264  </td><td>4.22 </td><td>3.17 </td><td>14.5 </td><td>0    </td><td>1    </td><td>5    </td><td>4    </td></tr>\n",
       "\t<tr><td>16.4 </td><td>8    </td><td>275.8</td><td>180  </td><td>3.07 </td><td>4.07 </td><td>17.4 </td><td>0    </td><td>0    </td><td>3    </td><td>3    </td></tr>\n",
       "</tbody>\n",
       "</table>\n"
      ],
      "text/latex": [
       "\\begin{tabular}{r|lllllllllll}\n",
       " mpg & cyl & disp & hp & drat & wt & qsec & vs & am & gear & carb\\\\\n",
       "\\hline\n",
       "\t 15.8  & 8     & 351.0 & 264   & 4.22  & 3.17  & 14.5  & 0     & 1     & 5     & 4    \\\\\n",
       "\t 16.4  & 8     & 275.8 & 180   & 3.07  & 4.07  & 17.4  & 0     & 0     & 3     & 3    \\\\\n",
       "\\end{tabular}\n"
      ],
      "text/markdown": [
       "\n",
       "mpg | cyl | disp | hp | drat | wt | qsec | vs | am | gear | carb | \n",
       "|---|---|\n",
       "| 15.8  | 8     | 351.0 | 264   | 4.22  | 3.17  | 14.5  | 0     | 1     | 5     | 4     | \n",
       "| 16.4  | 8     | 275.8 | 180   | 3.07  | 4.07  | 17.4  | 0     | 0     | 3     | 3     | \n",
       "\n",
       "\n"
      ],
      "text/plain": [
       "  mpg  cyl disp  hp  drat wt   qsec vs am gear carb\n",
       "1 15.8 8   351.0 264 4.22 3.17 14.5 0  1  5    4   \n",
       "2 16.4 8   275.8 180 3.07 4.07 17.4 0  0  3    3   "
      ]
     },
     "metadata": {},
     "output_type": "display_data"
    },
    {
     "data": {
      "text/html": [
       "<table>\n",
       "<thead><tr><th scope=col>mpg</th><th scope=col>cyl</th><th scope=col>disp</th><th scope=col>hp</th><th scope=col>drat</th><th scope=col>wt</th><th scope=col>qsec</th><th scope=col>vs</th><th scope=col>am</th><th scope=col>gear</th><th scope=col>carb</th></tr></thead>\n",
       "<tbody>\n",
       "\t<tr><td>15.8 </td><td>8    </td><td>351.0</td><td>264  </td><td>4.22 </td><td>3.170</td><td>14.50</td><td>0    </td><td>1    </td><td>5    </td><td>4    </td></tr>\n",
       "\t<tr><td>16.4 </td><td>8    </td><td>275.8</td><td>180  </td><td>3.07 </td><td>4.070</td><td>17.40</td><td>0    </td><td>0    </td><td>3    </td><td>3    </td></tr>\n",
       "\t<tr><td>17.8 </td><td>6    </td><td>167.6</td><td>123  </td><td>3.92 </td><td>3.440</td><td>18.90</td><td>1    </td><td>0    </td><td>4    </td><td>4    </td></tr>\n",
       "\t<tr><td>21.4 </td><td>6    </td><td>258.0</td><td>110  </td><td>3.08 </td><td>3.215</td><td>19.44</td><td>1    </td><td>0    </td><td>3    </td><td>1    </td></tr>\n",
       "\t<tr><td>22.8 </td><td>4    </td><td>108.0</td><td> 93  </td><td>3.85 </td><td>2.320</td><td>18.61</td><td>1    </td><td>1    </td><td>4    </td><td>1    </td></tr>\n",
       "</tbody>\n",
       "</table>\n"
      ],
      "text/latex": [
       "\\begin{tabular}{r|lllllllllll}\n",
       " mpg & cyl & disp & hp & drat & wt & qsec & vs & am & gear & carb\\\\\n",
       "\\hline\n",
       "\t 15.8  & 8     & 351.0 & 264   & 4.22  & 3.170 & 14.50 & 0     & 1     & 5     & 4    \\\\\n",
       "\t 16.4  & 8     & 275.8 & 180   & 3.07  & 4.070 & 17.40 & 0     & 0     & 3     & 3    \\\\\n",
       "\t 17.8  & 6     & 167.6 & 123   & 3.92  & 3.440 & 18.90 & 1     & 0     & 4     & 4    \\\\\n",
       "\t 21.4  & 6     & 258.0 & 110   & 3.08  & 3.215 & 19.44 & 1     & 0     & 3     & 1    \\\\\n",
       "\t 22.8  & 4     & 108.0 &  93   & 3.85  & 2.320 & 18.61 & 1     & 1     & 4     & 1    \\\\\n",
       "\\end{tabular}\n"
      ],
      "text/markdown": [
       "\n",
       "mpg | cyl | disp | hp | drat | wt | qsec | vs | am | gear | carb | \n",
       "|---|---|---|---|---|\n",
       "| 15.8  | 8     | 351.0 | 264   | 4.22  | 3.170 | 14.50 | 0     | 1     | 5     | 4     | \n",
       "| 16.4  | 8     | 275.8 | 180   | 3.07  | 4.070 | 17.40 | 0     | 0     | 3     | 3     | \n",
       "| 17.8  | 6     | 167.6 | 123   | 3.92  | 3.440 | 18.90 | 1     | 0     | 4     | 4     | \n",
       "| 21.4  | 6     | 258.0 | 110   | 3.08  | 3.215 | 19.44 | 1     | 0     | 3     | 1     | \n",
       "| 22.8  | 4     | 108.0 |  93   | 3.85  | 2.320 | 18.61 | 1     | 1     | 4     | 1     | \n",
       "\n",
       "\n"
      ],
      "text/plain": [
       "  mpg  cyl disp  hp  drat wt    qsec  vs am gear carb\n",
       "1 15.8 8   351.0 264 4.22 3.170 14.50 0  1  5    4   \n",
       "2 16.4 8   275.8 180 3.07 4.070 17.40 0  0  3    3   \n",
       "3 17.8 6   167.6 123 3.92 3.440 18.90 1  0  4    4   \n",
       "4 21.4 6   258.0 110 3.08 3.215 19.44 1  0  3    1   \n",
       "5 22.8 4   108.0  93 3.85 2.320 18.61 1  1  4    1   "
      ]
     },
     "metadata": {},
     "output_type": "display_data"
    },
    {
     "data": {
      "text/html": [
       "<table>\n",
       "<thead><tr><th></th><th scope=col>carb</th><th scope=col>cyl</th></tr></thead>\n",
       "<tbody>\n",
       "\t<tr><th scope=row>Ford Pantera L</th><td>4</td><td>8</td></tr>\n",
       "\t<tr><th scope=row>Merc 450SE</th><td>3</td><td>8</td></tr>\n",
       "\t<tr><th scope=row>Merc 280C</th><td>4</td><td>6</td></tr>\n",
       "\t<tr><th scope=row>Hornet 4 Drive</th><td>1</td><td>6</td></tr>\n",
       "\t<tr><th scope=row>Datsun 710</th><td>1</td><td>4</td></tr>\n",
       "</tbody>\n",
       "</table>\n"
      ],
      "text/latex": [
       "\\begin{tabular}{r|ll}\n",
       "  & carb & cyl\\\\\n",
       "\\hline\n",
       "\tFord Pantera L & 4 & 8\\\\\n",
       "\tMerc 450SE & 3 & 8\\\\\n",
       "\tMerc 280C & 4 & 6\\\\\n",
       "\tHornet 4 Drive & 1 & 6\\\\\n",
       "\tDatsun 710 & 1 & 4\\\\\n",
       "\\end{tabular}\n"
      ],
      "text/markdown": [
       "\n",
       "| <!--/--> | carb | cyl | \n",
       "|---|---|---|---|---|\n",
       "| Ford Pantera L | 4 | 8 | \n",
       "| Merc 450SE | 3 | 8 | \n",
       "| Merc 280C | 4 | 6 | \n",
       "| Hornet 4 Drive | 1 | 6 | \n",
       "| Datsun 710 | 1 | 4 | \n",
       "\n",
       "\n"
      ],
      "text/plain": [
       "               carb cyl\n",
       "Ford Pantera L 4    8  \n",
       "Merc 450SE     3    8  \n",
       "Merc 280C      4    6  \n",
       "Hornet 4 Drive 1    6  \n",
       "Datsun 710     1    4  "
      ]
     },
     "metadata": {},
     "output_type": "display_data"
    },
    {
     "data": {
      "text/html": [
       "<table>\n",
       "<thead><tr><th></th><th scope=col>mpg</th><th scope=col>cylinder</th><th scope=col>disp</th><th scope=col>horsepower</th><th scope=col>drat</th><th scope=col>wt</th><th scope=col>qsec</th><th scope=col>vs</th><th scope=col>am</th><th scope=col>gear</th><th scope=col>carb</th></tr></thead>\n",
       "<tbody>\n",
       "\t<tr><th scope=row>Ford Pantera L</th><td>15.8 </td><td>8    </td><td>351.0</td><td>264  </td><td>4.22 </td><td>3.170</td><td>14.50</td><td>0    </td><td>1    </td><td>5    </td><td>4    </td></tr>\n",
       "\t<tr><th scope=row>Merc 450SE</th><td>16.4 </td><td>8    </td><td>275.8</td><td>180  </td><td>3.07 </td><td>4.070</td><td>17.40</td><td>0    </td><td>0    </td><td>3    </td><td>3    </td></tr>\n",
       "\t<tr><th scope=row>Merc 280C</th><td>17.8 </td><td>6    </td><td>167.6</td><td>123  </td><td>3.92 </td><td>3.440</td><td>18.90</td><td>1    </td><td>0    </td><td>4    </td><td>4    </td></tr>\n",
       "\t<tr><th scope=row>Hornet 4 Drive</th><td>21.4 </td><td>6    </td><td>258.0</td><td>110  </td><td>3.08 </td><td>3.215</td><td>19.44</td><td>1    </td><td>0    </td><td>3    </td><td>1    </td></tr>\n",
       "\t<tr><th scope=row>Datsun 710</th><td>22.8 </td><td>4    </td><td>108.0</td><td> 93  </td><td>3.85 </td><td>2.320</td><td>18.61</td><td>1    </td><td>1    </td><td>4    </td><td>1    </td></tr>\n",
       "</tbody>\n",
       "</table>\n"
      ],
      "text/latex": [
       "\\begin{tabular}{r|lllllllllll}\n",
       "  & mpg & cylinder & disp & horsepower & drat & wt & qsec & vs & am & gear & carb\\\\\n",
       "\\hline\n",
       "\tFord Pantera L & 15.8  & 8     & 351.0 & 264   & 4.22  & 3.170 & 14.50 & 0     & 1     & 5     & 4    \\\\\n",
       "\tMerc 450SE & 16.4  & 8     & 275.8 & 180   & 3.07  & 4.070 & 17.40 & 0     & 0     & 3     & 3    \\\\\n",
       "\tMerc 280C & 17.8  & 6     & 167.6 & 123   & 3.92  & 3.440 & 18.90 & 1     & 0     & 4     & 4    \\\\\n",
       "\tHornet 4 Drive & 21.4  & 6     & 258.0 & 110   & 3.08  & 3.215 & 19.44 & 1     & 0     & 3     & 1    \\\\\n",
       "\tDatsun 710 & 22.8  & 4     & 108.0 &  93   & 3.85  & 2.320 & 18.61 & 1     & 1     & 4     & 1    \\\\\n",
       "\\end{tabular}\n"
      ],
      "text/markdown": [
       "\n",
       "| <!--/--> | mpg | cylinder | disp | horsepower | drat | wt | qsec | vs | am | gear | carb | \n",
       "|---|---|---|---|---|\n",
       "| Ford Pantera L | 15.8  | 8     | 351.0 | 264   | 4.22  | 3.170 | 14.50 | 0     | 1     | 5     | 4     | \n",
       "| Merc 450SE | 16.4  | 8     | 275.8 | 180   | 3.07  | 4.070 | 17.40 | 0     | 0     | 3     | 3     | \n",
       "| Merc 280C | 17.8  | 6     | 167.6 | 123   | 3.92  | 3.440 | 18.90 | 1     | 0     | 4     | 4     | \n",
       "| Hornet 4 Drive | 21.4  | 6     | 258.0 | 110   | 3.08  | 3.215 | 19.44 | 1     | 0     | 3     | 1     | \n",
       "| Datsun 710 | 22.8  | 4     | 108.0 |  93   | 3.85  | 2.320 | 18.61 | 1     | 1     | 4     | 1     | \n",
       "\n",
       "\n"
      ],
      "text/plain": [
       "               mpg  cylinder disp  horsepower drat wt    qsec  vs am gear carb\n",
       "Ford Pantera L 15.8 8        351.0 264        4.22 3.170 14.50 0  1  5    4   \n",
       "Merc 450SE     16.4 8        275.8 180        3.07 4.070 17.40 0  0  3    3   \n",
       "Merc 280C      17.8 6        167.6 123        3.92 3.440 18.90 1  0  4    4   \n",
       "Hornet 4 Drive 21.4 6        258.0 110        3.08 3.215 19.44 1  0  3    1   \n",
       "Datsun 710     22.8 4        108.0  93        3.85 2.320 18.61 1  1  4    1   "
      ]
     },
     "metadata": {},
     "output_type": "display_data"
    },
    {
     "data": {
      "text/html": [
       "<table>\n",
       "<thead><tr><th scope=col>mpg</th><th scope=col>cyl</th><th scope=col>disp</th><th scope=col>hp</th><th scope=col>drat</th><th scope=col>wt</th><th scope=col>qsec</th><th scope=col>vs</th><th scope=col>am</th><th scope=col>gear</th><th scope=col>carb</th><th scope=col>tot</th></tr></thead>\n",
       "<tbody>\n",
       "\t<tr><td>15.8 </td><td>16   </td><td>351.0</td><td>264  </td><td>4.22 </td><td>3.170</td><td>14.50</td><td>0    </td><td>1    </td><td>5    </td><td>4    </td><td>10   </td></tr>\n",
       "\t<tr><td>16.4 </td><td>16   </td><td>275.8</td><td>180  </td><td>3.07 </td><td>4.070</td><td>17.40</td><td>0    </td><td>0    </td><td>3    </td><td>3    </td><td> 6   </td></tr>\n",
       "\t<tr><td>17.8 </td><td>12   </td><td>167.6</td><td>123  </td><td>3.92 </td><td>3.440</td><td>18.90</td><td>1    </td><td>0    </td><td>4    </td><td>4    </td><td> 8   </td></tr>\n",
       "\t<tr><td>21.4 </td><td>12   </td><td>258.0</td><td>110  </td><td>3.08 </td><td>3.215</td><td>19.44</td><td>1    </td><td>0    </td><td>3    </td><td>1    </td><td> 4   </td></tr>\n",
       "\t<tr><td>22.8 </td><td> 8   </td><td>108.0</td><td> 93  </td><td>3.85 </td><td>2.320</td><td>18.61</td><td>1    </td><td>1    </td><td>4    </td><td>1    </td><td> 6   </td></tr>\n",
       "</tbody>\n",
       "</table>\n"
      ],
      "text/latex": [
       "\\begin{tabular}{r|llllllllllll}\n",
       " mpg & cyl & disp & hp & drat & wt & qsec & vs & am & gear & carb & tot\\\\\n",
       "\\hline\n",
       "\t 15.8  & 16    & 351.0 & 264   & 4.22  & 3.170 & 14.50 & 0     & 1     & 5     & 4     & 10   \\\\\n",
       "\t 16.4  & 16    & 275.8 & 180   & 3.07  & 4.070 & 17.40 & 0     & 0     & 3     & 3     &  6   \\\\\n",
       "\t 17.8  & 12    & 167.6 & 123   & 3.92  & 3.440 & 18.90 & 1     & 0     & 4     & 4     &  8   \\\\\n",
       "\t 21.4  & 12    & 258.0 & 110   & 3.08  & 3.215 & 19.44 & 1     & 0     & 3     & 1     &  4   \\\\\n",
       "\t 22.8  &  8    & 108.0 &  93   & 3.85  & 2.320 & 18.61 & 1     & 1     & 4     & 1     &  6   \\\\\n",
       "\\end{tabular}\n"
      ],
      "text/markdown": [
       "\n",
       "mpg | cyl | disp | hp | drat | wt | qsec | vs | am | gear | carb | tot | \n",
       "|---|---|---|---|---|\n",
       "| 15.8  | 16    | 351.0 | 264   | 4.22  | 3.170 | 14.50 | 0     | 1     | 5     | 4     | 10    | \n",
       "| 16.4  | 16    | 275.8 | 180   | 3.07  | 4.070 | 17.40 | 0     | 0     | 3     | 3     |  6    | \n",
       "| 17.8  | 12    | 167.6 | 123   | 3.92  | 3.440 | 18.90 | 1     | 0     | 4     | 4     |  8    | \n",
       "| 21.4  | 12    | 258.0 | 110   | 3.08  | 3.215 | 19.44 | 1     | 0     | 3     | 1     |  4    | \n",
       "| 22.8  |  8    | 108.0 |  93   | 3.85  | 2.320 | 18.61 | 1     | 1     | 4     | 1     |  6    | \n",
       "\n",
       "\n"
      ],
      "text/plain": [
       "  mpg  cyl disp  hp  drat wt    qsec  vs am gear carb tot\n",
       "1 15.8 16  351.0 264 4.22 3.170 14.50 0  1  5    4    10 \n",
       "2 16.4 16  275.8 180 3.07 4.070 17.40 0  0  3    3     6 \n",
       "3 17.8 12  167.6 123 3.92 3.440 18.90 1  0  4    4     8 \n",
       "4 21.4 12  258.0 110 3.08 3.215 19.44 1  0  3    1     4 \n",
       "5 22.8  8  108.0  93 3.85 2.320 18.61 1  1  4    1     6 "
      ]
     },
     "metadata": {},
     "output_type": "display_data"
    },
    {
     "data": {
      "text/html": [
       "<table>\n",
       "<thead><tr><th scope=col>mean_hp</th></tr></thead>\n",
       "<tbody>\n",
       "\t<tr><td>154</td></tr>\n",
       "</tbody>\n",
       "</table>\n"
      ],
      "text/latex": [
       "\\begin{tabular}{r|l}\n",
       " mean\\_hp\\\\\n",
       "\\hline\n",
       "\t 154\\\\\n",
       "\\end{tabular}\n"
      ],
      "text/markdown": [
       "\n",
       "mean_hp | \n",
       "|---|\n",
       "| 154 | \n",
       "\n",
       "\n"
      ],
      "text/plain": [
       "  mean_hp\n",
       "1 154    "
      ]
     },
     "metadata": {},
     "output_type": "display_data"
    }
   ],
   "source": [
    "mtcars %>% sample_n(5) -> smcars # randomly choosy five cars\n",
    "smcars %>% pull(cyl) %>% max -> max_cyl\n",
    "max_cyl\n",
    "smcars\n",
    "smcars %>% filter(cyl == max_cyl) # choose cars with six cylinders\n",
    "smcars %>% arrange(desc(hp)) # arrange the cars by descending hp\n",
    "smcars %>% select(carb, cyl) # select only two columns of the datasets\n",
    "smcars %>% rename(cylinder = cyl, horsepower = hp) # rename some variable\n",
    "smcars %>% mutate(cyl = 2 * cyl, tot = am + gear + carb) # create new columns or modify old ones\n",
    "smcars %>% summarise(mean_hp = mean(hp))"
   ]
  },
  {
   "cell_type": "markdown",
   "metadata": {},
   "source": [
    "The **group_by** operation to change the way in which some *single table verbs* are applied to the table:"
   ]
  },
  {
   "cell_type": "code",
   "execution_count": 27,
   "metadata": {},
   "outputs": [
    {
     "data": {
      "text/html": [
       "<table>\n",
       "<thead><tr><th scope=col>cyl</th><th scope=col>hp</th></tr></thead>\n",
       "<tbody>\n",
       "\t<tr><td>4        </td><td> 82.63636</td></tr>\n",
       "\t<tr><td>6        </td><td>122.28571</td></tr>\n",
       "\t<tr><td>8        </td><td>209.21429</td></tr>\n",
       "</tbody>\n",
       "</table>\n"
      ],
      "text/latex": [
       "\\begin{tabular}{r|ll}\n",
       " cyl & hp\\\\\n",
       "\\hline\n",
       "\t 4         &  82.63636\\\\\n",
       "\t 6         & 122.28571\\\\\n",
       "\t 8         & 209.21429\\\\\n",
       "\\end{tabular}\n"
      ],
      "text/markdown": [
       "\n",
       "cyl | hp | \n",
       "|---|---|---|\n",
       "| 4         |  82.63636 | \n",
       "| 6         | 122.28571 | \n",
       "| 8         | 209.21429 | \n",
       "\n",
       "\n"
      ],
      "text/plain": [
       "  cyl hp       \n",
       "1 4    82.63636\n",
       "2 6   122.28571\n",
       "3 8   209.21429"
      ]
     },
     "metadata": {},
     "output_type": "display_data"
    },
    {
     "data": {
      "text/html": [
       "<table>\n",
       "<thead><tr><th scope=col>mpg</th><th scope=col>cyl</th><th scope=col>disp</th><th scope=col>hp</th><th scope=col>drat</th><th scope=col>wt</th><th scope=col>qsec</th><th scope=col>vs</th><th scope=col>am</th><th scope=col>gear</th><th scope=col>carb</th></tr></thead>\n",
       "<tbody>\n",
       "\t<tr><td>33.9 </td><td>4    </td><td> 71.1</td><td> 65  </td><td>4.22 </td><td>1.835</td><td>19.90</td><td>1    </td><td>1    </td><td>4    </td><td>1    </td></tr>\n",
       "\t<tr><td>22.8 </td><td>4    </td><td>140.8</td><td> 95  </td><td>3.92 </td><td>3.150</td><td>22.90</td><td>1    </td><td>0    </td><td>4    </td><td>2    </td></tr>\n",
       "\t<tr><td>19.7 </td><td>6    </td><td>145.0</td><td>175  </td><td>3.62 </td><td>2.770</td><td>15.50</td><td>0    </td><td>1    </td><td>5    </td><td>6    </td></tr>\n",
       "\t<tr><td>18.1 </td><td>6    </td><td>225.0</td><td>105  </td><td>2.76 </td><td>3.460</td><td>20.22</td><td>1    </td><td>0    </td><td>3    </td><td>1    </td></tr>\n",
       "\t<tr><td>15.8 </td><td>8    </td><td>351.0</td><td>264  </td><td>4.22 </td><td>3.170</td><td>14.50</td><td>0    </td><td>1    </td><td>5    </td><td>4    </td></tr>\n",
       "\t<tr><td>14.3 </td><td>8    </td><td>360.0</td><td>245  </td><td>3.21 </td><td>3.570</td><td>15.84</td><td>0    </td><td>0    </td><td>3    </td><td>4    </td></tr>\n",
       "</tbody>\n",
       "</table>\n"
      ],
      "text/latex": [
       "\\begin{tabular}{r|lllllllllll}\n",
       " mpg & cyl & disp & hp & drat & wt & qsec & vs & am & gear & carb\\\\\n",
       "\\hline\n",
       "\t 33.9  & 4     &  71.1 &  65   & 4.22  & 1.835 & 19.90 & 1     & 1     & 4     & 1    \\\\\n",
       "\t 22.8  & 4     & 140.8 &  95   & 3.92  & 3.150 & 22.90 & 1     & 0     & 4     & 2    \\\\\n",
       "\t 19.7  & 6     & 145.0 & 175   & 3.62  & 2.770 & 15.50 & 0     & 1     & 5     & 6    \\\\\n",
       "\t 18.1  & 6     & 225.0 & 105   & 2.76  & 3.460 & 20.22 & 1     & 0     & 3     & 1    \\\\\n",
       "\t 15.8  & 8     & 351.0 & 264   & 4.22  & 3.170 & 14.50 & 0     & 1     & 5     & 4    \\\\\n",
       "\t 14.3  & 8     & 360.0 & 245   & 3.21  & 3.570 & 15.84 & 0     & 0     & 3     & 4    \\\\\n",
       "\\end{tabular}\n"
      ],
      "text/markdown": [
       "\n",
       "mpg | cyl | disp | hp | drat | wt | qsec | vs | am | gear | carb | \n",
       "|---|---|---|---|---|---|\n",
       "| 33.9  | 4     |  71.1 |  65   | 4.22  | 1.835 | 19.90 | 1     | 1     | 4     | 1     | \n",
       "| 22.8  | 4     | 140.8 |  95   | 3.92  | 3.150 | 22.90 | 1     | 0     | 4     | 2     | \n",
       "| 19.7  | 6     | 145.0 | 175   | 3.62  | 2.770 | 15.50 | 0     | 1     | 5     | 6     | \n",
       "| 18.1  | 6     | 225.0 | 105   | 2.76  | 3.460 | 20.22 | 1     | 0     | 3     | 1     | \n",
       "| 15.8  | 8     | 351.0 | 264   | 4.22  | 3.170 | 14.50 | 0     | 1     | 5     | 4     | \n",
       "| 14.3  | 8     | 360.0 | 245   | 3.21  | 3.570 | 15.84 | 0     | 0     | 3     | 4     | \n",
       "\n",
       "\n"
      ],
      "text/plain": [
       "  mpg  cyl disp  hp  drat wt    qsec  vs am gear carb\n",
       "1 33.9 4    71.1  65 4.22 1.835 19.90 1  1  4    1   \n",
       "2 22.8 4   140.8  95 3.92 3.150 22.90 1  0  4    2   \n",
       "3 19.7 6   145.0 175 3.62 2.770 15.50 0  1  5    6   \n",
       "4 18.1 6   225.0 105 2.76 3.460 20.22 1  0  3    1   \n",
       "5 15.8 8   351.0 264 4.22 3.170 14.50 0  1  5    4   \n",
       "6 14.3 8   360.0 245 3.21 3.570 15.84 0  0  3    4   "
      ]
     },
     "metadata": {},
     "output_type": "display_data"
    },
    {
     "data": {
      "text/html": [
       "<table>\n",
       "<thead><tr><th scope=col>mpg</th><th scope=col>cyl</th><th scope=col>disp</th><th scope=col>hp</th><th scope=col>drat</th><th scope=col>wt</th><th scope=col>qsec</th><th scope=col>vs</th><th scope=col>am</th><th scope=col>gear</th><th scope=col>carb</th><th scope=col>mean_hp_by_cyl</th></tr></thead>\n",
       "<tbody>\n",
       "\t<tr><td>21.5     </td><td>4        </td><td>120.1    </td><td> 97      </td><td>3.70     </td><td>2.465    </td><td>20.01    </td><td>1        </td><td>0        </td><td>3        </td><td>1        </td><td> 82.63636</td></tr>\n",
       "\t<tr><td>21.0     </td><td>6        </td><td>160.0    </td><td>110      </td><td>3.90     </td><td>2.875    </td><td>17.02    </td><td>0        </td><td>1        </td><td>4        </td><td>4        </td><td>122.28571</td></tr>\n",
       "\t<tr><td>16.4     </td><td>8        </td><td>275.8    </td><td>180      </td><td>3.07     </td><td>4.070    </td><td>17.40    </td><td>0        </td><td>0        </td><td>3        </td><td>3        </td><td>209.21429</td></tr>\n",
       "</tbody>\n",
       "</table>\n"
      ],
      "text/latex": [
       "\\begin{tabular}{r|llllllllllll}\n",
       " mpg & cyl & disp & hp & drat & wt & qsec & vs & am & gear & carb & mean\\_hp\\_by\\_cyl\\\\\n",
       "\\hline\n",
       "\t 21.5      & 4         & 120.1     &  97       & 3.70      & 2.465     & 20.01     & 1         & 0         & 3         & 1         &  82.63636\\\\\n",
       "\t 21.0      & 6         & 160.0     & 110       & 3.90      & 2.875     & 17.02     & 0         & 1         & 4         & 4         & 122.28571\\\\\n",
       "\t 16.4      & 8         & 275.8     & 180       & 3.07      & 4.070     & 17.40     & 0         & 0         & 3         & 3         & 209.21429\\\\\n",
       "\\end{tabular}\n"
      ],
      "text/markdown": [
       "\n",
       "mpg | cyl | disp | hp | drat | wt | qsec | vs | am | gear | carb | mean_hp_by_cyl | \n",
       "|---|---|---|\n",
       "| 21.5      | 4         | 120.1     |  97       | 3.70      | 2.465     | 20.01     | 1         | 0         | 3         | 1         |  82.63636 | \n",
       "| 21.0      | 6         | 160.0     | 110       | 3.90      | 2.875     | 17.02     | 0         | 1         | 4         | 4         | 122.28571 | \n",
       "| 16.4      | 8         | 275.8     | 180       | 3.07      | 4.070     | 17.40     | 0         | 0         | 3         | 3         | 209.21429 | \n",
       "\n",
       "\n"
      ],
      "text/plain": [
       "  mpg  cyl disp  hp  drat wt    qsec  vs am gear carb mean_hp_by_cyl\n",
       "1 21.5 4   120.1  97 3.70 2.465 20.01 1  0  3    1     82.63636     \n",
       "2 21.0 6   160.0 110 3.90 2.875 17.02 0  1  4    4    122.28571     \n",
       "3 16.4 8   275.8 180 3.07 4.070 17.40 0  0  3    3    209.21429     "
      ]
     },
     "metadata": {},
     "output_type": "display_data"
    }
   ],
   "source": [
    "mtcars %>% group_by(cyl) %>% summarise(hp = mean(hp)) # mean hp for each cyl value\n",
    "mtcars %>% group_by(cyl) %>% sample_n(2) # randomly choose two samples for each cyl value\n",
    "mtcars %>% group_by(cyl) %>% mutate(mean_hp_by_cyl = mean(hp)) %>% arrange(desc(cyl)) %>% sample_n(1) # what does it do? "
   ]
  },
  {
   "cell_type": "markdown",
   "metadata": {},
   "source": [
    "And also *two tables verbs*, in particular **joins**:"
   ]
  },
  {
   "cell_type": "code",
   "execution_count": 28,
   "metadata": {},
   "outputs": [
    {
     "data": {
      "text/html": [
       "<table>\n",
       "<thead><tr><th></th><th scope=col>name</th><th scope=col>hp</th></tr></thead>\n",
       "<tbody>\n",
       "\t<tr><th scope=row>Mazda RX4</th><td>Mazda RX4        </td><td>110              </td></tr>\n",
       "\t<tr><th scope=row>Mazda RX4 Wag</th><td>Mazda RX4 Wag    </td><td>110              </td></tr>\n",
       "\t<tr><th scope=row>Datsun 710</th><td>Datsun 710       </td><td> 93              </td></tr>\n",
       "\t<tr><th scope=row>Hornet 4 Drive</th><td>Hornet 4 Drive   </td><td>110              </td></tr>\n",
       "\t<tr><th scope=row>Hornet Sportabout</th><td>Hornet Sportabout</td><td>175              </td></tr>\n",
       "\t<tr><th scope=row>Valiant</th><td>Valiant          </td><td>105              </td></tr>\n",
       "\t<tr><th scope=row>Duster 360</th><td>Duster 360       </td><td>245              </td></tr>\n",
       "\t<tr><th scope=row>Merc 240D</th><td>Merc 240D        </td><td> 62              </td></tr>\n",
       "\t<tr><th scope=row>Merc 230</th><td>Merc 230         </td><td> 95              </td></tr>\n",
       "\t<tr><th scope=row>Merc 280</th><td>Merc 280         </td><td>123              </td></tr>\n",
       "</tbody>\n",
       "</table>\n"
      ],
      "text/latex": [
       "\\begin{tabular}{r|ll}\n",
       "  & name & hp\\\\\n",
       "\\hline\n",
       "\tMazda RX4 & Mazda RX4         & 110              \\\\\n",
       "\tMazda RX4 Wag & Mazda RX4 Wag     & 110              \\\\\n",
       "\tDatsun 710 & Datsun 710        &  93              \\\\\n",
       "\tHornet 4 Drive & Hornet 4 Drive    & 110              \\\\\n",
       "\tHornet Sportabout & Hornet Sportabout & 175              \\\\\n",
       "\tValiant & Valiant           & 105              \\\\\n",
       "\tDuster 360 & Duster 360        & 245              \\\\\n",
       "\tMerc 240D & Merc 240D         &  62              \\\\\n",
       "\tMerc 230 & Merc 230          &  95              \\\\\n",
       "\tMerc 280 & Merc 280          & 123              \\\\\n",
       "\\end{tabular}\n"
      ],
      "text/markdown": [
       "\n",
       "| <!--/--> | name | hp | \n",
       "|---|---|---|---|---|---|---|---|---|---|\n",
       "| Mazda RX4 | Mazda RX4         | 110               | \n",
       "| Mazda RX4 Wag | Mazda RX4 Wag     | 110               | \n",
       "| Datsun 710 | Datsun 710        |  93               | \n",
       "| Hornet 4 Drive | Hornet 4 Drive    | 110               | \n",
       "| Hornet Sportabout | Hornet Sportabout | 175               | \n",
       "| Valiant | Valiant           | 105               | \n",
       "| Duster 360 | Duster 360        | 245               | \n",
       "| Merc 240D | Merc 240D         |  62               | \n",
       "| Merc 230 | Merc 230          |  95               | \n",
       "| Merc 280 | Merc 280          | 123               | \n",
       "\n",
       "\n"
      ],
      "text/plain": [
       "                  name              hp \n",
       "Mazda RX4         Mazda RX4         110\n",
       "Mazda RX4 Wag     Mazda RX4 Wag     110\n",
       "Datsun 710        Datsun 710         93\n",
       "Hornet 4 Drive    Hornet 4 Drive    110\n",
       "Hornet Sportabout Hornet Sportabout 175\n",
       "Valiant           Valiant           105\n",
       "Duster 360        Duster 360        245\n",
       "Merc 240D         Merc 240D          62\n",
       "Merc 230          Merc 230           95\n",
       "Merc 280          Merc 280          123"
      ]
     },
     "metadata": {},
     "output_type": "display_data"
    },
    {
     "data": {
      "text/html": [
       "<table>\n",
       "<thead><tr><th scope=col>name</th><th scope=col>cyl</th><th scope=col>hp</th></tr></thead>\n",
       "<tbody>\n",
       "\t<tr><td>Hornet 4 Drive   </td><td>6                </td><td>220              </td></tr>\n",
       "\t<tr><td>Hornet Sportabout</td><td>8                </td><td>350              </td></tr>\n",
       "\t<tr><td>Valiant          </td><td>6                </td><td>210              </td></tr>\n",
       "\t<tr><td>Datsun 710       </td><td>4                </td><td>186              </td></tr>\n",
       "\t<tr><td>Mazda RX4 Wag    </td><td>6                </td><td>220              </td></tr>\n",
       "</tbody>\n",
       "</table>\n"
      ],
      "text/latex": [
       "\\begin{tabular}{r|lll}\n",
       " name & cyl & hp\\\\\n",
       "\\hline\n",
       "\t Hornet 4 Drive    & 6                 & 220              \\\\\n",
       "\t Hornet Sportabout & 8                 & 350              \\\\\n",
       "\t Valiant           & 6                 & 210              \\\\\n",
       "\t Datsun 710        & 4                 & 186              \\\\\n",
       "\t Mazda RX4 Wag     & 6                 & 220              \\\\\n",
       "\\end{tabular}\n"
      ],
      "text/markdown": [
       "\n",
       "name | cyl | hp | \n",
       "|---|---|---|---|---|\n",
       "| Hornet 4 Drive    | 6                 | 220               | \n",
       "| Hornet Sportabout | 8                 | 350               | \n",
       "| Valiant           | 6                 | 210               | \n",
       "| Datsun 710        | 4                 | 186               | \n",
       "| Mazda RX4 Wag     | 6                 | 220               | \n",
       "\n",
       "\n"
      ],
      "text/plain": [
       "  name              cyl hp \n",
       "1 Hornet 4 Drive    6   220\n",
       "2 Hornet Sportabout 8   350\n",
       "3 Valiant           6   210\n",
       "4 Datsun 710        4   186\n",
       "5 Mazda RX4 Wag     6   220"
      ]
     },
     "metadata": {},
     "output_type": "display_data"
    },
    {
     "data": {
      "text/html": [
       "<table>\n",
       "<thead><tr><th scope=col>name</th><th scope=col>hp_one</th><th scope=col>cyl</th><th scope=col>hp_two</th></tr></thead>\n",
       "<tbody>\n",
       "\t<tr><td>Mazda RX4        </td><td>110              </td><td>NA               </td><td> NA              </td></tr>\n",
       "\t<tr><td>Mazda RX4 Wag    </td><td>110              </td><td> 6               </td><td>220              </td></tr>\n",
       "\t<tr><td>Datsun 710       </td><td> 93              </td><td> 4               </td><td>186              </td></tr>\n",
       "\t<tr><td>Hornet 4 Drive   </td><td>110              </td><td> 6               </td><td>220              </td></tr>\n",
       "\t<tr><td>Hornet Sportabout</td><td>175              </td><td> 8               </td><td>350              </td></tr>\n",
       "\t<tr><td>Valiant          </td><td>105              </td><td> 6               </td><td>210              </td></tr>\n",
       "\t<tr><td>Duster 360       </td><td>245              </td><td>NA               </td><td> NA              </td></tr>\n",
       "\t<tr><td>Merc 240D        </td><td> 62              </td><td>NA               </td><td> NA              </td></tr>\n",
       "\t<tr><td>Merc 230         </td><td> 95              </td><td>NA               </td><td> NA              </td></tr>\n",
       "\t<tr><td>Merc 280         </td><td>123              </td><td>NA               </td><td> NA              </td></tr>\n",
       "</tbody>\n",
       "</table>\n"
      ],
      "text/latex": [
       "\\begin{tabular}{r|llll}\n",
       " name & hp\\_one & cyl & hp\\_two\\\\\n",
       "\\hline\n",
       "\t Mazda RX4         & 110               & NA                &  NA              \\\\\n",
       "\t Mazda RX4 Wag     & 110               &  6                & 220              \\\\\n",
       "\t Datsun 710        &  93               &  4                & 186              \\\\\n",
       "\t Hornet 4 Drive    & 110               &  6                & 220              \\\\\n",
       "\t Hornet Sportabout & 175               &  8                & 350              \\\\\n",
       "\t Valiant           & 105               &  6                & 210              \\\\\n",
       "\t Duster 360        & 245               & NA                &  NA              \\\\\n",
       "\t Merc 240D         &  62               & NA                &  NA              \\\\\n",
       "\t Merc 230          &  95               & NA                &  NA              \\\\\n",
       "\t Merc 280          & 123               & NA                &  NA              \\\\\n",
       "\\end{tabular}\n"
      ],
      "text/markdown": [
       "\n",
       "name | hp_one | cyl | hp_two | \n",
       "|---|---|---|---|---|---|---|---|---|---|\n",
       "| Mazda RX4         | 110               | NA                |  NA               | \n",
       "| Mazda RX4 Wag     | 110               |  6                | 220               | \n",
       "| Datsun 710        |  93               |  4                | 186               | \n",
       "| Hornet 4 Drive    | 110               |  6                | 220               | \n",
       "| Hornet Sportabout | 175               |  8                | 350               | \n",
       "| Valiant           | 105               |  6                | 210               | \n",
       "| Duster 360        | 245               | NA                |  NA               | \n",
       "| Merc 240D         |  62               | NA                |  NA               | \n",
       "| Merc 230          |  95               | NA                |  NA               | \n",
       "| Merc 280          | 123               | NA                |  NA               | \n",
       "\n",
       "\n"
      ],
      "text/plain": [
       "   name              hp_one cyl hp_two\n",
       "1  Mazda RX4         110    NA   NA   \n",
       "2  Mazda RX4 Wag     110     6  220   \n",
       "3  Datsun 710         93     4  186   \n",
       "4  Hornet 4 Drive    110     6  220   \n",
       "5  Hornet Sportabout 175     8  350   \n",
       "6  Valiant           105     6  210   \n",
       "7  Duster 360        245    NA   NA   \n",
       "8  Merc 240D          62    NA   NA   \n",
       "9  Merc 230           95    NA   NA   \n",
       "10 Merc 280          123    NA   NA   "
      ]
     },
     "metadata": {},
     "output_type": "display_data"
    },
    {
     "data": {
      "text/html": [
       "<table>\n",
       "<thead><tr><th scope=col>name</th><th scope=col>hp_one</th><th scope=col>cyl</th><th scope=col>hp_two</th></tr></thead>\n",
       "<tbody>\n",
       "\t<tr><td>Hornet 4 Drive   </td><td>110              </td><td>6                </td><td>220              </td></tr>\n",
       "\t<tr><td>Hornet Sportabout</td><td>175              </td><td>8                </td><td>350              </td></tr>\n",
       "\t<tr><td>Valiant          </td><td>105              </td><td>6                </td><td>210              </td></tr>\n",
       "\t<tr><td>Datsun 710       </td><td> 93              </td><td>4                </td><td>186              </td></tr>\n",
       "\t<tr><td>Mazda RX4 Wag    </td><td>110              </td><td>6                </td><td>220              </td></tr>\n",
       "</tbody>\n",
       "</table>\n"
      ],
      "text/latex": [
       "\\begin{tabular}{r|llll}\n",
       " name & hp\\_one & cyl & hp\\_two\\\\\n",
       "\\hline\n",
       "\t Hornet 4 Drive    & 110               & 6                 & 220              \\\\\n",
       "\t Hornet Sportabout & 175               & 8                 & 350              \\\\\n",
       "\t Valiant           & 105               & 6                 & 210              \\\\\n",
       "\t Datsun 710        &  93               & 4                 & 186              \\\\\n",
       "\t Mazda RX4 Wag     & 110               & 6                 & 220              \\\\\n",
       "\\end{tabular}\n"
      ],
      "text/markdown": [
       "\n",
       "name | hp_one | cyl | hp_two | \n",
       "|---|---|---|---|---|\n",
       "| Hornet 4 Drive    | 110               | 6                 | 220               | \n",
       "| Hornet Sportabout | 175               | 8                 | 350               | \n",
       "| Valiant           | 105               | 6                 | 210               | \n",
       "| Datsun 710        |  93               | 4                 | 186               | \n",
       "| Mazda RX4 Wag     | 110               | 6                 | 220               | \n",
       "\n",
       "\n"
      ],
      "text/plain": [
       "  name              hp_one cyl hp_two\n",
       "1 Hornet 4 Drive    110    6   220   \n",
       "2 Hornet Sportabout 175    8   350   \n",
       "3 Valiant           105    6   210   \n",
       "4 Datsun 710         93    4   186   \n",
       "5 Mazda RX4 Wag     110    6   220   "
      ]
     },
     "metadata": {},
     "output_type": "display_data"
    },
    {
     "data": {
      "text/html": [
       "<table>\n",
       "<thead><tr><th scope=col>name</th><th scope=col>cyl</th><th scope=col>hp_two</th><th scope=col>hp_one</th></tr></thead>\n",
       "<tbody>\n",
       "\t<tr><td>Hornet 4 Drive   </td><td>6                </td><td>220              </td><td>110              </td></tr>\n",
       "\t<tr><td>Hornet Sportabout</td><td>8                </td><td>350              </td><td>175              </td></tr>\n",
       "\t<tr><td>Valiant          </td><td>6                </td><td>210              </td><td>105              </td></tr>\n",
       "\t<tr><td>Datsun 710       </td><td>4                </td><td>186              </td><td> 93              </td></tr>\n",
       "\t<tr><td>Mazda RX4 Wag    </td><td>6                </td><td>220              </td><td>110              </td></tr>\n",
       "</tbody>\n",
       "</table>\n"
      ],
      "text/latex": [
       "\\begin{tabular}{r|llll}\n",
       " name & cyl & hp\\_two & hp\\_one\\\\\n",
       "\\hline\n",
       "\t Hornet 4 Drive    & 6                 & 220               & 110              \\\\\n",
       "\t Hornet Sportabout & 8                 & 350               & 175              \\\\\n",
       "\t Valiant           & 6                 & 210               & 105              \\\\\n",
       "\t Datsun 710        & 4                 & 186               &  93              \\\\\n",
       "\t Mazda RX4 Wag     & 6                 & 220               & 110              \\\\\n",
       "\\end{tabular}\n"
      ],
      "text/markdown": [
       "\n",
       "name | cyl | hp_two | hp_one | \n",
       "|---|---|---|---|---|\n",
       "| Hornet 4 Drive    | 6                 | 220               | 110               | \n",
       "| Hornet Sportabout | 8                 | 350               | 175               | \n",
       "| Valiant           | 6                 | 210               | 105               | \n",
       "| Datsun 710        | 4                 | 186               |  93               | \n",
       "| Mazda RX4 Wag     | 6                 | 220               | 110               | \n",
       "\n",
       "\n"
      ],
      "text/plain": [
       "  name              cyl hp_two hp_one\n",
       "1 Hornet 4 Drive    6   220    110   \n",
       "2 Hornet Sportabout 8   350    175   \n",
       "3 Valiant           6   210    105   \n",
       "4 Datsun 710        4   186     93   \n",
       "5 Mazda RX4 Wag     6   220    110   "
      ]
     },
     "metadata": {},
     "output_type": "display_data"
    }
   ],
   "source": [
    "mtcars$name <- rownames(mtcars)\n",
    "mtcars_table_1 <- mtcars %>% select(name, hp) %>% head(n = 10)\n",
    "mtcars_table_2 <- mtcars %>% select(name, cyl,hp) %>% head(n = 10) %>% sample_n(5) %>%  mutate(hp = 2 * hp)\n",
    "\n",
    "mtcars_table_1\n",
    "mtcars_table_2\n",
    "\n",
    "mtcars_table_1 %>% left_join(mtcars_table_2, by = \"name\", suffix = c(\"_one\", \"_two\"))\n",
    "mtcars_table_1 %>% right_join(mtcars_table_2, by = \"name\", suffix = c(\"_one\", \"_two\"))\n",
    "mtcars_table_2 %>% inner_join(mtcars_table_1, by = \"name\", suffix = c(\"_two\", \"_one\"))"
   ]
  },
  {
   "cell_type": "markdown",
   "metadata": {},
   "source": [
    "But there is a lot more about **dplyr** and his friends but we have no more time, but you do! So here's some links:\n",
    "\n",
    "* [Window functions](https://cran.r-project.org/web/packages/dplyr/vignettes/window-functions.html) to compute cumulative sum, mean or build rankins among observations\n",
    "* More [two table verbs](https://cran.r-project.org/web/packages/dplyr/vignettes/two-table.html) to compute, as example, union, intersection, and symmetric difference of tables\n",
    "* [Deep dive](https://cran.r-project.org/web/packages/dplyr/vignettes/programming.html) in the way **dplyr** is built and how to effectively use it to write custom verbs\n",
    "* How to use dplyr as frontend to standard databases ([dbplyr](https://cran.r-project.org/web/packages/dbplyr/index.html)) or big data stacks ([sparklyr](http://spark.rstudio.com/dplyr/))"
   ]
  },
  {
   "cell_type": "markdown",
   "metadata": {},
   "source": [
    "### GGPLOT\n",
    "\n",
    "Another great package in tidyverse is [ggplot](http://ggplot2.org/) a versatile plotting system. The full introduction to this package is out of the scope of this lesson (but it's covered during the R course!).\n",
    "\n",
    "![ggplot](../fig/ggplot.png \"title-1\")\n",
    "\n",
    "In the following lessons we are going to use  ggplot extensively, if you have some doubts on its functioning let us know! :)\n",
    "\n",
    "In the following an example of its capabilities:"
   ]
  },
  {
   "cell_type": "code",
   "execution_count": 29,
   "metadata": {},
   "outputs": [
    {
     "data": {},
     "metadata": {},
     "output_type": "display_data"
    },
    {
     "data": {
      "image/png": "[encoded data removed]",
      "text/plain": [
       "plot without title"
      ]
     },
     "metadata": {},
     "output_type": "display_data"
    }
   ],
   "source": [
    "options(repr.plot.width=6, repr.plot.height=5)\n",
    "mpg %>%  ggplot(aes(displ)) + scale_fill_brewer(palette = \"Spectral\") + geom_histogram(aes(fill=class), \n",
    "                   binwidth = .1, \n",
    "                   col=\"black\", \n",
    "                   size=.1) +  # change binwidth\n",
    "  labs(title=\"Histogram with Auto Binning\", \n",
    "       subtitle=\"Engine Displacement across Vehicle Classes\")  "
   ]
  },
  {
   "cell_type": "markdown",
   "metadata": {},
   "source": [
    "### TIDYR\n",
    "\n",
    "![ggplot](../fig/tidyr.jpg \"title-1\")\n",
    "\n",
    "TODO"
   ]
  },
  {
   "cell_type": "markdown",
   "metadata": {},
   "source": [
    "### Other packages\n",
    "\n",
    "We have no time to explore them, but here a short description from the [tidyverse](https://www.tidyverse.org/) website:\n",
    "\n",
    "* **stringr** provides a cohesive set of functions designed to make working with strings as easy as possible. It is built on top of stringi, which uses the ICU C library to provide fast, correct implementations of common string manipulations.\n",
    "* **tibble**  is a modern re-imagining of the data frame, keeping what time has proven to be effective, and throwing out what it has not. Tibbles are data.frames that are lazy and surly: they do less and complain more forcing you to confront problems earlier, typically leading to cleaner, more expressive code\n",
    "* **forcats** forcats provides a suite of useful tools that solve common problems with factors. R uses factors to handle categorical variables, variables that have a fixed and known set of possible values.\n",
    "* **purrr** enhances R’s functional programming (FP) toolkit by providing a complete and consistent set of tools for working with functions and vectors. Once you master the basic concepts, purrr allows you to replace many for loops with code that is easier to write and more expressive.\n",
    "* **readr** provides a fast and friendly way to read rectangular data (like csv, tsv, and fwf). It is designed to flexibly parse many types of data found in the wild, while still cleanly failing when data unexpectedly changes.\n"
   ]
  }
 ],
 "metadata": {
  "kernelspec": {
   "display_name": "R",
   "language": "R",
   "name": "ir"
  },
  "language_info": {
   "codemirror_mode": "r",
   "file_extension": ".r",
   "mimetype": "text/x-r-source",
   "name": "R",
   "pygments_lexer": "r",
   "version": "3.4.1"
  }
 },
 "nbformat": 4,
 "nbformat_minor": 2
}
