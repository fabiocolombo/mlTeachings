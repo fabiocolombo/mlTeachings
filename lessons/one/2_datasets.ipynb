{
 "cells": [
  {
   "cell_type": "markdown",
   "metadata": {},
   "source": [
    "## The very very basics of ML. With R.\n",
    "\n",
    "Experiment freely. This is a hands-on (brains off!) experience!\n",
    "\n",
    "# Datasets"
   ]
  },
  {
   "cell_type": "code",
   "execution_count": 2,
   "metadata": {},
   "outputs": [],
   "source": [
    "# you will not run this cell twice or you die\n",
    "\n",
    "options(warn=-1, error = expression(NULL))\n",
    "setwd('../../')"
   ]
  },
  {
   "cell_type": "code",
   "execution_count": 3,
   "metadata": {},
   "outputs": [
    {
     "data": {
      "text/html": [
       "'D:/dataScienceProjects/mlTeachings'"
      ],
      "text/latex": [
       "'D:/dataScienceProjects/mlTeachings'"
      ],
      "text/markdown": [
       "'D:/dataScienceProjects/mlTeachings'"
      ],
      "text/plain": [
       "[1] \"D:/dataScienceProjects/mlTeachings\""
      ]
     },
     "metadata": {},
     "output_type": "display_data"
    }
   ],
   "source": [
    "getwd() ## if you are in this folder, you are good \"dataScienceProjects/mlTeachings/lessons/one\""
   ]
  },
  {
   "cell_type": "markdown",
   "metadata": {},
   "source": [
    "Prior beginning, source all the required dependencies."
   ]
  },
  {
   "cell_type": "code",
   "execution_count": 7,
   "metadata": {},
   "outputs": [
    {
     "name": "stderr",
     "output_type": "stream",
     "text": [
      "Loading required package: keras\n",
      "Loading required package: mlbench\n",
      "Loading required package: ggthemes\n",
      "Loading required package: rattle\n"
     ]
    }
   ],
   "source": [
    "source('src/lib.R')"
   ]
  },
  {
   "cell_type": "markdown",
   "metadata": {},
   "source": [
    "Just in case you were wondering what you can do with CARET, there are 232 pre-implemented and ready_to_go ML algorithms right at your fingertips, for a complete guide check this out."
   ]
  },
  {
   "cell_type": "code",
   "execution_count": 8,
   "metadata": {},
   "outputs": [
    {
     "data": {
      "text/html": [
       "<table>\n",
       "<thead><tr><th scope=col>value</th></tr></thead>\n",
       "<tbody>\n",
       "\t<tr><td>ada        </td></tr>\n",
       "\t<tr><td>AdaBag     </td></tr>\n",
       "\t<tr><td>AdaBoost.M1</td></tr>\n",
       "\t<tr><td>adaboost   </td></tr>\n",
       "\t<tr><td>amdai      </td></tr>\n",
       "</tbody>\n",
       "</table>\n"
      ],
      "text/latex": [
       "\\begin{tabular}{r|l}\n",
       " value\\\\\n",
       "\\hline\n",
       "\t ada        \\\\\n",
       "\t AdaBag     \\\\\n",
       "\t AdaBoost.M1\\\\\n",
       "\t adaboost   \\\\\n",
       "\t amdai      \\\\\n",
       "\\end{tabular}\n"
      ],
      "text/markdown": [
       "\n",
       "value | \n",
       "|---|---|---|---|---|\n",
       "| ada         | \n",
       "| AdaBag      | \n",
       "| AdaBoost.M1 | \n",
       "| adaboost    | \n",
       "| amdai       | \n",
       "\n",
       "\n"
      ],
      "text/plain": [
       "  value      \n",
       "1 ada        \n",
       "2 AdaBag     \n",
       "3 AdaBoost.M1\n",
       "4 adaboost   \n",
       "5 amdai      "
      ]
     },
     "metadata": {},
     "output_type": "display_data"
    }
   ],
   "source": [
    "## available models\n",
    "\n",
    "info = getModelInfo()\n",
    "info %>% names %>% as_data_frame %>% head(5)"
   ]
  },
  {
   "cell_type": "markdown",
   "metadata": {},
   "source": [
    "Also, we set up some datasets to play with, get the data and have a look."
   ]
  },
  {
   "cell_type": "code",
   "execution_count": 9,
   "metadata": {},
   "outputs": [
    {
     "data": {
      "text/html": [
       "<table>\n",
       "<thead><tr><th scope=col>x</th><th scope=col>y</th><th scope=col>class</th><th scope=col>type</th></tr></thead>\n",
       "<tbody>\n",
       "\t<tr><td>0.7613488</td><td>0.8269054</td><td>class_1  </td><td>normal   </td></tr>\n",
       "\t<tr><td>0.0000000</td><td>0.2683765</td><td>class_2  </td><td>normal   </td></tr>\n",
       "\t<tr><td>0.8236612</td><td>0.5162413</td><td>class_1  </td><td>normal   </td></tr>\n",
       "\t<tr><td>0.2344087</td><td>0.2699324</td><td>class_2  </td><td>normal   </td></tr>\n",
       "\t<tr><td>0.7235722</td><td>0.9495250</td><td>class_1  </td><td>normal   </td></tr>\n",
       "\t<tr><td>0.2611805</td><td>0.3213550</td><td>class_2  </td><td>normal   </td></tr>\n",
       "</tbody>\n",
       "</table>\n"
      ],
      "text/latex": [
       "\\begin{tabular}{r|llll}\n",
       " x & y & class & type\\\\\n",
       "\\hline\n",
       "\t 0.7613488 & 0.8269054 & class\\_1 & normal   \\\\\n",
       "\t 0.0000000 & 0.2683765 & class\\_2 & normal   \\\\\n",
       "\t 0.8236612 & 0.5162413 & class\\_1 & normal   \\\\\n",
       "\t 0.2344087 & 0.2699324 & class\\_2 & normal   \\\\\n",
       "\t 0.7235722 & 0.9495250 & class\\_1 & normal   \\\\\n",
       "\t 0.2611805 & 0.3213550 & class\\_2 & normal   \\\\\n",
       "\\end{tabular}\n"
      ],
      "text/markdown": [
       "\n",
       "x | y | class | type | \n",
       "|---|---|---|---|---|---|\n",
       "| 0.7613488 | 0.8269054 | class_1   | normal    | \n",
       "| 0.0000000 | 0.2683765 | class_2   | normal    | \n",
       "| 0.8236612 | 0.5162413 | class_1   | normal    | \n",
       "| 0.2344087 | 0.2699324 | class_2   | normal    | \n",
       "| 0.7235722 | 0.9495250 | class_1   | normal    | \n",
       "| 0.2611805 | 0.3213550 | class_2   | normal    | \n",
       "\n",
       "\n"
      ],
      "text/plain": [
       "  x         y         class   type  \n",
       "1 0.7613488 0.8269054 class_1 normal\n",
       "2 0.0000000 0.2683765 class_2 normal\n",
       "3 0.8236612 0.5162413 class_1 normal\n",
       "4 0.2344087 0.2699324 class_2 normal\n",
       "5 0.7235722 0.9495250 class_1 normal\n",
       "6 0.2611805 0.3213550 class_2 normal"
      ]
     },
     "metadata": {},
     "output_type": "display_data"
    }
   ],
   "source": [
    "df = get_partitioned_df()\n",
    "\n",
    "df$full %>% head"
   ]
  },
  {
   "cell_type": "markdown",
   "metadata": {},
   "source": [
    "We will now be working with the \"spiral\" dataset, but you can actually choose whichever you prefer:"
   ]
  },
  {
   "cell_type": "code",
   "execution_count": 10,
   "metadata": {},
   "outputs": [
    {
     "data": {
      "text/html": [
       "<table>\n",
       "<thead><tr><th scope=col>type</th></tr></thead>\n",
       "<tbody>\n",
       "\t<tr><td>normal </td></tr>\n",
       "\t<tr><td>circles</td></tr>\n",
       "\t<tr><td>spirals</td></tr>\n",
       "\t<tr><td>linear </td></tr>\n",
       "</tbody>\n",
       "</table>\n"
      ],
      "text/latex": [
       "\\begin{tabular}{r|l}\n",
       " type\\\\\n",
       "\\hline\n",
       "\t normal \\\\\n",
       "\t circles\\\\\n",
       "\t spirals\\\\\n",
       "\t linear \\\\\n",
       "\\end{tabular}\n"
      ],
      "text/markdown": [
       "\n",
       "type | \n",
       "|---|---|---|---|\n",
       "| normal  | \n",
       "| circles | \n",
       "| spirals | \n",
       "| linear  | \n",
       "\n",
       "\n"
      ],
      "text/plain": [
       "  type   \n",
       "1 normal \n",
       "2 circles\n",
       "3 spirals\n",
       "4 linear "
      ]
     },
     "metadata": {},
     "output_type": "display_data"
    }
   ],
   "source": [
    "get_full_dataset() %>% select('type') %>% unique"
   ]
  },
  {
   "cell_type": "code",
   "execution_count": 11,
   "metadata": {},
   "outputs": [
    {
     "data": {},
     "metadata": {},
     "output_type": "display_data"
    },
    {
     "data": {
      "image/png": "[encoded data removed]",
      "text/plain": [
       "plot without title"
      ]
     },
     "metadata": {},
     "output_type": "display_data"
    }
   ],
   "source": [
    "## plot all the datasets\n",
    "\n",
    "get_full_dataset()  %>% ggplot(aes(x = x, y = y, color = class)) +\n",
    "  geom_point(size = 2) + theme_minimal()  +\n",
    "  ggtitle('Here you go, wonderful datasets!') +\n",
    "  theme(legend.position = \"none\") +\n",
    "  facet_wrap(~type)"
   ]
  }
 ],
 "metadata": {
  "kernelspec": {
   "display_name": "R",
   "language": "R",
   "name": "ir"
  },
  "language_info": {
   "codemirror_mode": "r",
   "file_extension": ".r",
   "mimetype": "text/x-r-source",
   "name": "R",
   "pygments_lexer": "r",
   "version": "3.4.1"
  }
 },
 "nbformat": 4,
 "nbformat_minor": 2
}
