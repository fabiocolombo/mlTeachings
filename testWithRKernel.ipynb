{
 "cells": [
  {
   "cell_type": "raw",
   "metadata": {},
   "source": [
    "library('tidiverse')"
   ]
  },
  {
   "cell_type": "raw",
   "metadata": {},
   "source": [
    "dsd"
   ]
  }
 ],
 "metadata": {
  "kernelspec": {
   "display_name": "R",
   "language": "R",
   "name": "ir"
  },
  "language_info": {
   "codemirror_mode": "r",
   "file_extension": ".r",
   "mimetype": "text/x-r-source",
   "name": "R",
   "pygments_lexer": "r",
   "version": "3.3.3"
  }
 },
 "nbformat": 4,
 "nbformat_minor": 2
}
